{
 "cells": [
  {
   "cell_type": "markdown",
   "id": "60d3fd38-390b-43d9-b5b2-28c05b34be2b",
   "metadata": {},
   "source": [
    "> [https://raniche-note.tistory.com/58]\n",
    ">\n",
    "\n",
    "https://raniche-note.tistory.com/58"
   ]
  }
 ],
 "metadata": {
  "kernelspec": {
   "display_name": "ML_py3.10.13",
   "language": "python",
   "name": "mlpy310"
  },
  "language_info": {
   "codemirror_mode": {
    "name": "ipython",
    "version": 3
   },
   "file_extension": ".py",
   "mimetype": "text/x-python",
   "name": "python",
   "nbconvert_exporter": "python",
   "pygments_lexer": "ipython3",
   "version": "3.10.13"
  }
 },
 "nbformat": 4,
 "nbformat_minor": 5
}
