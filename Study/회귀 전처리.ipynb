{
 "cells": [
  {
   "cell_type": "markdown",
   "id": "5af87a59-815c-4301-ba35-b244665638db",
   "metadata": {
    "jp-MarkdownHeadingCollapsed": true
   },
   "source": [
    "## 결측치 다루기"
   ]
  },
  {
   "cell_type": "markdown",
   "id": "84e1a817-bd1f-4c6a-b889-4dab54c9a08b",
   "metadata": {},
   "source": [
    "샘플 삭제 혹은 대체값(평균, ...) 채우기"
   ]
  },
  {
   "cell_type": "markdown",
   "id": "725bf8d8-b1c5-4b24-be5e-d3e4f3afb26f",
   "metadata": {},
   "source": [
    "## 범주형 데이터 인코딩"
   ]
  },
  {
   "cell_type": "markdown",
   "id": "a8c1454d-c941-4d1d-8c1e-0fa66d4bd5b2",
   "metadata": {},
   "source": [
    "### 순서형 데이터"
   ]
  },
  {
   "cell_type": "markdown",
   "id": "b9ce3ad6-1fad-45fb-8785-fbd7dfc49815",
   "metadata": {},
   "source": [
    "순서대로 값을 부여한다"
   ]
  },
  {
   "cell_type": "markdown",
   "id": "01e5664b-5a05-4136-b2cb-eb37f7f9a562",
   "metadata": {
    "jp-MarkdownHeadingCollapsed": true
   },
   "source": [
    "### 순서가 없는 데이터"
   ]
  },
  {
   "cell_type": "markdown",
   "id": "f98f6174-0ec8-4ab6-9db8-c923eaad2466",
   "metadata": {},
   "source": [
    "원-핫 인코딩을 한다. 단 트리 계열 회귀 알고리즘은 순서에 큰 영향을 받지 않으므로 순서형처럼 인코딩해도 된다."
   ]
  },
  {
   "cell_type": "markdown",
   "id": "d001e325-1869-4f8f-8720-a87e1cecdfd1",
   "metadata": {
    "jp-MarkdownHeadingCollapsed": true
   },
   "source": [
    "## 스케일링"
   ]
  },
  {
   "cell_type": "markdown",
   "id": "bf6dcfb0-d607-4aa0-8e00-0ededeac3ebd",
   "metadata": {},
   "source": [
    "정규화, 표준화"
   ]
  },
  {
   "cell_type": "markdown",
   "id": "5ad4b366-2c9a-46d5-8cab-12f900cec56b",
   "metadata": {
    "jp-MarkdownHeadingCollapsed": true
   },
   "source": [
    "## 이상치"
   ]
  },
  {
   "cell_type": "markdown",
   "id": "ae469f6e-c874-4dc3-90d1-8f7eff8d4714",
   "metadata": {},
   "source": [
    "로그스케일 적용 또는 삭제"
   ]
  },
  {
   "cell_type": "markdown",
   "id": "cd7a6d1a-d5a9-4bba-8f2e-99b46a566d5a",
   "metadata": {
    "jp-MarkdownHeadingCollapsed": true
   },
   "source": [
    "## 정규분포화"
   ]
  },
  {
   "cell_type": "markdown",
   "id": "341f3ee2-d0d5-48a6-be9c-1bd67541412f",
   "metadata": {},
   "source": [
    "데이터가 한 쪽으로 치우쳐져 있다면 지수나 로그 스케일을 적용해 정규분포에 가까운 모양으로 만들어주기"
   ]
  }
 ],
 "metadata": {
  "kernelspec": {
   "display_name": "ML_py3.10.13",
   "language": "python",
   "name": "mlpy310"
  },
  "language_info": {
   "codemirror_mode": {
    "name": "ipython",
    "version": 3
   },
   "file_extension": ".py",
   "mimetype": "text/x-python",
   "name": "python",
   "nbconvert_exporter": "python",
   "pygments_lexer": "ipython3",
   "version": "3.10.13"
  }
 },
 "nbformat": 4,
 "nbformat_minor": 5
}
