{
 "cells": [
  {
   "cell_type": "markdown",
   "id": "631929a3-56dd-4ef2-95f1-b1d227a77b13",
   "metadata": {
    "jp-MarkdownHeadingCollapsed": true
   },
   "source": [
    "# **글자 크기**"
   ]
  },
  {
   "cell_type": "markdown",
   "id": "64ed751d-5810-4f17-a7dc-451634394f76",
   "metadata": {
    "jp-MarkdownHeadingCollapsed": true
   },
   "source": [
    "# Header 1: # 1개 사용\n",
    "## Header 2: # 2개 사용\n",
    "### Header 3: # 3개 사용\n",
    "#### Header 4: # 4개 사용\n",
    "##### Header 5: # 5개 사용\n",
    "###### Header 6: # 6개 사용\n",
    "####### Header 7: # 7개 사용  \n",
    "일반 글자 크기\n",
    "\n",
    "\\# 구문은 자신보다 #이 높은 아래 셀들을 자동으로 묶는다. 이는 아래의 Font에서 글자 크기만 바꾸는 것으로 막을 수 있다."
   ]
  },
  {
   "cell_type": "markdown",
   "id": "1b121d3c-d2d9-42d9-8efc-b6d16cc4782d",
   "metadata": {},
   "source": [
    "# Header 1: # 1개 사용\n",
    "## Header 2: # 2개 사용\n",
    "### Header 3: # 3개 사용\n",
    "#### Header 4: # 4개 사용\n",
    "##### Header 5: # 5개 사용\n",
    "###### Header 6: # 6개 사용\n",
    "####### Header 7: # 7개 사용  \n",
    "일반 글자 크기"
   ]
  },
  {
   "cell_type": "markdown",
   "id": "2bd65f2b-f0e7-4847-b512-def31946e766",
   "metadata": {},
   "source": [
    "# **줄바꿈**"
   ]
  },
  {
   "cell_type": "markdown",
   "id": "4be19271-b9dc-442e-9718-3737f07a9e49",
   "metadata": {},
   "source": [
    "스페이스바 두 번 + enter.  \n",
    "혹은 \\<br><br>\n",
    "."
   ]
  },
  {
   "cell_type": "markdown",
   "id": "d63c5416-fe7f-4c5e-bd1b-f9ea9e351549",
   "metadata": {},
   "source": [
    "스페이스바 두 번 + enter.  \n",
    "혹은 \\<br><br>\n",
    "."
   ]
  },
  {
   "cell_type": "markdown",
   "id": "569988cb-f357-4848-a101-f40aefb9aa1d",
   "metadata": {},
   "source": [
    "# **문단 구분**"
   ]
  },
  {
   "cell_type": "markdown",
   "id": "b4b4ea05-da8b-411a-8e0a-a1a6b8719083",
   "metadata": {},
   "source": [
    "enter\n",
    "\n",
    "두 번."
   ]
  },
  {
   "cell_type": "markdown",
   "id": "844e1600-69b2-43e9-ade7-a9066fbc2f04",
   "metadata": {},
   "source": [
    "enter\n",
    "\n",
    "두 번."
   ]
  },
  {
   "cell_type": "markdown",
   "id": "b946b3e9-8eff-4415-ab0a-8109ca2dcdd2",
   "metadata": {},
   "source": [
    "# **명령어를 실행시키지 않고 출력**"
   ]
  },
  {
   "cell_type": "markdown",
   "id": "775c2430-3c64-4f0c-9cb0-9ba377b81970",
   "metadata": {},
   "source": [
    "명령어 앞에 \\ 붙이기"
   ]
  },
  {
   "cell_type": "markdown",
   "id": "7ce2c361-2b1d-4c48-99ad-ea5d7b687861",
   "metadata": {},
   "source": [
    "# **List**"
   ]
  },
  {
   "cell_type": "markdown",
   "id": "31c2cd65-d28b-4ec7-b4e0-09c949d9554e",
   "metadata": {
    "jp-MarkdownHeadingCollapsed": true
   },
   "source": [
    "### 순서가 있는 리스트\n",
    "\n",
    "\\1.  \n",
    "\\2.  \n",
    "\\3."
   ]
  },
  {
   "cell_type": "markdown",
   "id": "0f704878-e6ca-4a68-b1be-99519716b76e",
   "metadata": {},
   "source": [
    "1. 첫 번째\n",
    "2. 두 번째\n",
    "3. 세 번째"
   ]
  },
  {
   "cell_type": "markdown",
   "id": "263741c4-ca64-4772-ba64-ec79efaebe28",
   "metadata": {},
   "source": [
    "1. 첫 번째\n",
    "2. 두 번째\n",
    "3. 세 번째"
   ]
  },
  {
   "cell_type": "markdown",
   "id": "f18fdfd6-52e3-40c7-a45c-ce4c8cb69713",
   "metadata": {
    "jp-MarkdownHeadingCollapsed": true
   },
   "source": [
    "### 순서가 없는 리스트\n",
    "\n",
    "\\*, \\+, \\- 사용"
   ]
  },
  {
   "cell_type": "markdown",
   "id": "76ac8132-3a7f-4176-ab41-0dd86729b90f",
   "metadata": {},
   "source": [
    "* 별표 (*)\n",
    "+ 플러스 (+)\n",
    "- 마이너스 (-)"
   ]
  },
  {
   "cell_type": "markdown",
   "id": "5dc6277a-b4fb-470d-8075-209a33fc3bc1",
   "metadata": {},
   "source": [
    "* 별표 (*)\n",
    "+ 플러스 (+)\n",
    "- 마이너스 (-)"
   ]
  },
  {
   "cell_type": "markdown",
   "id": "569dc409-7fb8-4559-a353-2eb5ad2231d9",
   "metadata": {
    "jp-MarkdownHeadingCollapsed": true
   },
   "source": [
    "### 들여쓰기\n",
    "\n",
    "tab 사용"
   ]
  },
  {
   "cell_type": "markdown",
   "id": "98fe03c1-6478-45f9-93c0-0e85f68b7287",
   "metadata": {},
   "source": [
    "1. 첫 번째\n",
    "    * 1-1\n",
    "    * 1-2\n",
    "2. 두 번째\n",
    "    + 2-1\n",
    "    - 2-2\n",
    "3. 세 번째\n",
    "    1. 3-1\n",
    "        1. 3-1-1"
   ]
  },
  {
   "cell_type": "markdown",
   "id": "d5e6bf3f-886a-4b78-aaea-a5a70d4e134c",
   "metadata": {},
   "source": [
    "1. 첫 번째\n",
    "    * 1-1\n",
    "    * 1-2\n",
    "2. 두 번째\n",
    "    + 2-1\n",
    "    - 2-2\n",
    "3. 세 번째\n",
    "    1. 3-1\n",
    "        1. 3-1-1"
   ]
  },
  {
   "cell_type": "markdown",
   "id": "6772fa6e-eede-4400-ba92-0a3b7a361419",
   "metadata": {
    "jp-MarkdownHeadingCollapsed": true
   },
   "source": [
    "# 수평선\n",
    "\n",
    "\\***  \n",
    "\\---  \n",
    "\\<hr>"
   ]
  },
  {
   "cell_type": "markdown",
   "id": "fe0a23aa-5b49-41c0-ab27-340d72d90aea",
   "metadata": {},
   "source": [
    "***\n",
    "---\n",
    "<hr>"
   ]
  },
  {
   "cell_type": "markdown",
   "id": "1905b5ff-de09-48ee-9e07-fb82e85d9774",
   "metadata": {},
   "source": [
    "***\n",
    "---\n",
    "<hr>"
   ]
  },
  {
   "cell_type": "markdown",
   "id": "f5c40b61-f91a-4a99-80bf-e43627e137e3",
   "metadata": {},
   "source": [
    "# **Font**"
   ]
  },
  {
   "cell_type": "markdown",
   "id": "aa2a5a23-6453-457c-aecb-4d44c322614d",
   "metadata": {},
   "source": [
    "\\<span style = \"\">쓰고싶은 내용\\</span>  \n",
    "\\<p style = \"\">쓰고싶은 내용\\</p> (\\<p>구문은 자동 줄바꿈)  \n",
    "한꺼번에 여러개 적용할 땐 ;로 연결  \n",
    "\\<span style = \"\\~;\\~;\\~;\\~\">쓰고싶은 내용\\</span>"
   ]
  },
  {
   "cell_type": "markdown",
   "id": "a3f9028a-883c-467f-8bd8-e66fc0b1172f",
   "metadata": {
    "jp-MarkdownHeadingCollapsed": true
   },
   "source": [
    "### 글자 색"
   ]
  },
  {
   "cell_type": "markdown",
   "id": "8320a523-5526-4f22-aa59-62d16984b61d",
   "metadata": {},
   "source": [
    "<span style = \"color:red\">빨간색</span>  \n",
    "<span style = \"color:blue\">파란색</span>  \n",
    "<span style = \"color:#F8766D\">16비트색</span>"
   ]
  },
  {
   "cell_type": "markdown",
   "id": "89d1b8fa-3f42-4653-ae5f-3f1513876cb7",
   "metadata": {},
   "source": [
    "<span style = \"color:red\">빨간색</span>  \n",
    "<span style = \"color:blue\">파란색</span>  \n",
    "<span style = \"color:#F8766D\">16비트색</span>"
   ]
  },
  {
   "cell_type": "markdown",
   "id": "8eab8e4c-fda2-49cf-9a5c-2da1bd0e2e40",
   "metadata": {
    "jp-MarkdownHeadingCollapsed": true
   },
   "source": [
    "### 글자 크기"
   ]
  },
  {
   "cell_type": "markdown",
   "id": "72664906-8d66-4cdf-a3be-ec25a7964f97",
   "metadata": {},
   "source": [
    "<span style = \"font-size:3px\">3px</span>  \n",
    "<span style = \"font-size:5px\">5px</span>  \n",
    "<span style = \"font-size:20px\">20px</span>  \n",
    "<span style = \"font-size:50px\">50px</span>  \n",
    "<span style = \"font-size:200%\">200%</span>  \n",
    "<span style = \"font-size:5em\">5em</span>"
   ]
  },
  {
   "cell_type": "markdown",
   "id": "8c426507-8b06-40ff-9fd6-dde71e33e2fe",
   "metadata": {},
   "source": [
    "<span style = \"font-size:3px\">3px</span>  \n",
    "<span style = \"font-size:5px\">5px</span>  \n",
    "<span style = \"font-size:20px\">20px</span>  \n",
    "<span style = \"font-size:50px\">50px</span>  \n",
    "<span style = \"font-size:200%\">200%</span>  \n",
    "<span style = \"font-size:5em\">5em</span>"
   ]
  },
  {
   "cell_type": "markdown",
   "id": "46f19008-31a5-42d1-9166-ceed435bbb82",
   "metadata": {
    "jp-MarkdownHeadingCollapsed": true
   },
   "source": [
    "### 줄높이"
   ]
  },
  {
   "cell_type": "markdown",
   "id": "358a8601-6b42-4769-8ba2-da9733724bd6",
   "metadata": {},
   "source": [
    "<span style = \"line-height:5em\">5em</span>"
   ]
  },
  {
   "cell_type": "code",
   "execution_count": null,
   "id": "37446938-6cfe-41a1-88db-980280a0b210",
   "metadata": {},
   "outputs": [],
   "source": [
    "<span style = \"line-height:5em\">5em</span>"
   ]
  },
  {
   "cell_type": "markdown",
   "id": "107b99f1-2945-44c8-ac69-a20f812f8209",
   "metadata": {
    "jp-MarkdownHeadingCollapsed": true
   },
   "source": [
    "### 볼드"
   ]
  },
  {
   "cell_type": "markdown",
   "id": "ca3b8200-8eb7-4bf5-8fb2-14cc6a5b1d32",
   "metadata": {},
   "source": [
    "**\\*두 개 또는**  \n",
    "<span style = \"font-weight:bold\">bold</span>"
   ]
  },
  {
   "cell_type": "markdown",
   "id": "84ddf359-834a-4f02-8145-78187c082647",
   "metadata": {},
   "source": [
    "**\\*두 개 또는**  \n",
    "<span style = \"font-weight:bold\">bold</span>"
   ]
  },
  {
   "cell_type": "markdown",
   "id": "ebd07eaa-c192-408e-bbba-c9df04c7eecc",
   "metadata": {
    "jp-MarkdownHeadingCollapsed": true
   },
   "source": [
    "### 기울임"
   ]
  },
  {
   "cell_type": "markdown",
   "id": "b2bc9b24-f05c-4cbc-b46b-746f2eeb84fd",
   "metadata": {},
   "source": [
    "*\\*한 개 또는*  \n",
    "<span style = \"font-style:italic\">italic</span>"
   ]
  },
  {
   "cell_type": "markdown",
   "id": "b71104cb-6faf-4fe1-bd90-53fa8603c2ee",
   "metadata": {},
   "source": [
    "*\\*한 개 또는*  \n",
    "<span style = \"font-style:italic\">italic</span>"
   ]
  },
  {
   "cell_type": "markdown",
   "id": "8685e818-289c-4b57-9b75-3fe6cd633496",
   "metadata": {
    "jp-MarkdownHeadingCollapsed": true
   },
   "source": [
    "### 취소선"
   ]
  },
  {
   "cell_type": "markdown",
   "id": "26667c47-2b5a-462a-a807-40cbf48e6c4f",
   "metadata": {},
   "source": [
    "~취소선~"
   ]
  },
  {
   "cell_type": "markdown",
   "id": "2467ad49-eac9-4547-ac93-78e37a609736",
   "metadata": {},
   "source": [
    "~취소선~"
   ]
  },
  {
   "cell_type": "markdown",
   "id": "72bb4b6b-1e29-4cd4-8f43-572b132eb89b",
   "metadata": {
    "jp-MarkdownHeadingCollapsed": true
   },
   "source": [
    "### 밑줄"
   ]
  },
  {
   "cell_type": "markdown",
   "id": "665b0cc6-cd88-445a-88f1-c860a0df2d2d",
   "metadata": {},
   "source": [
    "<u>밑줄</u>"
   ]
  },
  {
   "cell_type": "markdown",
   "id": "5836b82e-1ba1-4a69-82da-4ec27c198bc3",
   "metadata": {},
   "source": [
    "<u>밑줄</u>"
   ]
  },
  {
   "cell_type": "markdown",
   "id": "ad731d9d-e77e-4687-b1bb-10b27a54ec64",
   "metadata": {},
   "source": [
    "# **인용**"
   ]
  },
  {
   "cell_type": "markdown",
   "id": "43138bb9-143d-4bd7-8ba6-2993a6e31890",
   "metadata": {},
   "source": [
    "> \">\"로 가능\n",
    "\n",
    "> 인용구 안에\n",
    ">> 이중 인용 가능"
   ]
  },
  {
   "cell_type": "markdown",
   "id": "81c5ed99-b019-402f-9ba0-e912f757c45e",
   "metadata": {},
   "source": [
    "> \">\"로 가능\n",
    "\n",
    "> 인용구 안에\n",
    ">> 이중 인용 가능"
   ]
  },
  {
   "cell_type": "markdown",
   "id": "98cb1813-c0fe-421a-8d6f-75fbfda57762",
   "metadata": {
    "jp-MarkdownHeadingCollapsed": true
   },
   "source": [
    "# **Link**\n",
    "\n",
    "그냥 주소 쓰기 또는  \n",
    "\\[링크 이름](링크)"
   ]
  },
  {
   "cell_type": "markdown",
   "id": "103218ef-f8a2-45ea-9efd-a4327d8b005c",
   "metadata": {},
   "source": [
    "1. 링크: https://github.com/Dongwhi\n",
    "2. 링크: [내 깃허브](https://github.com/Dongwhi)"
   ]
  },
  {
   "cell_type": "markdown",
   "id": "721543ac-d093-45a2-a633-6d0ff548d61f",
   "metadata": {},
   "source": [
    "1. 링크: https://github.com/Dongwhi\n",
    "2. 링크: [내 깃허브](https://github.com/Dongwhi)"
   ]
  },
  {
   "cell_type": "markdown",
   "id": "12b0fe66-99da-4b26-b1e2-e1c948821a94",
   "metadata": {
    "jp-MarkdownHeadingCollapsed": true
   },
   "source": [
    "# **수식**\n",
    "\n",
    "[Tex문법](https://ko.wikipedia.org/wiki/%EC%9C%84%ED%82%A4%EB%B0%B1%EA%B3%BC:TeX_%EB%AC%B8%EB%B2%95)사용  \n",
    "\n",
    "$는 좌측 정렬  \n",
    "\n",
    "$$는 중앙 정렬  "
   ]
  },
  {
   "cell_type": "markdown",
   "id": "8b644673-c4e3-4469-9c0a-27364a8f1aa8",
   "metadata": {},
   "source": [
    "$RMSE=\\sqrt {\\sum_{i} (Y_{i} - \\hat Y_{i})^2}$  \n",
    "$$RMSE=\\sqrt {\\sum_{i} (Y_{i} - \\hat Y_{i})^2}$$"
   ]
  },
  {
   "cell_type": "markdown",
   "id": "1cc709da-a5da-4e48-95a2-e50769c77850",
   "metadata": {},
   "source": [
    "$RMSE=\\sqrt {\\sum_{i} (Y_{i} - \\hat Y_{i})^2}$  \n",
    "$$RMSE=\\sqrt {\\sum_{i} (Y_{i} - \\hat Y_{i})^2}$$"
   ]
  },
  {
   "cell_type": "markdown",
   "id": "98c0a847-b846-426c-8e1c-a21a7a4990dd",
   "metadata": {
    "jp-MarkdownHeadingCollapsed": true
   },
   "source": [
    "# **이미지**\n",
    "\n",
    "![이미지 이름](이미지 링크)  \n",
    "이미지 크기 조절하려면  \n",
    "\\<img src = \"이미지 링크\" width = \"00px\" height = \"00px\" title = \"이미지 이름\" alt = \"문제 발생시 이미지 이름\">\\</img>"
   ]
  },
  {
   "cell_type": "markdown",
   "id": "f8a83ad3-db3a-4519-b804-07a01f47d95e",
   "metadata": {},
   "source": [
    "![Jupyter Notebook](https://upload.wikimedia.org/wikipedia/commons/thumb/3/38/Jupyter_logo.svg/800px-Jupyter_logo.svg.png)"
   ]
  },
  {
   "cell_type": "markdown",
   "id": "4d2fa67b-86b7-4589-8194-b28df3f8c414",
   "metadata": {},
   "source": [
    "![Jupyter Notebook](https://upload.wikimedia.org/wikipedia/commons/thumb/3/38/Jupyter_logo.svg/800px-Jupyter_logo.svg.png)"
   ]
  },
  {
   "cell_type": "markdown",
   "id": "6457ae8f-b275-4c23-b672-9832eee66370",
   "metadata": {},
   "source": [
    "<img src = \"https://upload.wikimedia.org/wikipedia/commons/thumb/3/38/Jupyter_logo.svg/800px-Jupyter_logo.svg.png\" width = \"150px\" height = \"100px\" title = \"Jupyter Notebook\" alt = \"문제 발생시 이미지 이름\"></img>"
   ]
  },
  {
   "cell_type": "markdown",
   "id": "3212427c-6410-480f-8af3-ce910a86f97a",
   "metadata": {},
   "source": [
    "<img src = \"https://upload.wikimedia.org/wikipedia/commons/thumb/3/38/Jupyter_logo.svg/800px-Jupyter_logo.svg.png\" width = \"150px\" height = \"100px\" title = \"Jupyter Notebook\" alt = \"문제 발생시 이미지 이름\"></img>"
   ]
  }
 ],
 "metadata": {
  "kernelspec": {
   "display_name": "Python 3 (ipykernel)",
   "language": "python",
   "name": "python3"
  },
  "language_info": {
   "codemirror_mode": {
    "name": "ipython",
    "version": 3
   },
   "file_extension": ".py",
   "mimetype": "text/x-python",
   "name": "python",
   "nbconvert_exporter": "python",
   "pygments_lexer": "ipython3",
   "version": "3.10.13"
  }
 },
 "nbformat": 4,
 "nbformat_minor": 5
}
