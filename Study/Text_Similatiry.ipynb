{
 "cells": [
  {
   "cell_type": "markdown",
   "id": "64305c37-c9b9-471e-9c3c-c682e743c83c",
   "metadata": {},
   "source": [
    "텍스트 유사도는 샘플을 벡터화하여 구할 수 있다.\n",
    "\n",
    "유사도를 구하는 방법:\n",
    "\n",
    "1. Jaccard Index: 두 문장의 단어들의 교집합의 크기를 합집합의 크기로 나눈다. 1이면 동일하고 0이면 다르다.\n",
    "2. Euclidean Distance: 기하적 거리. 일반적인 정규화로는 이상치에 취약하다. 따라서 오일러 상수(1/e^d)로 정규화해야 한다.\n",
    "3. Cosine Similarity: 두 벡터 사이의 각도의 코사인값이다. 텍스트 데이터에서 유사도를 측정할 때 선호된다. -1이면 반대되고, 0이면 서로 독립, 1이면 일치한다.\n",
    "4. Manhattan Similarity: 사각 격자상에서의 최단 거리(멘하탄 거리)로 유사도를 측정한다."
   ]
  },
  {
   "cell_type": "markdown",
   "id": "bc929630-cb77-45e8-95ee-c206868b3346",
   "metadata": {},
   "source": [
    "텍스트를 임베딩(벡터화)하는 방법:\n",
    "\n",
    "1. TF-IDF\n",
    "2. Word2vec\n",
    "3. Doc2vec\n",
    "4. ELMo\n",
    "5. BERT\n",
    "6. ETC...\n",
    "\n",
    "방법마다 데이터를 잘 나타내도록 벡터화할 수 있는 분야가 다르다. "
   ]
  },
  {
   "cell_type": "code",
   "execution_count": null,
   "id": "59f04bab-adad-4091-8dd6-f11228f20e29",
   "metadata": {},
   "outputs": [],
   "source": []
  },
  {
   "cell_type": "code",
   "execution_count": null,
   "id": "f0c944da-0073-4b47-adf7-63dfac4b6bfb",
   "metadata": {},
   "outputs": [],
   "source": []
  },
  {
   "cell_type": "code",
   "execution_count": null,
   "id": "d7ef849e-8ea0-4889-acda-0c36bcf0ae2b",
   "metadata": {},
   "outputs": [],
   "source": []
  },
  {
   "cell_type": "code",
   "execution_count": null,
   "id": "4d7bdda9-aace-48b1-9e11-44be938644d2",
   "metadata": {},
   "outputs": [],
   "source": []
  },
  {
   "cell_type": "code",
   "execution_count": null,
   "id": "e6da291e-cf18-4bf4-b52d-b9f974f99e5e",
   "metadata": {},
   "outputs": [],
   "source": []
  },
  {
   "cell_type": "code",
   "execution_count": null,
   "id": "45d3426c-d552-4876-991d-4f54807518bf",
   "metadata": {},
   "outputs": [],
   "source": []
  },
  {
   "cell_type": "code",
   "execution_count": null,
   "id": "51e51631-0db9-42ab-aab5-0607fcc61321",
   "metadata": {},
   "outputs": [],
   "source": []
  },
  {
   "cell_type": "code",
   "execution_count": null,
   "id": "da91a9e1-1eca-4844-b20e-37b33e2f98f1",
   "metadata": {},
   "outputs": [],
   "source": []
  },
  {
   "cell_type": "code",
   "execution_count": null,
   "id": "81a87041-035b-4554-b481-882adc943421",
   "metadata": {},
   "outputs": [],
   "source": []
  },
  {
   "cell_type": "code",
   "execution_count": null,
   "id": "2dba5c71-ed1c-4cdc-966d-f43fc6e92f4c",
   "metadata": {},
   "outputs": [],
   "source": []
  },
  {
   "cell_type": "code",
   "execution_count": null,
   "id": "36fb50de-520f-4cc8-88fe-6cb5848cac5d",
   "metadata": {},
   "outputs": [],
   "source": []
  },
  {
   "cell_type": "code",
   "execution_count": null,
   "id": "67d101ce-492d-45a8-9e50-3a953bc6ecb2",
   "metadata": {},
   "outputs": [],
   "source": []
  },
  {
   "cell_type": "code",
   "execution_count": null,
   "id": "3573b369-5606-463d-9984-eba9e1d0248f",
   "metadata": {},
   "outputs": [],
   "source": []
  },
  {
   "cell_type": "code",
   "execution_count": null,
   "id": "98ee7133-32d3-4126-8b55-a75c97002bc6",
   "metadata": {},
   "outputs": [],
   "source": []
  },
  {
   "cell_type": "code",
   "execution_count": null,
   "id": "e161a17e-1d19-41ef-b757-aff0bf7b1e4d",
   "metadata": {},
   "outputs": [],
   "source": []
  },
  {
   "cell_type": "code",
   "execution_count": null,
   "id": "d40dc314-60eb-498e-a75c-53b45ad2254d",
   "metadata": {},
   "outputs": [],
   "source": []
  },
  {
   "cell_type": "code",
   "execution_count": null,
   "id": "c5543641-58ea-4fb0-bf30-2fbc74d82091",
   "metadata": {},
   "outputs": [],
   "source": []
  },
  {
   "cell_type": "code",
   "execution_count": null,
   "id": "787500bf-e5bf-4bcc-aeb3-300144625997",
   "metadata": {},
   "outputs": [],
   "source": []
  },
  {
   "cell_type": "code",
   "execution_count": null,
   "id": "1b979824-50f6-42b7-980c-50e99ccb79f2",
   "metadata": {},
   "outputs": [],
   "source": []
  },
  {
   "cell_type": "code",
   "execution_count": null,
   "id": "97ef2152-1d0c-43be-a204-e4d58339479c",
   "metadata": {},
   "outputs": [],
   "source": []
  },
  {
   "cell_type": "code",
   "execution_count": null,
   "id": "81a06044-1a68-4deb-8bf9-9ef1a71bb2f8",
   "metadata": {},
   "outputs": [],
   "source": []
  },
  {
   "cell_type": "code",
   "execution_count": null,
   "id": "f80560ef-32c0-4d9b-99a8-5bfd981579d9",
   "metadata": {},
   "outputs": [],
   "source": []
  },
  {
   "cell_type": "code",
   "execution_count": null,
   "id": "cc7d6883-30dc-4cb3-8e30-c26434f206d7",
   "metadata": {},
   "outputs": [],
   "source": []
  },
  {
   "cell_type": "code",
   "execution_count": null,
   "id": "59b7c221-473e-4590-8ee7-9dcd43df128e",
   "metadata": {},
   "outputs": [],
   "source": []
  },
  {
   "cell_type": "code",
   "execution_count": null,
   "id": "76e59d7b-e08c-4673-9cd4-7eed687e7b7f",
   "metadata": {},
   "outputs": [],
   "source": []
  },
  {
   "cell_type": "code",
   "execution_count": null,
   "id": "42d65e0f-40cb-47de-bede-f0ad48f9e4a5",
   "metadata": {},
   "outputs": [],
   "source": []
  }
 ],
 "metadata": {
  "kernelspec": {
   "display_name": "ML_py3.10.13",
   "language": "python",
   "name": "mlpy310"
  },
  "language_info": {
   "codemirror_mode": {
    "name": "ipython",
    "version": 3
   },
   "file_extension": ".py",
   "mimetype": "text/x-python",
   "name": "python",
   "nbconvert_exporter": "python",
   "pygments_lexer": "ipython3",
   "version": "3.10.13"
  }
 },
 "nbformat": 4,
 "nbformat_minor": 5
}
