{
 "cells": [
  {
   "cell_type": "markdown",
   "id": "edbdab79",
   "metadata": {},
   "source": [
    "반도체 소자 이상 탐지.\n",
    "\n",
    "상황 정의: One class visual anomaly detection\n",
    "\n",
    "문제점:\n",
    "1. Only positively labeled training data\n",
    "2. Ambiguous normal\n",
    "3. Small data set"
   ]
  },
  {
   "cell_type": "markdown",
   "id": "7cdd1f32",
   "metadata": {},
   "source": [
    "라이브러리 불러오기"
   ]
  },
  {
   "cell_type": "code",
   "execution_count": 1,
   "id": "243ee1cb",
   "metadata": {},
   "outputs": [
    {
     "ename": "ModuleNotFoundError",
     "evalue": "No module named 'torch._custom_ops'",
     "output_type": "error",
     "traceback": [
      "\u001b[1;31m---------------------------------------------------------------------------\u001b[0m",
      "\u001b[1;31mModuleNotFoundError\u001b[0m                       Traceback (most recent call last)",
      "Cell \u001b[1;32mIn[1], line 7\u001b[0m\n\u001b[0;32m      5\u001b[0m \u001b[38;5;28;01mimport\u001b[39;00m \u001b[38;5;21;01mtorch\u001b[39;00m\u001b[38;5;21;01m.\u001b[39;00m\u001b[38;5;21;01moptim\u001b[39;00m \u001b[38;5;28;01mas\u001b[39;00m \u001b[38;5;21;01moptim\u001b[39;00m\n\u001b[0;32m      6\u001b[0m \u001b[38;5;28;01mfrom\u001b[39;00m \u001b[38;5;21;01mtorch\u001b[39;00m\u001b[38;5;21;01m.\u001b[39;00m\u001b[38;5;21;01moptim\u001b[39;00m\u001b[38;5;21;01m.\u001b[39;00m\u001b[38;5;21;01mlr_scheduler\u001b[39;00m \u001b[38;5;28;01mimport\u001b[39;00m CosineAnnealingLR\n\u001b[1;32m----> 7\u001b[0m \u001b[38;5;28;01mfrom\u001b[39;00m \u001b[38;5;21;01mtorchvision\u001b[39;00m \u001b[38;5;28;01mimport\u001b[39;00m models, transforms\n\u001b[0;32m      8\u001b[0m \u001b[38;5;28;01mfrom\u001b[39;00m \u001b[38;5;21;01mtorch\u001b[39;00m\u001b[38;5;21;01m.\u001b[39;00m\u001b[38;5;21;01mutils\u001b[39;00m\u001b[38;5;21;01m.\u001b[39;00m\u001b[38;5;21;01mdata\u001b[39;00m \u001b[38;5;28;01mimport\u001b[39;00m DataLoader, Dataset\n\u001b[0;32m     10\u001b[0m \u001b[38;5;28;01mfrom\u001b[39;00m \u001b[38;5;21;01mPIL\u001b[39;00m \u001b[38;5;28;01mimport\u001b[39;00m Image\n",
      "File \u001b[1;32m~\\anaconda3\\envs\\ML_py310\\lib\\site-packages\\torchvision\\__init__.py:6\u001b[0m\n\u001b[0;32m      3\u001b[0m \u001b[38;5;28;01mfrom\u001b[39;00m \u001b[38;5;21;01mmodulefinder\u001b[39;00m \u001b[38;5;28;01mimport\u001b[39;00m Module\n\u001b[0;32m      5\u001b[0m \u001b[38;5;28;01mimport\u001b[39;00m \u001b[38;5;21;01mtorch\u001b[39;00m\n\u001b[1;32m----> 6\u001b[0m \u001b[38;5;28;01mfrom\u001b[39;00m \u001b[38;5;21;01mtorchvision\u001b[39;00m \u001b[38;5;28;01mimport\u001b[39;00m _meta_registrations, datasets, io, models, ops, transforms, utils\n\u001b[0;32m      8\u001b[0m \u001b[38;5;28;01mfrom\u001b[39;00m \u001b[38;5;21;01m.\u001b[39;00m\u001b[38;5;21;01mextension\u001b[39;00m \u001b[38;5;28;01mimport\u001b[39;00m _HAS_OPS\n\u001b[0;32m     10\u001b[0m \u001b[38;5;28;01mtry\u001b[39;00m:\n",
      "File \u001b[1;32m~\\anaconda3\\envs\\ML_py310\\lib\\site-packages\\torchvision\\_meta_registrations.py:4\u001b[0m\n\u001b[0;32m      1\u001b[0m \u001b[38;5;28;01mimport\u001b[39;00m \u001b[38;5;21;01mfunctools\u001b[39;00m\n\u001b[0;32m      3\u001b[0m \u001b[38;5;28;01mimport\u001b[39;00m \u001b[38;5;21;01mtorch\u001b[39;00m\n\u001b[1;32m----> 4\u001b[0m \u001b[38;5;28;01mimport\u001b[39;00m \u001b[38;5;21;01mtorch\u001b[39;00m\u001b[38;5;21;01m.\u001b[39;00m\u001b[38;5;21;01m_custom_ops\u001b[39;00m\n\u001b[0;32m      5\u001b[0m \u001b[38;5;28;01mimport\u001b[39;00m \u001b[38;5;21;01mtorch\u001b[39;00m\u001b[38;5;21;01m.\u001b[39;00m\u001b[38;5;21;01mlibrary\u001b[39;00m\n\u001b[0;32m      7\u001b[0m \u001b[38;5;66;03m# Ensure that torch.ops.torchvision is visible\u001b[39;00m\n",
      "\u001b[1;31mModuleNotFoundError\u001b[0m: No module named 'torch._custom_ops'"
     ]
    }
   ],
   "source": [
    "import pandas as pd\n",
    "import numpy as np\n",
    "import torch\n",
    "import torch.nn as nn\n",
    "import torch.optim as optim\n",
    "from torch.optim.lr_scheduler import CosineAnnealingLR\n",
    "from torchvision import models, transforms\n",
    "from torch.utils.data import DataLoader, Dataset\n",
    "\n",
    "from PIL import Image\n",
    "from sklearn.ensemble import IsolationForest\n",
    "from tqdm import tqdm\n",
    "import random\n",
    "\n",
    "from anomalib.models import Patchcore\n",
    "from anomalib.engine import Engine\n",
    "from anomalib.data import PredictDataset\n",
    "from torch.utils.data import DataLoader\n",
    "import torch\n",
    "import gc\n",
    "\n",
    "import os\n",
    "#os.environ[\"CUDA_DEVICE_ORDER\"]=\"PCI_BUS_ID\"\n",
    "#os.environ[\"CUDA_VISIBLE_DEVICES\"] = \"1\""
   ]
  },
  {
   "cell_type": "markdown",
   "id": "c196564a",
   "metadata": {},
   "source": [
    "랜덤 시드 설정"
   ]
  },
  {
   "cell_type": "code",
   "execution_count": 7,
   "id": "04e76549",
   "metadata": {},
   "outputs": [],
   "source": [
    "import random\n",
    "import os\n",
    "import numpy as np\n",
    "import tensorflow as tf\n",
    "import torch\n",
    "\n",
    "def seed_everything(seed):\n",
    "    random.seed(seed)  # 파이썬 내장 random 모듈의 시드 설정\n",
    "    os.environ['PYTHONHASHSEED'] = str(seed)  # 해시 함수의 시드 설정\n",
    "    np.random.seed(seed)  # NumPy 라이브러리의 시드 설정\n",
    "    tf.random.set_seed(seed)  # TensorFlow의 시드 설정\n",
    "    torch.manual_seed(seed)  # PyTorch의 CPU 장치 시드 설정\n",
    "    torch.cuda.manual_seed(seed)  # PyTorch의 CUDA 장치 시드 설정\n",
    "    torch.backends.cudnn.deterministic = True  # CUDA 연산의 재현성을 위한 설정\n",
    "    torch.backends.cudnn.benchmark = True  # CUDA 연산의 속도를 향상시키는 설정을 비활성화\n",
    "\n",
    "seed_everything(299623)  # 시드 고정"
   ]
  },
  {
   "cell_type": "code",
   "execution_count": null,
   "id": "837dceb4",
   "metadata": {},
   "outputs": [],
   "source": [
    "import torch\n",
    "print(torch.version.cuda)"
   ]
  },
  {
   "cell_type": "code",
   "execution_count": null,
   "id": "d2d0dd53",
   "metadata": {},
   "outputs": [],
   "source": [
    "import torch # PyTorch를 불러옵니다.\n",
    "torch.cuda.is_available() # GPU가 사용 가능한지 확인합니다.\n",
    "#torch.cuda.device_count() # 사용 가능한 장치가 몇 개인지 확인합니다.\n",
    "#torch.cuda.get_device_name(0) # 첫번째 GPU의 장치명을 확인합니다.\n",
    "#torch.cuda.get_device_name(1) # 두번째 GPU의 장치명을 확인합니다."
   ]
  },
  {
   "cell_type": "code",
   "execution_count": null,
   "id": "68a5d87c",
   "metadata": {},
   "outputs": [],
   "source": [
    "#!git clone https://github.com/openvinotoolkit/anomalib.git\n",
    "#cd anomalib\n",
    "#pip install ."
   ]
  },
  {
   "cell_type": "code",
   "execution_count": null,
   "id": "088eef19",
   "metadata": {},
   "outputs": [],
   "source": [
    "from tensorflow.python.client import device_lib\n",
    "device_lib.list_local_devices()"
   ]
  },
  {
   "cell_type": "markdown",
   "id": "632a1f2b-e8f6-4dfb-917c-0841c304be34",
   "metadata": {},
   "source": [
    "2. 비정상 이미지 생성 및, 모델 불러오기(patchcore)"
   ]
  },
  {
   "cell_type": "code",
   "execution_count": null,
   "id": "6419cedb",
   "metadata": {},
   "outputs": [],
   "source": [
    "# Import the datamodule\n",
    "from anomalib.data import Folder\n",
    "from anomalib.data.utils import TestSplitMode\n",
    "\n",
    "# Create the datamodule\n",
    "datamodule = Folder(\n",
    "    root=\"./\",\n",
    "    normal_dir=\"train\",\n",
    "    test_split_mode=TestSplitMode.SYNTHETIC,\n",
    "    task=\"classification\"\n",
    ")\n",
    "\n",
    "# Setup the datamodule\n",
    "datamodule.setup()"
   ]
  },
  {
   "cell_type": "code",
   "execution_count": null,
   "id": "dc7eae31",
   "metadata": {},
   "outputs": [],
   "source": [
    "from anomalib.models import Patchcore\n",
    "from anomalib.engine import Engine\n",
    "from anomalib.data import PredictDataset\n",
    "from torch.utils.data import DataLoader\n",
    "import torch\n",
    "import gc\n",
    "\n",
    "# 모델 초기화\n",
    "model = Patchcore(layers=('layer2','layer3', 'layer4'))\n",
    "\n",
    "# 엔진 초기화\n",
    "engine = Engine(task=\"classification\")\n",
    "\n",
    "# 훈련 데이터셋으로 모델 훈련\n",
    "engine.train(datamodule=datamodule, model=model)\n",
    "\n",
    "train_index = \"TRAIN_000.png\"  # 첫 번째 이미지\n",
    "\n",
    "inference_dataset1 = PredictDataset(path=f\"./train/{train_index}\", image_size=(256, 256))\n",
    "\n",
    "\n",
    "inference_dataloader1 = DataLoader(dataset=inference_dataset1)\n",
    "\n",
    "predictions1 = engine.predict(model=model, dataloaders=[inference_dataloader1])[0]\n",
    "\n",
    "print(predictions1['image_path'])\n",
    "print(predictions1['pred_scores'])\n",
    "\n",
    "\n",
    "def empty_cuda_cache():\n",
    "    torch.cuda.empty_cache()\n",
    "    gc.collect()\n",
    "\n",
    "#threshold의 기준을 아래 코드를 통해 TRAIN 데이터를 기준으로 반복하였습니다.\n",
    "while True:  # 무한 루프\n",
    "    # 예측 점수가 0.5475보다 크고 0.5575보다 작지 않으면 루프 종료\n",
    "    if (0.5475 < predictions1['pred_scores'].item() <= 0.5575):\n",
    "        break\n",
    "    empty_cuda_cache()\n",
    "\n",
    "    # 모델 초기화\n",
    "    model = Patchcore(layers=('layer2','layer3', 'layer4'))\n",
    "\n",
    "    # 엔진 초기화\n",
    "    engine = Engine(task=\"classification\")\n",
    "    engine.train(datamodule=datamodule, model=model)\n",
    "    predictions1 = engine.predict(model=model, dataloaders=[inference_dataloader1])[0]\n",
    "\n",
    "    print(predictions1['image_path'])\n",
    "    print(predictions1['pred_scores'])"
   ]
  },
  {
   "cell_type": "code",
   "execution_count": null,
   "id": "3fa9c50b",
   "metadata": {},
   "outputs": [],
   "source": [
    "label_set = []\n",
    "\n",
    "for i in range(0, 100):\n",
    "    test_index = f\"TEST_{i:03d}.png\"\n",
    "    inference_dataset = PredictDataset(path=f\"./test/{test_index}\", image_size=(256, 256))\n",
    "    inference_dataloader = DataLoader(dataset=inference_dataset)\n",
    "    predictions = engine.predict(model=model, dataloaders=[inference_dataloader])[0]\n",
    "    print(predictions['image_path'])\n",
    "    print(predictions['pred_scores'])\n",
    "    \n",
    "    # 아래에 해당하는 0.666의 기준은 마찬가지로, TRAIN_000.png 데이터를 기준으로 정해진 threshold입니다.\n",
    "    # 예측 점수가 0.666보다 크거나 같으면 1, 아니면 0으로 라벨링합니다.\n",
    "    if predictions['pred_scores'] >= 0.666:\n",
    "        label = 1\n",
    "    else:\n",
    "        label = 0\n",
    "    label_set.append(label)\n",
    "#tensor([0.6621]\n",
    "#tensor([0.6790])"
   ]
  },
  {
   "cell_type": "code",
   "execution_count": null,
   "id": "9ce09748",
   "metadata": {},
   "outputs": [],
   "source": [
    "label_set"
   ]
  },
  {
   "cell_type": "code",
   "execution_count": null,
   "id": "3478f903-916a-40f7-b0db-51294a5a00ff",
   "metadata": {},
   "outputs": [],
   "source": [
    "3. Image Feature 추출 (RESNET18)"
   ]
  },
  {
   "cell_type": "code",
   "execution_count": null,
   "id": "e71a729a",
   "metadata": {},
   "outputs": [],
   "source": [
    "\n",
    "import pandas as pd\n",
    "import numpy as np\n",
    "import torch\n",
    "import torch.nn as nn\n",
    "import torch.optim as optim\n",
    "from torch.optim.lr_scheduler import CosineAnnealingLR\n",
    "from torchvision import models, transforms\n",
    "from torch.utils.data import DataLoader, Dataset\n",
    "from PIL import Image\n",
    "from sklearn.ensemble import IsolationForest\n",
    "from tqdm import tqdm\n",
    "import random"
   ]
  },
  {
   "cell_type": "code",
   "execution_count": null,
   "id": "f25392f9",
   "metadata": {},
   "outputs": [],
   "source": [
    "# GPU 사용 설정\n",
    "device = torch.device(\"cuda\" if torch.cuda.is_available() else \"cpu\")"
   ]
  },
  {
   "cell_type": "code",
   "execution_count": null,
   "id": "4f6f646d",
   "metadata": {},
   "outputs": [],
   "source": [
    "# 데이터 로딩 클래스 정의\n",
    "class CustomDataset(Dataset):\n",
    "    def __init__(self, csv_file, transform=None):\n",
    "        \"\"\"\n",
    "        Args:\n",
    "            csv_file (string): csv 파일의 경로.\n",
    "            transform (callable, optional): 샘플에 적용될 Optional transform.\n",
    "        \"\"\"\n",
    "        self.df = pd.read_csv(csv_file)\n",
    "        self.transform = transform\n",
    "\n",
    "    def __len__(self):\n",
    "        return len(self.df)\n",
    "\n",
    "    def __getitem__(self, idx):\n",
    "        img_path = self.df['img_path'].iloc[idx]\n",
    "        image = Image.open(img_path)\n",
    "        if self.transform:\n",
    "            image = self.transform(image)\n",
    "        target = torch.tensor([0.]).float()\n",
    "        return image, target\n",
    "\n",
    "# 이미지 전처리 및 임베딩\n",
    "transform = transforms.Compose([\n",
    "    transforms.Resize((512, 512)),\n",
    "    transforms.RandomHorizontalFlip(p=0.5),\n",
    "    transforms.ToTensor(),\n",
    "    transforms.Normalize(mean=[0.485, 0.456, 0.406], std=[0.229, 0.224, 0.225]),\n",
    "])\n",
    "\n",
    "train_data = CustomDataset(csv_file='./train.csv', transform=transform)\n",
    "train_loader = DataLoader(train_data, batch_size=32, shuffle=False)"
   ]
  },
  {
   "cell_type": "code",
   "execution_count": null,
   "id": "70cfebcd",
   "metadata": {},
   "outputs": [],
   "source": [
    "model = models.resnet18(pretrained=True)\n",
    "model.fc = nn.Linear(in_features=512, out_features=1, bias=True)\n",
    "model = model.to(device)\n",
    "\n",
    "criterion = nn.BCEWithLogitsLoss()\n",
    "optimizer = optim.AdamW(model.parameters(), lr=0.001)\n",
    "scheduler = CosineAnnealingLR(optimizer, T_max=100, eta_min=0.00001)"
   ]
  },
  {
   "cell_type": "code",
   "execution_count": null,
   "id": "435acd91",
   "metadata": {},
   "outputs": [],
   "source": [
    "def train(model, train_loader, criterion, optimizer, scheduler, num_epochs=10):\n",
    "    for epoch in range(num_epochs):\n",
    "        model.train()\n",
    "        running_loss = 0.0\n",
    "        running_corrects = 0\n",
    "        total = 0\n",
    "        \n",
    "        for images, labels in train_loader:\n",
    "            images = images.to(device)\n",
    "            labels = labels.to(device)\n",
    "            \n",
    "            outputs = model(images)\n",
    "            loss = criterion(outputs, labels.view(-1, 1))\n",
    "            \n",
    "            optimizer.zero_grad()\n",
    "            loss.backward()\n",
    "            optimizer.step()\n",
    "            \n",
    "            running_loss += loss.item()\n",
    "            predictions = (torch.sigmoid(outputs) > 0.5).float()\n",
    "            running_corrects += torch.sum(predictions == labels.view(-1, 1)).item()\n",
    "            total += labels.size(0)\n",
    "        \n",
    "        scheduler.step()\n",
    "        \n",
    "        epoch_loss = running_loss / len(train_loader)\n",
    "        epoch_acc = running_corrects / total\n",
    "        \n",
    "        print(f'Epoch {epoch+1}/{num_epochs}, Loss: {epoch_loss:.4f}, Accuracy: {epoch_acc:.4f}')"
   ]
  },
  {
   "cell_type": "code",
   "execution_count": null,
   "id": "731e7abf",
   "metadata": {},
   "outputs": [],
   "source": [
    "# 모델 학습 실행\n",
    "train(model, train_loader, criterion, optimizer, scheduler, num_epochs=4)"
   ]
  },
  {
   "cell_type": "code",
   "execution_count": null,
   "id": "7aaf0221",
   "metadata": {},
   "outputs": [],
   "source": [
    "# 사전 학습된 모델 로드\n",
    "model.eval()  # 추론 모드로 설정\n",
    "\n",
    "# 특성 추출을 위한 모델의 마지막 레이어 수정\n",
    "model = torch.nn.Sequential(*(list(model.children())[:-1]))\n",
    "\n",
    "model.to(device)\n",
    "\n",
    "# 이미지를 임베딩 벡터로 변환\n",
    "def get_embeddings(dataloader, model):\n",
    "    embeddings = []\n",
    "    with torch.no_grad():\n",
    "        for images, _ in tqdm(dataloader):\n",
    "            images = images.to(device)\n",
    "            emb = model(images)\n",
    "            embeddings.append(emb.cpu().numpy().squeeze())\n",
    "    return np.concatenate(embeddings, axis=0)\n",
    "\n",
    "train_embeddings = get_embeddings(train_loader, model)"
   ]
  },
  {
   "cell_type": "markdown",
   "id": "59089bdc-52dc-4dea-8435-9d8de028a3db",
   "metadata": {},
   "source": [
    "4. 임베딩 된 데이터를 isolation_forest로 이상치 분류"
   ]
  },
  {
   "cell_type": "code",
   "execution_count": null,
   "id": "9391de3b",
   "metadata": {},
   "outputs": [],
   "source": [
    "from sklearn.model_selection import GridSearchCV\n",
    "from sklearn.metrics import make_scorer, f1_score\n",
    "\n",
    "# Isolation Forest 모델 학습\n",
    "clf = IsolationForest(random_state=69)\n",
    "clf.fit(train_embeddings)"
   ]
  },
  {
   "cell_type": "code",
   "execution_count": null,
   "id": "c15d7c01",
   "metadata": {},
   "outputs": [],
   "source": [
    "# 테스트 데이터에 대해 이상 탐지 수행\n",
    "test_data = CustomDataset(csv_file='./test.csv', transform=transform)\n",
    "test_loader = DataLoader(test_data, batch_size=32, shuffle=False)\n",
    "\n",
    "test_embeddings = get_embeddings(test_loader, model)\n",
    "pred = clf.predict(test_embeddings)\n",
    "\n",
    "# Isolation Forest의 예측 결과(이상 = -1, 정상 = 1)를 이상 = 1, 정상 = 0으로 변환\n",
    "pred = np.where(pred == -1, 1, 0)"
   ]
  },
  {
   "cell_type": "code",
   "execution_count": null,
   "id": "ca3411db",
   "metadata": {},
   "outputs": [],
   "source": [
    "pred"
   ]
  },
  {
   "cell_type": "markdown",
   "id": "884cd47f-5299-45cd-85b3-a19bc7a69f9b",
   "metadata": {},
   "source": [
    "트랜지스터가 비어있는 이미지나,\r\n",
    "정상 이미지인데 불구하고 학습이 안 된 데이터들을 RESNET18 + isolation Forest로 재학습"
   ]
  },
  {
   "cell_type": "code",
   "execution_count": null,
   "id": "36b9b292",
   "metadata": {},
   "outputs": [],
   "source": [
    "#해당 데이터들은 점수를 차차 올려가며 어떤 데이터가 학습이 안된 상태인지\n",
    "isolation_pred1 = pred[34:35]\n",
    "isolation_pred2 = pred[38:39]\n",
    "isolation_pred3 = pred[67:68]\n",
    "isolation_pred4 = pred[91:92]"
   ]
  },
  {
   "cell_type": "code",
   "execution_count": null,
   "id": "4021bad6",
   "metadata": {},
   "outputs": [],
   "source": [
    "submit = pd.read_csv('./sample_submission.csv')\n",
    "submit['label'] = test_pred\n",
    "\n",
    "submit['label'][34:35] =isolation_pred1\n",
    "submit['label'][38:39] =isolation_pred2\n",
    "submit['label'][67:68] =isolation_pred3\n",
    "submit['label'][91:92] = isolation_pred4"
   ]
  },
  {
   "cell_type": "code",
   "execution_count": null,
   "id": "ff405553",
   "metadata": {},
   "outputs": [],
   "source": [
    "all_pred = submit['label']"
   ]
  },
  {
   "cell_type": "code",
   "execution_count": null,
   "id": "04f710c7",
   "metadata": {},
   "outputs": [],
   "source": [
    "#submit.to_csv('./final0.csv', index=False)"
   ]
  }
 ],
 "metadata": {
  "kernelspec": {
   "display_name": "ML_py3.10.13",
   "language": "python",
   "name": "mlpy310"
  },
  "language_info": {
   "codemirror_mode": {
    "name": "ipython",
    "version": 3
   },
   "file_extension": ".py",
   "mimetype": "text/x-python",
   "name": "python",
   "nbconvert_exporter": "python",
   "pygments_lexer": "ipython3",
   "version": "3.10.13"
  }
 },
 "nbformat": 4,
 "nbformat_minor": 5
}
