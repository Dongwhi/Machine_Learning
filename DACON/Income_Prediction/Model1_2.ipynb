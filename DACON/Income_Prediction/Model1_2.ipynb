{
 "cells": [
  {
   "cell_type": "code",
   "execution_count": 1,
   "id": "035d7c17-31a7-4569-98a8-596df52ddbc3",
   "metadata": {},
   "outputs": [],
   "source": [
    "import pandas as pd\n",
    "import matplotlib.pyplot as plt\n",
    "import numpy as np\n",
    "import seaborn as sns"
   ]
  },
  {
   "cell_type": "code",
   "execution_count": 2,
   "id": "5116f0f4-8dc3-4307-9bfb-62cc57c57d18",
   "metadata": {},
   "outputs": [],
   "source": [
    "train = pd.read_csv('train_1.csv')"
   ]
  },
  {
   "cell_type": "code",
   "execution_count": 3,
   "id": "25affd7f-3644-4899-b6e8-7ddca874ed47",
   "metadata": {},
   "outputs": [],
   "source": [
    "test = pd.read_csv('test_1.csv')"
   ]
  },
  {
   "cell_type": "code",
   "execution_count": 4,
   "id": "238c54e6-d4a5-4d50-a4d7-e66a566ef849",
   "metadata": {},
   "outputs": [],
   "source": [
    "train_x = train.drop('Income', axis=1)"
   ]
  },
  {
   "cell_type": "code",
   "execution_count": 5,
   "id": "7e06f93f-2eb3-42f9-b946-c8b59d15d8e1",
   "metadata": {},
   "outputs": [],
   "source": [
    "train_y = train['Income']"
   ]
  },
  {
   "cell_type": "markdown",
   "id": "b27f8d52-3309-4c2f-990b-6adab3341452",
   "metadata": {},
   "source": [
    "# DecisionTreeRegressor"
   ]
  },
  {
   "cell_type": "markdown",
   "id": "001bb203-32f4-4bc8-8a1d-5bd22c226312",
   "metadata": {},
   "source": [
    "## 단순 학습(866.5464122981 점)"
   ]
  },
  {
   "cell_type": "code",
   "execution_count": 34,
   "id": "d9a9e081-bc97-4140-b0f0-ca756cdf9aff",
   "metadata": {},
   "outputs": [
    {
     "data": {
      "text/html": [
       "<style>#sk-container-id-4 {color: black;}#sk-container-id-4 pre{padding: 0;}#sk-container-id-4 div.sk-toggleable {background-color: white;}#sk-container-id-4 label.sk-toggleable__label {cursor: pointer;display: block;width: 100%;margin-bottom: 0;padding: 0.3em;box-sizing: border-box;text-align: center;}#sk-container-id-4 label.sk-toggleable__label-arrow:before {content: \"▸\";float: left;margin-right: 0.25em;color: #696969;}#sk-container-id-4 label.sk-toggleable__label-arrow:hover:before {color: black;}#sk-container-id-4 div.sk-estimator:hover label.sk-toggleable__label-arrow:before {color: black;}#sk-container-id-4 div.sk-toggleable__content {max-height: 0;max-width: 0;overflow: hidden;text-align: left;background-color: #f0f8ff;}#sk-container-id-4 div.sk-toggleable__content pre {margin: 0.2em;color: black;border-radius: 0.25em;background-color: #f0f8ff;}#sk-container-id-4 input.sk-toggleable__control:checked~div.sk-toggleable__content {max-height: 200px;max-width: 100%;overflow: auto;}#sk-container-id-4 input.sk-toggleable__control:checked~label.sk-toggleable__label-arrow:before {content: \"▾\";}#sk-container-id-4 div.sk-estimator input.sk-toggleable__control:checked~label.sk-toggleable__label {background-color: #d4ebff;}#sk-container-id-4 div.sk-label input.sk-toggleable__control:checked~label.sk-toggleable__label {background-color: #d4ebff;}#sk-container-id-4 input.sk-hidden--visually {border: 0;clip: rect(1px 1px 1px 1px);clip: rect(1px, 1px, 1px, 1px);height: 1px;margin: -1px;overflow: hidden;padding: 0;position: absolute;width: 1px;}#sk-container-id-4 div.sk-estimator {font-family: monospace;background-color: #f0f8ff;border: 1px dotted black;border-radius: 0.25em;box-sizing: border-box;margin-bottom: 0.5em;}#sk-container-id-4 div.sk-estimator:hover {background-color: #d4ebff;}#sk-container-id-4 div.sk-parallel-item::after {content: \"\";width: 100%;border-bottom: 1px solid gray;flex-grow: 1;}#sk-container-id-4 div.sk-label:hover label.sk-toggleable__label {background-color: #d4ebff;}#sk-container-id-4 div.sk-serial::before {content: \"\";position: absolute;border-left: 1px solid gray;box-sizing: border-box;top: 0;bottom: 0;left: 50%;z-index: 0;}#sk-container-id-4 div.sk-serial {display: flex;flex-direction: column;align-items: center;background-color: white;padding-right: 0.2em;padding-left: 0.2em;position: relative;}#sk-container-id-4 div.sk-item {position: relative;z-index: 1;}#sk-container-id-4 div.sk-parallel {display: flex;align-items: stretch;justify-content: center;background-color: white;position: relative;}#sk-container-id-4 div.sk-item::before, #sk-container-id-4 div.sk-parallel-item::before {content: \"\";position: absolute;border-left: 1px solid gray;box-sizing: border-box;top: 0;bottom: 0;left: 50%;z-index: -1;}#sk-container-id-4 div.sk-parallel-item {display: flex;flex-direction: column;z-index: 1;position: relative;background-color: white;}#sk-container-id-4 div.sk-parallel-item:first-child::after {align-self: flex-end;width: 50%;}#sk-container-id-4 div.sk-parallel-item:last-child::after {align-self: flex-start;width: 50%;}#sk-container-id-4 div.sk-parallel-item:only-child::after {width: 0;}#sk-container-id-4 div.sk-dashed-wrapped {border: 1px dashed gray;margin: 0 0.4em 0.5em 0.4em;box-sizing: border-box;padding-bottom: 0.4em;background-color: white;}#sk-container-id-4 div.sk-label label {font-family: monospace;font-weight: bold;display: inline-block;line-height: 1.2em;}#sk-container-id-4 div.sk-label-container {text-align: center;}#sk-container-id-4 div.sk-container {/* jupyter's `normalize.less` sets `[hidden] { display: none; }` but bootstrap.min.css set `[hidden] { display: none !important; }` so we also need the `!important` here to be able to override the default hidden behavior on the sphinx rendered scikit-learn.org. See: https://github.com/scikit-learn/scikit-learn/issues/21755 */display: inline-block !important;position: relative;}#sk-container-id-4 div.sk-text-repr-fallback {display: none;}</style><div id=\"sk-container-id-4\" class=\"sk-top-container\"><div class=\"sk-text-repr-fallback\"><pre>DecisionTreeRegressor()</pre><b>In a Jupyter environment, please rerun this cell to show the HTML representation or trust the notebook. <br />On GitHub, the HTML representation is unable to render, please try loading this page with nbviewer.org.</b></div><div class=\"sk-container\" hidden><div class=\"sk-item\"><div class=\"sk-estimator sk-toggleable\"><input class=\"sk-toggleable__control sk-hidden--visually\" id=\"sk-estimator-id-4\" type=\"checkbox\" checked><label for=\"sk-estimator-id-4\" class=\"sk-toggleable__label sk-toggleable__label-arrow\">DecisionTreeRegressor</label><div class=\"sk-toggleable__content\"><pre>DecisionTreeRegressor()</pre></div></div></div></div></div>"
      ],
      "text/plain": [
       "DecisionTreeRegressor()"
      ]
     },
     "execution_count": 34,
     "metadata": {},
     "output_type": "execute_result"
    }
   ],
   "source": [
    "from sklearn.tree import DecisionTreeRegressor\n",
    "\n",
    "model_DTR = DecisionTreeRegressor() \n",
    "model_DTR.fit(train_x, train_y) "
   ]
  },
  {
   "cell_type": "code",
   "execution_count": 35,
   "id": "6c78505e-639d-4169-9cb8-a7c247294582",
   "metadata": {},
   "outputs": [],
   "source": [
    "preds_DTR = model_DTR.predict(test)"
   ]
  },
  {
   "cell_type": "code",
   "execution_count": 41,
   "id": "6140a16a-4250-4b0f-bec1-cb80b6eaec5a",
   "metadata": {},
   "outputs": [
    {
     "data": {
      "text/html": [
       "<div>\n",
       "<style scoped>\n",
       "    .dataframe tbody tr th:only-of-type {\n",
       "        vertical-align: middle;\n",
       "    }\n",
       "\n",
       "    .dataframe tbody tr th {\n",
       "        vertical-align: top;\n",
       "    }\n",
       "\n",
       "    .dataframe thead th {\n",
       "        text-align: right;\n",
       "    }\n",
       "</style>\n",
       "<table border=\"1\" class=\"dataframe\">\n",
       "  <thead>\n",
       "    <tr style=\"text-align: right;\">\n",
       "      <th></th>\n",
       "      <th>ID</th>\n",
       "      <th>Income</th>\n",
       "    </tr>\n",
       "  </thead>\n",
       "  <tbody>\n",
       "    <tr>\n",
       "      <th>0</th>\n",
       "      <td>TEST_0000</td>\n",
       "      <td>0.0</td>\n",
       "    </tr>\n",
       "    <tr>\n",
       "      <th>1</th>\n",
       "      <td>TEST_0001</td>\n",
       "      <td>0.0</td>\n",
       "    </tr>\n",
       "    <tr>\n",
       "      <th>2</th>\n",
       "      <td>TEST_0002</td>\n",
       "      <td>0.0</td>\n",
       "    </tr>\n",
       "    <tr>\n",
       "      <th>3</th>\n",
       "      <td>TEST_0003</td>\n",
       "      <td>550.0</td>\n",
       "    </tr>\n",
       "    <tr>\n",
       "      <th>4</th>\n",
       "      <td>TEST_0004</td>\n",
       "      <td>0.0</td>\n",
       "    </tr>\n",
       "    <tr>\n",
       "      <th>...</th>\n",
       "      <td>...</td>\n",
       "      <td>...</td>\n",
       "    </tr>\n",
       "    <tr>\n",
       "      <th>9995</th>\n",
       "      <td>TEST_9995</td>\n",
       "      <td>1400.0</td>\n",
       "    </tr>\n",
       "    <tr>\n",
       "      <th>9996</th>\n",
       "      <td>TEST_9996</td>\n",
       "      <td>1470.0</td>\n",
       "    </tr>\n",
       "    <tr>\n",
       "      <th>9997</th>\n",
       "      <td>TEST_9997</td>\n",
       "      <td>5000.0</td>\n",
       "    </tr>\n",
       "    <tr>\n",
       "      <th>9998</th>\n",
       "      <td>TEST_9998</td>\n",
       "      <td>0.0</td>\n",
       "    </tr>\n",
       "    <tr>\n",
       "      <th>9999</th>\n",
       "      <td>TEST_9999</td>\n",
       "      <td>425.0</td>\n",
       "    </tr>\n",
       "  </tbody>\n",
       "</table>\n",
       "<p>10000 rows × 2 columns</p>\n",
       "</div>"
      ],
      "text/plain": [
       "             ID  Income\n",
       "0     TEST_0000     0.0\n",
       "1     TEST_0001     0.0\n",
       "2     TEST_0002     0.0\n",
       "3     TEST_0003   550.0\n",
       "4     TEST_0004     0.0\n",
       "...         ...     ...\n",
       "9995  TEST_9995  1400.0\n",
       "9996  TEST_9996  1470.0\n",
       "9997  TEST_9997  5000.0\n",
       "9998  TEST_9998     0.0\n",
       "9999  TEST_9999   425.0\n",
       "\n",
       "[10000 rows x 2 columns]"
      ]
     },
     "execution_count": 41,
     "metadata": {},
     "output_type": "execute_result"
    }
   ],
   "source": [
    "submission = pd.read_csv('C:\\\\Users\\\\82102\\\\Desktop\\\\Machine_Learning\\\\DACON_materials\\\\Income_Prediction\\\\sample_submission.csv')\n",
    "submission['Income'] = np.exp(preds_DTR) - 1\n",
    "submission"
   ]
  },
  {
   "cell_type": "code",
   "execution_count": 42,
   "id": "8a8437ee-28a9-4e82-9b87-25c44fb85f2e",
   "metadata": {},
   "outputs": [],
   "source": [
    "submission.to_csv('./submission1_1.csv', index=False)"
   ]
  },
  {
   "cell_type": "markdown",
   "id": "15832de8-7686-47a6-b5ea-727ee110541c",
   "metadata": {},
   "source": [
    "# RandomForestRegressor"
   ]
  },
  {
   "cell_type": "markdown",
   "id": "069ac78c-4771-4757-8e38-a6dcc69e0ec1",
   "metadata": {},
   "source": [
    "## RandomForest의 Hyperparameter"
   ]
  },
  {
   "cell_type": "markdown",
   "id": "4bfeedfd-d594-4c41-bc3c-14242e7f131c",
   "metadata": {},
   "source": [
    "### RandomForestRegressor\n",
    "\n",
    "n_estimators=100,  \n",
    "max_features=1.0,  \n",
    "criterion='squared_error',  \n",
    "max_depth=None,  \n",
    "min_samples_split=2,  \n",
    "min_samples_leaf=1,  \n",
    "min_weight_fraction_leaf=0.0,  \n",
    "max_leaf_nodes=None,  \n",
    "min_impurity_decrease=0.0,  \n",
    "bootstrap=True,  \n",
    "n_jobs=None,  \n",
    "random_state=None,  \n",
    "verbose=0\n",
    "\n",
    "---\n",
    "\n",
    "### RandomForestClassifier\n",
    "\n",
    "n_estimators=100,  \n",
    "max_features='sqrt',  \n",
    "criterion='gini',  \n",
    "max_depth=None,  \n",
    "min_samples_split=2,  \n",
    "min_samples_leaf=1,  \n",
    "min_weight_fraction_leaf=0.0,  \n",
    "max_leaf_nodes=None,  \n",
    "min_impurity_decrease=0.0,  \n",
    "bootstrap=True,  \n",
    "n_jobs=None,  \n",
    "random_state=None,  \n",
    "verbose=0,  \n",
    "class_weight=None"
   ]
  },
  {
   "cell_type": "raw",
   "id": "905efe11-a723-495e-9ef5-a0598d004ccd",
   "metadata": {},
   "source": [
    "n_estimators: 생성할 트리의 개수 (int, default=100)\r\n",
    "\r\n",
    "트리의 개수가 많을수록 앙상블 모델의 성능이 향상될 수 있지만, 계산 비용도 증가\r\n",
    "트리 개수가 일정 수 이상이면 결과의 향상이 크게 나타나지\n",
    "\n",
    " 않음\r\n",
    "max_features: 노드를 분할할 때 고려할 특성의 무작위 하위 집합의 크기\r\n",
    "\r\n",
    "회귀: {“sqrt”, “log2”, None}, int or float, default=1.0\r\n",
    "분류: {“sqrt”, “log2”, None}, int or float, default=\"sqrt\"\r\n",
    "\r\n",
    "값을 작게 설정하면 분산 감소, 편향 증가, 복잡도 감소, 모델의 성능 감소\r\n",
    "값을 크게 설정하면 분산 증가, 편향 감소, 복잡도 증가, 모델의 성능 증가, 과적합 위험\r\n",
    "정수(int): 정수 개의 특성 고려\r\n",
    "부동소수점(float): 1과 max_features * n_features_in_의 정수 값 중 큰 값 고려\r\n",
    "auto:  n_features(회귀) / auto : sqrt(n_features) (분류)\r\n",
    "sqrt: sqrt(n_features) \r\n",
    "log2: log2(n_features)\r\n",
    "None or 1: n_features(회귀) / None\n",
    "\n",
    ": n_features(분류)\r\n",
    "criterion: 노드의 분할 기준을 결정하는 데 사용되는 평가 지표\r\n",
    "\r\n",
    "회귀 {“squared_error”, “absolute_error”, “friedman_mse”, “poisson”}, default=”squared_error”\r\n",
    "\r\n",
    "노드 분할의 품질을 측정하는 기준으로 사용\r\n",
    "\"squared_error\" (평균 제곱 오차, Mean Squared Error): 각 분할에서 평균 예측값과 실제값 간의 제곱 차이를 계산하고, 이를 모든 분할에 대해 합산하여 평균을 구합니다. \r\n",
    "\"friedman_mse\":(Friedman의 평균 제곱 오차): \"squared_error\"와 비슷한 개념이지만, 잠재적인 분할에 대한 Friedman의 개선 점수를 고려합니다. 이 개선 점수는 각 분할의 오차 감소 정도를 측정하여 최적의 분할을 선택하는 데 활용됩니다.\r\n",
    "\"absolute_error\" (평균 절대 오차, Mean Absolute Error): 각 분할에서 평균 예측값과 실제값 간의 절대 차이를 계산하고, 이를 모든 분할에 대해 평균을 구합니다.\r\n",
    "\"poisson\" (포아송 손실, Poisson Loss): 각 분할에서 포아송 분포와 실제값 간의 편차를 측정합니다. \r\n",
    "\r\n",
    "분류:   {“gini”, “entropy”, “log_loss”}, default=”gini”\r\n",
    "\r\n",
    "노드의 분할 기준은 불순도를 기준으로 결정.\r\n",
    "불순도는 해당 노드의 클래스 불균형 정도를 측정하는 지표로서, 불순도는 낮추고, 순도를 높이는 방향으로 분할이 이루어져야 함.분류 \r\n",
    "\"gini\": gini 지수가 낮을수록 노드의 순도가 높아짐\r\n",
    "\"entropy\": entropy가 낮을수록 노드의 순도가 높아짐\r\n",
    "\r\n",
    "▶ 보통은 기본값인 \"gini\" (또는 \"mse\")가 잘 동작하지만, 특정 문제에 따라 다른 crit\n",
    "erion 값을 실험하여 최적의 성능을 얻을 수도 있습니다.\r\n",
    "\r\n",
    "max_depth: 트리의 최대 깊이 (int, default=None)\r\n",
    "깊이가 제한된 트리는 각각의 결정 경계를 더 간단하게 만들며, 모델이 데이터에 과적합되는 것을 방지할 수 있습니다.\r\n",
    "값을 작게 설정하면 모델의 단순성을 증가, 분산 감소, 편향 증가 → 데이터의 다양한 패턴을 잡아내지 못함, 일반화 능력 향상\r\n",
    "값을 증가시키면 모델의 복잡성, 분산 증가\n",
    "\n",
    ", 편향 감소 → 과적합 가능성, BUT 더 복잡한 패턴을 학습 가능.\r\n",
    "min_samples_split: 노드를 분할하기 위해 필요한 최소한의 샘플 개수 (int or float, default=2)\r\n",
    "샘플 개수가 이 값보다 작아지면 더 이상 분할하지 않고 리프 노드(말단 노드)로 설정\r\n",
    "값을 작게 설정하면 모델 복잡성 증가. 더 복잡한 결정 경계를 가진 모델이 생성되어 데이터의 작은 변동에도 민감하게 반응 → 과적합 위험, 적은 수의 샘플을 기반으로 한 결정이 노이즈에 영향을 받을 가능성\r\n",
    "값을 증가시키면 모델의 편향이 증가, 분산은 감소. 즉, 더 단순한 모델이 생성되어 모델의 복잡도 감소. 이는 결정 경계가 더 단순해지고 일부 정보의 손실이 발생 → 모델이 과적합되는 \n",
    "\n",
    "위험 감소, 너무 큰 값으로 설정하면 모델이 너무 단순해져서 예측 성능이 저하\r\n",
    "min_samples_leaf: 노드를 분할하기 위해 리프 노드가 가져야 할 최소한의 샘플 개수(int or float, default=1)\r\n",
    "값을 작게 설정하면 모델 복잡성 증가. → 과적합의 위험\r\n",
    "값을 증가시키면 모델의 \n",
    "\n",
    "편향은 증가하고 분산은 감소. 모델의 복잡도가 낮아지지만, 일부 정보의 손실이 발생\r\n",
    "max_leaf_nodes: 생성될 수 있는 최대 리프 노드의 개수를 제한 (int, default=None)\r\n",
    "\r\n",
    "일반적으로 랜덤 포레스트의 트리는 자라다가 가능한 한 많은 리프 노드를 생성하려는 경향이 있습니다.\r\n",
    "그러나 max_leaf_nodes를 설정함으로써 트리의 성장을 제한할 수 있습니다.\r\n",
    "max_leaf_nodes를 지정하면 트리는 해당 개수 이상의 리프 노드를 생성하지 않습니다.\r\n",
    "이를 통해 과적합을 방지하고, 일반화 능력을 향상시킬 수 있습니다.\n",
    "\n",
    "\r\n",
    "작은 max_leaf_nodes 값은 모델의 단순성을 증가시키고 편향을 높일 수 있습니다. \r\n",
    "min_impurity_decrease: 노드를 분할하기 위한 최소한의 불순도 감소량.(float, default=0.0)\r\n",
    "\r\n",
    "노드의 분할은 해당 분할이 전체 트리의 불순도를 감소시키는지 여부에 따라 결정\r\n",
    "min_impurity_decrease는 불순도 감소량이 이 값보다 크거나 같을 때 분할이 이루어져야 함을 의미.\r\n",
    "즉, 분할이 불순도 감소량이 충분히 크지 않으면 노드는 더 이상 분할되지 않고 잎 노드로 유지.\r\n",
    "값을 작게 설정하면 노드의 분할이 더 \n",
    "\n",
    "자주 일어남.(양수로 지정) 모델의 복잡도 증가\r\n",
    "값이 크게 설정하면 노드의 분할이 덜 발생. 제약이 강해짐\r\n",
    "n_jobs: 모델 학습 및 예측에 사용되는 병렬 작업의 수(int, default=None)\r\n",
    "\r\n",
    "랜덤 포레스트는 결정 트리의 앙상블로 구성되어 있으며, 각각의 결정 트리는 독립적으로 학습 및 예측이 가능합니다.\r\n",
    "이러한 특성을 활용하여 n_jobs 파라미터를 설정함으로써 병렬 처리를 통해 모델의 학습 및 예측 속도를 향상시킬 수 있습니다.\r\n",
    "\r\n",
    "파라미터:\n",
    "\n",
    "\r\n",
    "1: 모든 가능한 프로세서를 사용하여 병렬 처리합니다.\r\n",
    "양의 정수: 지정된 수의 프로세서를 사용하여 병렬 처리합니다.\r\n",
    "bootstrap: 부\n",
    "트스트래핑은 중복을 허용하여 샘플을 랜덤 하게 선택하는 방식, 모델의 다양성을 증가. (bool, default=True)\r\n",
    "\r\n",
    "random_state: 랜덤 시드를 지정하는 파\n",
    "라미터로, 재현성을 위해 사용됩니다.\r\n",
    "동일한 시드 값을 사용하면 같은 결과를 얻을 수 있음.(int, default=None)\r\n",
    "\r\n",
    "verbose: 학습과 예측 시에 출력되는 정보의 상세도를 제어\r\n",
    "verbose=0: 출력이 비활성화되어 가장 적은 양의 정보만 표시.\r\n",
    "verbose=1: 학습 및 예측 과정에서 진행 상황 메시지 표시. 진행 상황을 모니터링하고 싶을 때 유용."
   ]
  },
  {
   "cell_type": "markdown",
   "id": "ef16c610-016f-49b6-89bd-3f120c815e08",
   "metadata": {},
   "source": [
    "## 단순 학습(724.3108531102 점)"
   ]
  },
  {
   "cell_type": "code",
   "execution_count": 8,
   "id": "3acdb85f-3442-4aac-ad34-536dbed9a3f6",
   "metadata": {},
   "outputs": [],
   "source": [
    "from sklearn.ensemble import RandomForestRegressor\n",
    "from sklearn.model_selection import cross_val_score\n",
    "# import pandas as pd\n",
    "# import numpy as np\n",
    "from sklearn.model_selection import GridSearchCV\n",
    "from sklearn.model_selection import train_test_split\n",
    "from sklearn.metrics import mean_squared_error\n",
    "import math"
   ]
  },
  {
   "cell_type": "code",
   "execution_count": 10,
   "id": "49f9db3f-3adf-469e-85b5-5f83e010d282",
   "metadata": {},
   "outputs": [
    {
     "data": {
      "text/html": [
       "<style>#sk-container-id-1 {color: black;}#sk-container-id-1 pre{padding: 0;}#sk-container-id-1 div.sk-toggleable {background-color: white;}#sk-container-id-1 label.sk-toggleable__label {cursor: pointer;display: block;width: 100%;margin-bottom: 0;padding: 0.3em;box-sizing: border-box;text-align: center;}#sk-container-id-1 label.sk-toggleable__label-arrow:before {content: \"▸\";float: left;margin-right: 0.25em;color: #696969;}#sk-container-id-1 label.sk-toggleable__label-arrow:hover:before {color: black;}#sk-container-id-1 div.sk-estimator:hover label.sk-toggleable__label-arrow:before {color: black;}#sk-container-id-1 div.sk-toggleable__content {max-height: 0;max-width: 0;overflow: hidden;text-align: left;background-color: #f0f8ff;}#sk-container-id-1 div.sk-toggleable__content pre {margin: 0.2em;color: black;border-radius: 0.25em;background-color: #f0f8ff;}#sk-container-id-1 input.sk-toggleable__control:checked~div.sk-toggleable__content {max-height: 200px;max-width: 100%;overflow: auto;}#sk-container-id-1 input.sk-toggleable__control:checked~label.sk-toggleable__label-arrow:before {content: \"▾\";}#sk-container-id-1 div.sk-estimator input.sk-toggleable__control:checked~label.sk-toggleable__label {background-color: #d4ebff;}#sk-container-id-1 div.sk-label input.sk-toggleable__control:checked~label.sk-toggleable__label {background-color: #d4ebff;}#sk-container-id-1 input.sk-hidden--visually {border: 0;clip: rect(1px 1px 1px 1px);clip: rect(1px, 1px, 1px, 1px);height: 1px;margin: -1px;overflow: hidden;padding: 0;position: absolute;width: 1px;}#sk-container-id-1 div.sk-estimator {font-family: monospace;background-color: #f0f8ff;border: 1px dotted black;border-radius: 0.25em;box-sizing: border-box;margin-bottom: 0.5em;}#sk-container-id-1 div.sk-estimator:hover {background-color: #d4ebff;}#sk-container-id-1 div.sk-parallel-item::after {content: \"\";width: 100%;border-bottom: 1px solid gray;flex-grow: 1;}#sk-container-id-1 div.sk-label:hover label.sk-toggleable__label {background-color: #d4ebff;}#sk-container-id-1 div.sk-serial::before {content: \"\";position: absolute;border-left: 1px solid gray;box-sizing: border-box;top: 0;bottom: 0;left: 50%;z-index: 0;}#sk-container-id-1 div.sk-serial {display: flex;flex-direction: column;align-items: center;background-color: white;padding-right: 0.2em;padding-left: 0.2em;position: relative;}#sk-container-id-1 div.sk-item {position: relative;z-index: 1;}#sk-container-id-1 div.sk-parallel {display: flex;align-items: stretch;justify-content: center;background-color: white;position: relative;}#sk-container-id-1 div.sk-item::before, #sk-container-id-1 div.sk-parallel-item::before {content: \"\";position: absolute;border-left: 1px solid gray;box-sizing: border-box;top: 0;bottom: 0;left: 50%;z-index: -1;}#sk-container-id-1 div.sk-parallel-item {display: flex;flex-direction: column;z-index: 1;position: relative;background-color: white;}#sk-container-id-1 div.sk-parallel-item:first-child::after {align-self: flex-end;width: 50%;}#sk-container-id-1 div.sk-parallel-item:last-child::after {align-self: flex-start;width: 50%;}#sk-container-id-1 div.sk-parallel-item:only-child::after {width: 0;}#sk-container-id-1 div.sk-dashed-wrapped {border: 1px dashed gray;margin: 0 0.4em 0.5em 0.4em;box-sizing: border-box;padding-bottom: 0.4em;background-color: white;}#sk-container-id-1 div.sk-label label {font-family: monospace;font-weight: bold;display: inline-block;line-height: 1.2em;}#sk-container-id-1 div.sk-label-container {text-align: center;}#sk-container-id-1 div.sk-container {/* jupyter's `normalize.less` sets `[hidden] { display: none; }` but bootstrap.min.css set `[hidden] { display: none !important; }` so we also need the `!important` here to be able to override the default hidden behavior on the sphinx rendered scikit-learn.org. See: https://github.com/scikit-learn/scikit-learn/issues/21755 */display: inline-block !important;position: relative;}#sk-container-id-1 div.sk-text-repr-fallback {display: none;}</style><div id=\"sk-container-id-1\" class=\"sk-top-container\"><div class=\"sk-text-repr-fallback\"><pre>RandomForestRegressor()</pre><b>In a Jupyter environment, please rerun this cell to show the HTML representation or trust the notebook. <br />On GitHub, the HTML representation is unable to render, please try loading this page with nbviewer.org.</b></div><div class=\"sk-container\" hidden><div class=\"sk-item\"><div class=\"sk-estimator sk-toggleable\"><input class=\"sk-toggleable__control sk-hidden--visually\" id=\"sk-estimator-id-1\" type=\"checkbox\" checked><label for=\"sk-estimator-id-1\" class=\"sk-toggleable__label sk-toggleable__label-arrow\">RandomForestRegressor</label><div class=\"sk-toggleable__content\"><pre>RandomForestRegressor()</pre></div></div></div></div></div>"
      ],
      "text/plain": [
       "RandomForestRegressor()"
      ]
     },
     "execution_count": 10,
     "metadata": {},
     "output_type": "execute_result"
    }
   ],
   "source": [
    "model_RFR = RandomForestRegressor()\n",
    "model_RFR.fit(train_x, train_y) "
   ]
  },
  {
   "cell_type": "code",
   "execution_count": 11,
   "id": "d8ebabe7-7be2-444a-8b9d-7e232d17bce4",
   "metadata": {},
   "outputs": [],
   "source": [
    "preds_RFR = model_RFR.predict(test)"
   ]
  },
  {
   "cell_type": "code",
   "execution_count": 43,
   "id": "8af437fd-6750-44ac-aa26-6332c3c30bea",
   "metadata": {},
   "outputs": [
    {
     "data": {
      "text/html": [
       "<div>\n",
       "<style scoped>\n",
       "    .dataframe tbody tr th:only-of-type {\n",
       "        vertical-align: middle;\n",
       "    }\n",
       "\n",
       "    .dataframe tbody tr th {\n",
       "        vertical-align: top;\n",
       "    }\n",
       "\n",
       "    .dataframe thead th {\n",
       "        text-align: right;\n",
       "    }\n",
       "</style>\n",
       "<table border=\"1\" class=\"dataframe\">\n",
       "  <thead>\n",
       "    <tr style=\"text-align: right;\">\n",
       "      <th></th>\n",
       "      <th>ID</th>\n",
       "      <th>Income</th>\n",
       "    </tr>\n",
       "  </thead>\n",
       "  <tbody>\n",
       "    <tr>\n",
       "      <th>0</th>\n",
       "      <td>TEST_0000</td>\n",
       "      <td>0.000000</td>\n",
       "    </tr>\n",
       "    <tr>\n",
       "      <th>1</th>\n",
       "      <td>TEST_0001</td>\n",
       "      <td>0.000000</td>\n",
       "    </tr>\n",
       "    <tr>\n",
       "      <th>2</th>\n",
       "      <td>TEST_0002</td>\n",
       "      <td>18.820825</td>\n",
       "    </tr>\n",
       "    <tr>\n",
       "      <th>3</th>\n",
       "      <td>TEST_0003</td>\n",
       "      <td>132.460812</td>\n",
       "    </tr>\n",
       "    <tr>\n",
       "      <th>4</th>\n",
       "      <td>TEST_0004</td>\n",
       "      <td>0.000000</td>\n",
       "    </tr>\n",
       "    <tr>\n",
       "      <th>...</th>\n",
       "      <td>...</td>\n",
       "      <td>...</td>\n",
       "    </tr>\n",
       "    <tr>\n",
       "      <th>9995</th>\n",
       "      <td>TEST_9995</td>\n",
       "      <td>136.067767</td>\n",
       "    </tr>\n",
       "    <tr>\n",
       "      <th>9996</th>\n",
       "      <td>TEST_9996</td>\n",
       "      <td>189.024963</td>\n",
       "    </tr>\n",
       "    <tr>\n",
       "      <th>9997</th>\n",
       "      <td>TEST_9997</td>\n",
       "      <td>423.831116</td>\n",
       "    </tr>\n",
       "    <tr>\n",
       "      <th>9998</th>\n",
       "      <td>TEST_9998</td>\n",
       "      <td>0.000000</td>\n",
       "    </tr>\n",
       "    <tr>\n",
       "      <th>9999</th>\n",
       "      <td>TEST_9999</td>\n",
       "      <td>437.469899</td>\n",
       "    </tr>\n",
       "  </tbody>\n",
       "</table>\n",
       "<p>10000 rows × 2 columns</p>\n",
       "</div>"
      ],
      "text/plain": [
       "             ID      Income\n",
       "0     TEST_0000    0.000000\n",
       "1     TEST_0001    0.000000\n",
       "2     TEST_0002   18.820825\n",
       "3     TEST_0003  132.460812\n",
       "4     TEST_0004    0.000000\n",
       "...         ...         ...\n",
       "9995  TEST_9995  136.067767\n",
       "9996  TEST_9996  189.024963\n",
       "9997  TEST_9997  423.831116\n",
       "9998  TEST_9998    0.000000\n",
       "9999  TEST_9999  437.469899\n",
       "\n",
       "[10000 rows x 2 columns]"
      ]
     },
     "execution_count": 43,
     "metadata": {},
     "output_type": "execute_result"
    }
   ],
   "source": [
    "submission = pd.read_csv('C:\\\\Users\\\\82102\\\\Desktop\\\\Machine_Learning\\\\DACON_materials\\\\Income_Prediction\\\\sample_submission.csv')\n",
    "submission['Income'] = np.exp(preds_RFR) - 1\n",
    "submission"
   ]
  },
  {
   "cell_type": "code",
   "execution_count": 44,
   "id": "4a543c24-8173-4250-b2cf-087953674e5b",
   "metadata": {},
   "outputs": [],
   "source": [
    "submission.to_csv('./submission1_2.csv', index=False)"
   ]
  },
  {
   "cell_type": "markdown",
   "id": "1a894dd1-95f2-4c1c-9736-be4a76314ef1",
   "metadata": {},
   "source": [
    "## Grid Search로 Hyperparameter 튜닝 (723.6610998502 점)"
   ]
  },
  {
   "cell_type": "code",
   "execution_count": 18,
   "id": "29047316-19b5-4d39-b0a2-9ab3f228e467",
   "metadata": {},
   "outputs": [
    {
     "name": "stdout",
     "output_type": "stream",
     "text": [
      "Fitting 3 folds for each of 81 candidates, totalling 243 fits\n"
     ]
    },
    {
     "name": "stderr",
     "output_type": "stream",
     "text": [
      "C:\\Users\\82102\\anaconda3\\envs\\MLpy310\\lib\\site-packages\\sklearn\\model_selection\\_search.py:976: UserWarning: One or more of the test scores are non-finite: [nan nan nan nan nan nan nan nan nan nan nan nan nan nan nan nan nan nan\n",
      " nan nan nan nan nan nan nan nan nan nan nan nan nan nan nan nan nan nan\n",
      " nan nan nan nan nan nan nan nan nan nan nan nan nan nan nan nan nan nan\n",
      " nan nan nan nan nan nan nan nan nan nan nan nan nan nan nan nan nan nan\n",
      " nan nan nan nan nan nan nan nan nan]\n",
      "  warnings.warn(\n"
     ]
    },
    {
     "data": {
      "text/html": [
       "<style>#sk-container-id-2 {color: black;}#sk-container-id-2 pre{padding: 0;}#sk-container-id-2 div.sk-toggleable {background-color: white;}#sk-container-id-2 label.sk-toggleable__label {cursor: pointer;display: block;width: 100%;margin-bottom: 0;padding: 0.3em;box-sizing: border-box;text-align: center;}#sk-container-id-2 label.sk-toggleable__label-arrow:before {content: \"▸\";float: left;margin-right: 0.25em;color: #696969;}#sk-container-id-2 label.sk-toggleable__label-arrow:hover:before {color: black;}#sk-container-id-2 div.sk-estimator:hover label.sk-toggleable__label-arrow:before {color: black;}#sk-container-id-2 div.sk-toggleable__content {max-height: 0;max-width: 0;overflow: hidden;text-align: left;background-color: #f0f8ff;}#sk-container-id-2 div.sk-toggleable__content pre {margin: 0.2em;color: black;border-radius: 0.25em;background-color: #f0f8ff;}#sk-container-id-2 input.sk-toggleable__control:checked~div.sk-toggleable__content {max-height: 200px;max-width: 100%;overflow: auto;}#sk-container-id-2 input.sk-toggleable__control:checked~label.sk-toggleable__label-arrow:before {content: \"▾\";}#sk-container-id-2 div.sk-estimator input.sk-toggleable__control:checked~label.sk-toggleable__label {background-color: #d4ebff;}#sk-container-id-2 div.sk-label input.sk-toggleable__control:checked~label.sk-toggleable__label {background-color: #d4ebff;}#sk-container-id-2 input.sk-hidden--visually {border: 0;clip: rect(1px 1px 1px 1px);clip: rect(1px, 1px, 1px, 1px);height: 1px;margin: -1px;overflow: hidden;padding: 0;position: absolute;width: 1px;}#sk-container-id-2 div.sk-estimator {font-family: monospace;background-color: #f0f8ff;border: 1px dotted black;border-radius: 0.25em;box-sizing: border-box;margin-bottom: 0.5em;}#sk-container-id-2 div.sk-estimator:hover {background-color: #d4ebff;}#sk-container-id-2 div.sk-parallel-item::after {content: \"\";width: 100%;border-bottom: 1px solid gray;flex-grow: 1;}#sk-container-id-2 div.sk-label:hover label.sk-toggleable__label {background-color: #d4ebff;}#sk-container-id-2 div.sk-serial::before {content: \"\";position: absolute;border-left: 1px solid gray;box-sizing: border-box;top: 0;bottom: 0;left: 50%;z-index: 0;}#sk-container-id-2 div.sk-serial {display: flex;flex-direction: column;align-items: center;background-color: white;padding-right: 0.2em;padding-left: 0.2em;position: relative;}#sk-container-id-2 div.sk-item {position: relative;z-index: 1;}#sk-container-id-2 div.sk-parallel {display: flex;align-items: stretch;justify-content: center;background-color: white;position: relative;}#sk-container-id-2 div.sk-item::before, #sk-container-id-2 div.sk-parallel-item::before {content: \"\";position: absolute;border-left: 1px solid gray;box-sizing: border-box;top: 0;bottom: 0;left: 50%;z-index: -1;}#sk-container-id-2 div.sk-parallel-item {display: flex;flex-direction: column;z-index: 1;position: relative;background-color: white;}#sk-container-id-2 div.sk-parallel-item:first-child::after {align-self: flex-end;width: 50%;}#sk-container-id-2 div.sk-parallel-item:last-child::after {align-self: flex-start;width: 50%;}#sk-container-id-2 div.sk-parallel-item:only-child::after {width: 0;}#sk-container-id-2 div.sk-dashed-wrapped {border: 1px dashed gray;margin: 0 0.4em 0.5em 0.4em;box-sizing: border-box;padding-bottom: 0.4em;background-color: white;}#sk-container-id-2 div.sk-label label {font-family: monospace;font-weight: bold;display: inline-block;line-height: 1.2em;}#sk-container-id-2 div.sk-label-container {text-align: center;}#sk-container-id-2 div.sk-container {/* jupyter's `normalize.less` sets `[hidden] { display: none; }` but bootstrap.min.css set `[hidden] { display: none !important; }` so we also need the `!important` here to be able to override the default hidden behavior on the sphinx rendered scikit-learn.org. See: https://github.com/scikit-learn/scikit-learn/issues/21755 */display: inline-block !important;position: relative;}#sk-container-id-2 div.sk-text-repr-fallback {display: none;}</style><div id=\"sk-container-id-2\" class=\"sk-top-container\"><div class=\"sk-text-repr-fallback\"><pre>GridSearchCV(cv=3, estimator=RandomForestRegressor(random_state=42), n_jobs=-1,\n",
       "             param_grid={&#x27;max_features&#x27;: [1.0, &#x27;sqrt&#x27;, &#x27;log2&#x27;],\n",
       "                         &#x27;min_samples_leaf&#x27;: [1, 4, 7],\n",
       "                         &#x27;min_samples_split&#x27;: [2, 5, 10],\n",
       "                         &#x27;n_estimators&#x27;: [10, 50, 500]},\n",
       "             scoring=&#x27;roc_auc&#x27;, verbose=2)</pre><b>In a Jupyter environment, please rerun this cell to show the HTML representation or trust the notebook. <br />On GitHub, the HTML representation is unable to render, please try loading this page with nbviewer.org.</b></div><div class=\"sk-container\" hidden><div class=\"sk-item sk-dashed-wrapped\"><div class=\"sk-label-container\"><div class=\"sk-label sk-toggleable\"><input class=\"sk-toggleable__control sk-hidden--visually\" id=\"sk-estimator-id-2\" type=\"checkbox\" ><label for=\"sk-estimator-id-2\" class=\"sk-toggleable__label sk-toggleable__label-arrow\">GridSearchCV</label><div class=\"sk-toggleable__content\"><pre>GridSearchCV(cv=3, estimator=RandomForestRegressor(random_state=42), n_jobs=-1,\n",
       "             param_grid={&#x27;max_features&#x27;: [1.0, &#x27;sqrt&#x27;, &#x27;log2&#x27;],\n",
       "                         &#x27;min_samples_leaf&#x27;: [1, 4, 7],\n",
       "                         &#x27;min_samples_split&#x27;: [2, 5, 10],\n",
       "                         &#x27;n_estimators&#x27;: [10, 50, 500]},\n",
       "             scoring=&#x27;roc_auc&#x27;, verbose=2)</pre></div></div></div><div class=\"sk-parallel\"><div class=\"sk-parallel-item\"><div class=\"sk-item\"><div class=\"sk-label-container\"><div class=\"sk-label sk-toggleable\"><input class=\"sk-toggleable__control sk-hidden--visually\" id=\"sk-estimator-id-3\" type=\"checkbox\" ><label for=\"sk-estimator-id-3\" class=\"sk-toggleable__label sk-toggleable__label-arrow\">estimator: RandomForestRegressor</label><div class=\"sk-toggleable__content\"><pre>RandomForestRegressor(random_state=42)</pre></div></div></div><div class=\"sk-serial\"><div class=\"sk-item\"><div class=\"sk-estimator sk-toggleable\"><input class=\"sk-toggleable__control sk-hidden--visually\" id=\"sk-estimator-id-4\" type=\"checkbox\" ><label for=\"sk-estimator-id-4\" class=\"sk-toggleable__label sk-toggleable__label-arrow\">RandomForestRegressor</label><div class=\"sk-toggleable__content\"><pre>RandomForestRegressor(random_state=42)</pre></div></div></div></div></div></div></div></div></div></div>"
      ],
      "text/plain": [
       "GridSearchCV(cv=3, estimator=RandomForestRegressor(random_state=42), n_jobs=-1,\n",
       "             param_grid={'max_features': [1.0, 'sqrt', 'log2'],\n",
       "                         'min_samples_leaf': [1, 4, 7],\n",
       "                         'min_samples_split': [2, 5, 10],\n",
       "                         'n_estimators': [10, 50, 500]},\n",
       "             scoring='roc_auc', verbose=2)"
      ]
     },
     "execution_count": 18,
     "metadata": {},
     "output_type": "execute_result"
    }
   ],
   "source": [
    "# GridSearchCV를 위한 하이퍼파라미터 설정\n",
    "param_search_space = {'n_estimators': [10, 50, 500],\n",
    "                      'min_samples_split': [2, 5, 10],\n",
    "                      'min_samples_leaf': [1, 4, 7],\n",
    "                      'max_features': [1.0, 'sqrt','log2'], \n",
    "                      #'max_leaf_nodes': [None, 5, 300, 1000], \n",
    "                      #'bootstrap': [True, False]\n",
    "                     }\n",
    "\n",
    "# RandomForestClassifier 객체 생성\n",
    "rf = RandomForestRegressor(random_state=42)\n",
    "\n",
    "# GridSearchCV 객체 생성\n",
    "grid_search = GridSearchCV(estimator=rf, param_grid=param_search_space, cv=3, n_jobs=-1, verbose=2, scoring='roc_auc')\n",
    "\n",
    "# GridSearchCV를 사용한 학습\n",
    "grid_search.fit(train_x, train_y)"
   ]
  },
  {
   "cell_type": "code",
   "execution_count": 19,
   "id": "f28dd4ec-96ba-4591-9a8c-869cb54f3950",
   "metadata": {},
   "outputs": [],
   "source": [
    "# 최적의 파라미터와 최고 점수 출력\n",
    "best_params_Grd = grid_search.best_params_\n",
    "best_score_Grd = grid_search.best_score_"
   ]
  },
  {
   "cell_type": "code",
   "execution_count": 20,
   "id": "90e874d3-2f70-4bcf-bb27-0ae5c7dc652e",
   "metadata": {},
   "outputs": [
    {
     "data": {
      "text/plain": [
       "({'max_features': 1.0,\n",
       "  'min_samples_leaf': 1,\n",
       "  'min_samples_split': 2,\n",
       "  'n_estimators': 10},\n",
       " nan)"
      ]
     },
     "execution_count": 20,
     "metadata": {},
     "output_type": "execute_result"
    }
   ],
   "source": [
    "best_params_Grd, best_score_Grd"
   ]
  },
  {
   "cell_type": "code",
   "execution_count": 21,
   "id": "426fd022-65aa-4525-b40e-46fa6bdacc70",
   "metadata": {},
   "outputs": [],
   "source": [
    "preds_RFR_GS = grid_search.predict(test)"
   ]
  },
  {
   "cell_type": "code",
   "execution_count": 22,
   "id": "d169e250-0f32-45fc-8de7-a891cb9b3654",
   "metadata": {},
   "outputs": [
    {
     "data": {
      "text/html": [
       "<div>\n",
       "<style scoped>\n",
       "    .dataframe tbody tr th:only-of-type {\n",
       "        vertical-align: middle;\n",
       "    }\n",
       "\n",
       "    .dataframe tbody tr th {\n",
       "        vertical-align: top;\n",
       "    }\n",
       "\n",
       "    .dataframe thead th {\n",
       "        text-align: right;\n",
       "    }\n",
       "</style>\n",
       "<table border=\"1\" class=\"dataframe\">\n",
       "  <thead>\n",
       "    <tr style=\"text-align: right;\">\n",
       "      <th></th>\n",
       "      <th>ID</th>\n",
       "      <th>Income</th>\n",
       "    </tr>\n",
       "  </thead>\n",
       "  <tbody>\n",
       "    <tr>\n",
       "      <th>0</th>\n",
       "      <td>TEST_0000</td>\n",
       "      <td>0.000000</td>\n",
       "    </tr>\n",
       "    <tr>\n",
       "      <th>1</th>\n",
       "      <td>TEST_0001</td>\n",
       "      <td>0.000000</td>\n",
       "    </tr>\n",
       "    <tr>\n",
       "      <th>2</th>\n",
       "      <td>TEST_0002</td>\n",
       "      <td>41.730686</td>\n",
       "    </tr>\n",
       "    <tr>\n",
       "      <th>3</th>\n",
       "      <td>TEST_0003</td>\n",
       "      <td>397.280599</td>\n",
       "    </tr>\n",
       "    <tr>\n",
       "      <th>4</th>\n",
       "      <td>TEST_0004</td>\n",
       "      <td>0.000000</td>\n",
       "    </tr>\n",
       "    <tr>\n",
       "      <th>...</th>\n",
       "      <td>...</td>\n",
       "      <td>...</td>\n",
       "    </tr>\n",
       "    <tr>\n",
       "      <th>9995</th>\n",
       "      <td>TEST_9995</td>\n",
       "      <td>6.790982</td>\n",
       "    </tr>\n",
       "    <tr>\n",
       "      <th>9996</th>\n",
       "      <td>TEST_9996</td>\n",
       "      <td>525.767575</td>\n",
       "    </tr>\n",
       "    <tr>\n",
       "      <th>9997</th>\n",
       "      <td>TEST_9997</td>\n",
       "      <td>369.967457</td>\n",
       "    </tr>\n",
       "    <tr>\n",
       "      <th>9998</th>\n",
       "      <td>TEST_9998</td>\n",
       "      <td>0.000000</td>\n",
       "    </tr>\n",
       "    <tr>\n",
       "      <th>9999</th>\n",
       "      <td>TEST_9999</td>\n",
       "      <td>754.142604</td>\n",
       "    </tr>\n",
       "  </tbody>\n",
       "</table>\n",
       "<p>10000 rows × 2 columns</p>\n",
       "</div>"
      ],
      "text/plain": [
       "             ID      Income\n",
       "0     TEST_0000    0.000000\n",
       "1     TEST_0001    0.000000\n",
       "2     TEST_0002   41.730686\n",
       "3     TEST_0003  397.280599\n",
       "4     TEST_0004    0.000000\n",
       "...         ...         ...\n",
       "9995  TEST_9995    6.790982\n",
       "9996  TEST_9996  525.767575\n",
       "9997  TEST_9997  369.967457\n",
       "9998  TEST_9998    0.000000\n",
       "9999  TEST_9999  754.142604\n",
       "\n",
       "[10000 rows x 2 columns]"
      ]
     },
     "execution_count": 22,
     "metadata": {},
     "output_type": "execute_result"
    }
   ],
   "source": [
    "submission = pd.read_csv('C:\\\\Users\\\\82102\\\\Desktop\\\\Machine_Learning\\\\DACON_materials\\\\Income_Prediction\\\\sample_submission.csv')\n",
    "submission['Income'] = np.exp(preds_RFR_GS) - 1\n",
    "submission"
   ]
  },
  {
   "cell_type": "code",
   "execution_count": 23,
   "id": "bc8321fc-ab27-452c-908a-a92a67ab97d5",
   "metadata": {},
   "outputs": [],
   "source": [
    "submission.to_csv('./submission1_3.csv', index=False)"
   ]
  },
  {
   "cell_type": "markdown",
   "id": "3d3d561c-12aa-4493-befd-720f2abebfdb",
   "metadata": {},
   "source": [
    "### 한 번 더"
   ]
  },
  {
   "cell_type": "code",
   "execution_count": 25,
   "id": "62a491c3-af06-4877-ae6a-193d7ef5ec6e",
   "metadata": {},
   "outputs": [
    {
     "name": "stdout",
     "output_type": "stream",
     "text": [
      "Fitting 5 folds for each of 96 candidates, totalling 480 fits\n"
     ]
    },
    {
     "name": "stderr",
     "output_type": "stream",
     "text": [
      "C:\\Users\\82102\\anaconda3\\envs\\MLpy310\\lib\\site-packages\\sklearn\\model_selection\\_search.py:976: UserWarning: One or more of the test scores are non-finite: [nan nan nan nan nan nan nan nan nan nan nan nan nan nan nan nan nan nan\n",
      " nan nan nan nan nan nan nan nan nan nan nan nan nan nan nan nan nan nan\n",
      " nan nan nan nan nan nan nan nan nan nan nan nan nan nan nan nan nan nan\n",
      " nan nan nan nan nan nan nan nan nan nan nan nan nan nan nan nan nan nan\n",
      " nan nan nan nan nan nan nan nan nan nan nan nan nan nan nan nan nan nan\n",
      " nan nan nan nan nan nan]\n",
      "  warnings.warn(\n"
     ]
    },
    {
     "data": {
      "text/html": [
       "<style>#sk-container-id-3 {color: black;}#sk-container-id-3 pre{padding: 0;}#sk-container-id-3 div.sk-toggleable {background-color: white;}#sk-container-id-3 label.sk-toggleable__label {cursor: pointer;display: block;width: 100%;margin-bottom: 0;padding: 0.3em;box-sizing: border-box;text-align: center;}#sk-container-id-3 label.sk-toggleable__label-arrow:before {content: \"▸\";float: left;margin-right: 0.25em;color: #696969;}#sk-container-id-3 label.sk-toggleable__label-arrow:hover:before {color: black;}#sk-container-id-3 div.sk-estimator:hover label.sk-toggleable__label-arrow:before {color: black;}#sk-container-id-3 div.sk-toggleable__content {max-height: 0;max-width: 0;overflow: hidden;text-align: left;background-color: #f0f8ff;}#sk-container-id-3 div.sk-toggleable__content pre {margin: 0.2em;color: black;border-radius: 0.25em;background-color: #f0f8ff;}#sk-container-id-3 input.sk-toggleable__control:checked~div.sk-toggleable__content {max-height: 200px;max-width: 100%;overflow: auto;}#sk-container-id-3 input.sk-toggleable__control:checked~label.sk-toggleable__label-arrow:before {content: \"▾\";}#sk-container-id-3 div.sk-estimator input.sk-toggleable__control:checked~label.sk-toggleable__label {background-color: #d4ebff;}#sk-container-id-3 div.sk-label input.sk-toggleable__control:checked~label.sk-toggleable__label {background-color: #d4ebff;}#sk-container-id-3 input.sk-hidden--visually {border: 0;clip: rect(1px 1px 1px 1px);clip: rect(1px, 1px, 1px, 1px);height: 1px;margin: -1px;overflow: hidden;padding: 0;position: absolute;width: 1px;}#sk-container-id-3 div.sk-estimator {font-family: monospace;background-color: #f0f8ff;border: 1px dotted black;border-radius: 0.25em;box-sizing: border-box;margin-bottom: 0.5em;}#sk-container-id-3 div.sk-estimator:hover {background-color: #d4ebff;}#sk-container-id-3 div.sk-parallel-item::after {content: \"\";width: 100%;border-bottom: 1px solid gray;flex-grow: 1;}#sk-container-id-3 div.sk-label:hover label.sk-toggleable__label {background-color: #d4ebff;}#sk-container-id-3 div.sk-serial::before {content: \"\";position: absolute;border-left: 1px solid gray;box-sizing: border-box;top: 0;bottom: 0;left: 50%;z-index: 0;}#sk-container-id-3 div.sk-serial {display: flex;flex-direction: column;align-items: center;background-color: white;padding-right: 0.2em;padding-left: 0.2em;position: relative;}#sk-container-id-3 div.sk-item {position: relative;z-index: 1;}#sk-container-id-3 div.sk-parallel {display: flex;align-items: stretch;justify-content: center;background-color: white;position: relative;}#sk-container-id-3 div.sk-item::before, #sk-container-id-3 div.sk-parallel-item::before {content: \"\";position: absolute;border-left: 1px solid gray;box-sizing: border-box;top: 0;bottom: 0;left: 50%;z-index: -1;}#sk-container-id-3 div.sk-parallel-item {display: flex;flex-direction: column;z-index: 1;position: relative;background-color: white;}#sk-container-id-3 div.sk-parallel-item:first-child::after {align-self: flex-end;width: 50%;}#sk-container-id-3 div.sk-parallel-item:last-child::after {align-self: flex-start;width: 50%;}#sk-container-id-3 div.sk-parallel-item:only-child::after {width: 0;}#sk-container-id-3 div.sk-dashed-wrapped {border: 1px dashed gray;margin: 0 0.4em 0.5em 0.4em;box-sizing: border-box;padding-bottom: 0.4em;background-color: white;}#sk-container-id-3 div.sk-label label {font-family: monospace;font-weight: bold;display: inline-block;line-height: 1.2em;}#sk-container-id-3 div.sk-label-container {text-align: center;}#sk-container-id-3 div.sk-container {/* jupyter's `normalize.less` sets `[hidden] { display: none; }` but bootstrap.min.css set `[hidden] { display: none !important; }` so we also need the `!important` here to be able to override the default hidden behavior on the sphinx rendered scikit-learn.org. See: https://github.com/scikit-learn/scikit-learn/issues/21755 */display: inline-block !important;position: relative;}#sk-container-id-3 div.sk-text-repr-fallback {display: none;}</style><div id=\"sk-container-id-3\" class=\"sk-top-container\"><div class=\"sk-text-repr-fallback\"><pre>GridSearchCV(cv=5, estimator=RandomForestRegressor(random_state=42), n_jobs=-1,\n",
       "             param_grid={&#x27;bootstrap&#x27;: [True, False],\n",
       "                         &#x27;criterion&#x27;: [&#x27;squared_error&#x27;, &#x27;absolute_error&#x27;,\n",
       "                                       &#x27;friedman_mse&#x27;, &#x27;poisson&#x27;],\n",
       "                         &#x27;max_leaf_nodes&#x27;: [None, 5, 300, 1000],\n",
       "                         &#x27;n_estimators&#x27;: [20, 50, 100]},\n",
       "             scoring=&#x27;roc_auc&#x27;, verbose=1)</pre><b>In a Jupyter environment, please rerun this cell to show the HTML representation or trust the notebook. <br />On GitHub, the HTML representation is unable to render, please try loading this page with nbviewer.org.</b></div><div class=\"sk-container\" hidden><div class=\"sk-item sk-dashed-wrapped\"><div class=\"sk-label-container\"><div class=\"sk-label sk-toggleable\"><input class=\"sk-toggleable__control sk-hidden--visually\" id=\"sk-estimator-id-5\" type=\"checkbox\" ><label for=\"sk-estimator-id-5\" class=\"sk-toggleable__label sk-toggleable__label-arrow\">GridSearchCV</label><div class=\"sk-toggleable__content\"><pre>GridSearchCV(cv=5, estimator=RandomForestRegressor(random_state=42), n_jobs=-1,\n",
       "             param_grid={&#x27;bootstrap&#x27;: [True, False],\n",
       "                         &#x27;criterion&#x27;: [&#x27;squared_error&#x27;, &#x27;absolute_error&#x27;,\n",
       "                                       &#x27;friedman_mse&#x27;, &#x27;poisson&#x27;],\n",
       "                         &#x27;max_leaf_nodes&#x27;: [None, 5, 300, 1000],\n",
       "                         &#x27;n_estimators&#x27;: [20, 50, 100]},\n",
       "             scoring=&#x27;roc_auc&#x27;, verbose=1)</pre></div></div></div><div class=\"sk-parallel\"><div class=\"sk-parallel-item\"><div class=\"sk-item\"><div class=\"sk-label-container\"><div class=\"sk-label sk-toggleable\"><input class=\"sk-toggleable__control sk-hidden--visually\" id=\"sk-estimator-id-6\" type=\"checkbox\" ><label for=\"sk-estimator-id-6\" class=\"sk-toggleable__label sk-toggleable__label-arrow\">estimator: RandomForestRegressor</label><div class=\"sk-toggleable__content\"><pre>RandomForestRegressor(random_state=42)</pre></div></div></div><div class=\"sk-serial\"><div class=\"sk-item\"><div class=\"sk-estimator sk-toggleable\"><input class=\"sk-toggleable__control sk-hidden--visually\" id=\"sk-estimator-id-7\" type=\"checkbox\" ><label for=\"sk-estimator-id-7\" class=\"sk-toggleable__label sk-toggleable__label-arrow\">RandomForestRegressor</label><div class=\"sk-toggleable__content\"><pre>RandomForestRegressor(random_state=42)</pre></div></div></div></div></div></div></div></div></div></div>"
      ],
      "text/plain": [
       "GridSearchCV(cv=5, estimator=RandomForestRegressor(random_state=42), n_jobs=-1,\n",
       "             param_grid={'bootstrap': [True, False],\n",
       "                         'criterion': ['squared_error', 'absolute_error',\n",
       "                                       'friedman_mse', 'poisson'],\n",
       "                         'max_leaf_nodes': [None, 5, 300, 1000],\n",
       "                         'n_estimators': [20, 50, 100]},\n",
       "             scoring='roc_auc', verbose=1)"
      ]
     },
     "execution_count": 25,
     "metadata": {},
     "output_type": "execute_result"
    }
   ],
   "source": [
    "# GridSearchCV를 위한 하이퍼파라미터 설정\n",
    "param_search_space = {'n_estimators': [20, 50, 100],\n",
    "                      'criterion': ['squared_error', 'absolute_error', 'friedman_mse', 'poisson'], \n",
    "                      'max_leaf_nodes': [None, 5, 300, 1000], \n",
    "                      'bootstrap': [True, False]\n",
    "                     }\n",
    "\n",
    "# RandomForestClassifier 객체 생성\n",
    "rf = RandomForestRegressor(random_state=42)\n",
    "\n",
    "# GridSearchCV 객체 생성\n",
    "grid_search = GridSearchCV(estimator=rf, param_grid=param_search_space, cv=5, n_jobs=-1, verbose=1, scoring='roc_auc')\n",
    "\n",
    "# GridSearchCV를 사용한 학습\n",
    "grid_search.fit(train_x, train_y)"
   ]
  },
  {
   "cell_type": "code",
   "execution_count": 26,
   "id": "fb1d1d36-c2bd-4f88-81f5-3d42345ed457",
   "metadata": {},
   "outputs": [],
   "source": [
    "# 최적의 파라미터와 최고 점수 출력\n",
    "best_params_Grd = grid_search.best_params_\n",
    "best_score_Grd = grid_search.best_score_"
   ]
  },
  {
   "cell_type": "code",
   "execution_count": 27,
   "id": "2a4d04e0-6a5f-4665-822f-d6ed73c67878",
   "metadata": {},
   "outputs": [
    {
     "data": {
      "text/plain": [
       "({'bootstrap': True,\n",
       "  'criterion': 'squared_error',\n",
       "  'max_leaf_nodes': None,\n",
       "  'n_estimators': 20},\n",
       " nan)"
      ]
     },
     "execution_count": 27,
     "metadata": {},
     "output_type": "execute_result"
    }
   ],
   "source": [
    "best_params_Grd, best_score_Grd"
   ]
  },
  {
   "cell_type": "code",
   "execution_count": 28,
   "id": "6a7a6299-b1a6-4b00-9153-a0b4bf36743b",
   "metadata": {},
   "outputs": [],
   "source": [
    "preds_RFR_GS_2 = grid_search.predict(test)"
   ]
  },
  {
   "cell_type": "code",
   "execution_count": 29,
   "id": "07327944-410f-4c2f-9abe-9bc57d62281c",
   "metadata": {},
   "outputs": [
    {
     "data": {
      "text/html": [
       "<div>\n",
       "<style scoped>\n",
       "    .dataframe tbody tr th:only-of-type {\n",
       "        vertical-align: middle;\n",
       "    }\n",
       "\n",
       "    .dataframe tbody tr th {\n",
       "        vertical-align: top;\n",
       "    }\n",
       "\n",
       "    .dataframe thead th {\n",
       "        text-align: right;\n",
       "    }\n",
       "</style>\n",
       "<table border=\"1\" class=\"dataframe\">\n",
       "  <thead>\n",
       "    <tr style=\"text-align: right;\">\n",
       "      <th></th>\n",
       "      <th>ID</th>\n",
       "      <th>Income</th>\n",
       "    </tr>\n",
       "  </thead>\n",
       "  <tbody>\n",
       "    <tr>\n",
       "      <th>0</th>\n",
       "      <td>TEST_0000</td>\n",
       "      <td>0.000000</td>\n",
       "    </tr>\n",
       "    <tr>\n",
       "      <th>1</th>\n",
       "      <td>TEST_0001</td>\n",
       "      <td>0.000000</td>\n",
       "    </tr>\n",
       "    <tr>\n",
       "      <th>2</th>\n",
       "      <td>TEST_0002</td>\n",
       "      <td>24.237677</td>\n",
       "    </tr>\n",
       "    <tr>\n",
       "      <th>3</th>\n",
       "      <td>TEST_0003</td>\n",
       "      <td>207.089860</td>\n",
       "    </tr>\n",
       "    <tr>\n",
       "      <th>4</th>\n",
       "      <td>TEST_0004</td>\n",
       "      <td>0.000000</td>\n",
       "    </tr>\n",
       "    <tr>\n",
       "      <th>...</th>\n",
       "      <td>...</td>\n",
       "      <td>...</td>\n",
       "    </tr>\n",
       "    <tr>\n",
       "      <th>9995</th>\n",
       "      <td>TEST_9995</td>\n",
       "      <td>45.698362</td>\n",
       "    </tr>\n",
       "    <tr>\n",
       "      <th>9996</th>\n",
       "      <td>TEST_9996</td>\n",
       "      <td>197.925075</td>\n",
       "    </tr>\n",
       "    <tr>\n",
       "      <th>9997</th>\n",
       "      <td>TEST_9997</td>\n",
       "      <td>405.000102</td>\n",
       "    </tr>\n",
       "    <tr>\n",
       "      <th>9998</th>\n",
       "      <td>TEST_9998</td>\n",
       "      <td>0.000000</td>\n",
       "    </tr>\n",
       "    <tr>\n",
       "      <th>9999</th>\n",
       "      <td>TEST_9999</td>\n",
       "      <td>580.494352</td>\n",
       "    </tr>\n",
       "  </tbody>\n",
       "</table>\n",
       "<p>10000 rows × 2 columns</p>\n",
       "</div>"
      ],
      "text/plain": [
       "             ID      Income\n",
       "0     TEST_0000    0.000000\n",
       "1     TEST_0001    0.000000\n",
       "2     TEST_0002   24.237677\n",
       "3     TEST_0003  207.089860\n",
       "4     TEST_0004    0.000000\n",
       "...         ...         ...\n",
       "9995  TEST_9995   45.698362\n",
       "9996  TEST_9996  197.925075\n",
       "9997  TEST_9997  405.000102\n",
       "9998  TEST_9998    0.000000\n",
       "9999  TEST_9999  580.494352\n",
       "\n",
       "[10000 rows x 2 columns]"
      ]
     },
     "execution_count": 29,
     "metadata": {},
     "output_type": "execute_result"
    }
   ],
   "source": [
    "submission = pd.read_csv('C:\\\\Users\\\\82102\\\\Desktop\\\\Machine_Learning\\\\DACON_materials\\\\Income_Prediction\\\\sample_submission.csv')\n",
    "submission['Income'] = np.exp(preds_RFR_GS_2) - 1\n",
    "submission"
   ]
  },
  {
   "cell_type": "code",
   "execution_count": 30,
   "id": "f4b13b4c-2009-4f43-a37e-da1963a05286",
   "metadata": {},
   "outputs": [],
   "source": [
    "submission.to_csv('./submission1_4.csv', index=False)"
   ]
  },
  {
   "cell_type": "markdown",
   "id": "2d335d39-6384-4af1-a716-2f50d605c5ab",
   "metadata": {},
   "source": [
    "## Random Search로 Hyperparameter 튜닝"
   ]
  },
  {
   "cell_type": "code",
   "execution_count": null,
   "id": "3330c10f-1fcf-49bc-853b-8c94302eb369",
   "metadata": {},
   "outputs": [],
   "source": []
  },
  {
   "cell_type": "markdown",
   "id": "07a666b4-56c0-4a89-ac60-bf7370e7f4cb",
   "metadata": {},
   "source": [
    "# Polynomial Regression"
   ]
  },
  {
   "cell_type": "code",
   "execution_count": null,
   "id": "7b08786f-20d7-4ae7-b736-f507a16b9428",
   "metadata": {},
   "outputs": [],
   "source": [
    "# import pandas as pd\n",
    "# import matplotlib.pyplot as plt\n",
    "from sklearn.preprocessing import PolynomialFeatures\n",
    "from sklearn.linear_model import LinearRegression\n",
    "# import numpy as np"
   ]
  },
  {
   "cell_type": "code",
   "execution_count": null,
   "id": "96217231-c602-4b47-b4cd-01e72db3278c",
   "metadata": {},
   "outputs": [],
   "source": []
  },
  {
   "cell_type": "code",
   "execution_count": null,
   "id": "ddeab513-742a-480a-b0f6-3287f1ef1723",
   "metadata": {},
   "outputs": [],
   "source": []
  },
  {
   "cell_type": "code",
   "execution_count": null,
   "id": "4b559ea3-7b9f-4cec-8cef-63be6458b5c7",
   "metadata": {},
   "outputs": [],
   "source": []
  },
  {
   "cell_type": "code",
   "execution_count": null,
   "id": "fe2ec51d-813f-423c-9340-df6e933d46de",
   "metadata": {},
   "outputs": [],
   "source": []
  },
  {
   "cell_type": "code",
   "execution_count": null,
   "id": "df01c9f1-c253-4ac6-bd07-084798b5b2fd",
   "metadata": {},
   "outputs": [],
   "source": []
  },
  {
   "cell_type": "code",
   "execution_count": null,
   "id": "d5ce5ae0-ed0b-49bc-a59c-580d03deb9bb",
   "metadata": {},
   "outputs": [],
   "source": []
  },
  {
   "cell_type": "code",
   "execution_count": null,
   "id": "14e49308-e2c5-4833-8b97-e537adee7424",
   "metadata": {},
   "outputs": [],
   "source": []
  },
  {
   "cell_type": "code",
   "execution_count": null,
   "id": "579423e5-fc53-475c-94a9-d30cbceec10d",
   "metadata": {},
   "outputs": [],
   "source": []
  },
  {
   "cell_type": "code",
   "execution_count": null,
   "id": "ad82335f-46a6-45f6-8088-9ef532f1a90e",
   "metadata": {},
   "outputs": [],
   "source": []
  },
  {
   "cell_type": "code",
   "execution_count": null,
   "id": "b6f654bd-a37e-49a5-b7dc-c3cf223bf2cb",
   "metadata": {},
   "outputs": [],
   "source": []
  }
 ],
 "metadata": {
  "kernelspec": {
   "display_name": "ML_py3.10.13",
   "language": "python",
   "name": "mlpy310"
  },
  "language_info": {
   "codemirror_mode": {
    "name": "ipython",
    "version": 3
   },
   "file_extension": ".py",
   "mimetype": "text/x-python",
   "name": "python",
   "nbconvert_exporter": "python",
   "pygments_lexer": "ipython3",
   "version": "3.10.13"
  }
 },
 "nbformat": 4,
 "nbformat_minor": 5
}
