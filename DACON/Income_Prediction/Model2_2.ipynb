{
 "cells": [
  {
   "cell_type": "markdown",
   "id": "7ca0f72d-31ac-451b-8dcd-d96e9b8cd52a",
   "metadata": {},
   "source": [
    "# EDA, 전처리(Tree 알고리즘용, Tree에서 점수가 잘나와서 전처리+파라미터 튜닝 시도)"
   ]
  },
  {
   "cell_type": "code",
   "execution_count": 1,
   "id": "300dc1cc-40ca-4a3e-a93c-e9c90e144618",
   "metadata": {},
   "outputs": [],
   "source": [
    "import pandas as pd\n",
    "import matplotlib.pyplot as plt\n",
    "import numpy as np\n",
    "import seaborn as sns\n",
    "\n",
    "from tqdm import tqdm"
   ]
  },
  {
   "cell_type": "code",
   "execution_count": 2,
   "id": "cfe1978d-b405-4208-95f6-7e254f8ff814",
   "metadata": {},
   "outputs": [],
   "source": [
    "train = pd.read_csv('C:\\\\Users\\\\82102\\\\Desktop\\\\Machine_Learning\\\\DACON_materials\\\\Income_Prediction\\\\train.csv')\n",
    "test = pd.read_csv('C:\\\\Users\\\\82102\\\\Desktop\\\\Machine_Learning\\\\DACON_materials\\\\Income_Prediction\\\\test.csv')"
   ]
  },
  {
   "cell_type": "code",
   "execution_count": 3,
   "id": "e32aad51-77bf-47c8-9dd4-2f5c91c7800c",
   "metadata": {},
   "outputs": [],
   "source": [
    "# train_x = train.drop('Income', axis=1)\n",
    "# train_y = train['Income']"
   ]
  },
  {
   "cell_type": "markdown",
   "id": "31464fe2-3d62-437b-8ad3-102c52695784",
   "metadata": {
    "jp-MarkdownHeadingCollapsed": true
   },
   "source": [
    "## 데이터 살펴보기"
   ]
  },
  {
   "cell_type": "code",
   "execution_count": 4,
   "id": "08fbbe0c-010b-469a-8189-c4d681ac58b1",
   "metadata": {},
   "outputs": [
    {
     "data": {
      "text/html": [
       "<div>\n",
       "<style scoped>\n",
       "    .dataframe tbody tr th:only-of-type {\n",
       "        vertical-align: middle;\n",
       "    }\n",
       "\n",
       "    .dataframe tbody tr th {\n",
       "        vertical-align: top;\n",
       "    }\n",
       "\n",
       "    .dataframe thead th {\n",
       "        text-align: right;\n",
       "    }\n",
       "</style>\n",
       "<table border=\"1\" class=\"dataframe\">\n",
       "  <thead>\n",
       "    <tr style=\"text-align: right;\">\n",
       "      <th></th>\n",
       "      <th>ID</th>\n",
       "      <th>Age</th>\n",
       "      <th>Gender</th>\n",
       "      <th>Education_Status</th>\n",
       "      <th>Employment_Status</th>\n",
       "      <th>Working_Week (Yearly)</th>\n",
       "      <th>Industry_Status</th>\n",
       "      <th>Occupation_Status</th>\n",
       "      <th>Race</th>\n",
       "      <th>Hispanic_Origin</th>\n",
       "      <th>...</th>\n",
       "      <th>Citizenship</th>\n",
       "      <th>Birth_Country</th>\n",
       "      <th>Birth_Country (Father)</th>\n",
       "      <th>Birth_Country (Mother)</th>\n",
       "      <th>Tax_Status</th>\n",
       "      <th>Gains</th>\n",
       "      <th>Losses</th>\n",
       "      <th>Dividends</th>\n",
       "      <th>Income_Status</th>\n",
       "      <th>Income</th>\n",
       "    </tr>\n",
       "  </thead>\n",
       "  <tbody>\n",
       "    <tr>\n",
       "      <th>0</th>\n",
       "      <td>TRAIN_00000</td>\n",
       "      <td>63</td>\n",
       "      <td>M</td>\n",
       "      <td>Middle (7-8)</td>\n",
       "      <td>Full-Time</td>\n",
       "      <td>4</td>\n",
       "      <td>Social Services</td>\n",
       "      <td>Services</td>\n",
       "      <td>White</td>\n",
       "      <td>All other</td>\n",
       "      <td>...</td>\n",
       "      <td>Native</td>\n",
       "      <td>US</td>\n",
       "      <td>US</td>\n",
       "      <td>US</td>\n",
       "      <td>Nonfiler</td>\n",
       "      <td>0</td>\n",
       "      <td>0</td>\n",
       "      <td>0</td>\n",
       "      <td>Unknown</td>\n",
       "      <td>425</td>\n",
       "    </tr>\n",
       "    <tr>\n",
       "      <th>1</th>\n",
       "      <td>TRAIN_00001</td>\n",
       "      <td>37</td>\n",
       "      <td>M</td>\n",
       "      <td>Associates degree (Vocational)</td>\n",
       "      <td>Full-Time</td>\n",
       "      <td>52</td>\n",
       "      <td>Entertainment</td>\n",
       "      <td>Services</td>\n",
       "      <td>White</td>\n",
       "      <td>All other</td>\n",
       "      <td>...</td>\n",
       "      <td>Native</td>\n",
       "      <td>US</td>\n",
       "      <td>US</td>\n",
       "      <td>US</td>\n",
       "      <td>Single</td>\n",
       "      <td>0</td>\n",
       "      <td>0</td>\n",
       "      <td>0</td>\n",
       "      <td>Under Median</td>\n",
       "      <td>0</td>\n",
       "    </tr>\n",
       "    <tr>\n",
       "      <th>2</th>\n",
       "      <td>TRAIN_00002</td>\n",
       "      <td>58</td>\n",
       "      <td>F</td>\n",
       "      <td>High graduate</td>\n",
       "      <td>Full-Time</td>\n",
       "      <td>52</td>\n",
       "      <td>Manufacturing (Non-durable)</td>\n",
       "      <td>Admin Support (include Clerical)</td>\n",
       "      <td>Black</td>\n",
       "      <td>All other</td>\n",
       "      <td>...</td>\n",
       "      <td>Native</td>\n",
       "      <td>US</td>\n",
       "      <td>US</td>\n",
       "      <td>US</td>\n",
       "      <td>Married Filling Jointly both under 65 (MFJ)</td>\n",
       "      <td>3411</td>\n",
       "      <td>0</td>\n",
       "      <td>0</td>\n",
       "      <td>Under Median</td>\n",
       "      <td>860</td>\n",
       "    </tr>\n",
       "    <tr>\n",
       "      <th>3</th>\n",
       "      <td>TRAIN_00003</td>\n",
       "      <td>44</td>\n",
       "      <td>M</td>\n",
       "      <td>High graduate</td>\n",
       "      <td>Full-Time</td>\n",
       "      <td>52</td>\n",
       "      <td>Retail</td>\n",
       "      <td>Technicians &amp; Support</td>\n",
       "      <td>White</td>\n",
       "      <td>All other</td>\n",
       "      <td>...</td>\n",
       "      <td>Native</td>\n",
       "      <td>US</td>\n",
       "      <td>US</td>\n",
       "      <td>US</td>\n",
       "      <td>Single</td>\n",
       "      <td>0</td>\n",
       "      <td>0</td>\n",
       "      <td>0</td>\n",
       "      <td>Under Median</td>\n",
       "      <td>850</td>\n",
       "    </tr>\n",
       "    <tr>\n",
       "      <th>4</th>\n",
       "      <td>TRAIN_00004</td>\n",
       "      <td>37</td>\n",
       "      <td>F</td>\n",
       "      <td>High graduate</td>\n",
       "      <td>Full-Time</td>\n",
       "      <td>52</td>\n",
       "      <td>Retail</td>\n",
       "      <td>Sales</td>\n",
       "      <td>White</td>\n",
       "      <td>All other</td>\n",
       "      <td>...</td>\n",
       "      <td>Native</td>\n",
       "      <td>US</td>\n",
       "      <td>US</td>\n",
       "      <td>US</td>\n",
       "      <td>Head of Household (HOH)</td>\n",
       "      <td>0</td>\n",
       "      <td>0</td>\n",
       "      <td>0</td>\n",
       "      <td>Unknown</td>\n",
       "      <td>570</td>\n",
       "    </tr>\n",
       "  </tbody>\n",
       "</table>\n",
       "<p>5 rows × 23 columns</p>\n",
       "</div>"
      ],
      "text/plain": [
       "            ID  Age Gender                Education_Status Employment_Status  \\\n",
       "0  TRAIN_00000   63      M                    Middle (7-8)         Full-Time   \n",
       "1  TRAIN_00001   37      M  Associates degree (Vocational)         Full-Time   \n",
       "2  TRAIN_00002   58      F                   High graduate         Full-Time   \n",
       "3  TRAIN_00003   44      M                   High graduate         Full-Time   \n",
       "4  TRAIN_00004   37      F                   High graduate         Full-Time   \n",
       "\n",
       "   Working_Week (Yearly)              Industry_Status  \\\n",
       "0                      4              Social Services   \n",
       "1                     52                Entertainment   \n",
       "2                     52  Manufacturing (Non-durable)   \n",
       "3                     52                       Retail   \n",
       "4                     52                       Retail   \n",
       "\n",
       "                  Occupation_Status   Race Hispanic_Origin  ... Citizenship  \\\n",
       "0                          Services  White       All other  ...      Native   \n",
       "1                          Services  White       All other  ...      Native   \n",
       "2  Admin Support (include Clerical)  Black       All other  ...      Native   \n",
       "3             Technicians & Support  White       All other  ...      Native   \n",
       "4                             Sales  White       All other  ...      Native   \n",
       "\n",
       "  Birth_Country Birth_Country (Father) Birth_Country (Mother)  \\\n",
       "0            US                     US                     US   \n",
       "1            US                     US                     US   \n",
       "2            US                     US                     US   \n",
       "3            US                     US                     US   \n",
       "4            US                     US                     US   \n",
       "\n",
       "                                    Tax_Status Gains Losses Dividends  \\\n",
       "0                                     Nonfiler     0      0         0   \n",
       "1                                       Single     0      0         0   \n",
       "2  Married Filling Jointly both under 65 (MFJ)  3411      0         0   \n",
       "3                                       Single     0      0         0   \n",
       "4                      Head of Household (HOH)     0      0         0   \n",
       "\n",
       "   Income_Status  Income  \n",
       "0        Unknown     425  \n",
       "1   Under Median       0  \n",
       "2   Under Median     860  \n",
       "3   Under Median     850  \n",
       "4        Unknown     570  \n",
       "\n",
       "[5 rows x 23 columns]"
      ]
     },
     "execution_count": 4,
     "metadata": {},
     "output_type": "execute_result"
    }
   ],
   "source": [
    "train.head()"
   ]
  },
  {
   "cell_type": "code",
   "execution_count": 5,
   "id": "c1eb6844-6b99-48ab-b9ea-39a48b2299a1",
   "metadata": {},
   "outputs": [
    {
     "data": {
      "text/html": [
       "<div>\n",
       "<style scoped>\n",
       "    .dataframe tbody tr th:only-of-type {\n",
       "        vertical-align: middle;\n",
       "    }\n",
       "\n",
       "    .dataframe tbody tr th {\n",
       "        vertical-align: top;\n",
       "    }\n",
       "\n",
       "    .dataframe thead th {\n",
       "        text-align: right;\n",
       "    }\n",
       "</style>\n",
       "<table border=\"1\" class=\"dataframe\">\n",
       "  <thead>\n",
       "    <tr style=\"text-align: right;\">\n",
       "      <th></th>\n",
       "      <th>ID</th>\n",
       "      <th>Age</th>\n",
       "      <th>Gender</th>\n",
       "      <th>Education_Status</th>\n",
       "      <th>Employment_Status</th>\n",
       "      <th>Working_Week (Yearly)</th>\n",
       "      <th>Industry_Status</th>\n",
       "      <th>Occupation_Status</th>\n",
       "      <th>Race</th>\n",
       "      <th>Hispanic_Origin</th>\n",
       "      <th>...</th>\n",
       "      <th>Household_Summary</th>\n",
       "      <th>Citizenship</th>\n",
       "      <th>Birth_Country</th>\n",
       "      <th>Birth_Country (Father)</th>\n",
       "      <th>Birth_Country (Mother)</th>\n",
       "      <th>Tax_Status</th>\n",
       "      <th>Gains</th>\n",
       "      <th>Losses</th>\n",
       "      <th>Dividends</th>\n",
       "      <th>Income_Status</th>\n",
       "    </tr>\n",
       "  </thead>\n",
       "  <tbody>\n",
       "    <tr>\n",
       "      <th>0</th>\n",
       "      <td>TEST_0000</td>\n",
       "      <td>79</td>\n",
       "      <td>M</td>\n",
       "      <td>High Junior</td>\n",
       "      <td>Children or Armed Forces</td>\n",
       "      <td>0</td>\n",
       "      <td>Not in universe or children</td>\n",
       "      <td>Unknown</td>\n",
       "      <td>White</td>\n",
       "      <td>All other</td>\n",
       "      <td>...</td>\n",
       "      <td>Householder</td>\n",
       "      <td>Native</td>\n",
       "      <td>US</td>\n",
       "      <td>Unknown</td>\n",
       "      <td>Unknown</td>\n",
       "      <td>Single</td>\n",
       "      <td>0</td>\n",
       "      <td>0</td>\n",
       "      <td>0</td>\n",
       "      <td>Under Median</td>\n",
       "    </tr>\n",
       "    <tr>\n",
       "      <th>1</th>\n",
       "      <td>TEST_0001</td>\n",
       "      <td>47</td>\n",
       "      <td>M</td>\n",
       "      <td>Elementary (5-6)</td>\n",
       "      <td>Children or Armed Forces</td>\n",
       "      <td>0</td>\n",
       "      <td>Not in universe or children</td>\n",
       "      <td>Unknown</td>\n",
       "      <td>White</td>\n",
       "      <td>Other Spanish</td>\n",
       "      <td>...</td>\n",
       "      <td>Child 18 or older</td>\n",
       "      <td>Native</td>\n",
       "      <td>US</td>\n",
       "      <td>US</td>\n",
       "      <td>US</td>\n",
       "      <td>Nonfiler</td>\n",
       "      <td>0</td>\n",
       "      <td>0</td>\n",
       "      <td>0</td>\n",
       "      <td>Under Median</td>\n",
       "    </tr>\n",
       "    <tr>\n",
       "      <th>2</th>\n",
       "      <td>TEST_0002</td>\n",
       "      <td>18</td>\n",
       "      <td>F</td>\n",
       "      <td>High Junior</td>\n",
       "      <td>Children or Armed Forces</td>\n",
       "      <td>52</td>\n",
       "      <td>Retail</td>\n",
       "      <td>Services</td>\n",
       "      <td>White</td>\n",
       "      <td>All other</td>\n",
       "      <td>...</td>\n",
       "      <td>Child 18 or older</td>\n",
       "      <td>Native</td>\n",
       "      <td>US</td>\n",
       "      <td>US</td>\n",
       "      <td>US</td>\n",
       "      <td>Single</td>\n",
       "      <td>0</td>\n",
       "      <td>0</td>\n",
       "      <td>0</td>\n",
       "      <td>Under Median</td>\n",
       "    </tr>\n",
       "    <tr>\n",
       "      <th>3</th>\n",
       "      <td>TEST_0003</td>\n",
       "      <td>39</td>\n",
       "      <td>F</td>\n",
       "      <td>Associates degree (Vocational)</td>\n",
       "      <td>Full-Time</td>\n",
       "      <td>30</td>\n",
       "      <td>Medical (except Hospitals)</td>\n",
       "      <td>Services</td>\n",
       "      <td>White</td>\n",
       "      <td>All other</td>\n",
       "      <td>...</td>\n",
       "      <td>Spouse of householder</td>\n",
       "      <td>Native</td>\n",
       "      <td>US</td>\n",
       "      <td>US</td>\n",
       "      <td>US</td>\n",
       "      <td>Married Filling Jointly both under 65 (MFJ)</td>\n",
       "      <td>0</td>\n",
       "      <td>0</td>\n",
       "      <td>0</td>\n",
       "      <td>Unknown</td>\n",
       "    </tr>\n",
       "    <tr>\n",
       "      <th>4</th>\n",
       "      <td>TEST_0004</td>\n",
       "      <td>6</td>\n",
       "      <td>M</td>\n",
       "      <td>Children</td>\n",
       "      <td>Children or Armed Forces</td>\n",
       "      <td>0</td>\n",
       "      <td>Not in universe or children</td>\n",
       "      <td>Unknown</td>\n",
       "      <td>White</td>\n",
       "      <td>Mexican-American</td>\n",
       "      <td>...</td>\n",
       "      <td>Child under 18 never married</td>\n",
       "      <td>Native</td>\n",
       "      <td>US</td>\n",
       "      <td>US</td>\n",
       "      <td>US</td>\n",
       "      <td>Nonfiler</td>\n",
       "      <td>0</td>\n",
       "      <td>0</td>\n",
       "      <td>0</td>\n",
       "      <td>Unknown</td>\n",
       "    </tr>\n",
       "  </tbody>\n",
       "</table>\n",
       "<p>5 rows × 22 columns</p>\n",
       "</div>"
      ],
      "text/plain": [
       "          ID  Age Gender                Education_Status  \\\n",
       "0  TEST_0000   79      M                     High Junior   \n",
       "1  TEST_0001   47      M                Elementary (5-6)   \n",
       "2  TEST_0002   18      F                     High Junior   \n",
       "3  TEST_0003   39      F  Associates degree (Vocational)   \n",
       "4  TEST_0004    6      M                        Children   \n",
       "\n",
       "          Employment_Status  Working_Week (Yearly)  \\\n",
       "0  Children or Armed Forces                      0   \n",
       "1  Children or Armed Forces                      0   \n",
       "2  Children or Armed Forces                     52   \n",
       "3                 Full-Time                     30   \n",
       "4  Children or Armed Forces                      0   \n",
       "\n",
       "               Industry_Status Occupation_Status   Race    Hispanic_Origin  \\\n",
       "0  Not in universe or children           Unknown  White          All other   \n",
       "1  Not in universe or children           Unknown  White      Other Spanish   \n",
       "2                       Retail          Services  White          All other   \n",
       "3   Medical (except Hospitals)          Services  White          All other   \n",
       "4  Not in universe or children           Unknown  White   Mexican-American   \n",
       "\n",
       "   ...             Household_Summary Citizenship Birth_Country  \\\n",
       "0  ...                   Householder      Native            US   \n",
       "1  ...             Child 18 or older      Native            US   \n",
       "2  ...             Child 18 or older      Native            US   \n",
       "3  ...         Spouse of householder      Native            US   \n",
       "4  ...  Child under 18 never married      Native            US   \n",
       "\n",
       "  Birth_Country (Father) Birth_Country (Mother)  \\\n",
       "0                Unknown                Unknown   \n",
       "1                     US                     US   \n",
       "2                     US                     US   \n",
       "3                     US                     US   \n",
       "4                     US                     US   \n",
       "\n",
       "                                    Tax_Status Gains Losses  Dividends  \\\n",
       "0                                       Single     0      0          0   \n",
       "1                                     Nonfiler     0      0          0   \n",
       "2                                       Single     0      0          0   \n",
       "3  Married Filling Jointly both under 65 (MFJ)     0      0          0   \n",
       "4                                     Nonfiler     0      0          0   \n",
       "\n",
       "   Income_Status  \n",
       "0   Under Median  \n",
       "1   Under Median  \n",
       "2   Under Median  \n",
       "3        Unknown  \n",
       "4        Unknown  \n",
       "\n",
       "[5 rows x 22 columns]"
      ]
     },
     "execution_count": 5,
     "metadata": {},
     "output_type": "execute_result"
    }
   ],
   "source": [
    "test.head()"
   ]
  },
  {
   "cell_type": "code",
   "execution_count": 6,
   "id": "c45a1812-3a6a-4c4c-8656-bc55eec8d894",
   "metadata": {},
   "outputs": [
    {
     "data": {
      "text/html": [
       "<div>\n",
       "<style scoped>\n",
       "    .dataframe tbody tr th:only-of-type {\n",
       "        vertical-align: middle;\n",
       "    }\n",
       "\n",
       "    .dataframe tbody tr th {\n",
       "        vertical-align: top;\n",
       "    }\n",
       "\n",
       "    .dataframe thead th {\n",
       "        text-align: right;\n",
       "    }\n",
       "</style>\n",
       "<table border=\"1\" class=\"dataframe\">\n",
       "  <thead>\n",
       "    <tr style=\"text-align: right;\">\n",
       "      <th></th>\n",
       "      <th>ID</th>\n",
       "      <th>Age</th>\n",
       "      <th>Gender</th>\n",
       "      <th>Education_Status</th>\n",
       "      <th>Employment_Status</th>\n",
       "      <th>Working_Week (Yearly)</th>\n",
       "      <th>Industry_Status</th>\n",
       "      <th>Occupation_Status</th>\n",
       "      <th>Race</th>\n",
       "      <th>Hispanic_Origin</th>\n",
       "      <th>...</th>\n",
       "      <th>Citizenship</th>\n",
       "      <th>Birth_Country</th>\n",
       "      <th>Birth_Country (Father)</th>\n",
       "      <th>Birth_Country (Mother)</th>\n",
       "      <th>Tax_Status</th>\n",
       "      <th>Gains</th>\n",
       "      <th>Losses</th>\n",
       "      <th>Dividends</th>\n",
       "      <th>Income_Status</th>\n",
       "      <th>Income</th>\n",
       "    </tr>\n",
       "  </thead>\n",
       "  <tbody>\n",
       "    <tr>\n",
       "      <th>0</th>\n",
       "      <td>TRAIN_00000</td>\n",
       "      <td>63</td>\n",
       "      <td>M</td>\n",
       "      <td>Middle (7-8)</td>\n",
       "      <td>Full-Time</td>\n",
       "      <td>4</td>\n",
       "      <td>Social Services</td>\n",
       "      <td>Services</td>\n",
       "      <td>White</td>\n",
       "      <td>All other</td>\n",
       "      <td>...</td>\n",
       "      <td>Native</td>\n",
       "      <td>US</td>\n",
       "      <td>US</td>\n",
       "      <td>US</td>\n",
       "      <td>Nonfiler</td>\n",
       "      <td>0</td>\n",
       "      <td>0</td>\n",
       "      <td>0</td>\n",
       "      <td>Unknown</td>\n",
       "      <td>425</td>\n",
       "    </tr>\n",
       "    <tr>\n",
       "      <th>1</th>\n",
       "      <td>TRAIN_00001</td>\n",
       "      <td>37</td>\n",
       "      <td>M</td>\n",
       "      <td>Associates degree (Vocational)</td>\n",
       "      <td>Full-Time</td>\n",
       "      <td>52</td>\n",
       "      <td>Entertainment</td>\n",
       "      <td>Services</td>\n",
       "      <td>White</td>\n",
       "      <td>All other</td>\n",
       "      <td>...</td>\n",
       "      <td>Native</td>\n",
       "      <td>US</td>\n",
       "      <td>US</td>\n",
       "      <td>US</td>\n",
       "      <td>Single</td>\n",
       "      <td>0</td>\n",
       "      <td>0</td>\n",
       "      <td>0</td>\n",
       "      <td>Under Median</td>\n",
       "      <td>0</td>\n",
       "    </tr>\n",
       "    <tr>\n",
       "      <th>2</th>\n",
       "      <td>TRAIN_00002</td>\n",
       "      <td>58</td>\n",
       "      <td>F</td>\n",
       "      <td>High graduate</td>\n",
       "      <td>Full-Time</td>\n",
       "      <td>52</td>\n",
       "      <td>Manufacturing (Non-durable)</td>\n",
       "      <td>Admin Support (include Clerical)</td>\n",
       "      <td>Black</td>\n",
       "      <td>All other</td>\n",
       "      <td>...</td>\n",
       "      <td>Native</td>\n",
       "      <td>US</td>\n",
       "      <td>US</td>\n",
       "      <td>US</td>\n",
       "      <td>Married Filling Jointly both under 65 (MFJ)</td>\n",
       "      <td>3411</td>\n",
       "      <td>0</td>\n",
       "      <td>0</td>\n",
       "      <td>Under Median</td>\n",
       "      <td>860</td>\n",
       "    </tr>\n",
       "    <tr>\n",
       "      <th>3</th>\n",
       "      <td>TRAIN_00003</td>\n",
       "      <td>44</td>\n",
       "      <td>M</td>\n",
       "      <td>High graduate</td>\n",
       "      <td>Full-Time</td>\n",
       "      <td>52</td>\n",
       "      <td>Retail</td>\n",
       "      <td>Technicians &amp; Support</td>\n",
       "      <td>White</td>\n",
       "      <td>All other</td>\n",
       "      <td>...</td>\n",
       "      <td>Native</td>\n",
       "      <td>US</td>\n",
       "      <td>US</td>\n",
       "      <td>US</td>\n",
       "      <td>Single</td>\n",
       "      <td>0</td>\n",
       "      <td>0</td>\n",
       "      <td>0</td>\n",
       "      <td>Under Median</td>\n",
       "      <td>850</td>\n",
       "    </tr>\n",
       "    <tr>\n",
       "      <th>4</th>\n",
       "      <td>TRAIN_00004</td>\n",
       "      <td>37</td>\n",
       "      <td>F</td>\n",
       "      <td>High graduate</td>\n",
       "      <td>Full-Time</td>\n",
       "      <td>52</td>\n",
       "      <td>Retail</td>\n",
       "      <td>Sales</td>\n",
       "      <td>White</td>\n",
       "      <td>All other</td>\n",
       "      <td>...</td>\n",
       "      <td>Native</td>\n",
       "      <td>US</td>\n",
       "      <td>US</td>\n",
       "      <td>US</td>\n",
       "      <td>Head of Household (HOH)</td>\n",
       "      <td>0</td>\n",
       "      <td>0</td>\n",
       "      <td>0</td>\n",
       "      <td>Unknown</td>\n",
       "      <td>570</td>\n",
       "    </tr>\n",
       "  </tbody>\n",
       "</table>\n",
       "<p>5 rows × 23 columns</p>\n",
       "</div>"
      ],
      "text/plain": [
       "            ID  Age Gender                Education_Status Employment_Status  \\\n",
       "0  TRAIN_00000   63      M                    Middle (7-8)         Full-Time   \n",
       "1  TRAIN_00001   37      M  Associates degree (Vocational)         Full-Time   \n",
       "2  TRAIN_00002   58      F                   High graduate         Full-Time   \n",
       "3  TRAIN_00003   44      M                   High graduate         Full-Time   \n",
       "4  TRAIN_00004   37      F                   High graduate         Full-Time   \n",
       "\n",
       "   Working_Week (Yearly)              Industry_Status  \\\n",
       "0                      4              Social Services   \n",
       "1                     52                Entertainment   \n",
       "2                     52  Manufacturing (Non-durable)   \n",
       "3                     52                       Retail   \n",
       "4                     52                       Retail   \n",
       "\n",
       "                  Occupation_Status   Race Hispanic_Origin  ... Citizenship  \\\n",
       "0                          Services  White       All other  ...      Native   \n",
       "1                          Services  White       All other  ...      Native   \n",
       "2  Admin Support (include Clerical)  Black       All other  ...      Native   \n",
       "3             Technicians & Support  White       All other  ...      Native   \n",
       "4                             Sales  White       All other  ...      Native   \n",
       "\n",
       "  Birth_Country Birth_Country (Father) Birth_Country (Mother)  \\\n",
       "0            US                     US                     US   \n",
       "1            US                     US                     US   \n",
       "2            US                     US                     US   \n",
       "3            US                     US                     US   \n",
       "4            US                     US                     US   \n",
       "\n",
       "                                    Tax_Status Gains Losses Dividends  \\\n",
       "0                                     Nonfiler     0      0         0   \n",
       "1                                       Single     0      0         0   \n",
       "2  Married Filling Jointly both under 65 (MFJ)  3411      0         0   \n",
       "3                                       Single     0      0         0   \n",
       "4                      Head of Household (HOH)     0      0         0   \n",
       "\n",
       "   Income_Status  Income  \n",
       "0        Unknown     425  \n",
       "1   Under Median       0  \n",
       "2   Under Median     860  \n",
       "3   Under Median     850  \n",
       "4        Unknown     570  \n",
       "\n",
       "[5 rows x 23 columns]"
      ]
     },
     "execution_count": 6,
     "metadata": {},
     "output_type": "execute_result"
    }
   ],
   "source": [
    "train.head()"
   ]
  },
  {
   "cell_type": "code",
   "execution_count": 7,
   "id": "9990dd28-a4c5-400c-9604-3830b0e85109",
   "metadata": {},
   "outputs": [
    {
     "data": {
      "text/plain": [
       "ID                        0\n",
       "Age                       0\n",
       "Gender                    0\n",
       "Education_Status          0\n",
       "Employment_Status         0\n",
       "Working_Week (Yearly)     0\n",
       "Industry_Status           0\n",
       "Occupation_Status         0\n",
       "Race                      0\n",
       "Hispanic_Origin           0\n",
       "Martial_Status            0\n",
       "Household_Status          0\n",
       "Household_Summary         0\n",
       "Citizenship               0\n",
       "Birth_Country             0\n",
       "Birth_Country (Father)    0\n",
       "Birth_Country (Mother)    0\n",
       "Tax_Status                0\n",
       "Gains                     0\n",
       "Losses                    0\n",
       "Dividends                 0\n",
       "Income_Status             0\n",
       "Income                    0\n",
       "dtype: int64"
      ]
     },
     "execution_count": 7,
     "metadata": {},
     "output_type": "execute_result"
    }
   ],
   "source": [
    "train.isnull().sum()"
   ]
  },
  {
   "cell_type": "markdown",
   "id": "270a54b5-cde2-4911-aa61-7c648a7d17cb",
   "metadata": {},
   "source": [
    "결측치: 없음"
   ]
  },
  {
   "cell_type": "code",
   "execution_count": 8,
   "id": "b1d48915-4102-4f6b-a45a-de54cdd9db20",
   "metadata": {},
   "outputs": [
    {
     "name": "stdout",
     "output_type": "stream",
     "text": [
      "<class 'pandas.core.frame.DataFrame'>\n",
      "RangeIndex: 20000 entries, 0 to 19999\n",
      "Data columns (total 23 columns):\n",
      " #   Column                  Non-Null Count  Dtype \n",
      "---  ------                  --------------  ----- \n",
      " 0   ID                      20000 non-null  object\n",
      " 1   Age                     20000 non-null  int64 \n",
      " 2   Gender                  20000 non-null  object\n",
      " 3   Education_Status        20000 non-null  object\n",
      " 4   Employment_Status       20000 non-null  object\n",
      " 5   Working_Week (Yearly)   20000 non-null  int64 \n",
      " 6   Industry_Status         20000 non-null  object\n",
      " 7   Occupation_Status       20000 non-null  object\n",
      " 8   Race                    20000 non-null  object\n",
      " 9   Hispanic_Origin         20000 non-null  object\n",
      " 10  Martial_Status          20000 non-null  object\n",
      " 11  Household_Status        20000 non-null  object\n",
      " 12  Household_Summary       20000 non-null  object\n",
      " 13  Citizenship             20000 non-null  object\n",
      " 14  Birth_Country           20000 non-null  object\n",
      " 15  Birth_Country (Father)  20000 non-null  object\n",
      " 16  Birth_Country (Mother)  20000 non-null  object\n",
      " 17  Tax_Status              20000 non-null  object\n",
      " 18  Gains                   20000 non-null  int64 \n",
      " 19  Losses                  20000 non-null  int64 \n",
      " 20  Dividends               20000 non-null  int64 \n",
      " 21  Income_Status           20000 non-null  object\n",
      " 22  Income                  20000 non-null  int64 \n",
      "dtypes: int64(6), object(17)\n",
      "memory usage: 3.5+ MB\n"
     ]
    }
   ],
   "source": [
    "train.info()"
   ]
  },
  {
   "cell_type": "markdown",
   "id": "dbdb47c8-cf9a-46ca-8415-10ba0824ec15",
   "metadata": {},
   "source": [
    "아래는 minuwoo님의 코드공유에서 인용\n",
    ">ID : 고객의 지정 넘버로 별다른 정보가 없기 때문에 분석에 사용하지 않을 것임  \n",
    "Age : 고객의 나이, 연속형 변수  \n",
    "Gender : 성별, 이산형 변수  \n",
    "Education_Status : 최종학력을 의미한다. 이산형 변수  \n",
    "Employment_Status : 취업 상태를 의미한다. 이산형 변수  \n",
    "Working_Week (Yearly) : 주당 일하는 시간으로 해석된다. 연속형변수 or 범주를 잡아 이산형으로 파악 가능  \n",
    "Industry_Status : 산업분야, 이산형 변수  \n",
    "Occupation_Status : 직업 분야, 이산형 변수  \n",
    "Race : 인종, 이산형변수  \n",
    "Hispanic_Origin : 히스패닉 출신, 이산형 변수  \n",
    "Martial_Status : 결혼 여부, 이산형 변수  \n",
    "Household_Status : 가족 구성, 이산형 변수  \n",
    "Household_Summary : 가족 구성 요약, 이산형 변수  \n",
    "Citizenship : 시민권, 이산형 변수  \n",
    "Birth_Country : 국적, 이산형변수  \n",
    "Birth_Country (Father) : 아버지의 국적, 이산형변수  \n",
    "Birth_Country (Mother) : 어머니의 국적, 이산형변수  \n",
    "Tax_Status : 세금 여부, 이산형변수  \n",
    "Gains : 이득또는 매출로 보인다, 연속형 변수  \n",
    "Losses : 지출로 보인다, 연속형 변수  \n",
    "Dividends : 배당금, 연속형 변수  \n",
    "Income_Status : 소득 상태, 이산형변수  \n",
    "Income : 소득, 연속형 변수  "
   ]
  },
  {
   "cell_type": "markdown",
   "id": "3106320e-36d9-487b-b14a-330a2234bcc5",
   "metadata": {},
   "source": [
    "범주형 데이터와 선형 데이터 구분해서 리스트로 만들기"
   ]
  },
  {
   "cell_type": "code",
   "execution_count": 9,
   "id": "a649a67d-459e-43c7-a3cb-005b65c61813",
   "metadata": {},
   "outputs": [],
   "source": [
    "categorical_features = [col for col in train.columns if train[col].dtype == 'object']\n",
    "numerical_features = [col for col in train.columns if train[col].dtype == 'int64']"
   ]
  },
  {
   "cell_type": "code",
   "execution_count": 10,
   "id": "73d64533-1c75-40ba-a477-12086d1cdaea",
   "metadata": {},
   "outputs": [
    {
     "data": {
      "text/plain": [
       "['ID',\n",
       " 'Gender',\n",
       " 'Education_Status',\n",
       " 'Employment_Status',\n",
       " 'Industry_Status',\n",
       " 'Occupation_Status',\n",
       " 'Race',\n",
       " 'Hispanic_Origin',\n",
       " 'Martial_Status',\n",
       " 'Household_Status',\n",
       " 'Household_Summary',\n",
       " 'Citizenship',\n",
       " 'Birth_Country',\n",
       " 'Birth_Country (Father)',\n",
       " 'Birth_Country (Mother)',\n",
       " 'Tax_Status',\n",
       " 'Income_Status']"
      ]
     },
     "execution_count": 10,
     "metadata": {},
     "output_type": "execute_result"
    }
   ],
   "source": [
    "categorical_features"
   ]
  },
  {
   "cell_type": "code",
   "execution_count": 11,
   "id": "d738eeac-32ad-4702-a27f-53276eb8d6e0",
   "metadata": {},
   "outputs": [
    {
     "data": {
      "text/plain": [
       "['Age', 'Working_Week (Yearly)', 'Gains', 'Losses', 'Dividends', 'Income']"
      ]
     },
     "execution_count": 11,
     "metadata": {},
     "output_type": "execute_result"
    }
   ],
   "source": [
    "numerical_features"
   ]
  },
  {
   "cell_type": "code",
   "execution_count": 12,
   "id": "d67d2fd4-e9a3-4fc2-a25b-fd99d409ea42",
   "metadata": {},
   "outputs": [],
   "source": [
    "train_copy = train.copy()"
   ]
  },
  {
   "cell_type": "code",
   "execution_count": 13,
   "id": "ea9f5cec-abd8-4ad9-a5b2-d972e3be3f13",
   "metadata": {},
   "outputs": [],
   "source": [
    "# test_copy = test.copy()"
   ]
  },
  {
   "cell_type": "code",
   "execution_count": 14,
   "id": "089e93d6-a4ae-40c8-aaf3-c83267289ac1",
   "metadata": {},
   "outputs": [
    {
     "data": {
      "text/plain": [
       "<Axes: >"
      ]
     },
     "execution_count": 14,
     "metadata": {},
     "output_type": "execute_result"
    },
    {
     "data": {
      "image/png": "[encoded data removed]",
      "text/plain": [
       "<Figure size 640x480 with 1 Axes>"
      ]
     },
     "metadata": {},
     "output_type": "display_data"
    }
   ],
   "source": [
    "train_copy['Income'].plot(kind='box')"
   ]
  },
  {
   "cell_type": "markdown",
   "id": "63fa9c01-8fdb-42d6-ba21-5a17f6d5df87",
   "metadata": {},
   "source": [
    "박스를 벗어난 수치가 상당히 많고, 그 간격이 좁다. 어떤게 진짜 이상치인지 판단할 수 없다. 각 피쳐별로 표준편차가 너무 높게 나오는 범주에서 이상치를 찾아보고 제거하는 식으로 해야겠다."
   ]
  },
  {
   "cell_type": "markdown",
   "id": "17b5a12a-a6b0-467f-b41a-6a8b826f6e32",
   "metadata": {},
   "source": [
    "## 범주형 데이터를 수치 데이터로 인코딩하기"
   ]
  },
  {
   "cell_type": "code",
   "execution_count": 15,
   "id": "3b291b96-8772-489a-887d-20d25c92cc7d",
   "metadata": {},
   "outputs": [
    {
     "data": {
      "text/plain": [
       "['ID',\n",
       " 'Gender',\n",
       " 'Education_Status',\n",
       " 'Employment_Status',\n",
       " 'Industry_Status',\n",
       " 'Occupation_Status',\n",
       " 'Race',\n",
       " 'Hispanic_Origin',\n",
       " 'Martial_Status',\n",
       " 'Household_Status',\n",
       " 'Household_Summary',\n",
       " 'Citizenship',\n",
       " 'Birth_Country',\n",
       " 'Birth_Country (Father)',\n",
       " 'Birth_Country (Mother)',\n",
       " 'Tax_Status',\n",
       " 'Income_Status']"
      ]
     },
     "execution_count": 15,
     "metadata": {},
     "output_type": "execute_result"
    }
   ],
   "source": [
    "categorical_features"
   ]
  },
  {
   "cell_type": "markdown",
   "id": "7f005f9f-fcbc-4fce-b89e-4563ee8a5506",
   "metadata": {
    "jp-MarkdownHeadingCollapsed": true
   },
   "source": [
    "### ID"
   ]
  },
  {
   "cell_type": "markdown",
   "id": "97ea5897-8a2e-49db-bd51-a65aad54f1f1",
   "metadata": {},
   "source": [
    "ID는 제거한다"
   ]
  },
  {
   "cell_type": "code",
   "execution_count": 16,
   "id": "ec12e61d-ae3b-493f-b7cc-8b5140f2b49a",
   "metadata": {},
   "outputs": [],
   "source": [
    "train_copy = train_copy.drop('ID', axis=1)"
   ]
  },
  {
   "cell_type": "code",
   "execution_count": 17,
   "id": "d77bee5a-c1db-4ef1-91c1-5ced677aa753",
   "metadata": {},
   "outputs": [],
   "source": [
    "test = test.drop('ID', axis=1)"
   ]
  },
  {
   "cell_type": "markdown",
   "id": "6f0c99c0-0315-496b-a8b8-87e2c85baea1",
   "metadata": {
    "jp-MarkdownHeadingCollapsed": true
   },
   "source": [
    "### Gender"
   ]
  },
  {
   "cell_type": "markdown",
   "id": "dee5356d-8d89-4498-adc7-345de2fbca67",
   "metadata": {},
   "source": [
    "M과 F의 Income 평균이 유의미한 차이를 보이므로 M은 1, F는 0으로 처리한다"
   ]
  },
  {
   "cell_type": "code",
   "execution_count": 18,
   "id": "856d9f80-31dd-455b-b218-71e831a19f2b",
   "metadata": {},
   "outputs": [
    {
     "name": "stderr",
     "output_type": "stream",
     "text": [
      "C:\\Users\\82102\\AppData\\Local\\Temp\\ipykernel_14476\\3551207921.py:1: FutureWarning: A value is trying to be set on a copy of a DataFrame or Series through chained assignment using an inplace method.\n",
      "The behavior will change in pandas 3.0. This inplace method will never work because the intermediate object on which we are setting values always behaves as a copy.\n",
      "\n",
      "For example, when doing 'df[col].method(value, inplace=True)', try using 'df.method({col: value}, inplace=True)' or df[col] = df[col].method(value) instead, to perform the operation inplace on the original object.\n",
      "\n",
      "\n",
      "  train_copy['Gender'].replace({'M':1,'F':0}, inplace=True)\n",
      "C:\\Users\\82102\\AppData\\Local\\Temp\\ipykernel_14476\\3551207921.py:1: FutureWarning: Downcasting behavior in `replace` is deprecated and will be removed in a future version. To retain the old behavior, explicitly call `result.infer_objects(copy=False)`. To opt-in to the future behavior, set `pd.set_option('future.no_silent_downcasting', True)`\n",
      "  train_copy['Gender'].replace({'M':1,'F':0}, inplace=True)\n"
     ]
    }
   ],
   "source": [
    "train_copy['Gender'].replace({'M':1,'F':0}, inplace=True)"
   ]
  },
  {
   "cell_type": "code",
   "execution_count": 19,
   "id": "63b54e17-4ab9-4c30-84cd-96618dc6e970",
   "metadata": {},
   "outputs": [
    {
     "name": "stderr",
     "output_type": "stream",
     "text": [
      "C:\\Users\\82102\\AppData\\Local\\Temp\\ipykernel_14476\\2024148450.py:1: FutureWarning: A value is trying to be set on a copy of a DataFrame or Series through chained assignment using an inplace method.\n",
      "The behavior will change in pandas 3.0. This inplace method will never work because the intermediate object on which we are setting values always behaves as a copy.\n",
      "\n",
      "For example, when doing 'df[col].method(value, inplace=True)', try using 'df.method({col: value}, inplace=True)' or df[col] = df[col].method(value) instead, to perform the operation inplace on the original object.\n",
      "\n",
      "\n",
      "  test['Gender'].replace({'M':1,'F':0}, inplace=True)\n",
      "C:\\Users\\82102\\AppData\\Local\\Temp\\ipykernel_14476\\2024148450.py:1: FutureWarning: Downcasting behavior in `replace` is deprecated and will be removed in a future version. To retain the old behavior, explicitly call `result.infer_objects(copy=False)`. To opt-in to the future behavior, set `pd.set_option('future.no_silent_downcasting', True)`\n",
      "  test['Gender'].replace({'M':1,'F':0}, inplace=True)\n"
     ]
    }
   ],
   "source": [
    "test['Gender'].replace({'M':1,'F':0}, inplace=True)"
   ]
  },
  {
   "cell_type": "markdown",
   "id": "454dead2-363a-4d68-bfe6-73d82514b6a1",
   "metadata": {
    "jp-MarkdownHeadingCollapsed": true
   },
   "source": [
    "### Education_Status"
   ]
  },
  {
   "cell_type": "code",
   "execution_count": 20,
   "id": "ff269570-ad21-453e-b157-ac72506ef540",
   "metadata": {},
   "outputs": [
    {
     "data": {
      "text/plain": [
       "array(['Middle (7-8)', 'Associates degree (Vocational)', 'High graduate',\n",
       "       'Masters degree', 'Bachelors degree', 'High Freshman',\n",
       "       'Elementary (1-4)', 'College', 'Children', 'High Sophomore',\n",
       "       'Associates degree (Academic)', 'High Junior', 'Elementary (5-6)',\n",
       "       'Doctorate degree', 'Professional degree', 'High Senior',\n",
       "       'Kindergarten'], dtype=object)"
      ]
     },
     "execution_count": 20,
     "metadata": {},
     "output_type": "execute_result"
    }
   ],
   "source": [
    "train_copy['Education_Status'].unique()"
   ]
  },
  {
   "cell_type": "markdown",
   "id": "3a571c96-66ea-4324-8882-2f92f8022195",
   "metadata": {},
   "source": [
    "각 교육수준 별 소득의 박스플롯을 보자"
   ]
  },
  {
   "cell_type": "code",
   "execution_count": 21,
   "id": "08b7e69e-d475-4c52-8325-94ca8aee9eb8",
   "metadata": {},
   "outputs": [],
   "source": [
    "Education_Status_list = list(train_copy['Education_Status'].unique())"
   ]
  },
  {
   "cell_type": "code",
   "execution_count": 22,
   "id": "33c8f191-3164-4376-a076-27dbaada07e4",
   "metadata": {},
   "outputs": [
    {
     "data": {
      "text/plain": [
       "17"
      ]
     },
     "execution_count": 22,
     "metadata": {},
     "output_type": "execute_result"
    }
   ],
   "source": [
    "len(Education_Status_list)"
   ]
  },
  {
   "cell_type": "code",
   "execution_count": 23,
   "id": "1b202600-6ded-4c6c-87df-080df60d9d7f",
   "metadata": {},
   "outputs": [
    {
     "data": {
      "text/plain": [
       "<Axes: >"
      ]
     },
     "execution_count": 23,
     "metadata": {},
     "output_type": "execute_result"
    },
    {
     "data": {
      "image/png": "[encoded data removed]",
      "text/plain": [
       "<Figure size 700x400 with 2 Axes>"
      ]
     },
     "metadata": {},
     "output_type": "display_data"
    }
   ],
   "source": [
    "fig, axes = plt.subplots(1, 2, figsize=(7, 4))\n",
    "train_copy[train_copy['Education_Status'] == 'Middle (7-8)']['Income'].plot(kind = 'box', ax = axes[0])"
   ]
  },
  {
   "cell_type": "code",
   "execution_count": 24,
   "id": "9ba2c76a-2e42-44b1-a24a-54f1b14b279f",
   "metadata": {},
   "outputs": [
    {
     "data": {
      "image/png": "[encoded data removed]",
      "text/plain": [
       "<Figure size 1200x2200 with 18 Axes>"
      ]
     },
     "metadata": {},
     "output_type": "display_data"
    }
   ],
   "source": [
    "fig, axes = plt.subplots(6, 3, figsize=(12, 22))\n",
    "axe = axes.ravel() # subplot이 2차원일 땐 axes를 unpack해줘야 함. 얘가 하나의 2차원 subplot을 만드는게 아니라 여러개의 1차원 subplot을 만들기 때문.\n",
    "\n",
    "for i in range(len(Education_Status_list)):\n",
    "    Education_Status = Education_Status_list[i]\n",
    "    train_copy[train_copy['Education_Status'] == Education_Status]['Income'].plot(kind = 'box', ax = axe[i])\n",
    "    axe[i].set_title(Education_Status)"
   ]
  },
  {
   "cell_type": "code",
   "execution_count": 25,
   "id": "fea93822-4b2c-4413-b24a-bc8515b499e9",
   "metadata": {},
   "outputs": [
    {
     "data": {
      "text/plain": [
       "Education_Status\n",
       "High graduate                     6494\n",
       "College                           3794\n",
       "Children                          2208\n",
       "Bachelors degree                  1956\n",
       "High Junior                        820\n",
       "High Sophomore                     799\n",
       "Associates degree (Vocational)     741\n",
       "Associates degree (Academic)       609\n",
       "High Freshman                      555\n",
       "Middle (7-8)                       548\n",
       "Masters degree                     505\n",
       "Elementary (5-6)                   317\n",
       "High Senior                        242\n",
       "Elementary (1-4)                   150\n",
       "Professional degree                111\n",
       "Doctorate degree                    87\n",
       "Kindergarten                        64\n",
       "Name: count, dtype: int64"
      ]
     },
     "execution_count": 25,
     "metadata": {},
     "output_type": "execute_result"
    }
   ],
   "source": [
    "train_copy['Education_Status'].value_counts()"
   ]
  },
  {
   "cell_type": "markdown",
   "id": "e8eee122-a334-4fd1-8d5d-ada478f44be5",
   "metadata": {},
   "source": [
    "모든 이상치를 제거해주자. 각 값별 이상치 제거 cut-off value는 다음과같이 정했다."
   ]
  },
  {
   "cell_type": "code",
   "execution_count": 26,
   "id": "7f77efcb-77c0-4598-a2aa-e6e0922d8e34",
   "metadata": {
    "scrolled": true
   },
   "outputs": [
    {
     "name": "stdout",
     "output_type": "stream",
     "text": [
      "\n",
      "Middle (7-8)\n",
      "9536     1700\n",
      "16920    1700\n",
      "352      1800\n",
      "3642     1800\n",
      "19274    1864\n",
      "4119     1882\n",
      "10727    1976\n",
      "11291    2000\n",
      "14222    8000\n",
      "467      9800\n",
      "Name: Income, dtype: int64\n",
      "\n",
      "Associates degree (Vocational)\n",
      "5891     2500\n",
      "18534    2500\n",
      "13940    2500\n",
      "16865    2532\n",
      "5060     3300\n",
      "10331    3300\n",
      "14547    3500\n",
      "13460    3581\n",
      "9975     6000\n",
      "4951     9916\n",
      "Name: Income, dtype: int64\n",
      "\n",
      "High graduate\n",
      "1963     7700\n",
      "10948    8000\n",
      "3539     8000\n",
      "4943     8000\n",
      "8641     8800\n",
      "341      8800\n",
      "2154     9000\n",
      "18492    9400\n",
      "19030    9400\n",
      "9869     9900\n",
      "Name: Income, dtype: int64\n",
      "\n",
      "Masters degree\n",
      "13160    3400\n",
      "4632     3750\n",
      "9332     4000\n",
      "12439    4000\n",
      "7493     4000\n",
      "16982    4500\n",
      "4397     4600\n",
      "3673     5250\n",
      "2438     6500\n",
      "10131    6500\n",
      "Name: Income, dtype: int64\n",
      "\n",
      "Bachelors degree\n",
      "3993     3900\n",
      "19795    4000\n",
      "18759    4000\n",
      "6755     5000\n",
      "18558    6200\n",
      "15996    6410\n",
      "10685    6500\n",
      "8309     6600\n",
      "7875     8000\n",
      "8081     8500\n",
      "Name: Income, dtype: int64\n",
      "\n",
      "High Freshman\n",
      "3998     1400\n",
      "7737     1400\n",
      "19299    1425\n",
      "16141    1450\n",
      "19539    1486\n",
      "5100     1500\n",
      "9620     1600\n",
      "12980    5500\n",
      "1148     7000\n",
      "992      9800\n",
      "Name: Income, dtype: int64\n",
      "\n",
      "Elementary (1-4)\n",
      "13279    1050\n",
      "17606    1100\n",
      "12408    1200\n",
      "7526     1235\n",
      "11807    1300\n",
      "17389    1400\n",
      "322      1400\n",
      "11806    1570\n",
      "5887     1882\n",
      "5803     4200\n",
      "Name: Income, dtype: int64\n",
      "\n",
      "College\n",
      "10349    3200\n",
      "12936    3300\n",
      "8642     3350\n",
      "19453    4200\n",
      "5785     4300\n",
      "11137    4800\n",
      "18742    5000\n",
      "13172    5500\n",
      "15164    5500\n",
      "15583    8000\n",
      "Name: Income, dtype: int64\n",
      "\n",
      "Children\n",
      "7186     0\n",
      "7221     0\n",
      "7242     0\n",
      "7272     0\n",
      "7298     0\n",
      "7300     0\n",
      "7305     0\n",
      "7311     0\n",
      "7224     0\n",
      "19990    0\n",
      "Name: Income, dtype: int64\n",
      "\n",
      "High Sophomore\n",
      "14602    1633\n",
      "2041     1684\n",
      "15045    1700\n",
      "10140    1700\n",
      "14343    1710\n",
      "12808    2200\n",
      "11063    3100\n",
      "6911     5000\n",
      "12367    5500\n",
      "2356     6009\n",
      "Name: Income, dtype: int64\n",
      "\n",
      "Associates degree (Academic)\n",
      "7488     2300\n",
      "10012    2400\n",
      "18597    2400\n",
      "9070     2500\n",
      "478      2600\n",
      "3695     2825\n",
      "2464     3000\n",
      "16535    3750\n",
      "4250     6500\n",
      "19365    7700\n",
      "Name: Income, dtype: int64\n",
      "\n",
      "High Junior\n",
      "8392     1800\n",
      "9398     1882\n",
      "12739    1925\n",
      "8964     2290\n",
      "4723     2300\n",
      "4471     2800\n",
      "5038     4500\n",
      "19035    4807\n",
      "3730     6500\n",
      "12424    7800\n",
      "Name: Income, dtype: int64\n",
      "\n",
      "Elementary (5-6)\n",
      "6415     1200\n",
      "12174    1200\n",
      "11180    1250\n",
      "1750     1300\n",
      "3871     1300\n",
      "18654    1600\n",
      "667      1600\n",
      "15088    1641\n",
      "15522    1800\n",
      "15204    2100\n",
      "Name: Income, dtype: int64\n",
      "\n",
      "Doctorate degree\n",
      "15636    2000\n",
      "5796     2251\n",
      "12792    2350\n",
      "8585     3100\n",
      "15345    3205\n",
      "3648     3745\n",
      "1012     3750\n",
      "8482     3750\n",
      "18405    6500\n",
      "2008     9999\n",
      "Name: Income, dtype: int64\n",
      "\n",
      "Professional degree\n",
      "6194     2000\n",
      "19397    2200\n",
      "11617    2200\n",
      "19714    2360\n",
      "7427     2656\n",
      "4391     2850\n",
      "13139    2952\n",
      "943      3400\n",
      "6940     4807\n",
      "16053    6900\n",
      "Name: Income, dtype: int64\n",
      "\n",
      "High Senior\n",
      "3923     1300\n",
      "4206     1300\n",
      "4336     1400\n",
      "19049    1400\n",
      "8083     1475\n",
      "10025    1620\n",
      "14044    1700\n",
      "11115    1700\n",
      "16476    1800\n",
      "13507    5400\n",
      "Name: Income, dtype: int64\n",
      "\n",
      "Kindergarten\n",
      "19966     540\n",
      "6498      600\n",
      "18579     700\n",
      "12833     700\n",
      "4380      700\n",
      "16928     725\n",
      "15920     735\n",
      "5025      800\n",
      "16210     825\n",
      "4791     1036\n",
      "Name: Income, dtype: int64\n"
     ]
    }
   ],
   "source": [
    "for Education_Status in Education_Status_list:\n",
    "    print('\\n'+Education_Status)\n",
    "    print(train_copy[train_copy['Education_Status'] == Education_Status]['Income'].sort_values().tail(10))"
   ]
  },
  {
   "cell_type": "code",
   "execution_count": 27,
   "id": "2b6b115e-6a15-41bf-ac84-6ab8627c9b75",
   "metadata": {},
   "outputs": [],
   "source": [
    "cut_off_value_diction = {'Middle (7-8)': 2001,  \n",
    "                         'Associates degree (Vocational)': 4000, \n",
    "                         'High graduate': 35000, \n",
    "                         'Masters degree': 4001, \n",
    "                         'Bachelors degree': 4001, \n",
    "                         'High Freshman': 2000, \n",
    "                         'Elementary (1-4)': 1500, \n",
    "                         'College': 3500, \n",
    "                         'Children': 1, \n",
    "                         'High Sophomore': 2000, \n",
    "                         'Associates degree (Academic)': 3001, \n",
    "                         'High Junior': 2500, \n",
    "                         'Elementary (5-6)': 1301, \n",
    "                         'Doctorate degree': 4000, \n",
    "                         'Professional degree': 3500, \n",
    "                         'High Senior': 2000, \n",
    "                         'Kindergarten': 1100}"
   ]
  },
  {
   "cell_type": "code",
   "execution_count": 28,
   "id": "5a0caa2d-7f89-4345-bb0f-e4bee6f0b511",
   "metadata": {},
   "outputs": [],
   "source": [
    "del_ind_list = []\n",
    "for Education_Status in Education_Status_list:\n",
    "    for i in range(len(train_copy)):\n",
    "        if train_copy['Education_Status'][i] == Education_Status:\n",
    "            income = train_copy['Income'][i]\n",
    "            if income >= cut_off_value_diction[Education_Status]:\n",
    "                del_ind_list.append(i)"
   ]
  },
  {
   "cell_type": "code",
   "execution_count": 29,
   "id": "0b1f8b38-ec76-4972-98de-792ee102b3b5",
   "metadata": {},
   "outputs": [
    {
     "data": {
      "text/plain": [
       "[467,\n",
       " 14222,\n",
       " 4951,\n",
       " 9975,\n",
       " 2438,\n",
       " 3673,\n",
       " 4397,\n",
       " 10131,\n",
       " 16982,\n",
       " 6755,\n",
       " 7875,\n",
       " 8081,\n",
       " 8309,\n",
       " 10685,\n",
       " 15996,\n",
       " 18558,\n",
       " 992,\n",
       " 1148,\n",
       " 12980,\n",
       " 5803,\n",
       " 5887,\n",
       " 11806,\n",
       " 5785,\n",
       " 11137,\n",
       " 13172,\n",
       " 15164,\n",
       " 15583,\n",
       " 18742,\n",
       " 19453,\n",
       " 2356,\n",
       " 6911,\n",
       " 11063,\n",
       " 12367,\n",
       " 12808,\n",
       " 4250,\n",
       " 16535,\n",
       " 19365,\n",
       " 3730,\n",
       " 4471,\n",
       " 5038,\n",
       " 12424,\n",
       " 19035,\n",
       " 667,\n",
       " 15088,\n",
       " 15204,\n",
       " 15522,\n",
       " 18654,\n",
       " 2008,\n",
       " 18405,\n",
       " 6940,\n",
       " 16053,\n",
       " 13507]"
      ]
     },
     "execution_count": 29,
     "metadata": {},
     "output_type": "execute_result"
    }
   ],
   "source": [
    "del_ind_list"
   ]
  },
  {
   "cell_type": "code",
   "execution_count": 30,
   "id": "42d89ed5-bbea-4b6f-80cf-9074c62ebcb6",
   "metadata": {},
   "outputs": [],
   "source": [
    "for ind in del_ind_list:\n",
    "    train_copy.drop([ind], axis=0, inplace=True)"
   ]
  },
  {
   "cell_type": "code",
   "execution_count": 31,
   "id": "f8781a2f-46cf-4a02-ba31-cf117151117b",
   "metadata": {},
   "outputs": [
    {
     "data": {
      "image/png": "[encoded data removed]",
      "text/plain": [
       "<Figure size 1200x2200 with 18 Axes>"
      ]
     },
     "metadata": {},
     "output_type": "display_data"
    }
   ],
   "source": [
    "fig, axes = plt.subplots(6, 3, figsize=(12, 22))\n",
    "axe = axes.ravel() # subplot이 2차원일 땐 axes를 unpack해줘야 함. 얘가 하나의 2차원 subplot을 만드는게 아니라 여러개의 1차원 subplot을 만들기 때문.\n",
    "\n",
    "for i in range(len(Education_Status_list)):\n",
    "    Education_Status = Education_Status_list[i]\n",
    "    train_copy[train_copy['Education_Status'] == Education_Status]['Income'].plot(kind = 'box', ax = axe[i])\n",
    "    axe[i].set_title(Education_Status)"
   ]
  },
  {
   "cell_type": "markdown",
   "id": "6d6fa433-5e2f-4b00-9e87-2d5eea4c6cc9",
   "metadata": {},
   "source": [
    "박스플롯이 많이 안정되었다."
   ]
  },
  {
   "cell_type": "code",
   "execution_count": 32,
   "id": "09d08f44-84c7-4226-a95a-ca4678fe2bf9",
   "metadata": {},
   "outputs": [],
   "source": [
    "Education_Status_sort_list = train_copy.groupby(['Education_Status'])['Income'].mean().sort_values().index\n",
    "\n",
    "for i in range(len(Education_Status_sort_list)):\n",
    "    for j in range(len(train)):\n",
    "        if j not in del_ind_list:\n",
    "            if train_copy['Education_Status'][j] == Education_Status_sort_list[i]:\n",
    "                train_copy.loc[j, 'Education_Status'] = i\n",
    "    for k in range(len(test)):\n",
    "        if test['Education_Status'][k] == Education_Status_sort_list[i]:\n",
    "            test.loc[k, 'Education_Status'] = i"
   ]
  },
  {
   "cell_type": "markdown",
   "id": "f25b74e9-1397-4f5d-937c-9bcfc3cf620c",
   "metadata": {},
   "source": [
    "#### 추가 피쳐 생성"
   ]
  },
  {
   "cell_type": "code",
   "execution_count": 33,
   "id": "76dee328-d5ce-44ac-bb83-628eb98617ec",
   "metadata": {},
   "outputs": [],
   "source": [
    "train_copy['No_Income_Level'] = train_copy['Education_Status']"
   ]
  },
  {
   "cell_type": "code",
   "execution_count": 34,
   "id": "b349b17d-0c69-406f-bebb-bc234a7842ca",
   "metadata": {},
   "outputs": [
    {
     "name": "stderr",
     "output_type": "stream",
     "text": [
      "C:\\Users\\82102\\AppData\\Local\\Temp\\ipykernel_14476\\2284508190.py:1: FutureWarning: A value is trying to be set on a copy of a DataFrame or Series through chained assignment using an inplace method.\n",
      "The behavior will change in pandas 3.0. This inplace method will never work because the intermediate object on which we are setting values always behaves as a copy.\n",
      "\n",
      "For example, when doing 'df[col].method(value, inplace=True)', try using 'df.method({col: value}, inplace=True)' or df[col] = df[col].method(value) instead, to perform the operation inplace on the original object.\n",
      "\n",
      "\n",
      "  train_copy['No_Income_Level'].replace({'Children': 0,\n",
      "C:\\Users\\82102\\AppData\\Local\\Temp\\ipykernel_14476\\2284508190.py:1: FutureWarning: Downcasting behavior in `replace` is deprecated and will be removed in a future version. To retain the old behavior, explicitly call `result.infer_objects(copy=False)`. To opt-in to the future behavior, set `pd.set_option('future.no_silent_downcasting', True)`\n",
      "  train_copy['No_Income_Level'].replace({'Children': 0,\n"
     ]
    }
   ],
   "source": [
    "train_copy['No_Income_Level'].replace({'Children': 0, \n",
    "                                       'Doctorate degree': 1, \n",
    "                                       'Professional degree': 1, \n",
    "                                       'Kindergarten' : 1, \n",
    "                                       'Masters degree': 2, \n",
    "                                       'Middle (7-8)': 2, \n",
    "                                       'Elementary (1-4)': 2, \n",
    "                                       'Elementary (5-6)': 2, \n",
    "                                       'High Freshman' : 2, \n",
    "                                       'Bachelors degree': 3, \n",
    "                                       'High Sophomore': 3, \n",
    "                                       'High Senior': 3, \n",
    "                                       'Associates degree (Academic)': 4, \n",
    "                                       'High Junior': 4, \n",
    "                                       'High graduate': 4, \n",
    "                                       'College': 4, \n",
    "                                       'Associates degree (Vocational)' : 4}, \n",
    "                                      inplace=True)"
   ]
  },
  {
   "cell_type": "code",
   "execution_count": 35,
   "id": "843ff28c-15fe-4249-833d-8a3664813f11",
   "metadata": {},
   "outputs": [],
   "source": [
    "test['No_Income_Level'] = test['Education_Status']"
   ]
  },
  {
   "cell_type": "code",
   "execution_count": 36,
   "id": "d0bdde06-dda6-4f0d-bc94-02b020096b2e",
   "metadata": {},
   "outputs": [
    {
     "name": "stderr",
     "output_type": "stream",
     "text": [
      "C:\\Users\\82102\\AppData\\Local\\Temp\\ipykernel_14476\\3928914651.py:1: FutureWarning: A value is trying to be set on a copy of a DataFrame or Series through chained assignment using an inplace method.\n",
      "The behavior will change in pandas 3.0. This inplace method will never work because the intermediate object on which we are setting values always behaves as a copy.\n",
      "\n",
      "For example, when doing 'df[col].method(value, inplace=True)', try using 'df.method({col: value}, inplace=True)' or df[col] = df[col].method(value) instead, to perform the operation inplace on the original object.\n",
      "\n",
      "\n",
      "  test['No_Income_Level'].replace({'Children': 0,\n",
      "C:\\Users\\82102\\AppData\\Local\\Temp\\ipykernel_14476\\3928914651.py:1: FutureWarning: Downcasting behavior in `replace` is deprecated and will be removed in a future version. To retain the old behavior, explicitly call `result.infer_objects(copy=False)`. To opt-in to the future behavior, set `pd.set_option('future.no_silent_downcasting', True)`\n",
      "  test['No_Income_Level'].replace({'Children': 0,\n"
     ]
    }
   ],
   "source": [
    "test['No_Income_Level'].replace({'Children': 0, \n",
    "                                       'Doctorate degree': 1, \n",
    "                                       'Professional degree': 1, \n",
    "                                       'Kindergarten' : 1, \n",
    "                                       'Masters degree': 2, \n",
    "                                       'Middle (7-8)': 2, \n",
    "                                       'Elementary (1-4)': 2, \n",
    "                                       'Elementary (5-6)': 2, \n",
    "                                       'High Freshman' : 2, \n",
    "                                       'Bachelors degree': 3, \n",
    "                                       'High Sophomore': 3, \n",
    "                                       'High Senior': 3, \n",
    "                                       'Associates degree (Academic)': 4, \n",
    "                                       'High Junior': 4, \n",
    "                                       'High graduate': 4, \n",
    "                                       'College': 4, \n",
    "                                       'Associates degree (Vocational)' : 4}, \n",
    "                                      inplace=True)"
   ]
  },
  {
   "cell_type": "markdown",
   "id": "56174f1a-c563-4273-a42b-1b931cc0475f",
   "metadata": {
    "jp-MarkdownHeadingCollapsed": true
   },
   "source": [
    "### Employment_Status"
   ]
  },
  {
   "cell_type": "code",
   "execution_count": 37,
   "id": "2116b00e-cb62-4251-95a5-a22f5f8a31e1",
   "metadata": {},
   "outputs": [
    {
     "data": {
      "text/plain": [
       "Employment_Status\n",
       "Children or Armed Forces         474.257536\n",
       "Choice Part-Time                 770.288136\n",
       "Full-Time                        736.727895\n",
       "Not Working                        0.000000\n",
       "Part-Time (Usually Full-Time)    757.970000\n",
       "Part-Time (Usually Part-Time)    807.064103\n",
       "Seeking Full-Time                 94.400000\n",
       "Seeking Part-Time                367.584416\n",
       "Name: Income, dtype: float64"
      ]
     },
     "execution_count": 37,
     "metadata": {},
     "output_type": "execute_result"
    }
   ],
   "source": [
    "train_copy.groupby(['Employment_Status'])['Income'].mean()"
   ]
  },
  {
   "cell_type": "code",
   "execution_count": 38,
   "id": "3d341ca0-b213-4b8f-b42c-e21c6635b122",
   "metadata": {},
   "outputs": [
    {
     "name": "stderr",
     "output_type": "stream",
     "text": [
      "C:\\Users\\82102\\AppData\\Local\\Temp\\ipykernel_14476\\2598689630.py:1: FutureWarning: A value is trying to be set on a copy of a DataFrame or Series through chained assignment using an inplace method.\n",
      "The behavior will change in pandas 3.0. This inplace method will never work because the intermediate object on which we are setting values always behaves as a copy.\n",
      "\n",
      "For example, when doing 'df[col].method(value, inplace=True)', try using 'df.method({col: value}, inplace=True)' or df[col] = df[col].method(value) instead, to perform the operation inplace on the original object.\n",
      "\n",
      "\n",
      "  train_copy['Employment_Status'].replace({'Full-Time': 4,\n",
      "C:\\Users\\82102\\AppData\\Local\\Temp\\ipykernel_14476\\2598689630.py:1: FutureWarning: Downcasting behavior in `replace` is deprecated and will be removed in a future version. To retain the old behavior, explicitly call `result.infer_objects(copy=False)`. To opt-in to the future behavior, set `pd.set_option('future.no_silent_downcasting', True)`\n",
      "  train_copy['Employment_Status'].replace({'Full-Time': 4,\n",
      "C:\\Users\\82102\\AppData\\Local\\Temp\\ipykernel_14476\\2598689630.py:10: FutureWarning: A value is trying to be set on a copy of a DataFrame or Series through chained assignment using an inplace method.\n",
      "The behavior will change in pandas 3.0. This inplace method will never work because the intermediate object on which we are setting values always behaves as a copy.\n",
      "\n",
      "For example, when doing 'df[col].method(value, inplace=True)', try using 'df.method({col: value}, inplace=True)' or df[col] = df[col].method(value) instead, to perform the operation inplace on the original object.\n",
      "\n",
      "\n",
      "  test['Employment_Status'].replace({'Full-Time': 4,\n",
      "C:\\Users\\82102\\AppData\\Local\\Temp\\ipykernel_14476\\2598689630.py:10: FutureWarning: Downcasting behavior in `replace` is deprecated and will be removed in a future version. To retain the old behavior, explicitly call `result.infer_objects(copy=False)`. To opt-in to the future behavior, set `pd.set_option('future.no_silent_downcasting', True)`\n",
      "  test['Employment_Status'].replace({'Full-Time': 4,\n"
     ]
    }
   ],
   "source": [
    "train_copy['Employment_Status'].replace({'Full-Time': 4, \n",
    "                                         'Children or Armed Forces': 3, \n",
    "                                         'Not Working': 0, \n",
    "                                         'Seeking Full-Time': 1, \n",
    "                                         'Choice Part-Time': 6, \n",
    "                                         'Part-Time (Usually Part-Time)': 7, \n",
    "                                         'Part-Time (Usually Full-Time)': 5, \n",
    "                                         'Seeking Part-Time': 2}, \n",
    "                                         inplace = True)\n",
    "test['Employment_Status'].replace({'Full-Time': 4, \n",
    "                                         'Children or Armed Forces': 3, \n",
    "                                         'Not Working': 0, \n",
    "                                         'Seeking Full-Time': 1, \n",
    "                                         'Choice Part-Time': 6, \n",
    "                                         'Part-Time (Usually Part-Time)': 7, \n",
    "                                         'Part-Time (Usually Full-Time)': 5, \n",
    "                                         'Seeking Part-Time': 2}, \n",
    "                                         inplace = True)"
   ]
  },
  {
   "cell_type": "markdown",
   "id": "a977210b-f2b2-4877-908e-8459f759b0f0",
   "metadata": {
    "jp-MarkdownHeadingCollapsed": true
   },
   "source": [
    "### Industry_Status"
   ]
  },
  {
   "cell_type": "code",
   "execution_count": 39,
   "id": "d44493c8-00f4-4637-88fb-5898124d8ad7",
   "metadata": {},
   "outputs": [
    {
     "data": {
      "text/plain": [
       "Industry_Status\n",
       "Armed Forces                                       0.000000\n",
       "Not in universe or children                        0.000000\n",
       "Agriculture                                      391.362264\n",
       "Private Household Services                       412.500000\n",
       "Personal Services (except Private Household)     473.620047\n",
       "Retail                                           513.466879\n",
       "Social Services                                  582.238356\n",
       "Education                                        583.429952\n",
       "Forestry & Fisheries                             592.038462\n",
       "Finance Insurance & Real Estate                  618.214876\n",
       "Wholesale                                        618.806236\n",
       "Business & Repair                                622.131517\n",
       "Other professional services                      693.625793\n",
       "Medical (except Hospitals)                       700.891148\n",
       "Entertainment                                    703.643885\n",
       "Manufacturing (Non-durable)                      739.130826\n",
       "Construction                                     876.613993\n",
       "Manufacturing (Durable)                          894.625239\n",
       "Transportation                                   935.438776\n",
       "Communications                                   938.417526\n",
       "Public Administration                            959.973479\n",
       "Mining                                           975.700935\n",
       "Hospitals                                       1028.439560\n",
       "Utilities & Sanitary                            1112.676617\n",
       "Name: Income, dtype: float64"
      ]
     },
     "execution_count": 39,
     "metadata": {},
     "output_type": "execute_result"
    }
   ],
   "source": [
    "train_copy.groupby(['Industry_Status'])['Income'].mean().sort_values()"
   ]
  },
  {
   "cell_type": "code",
   "execution_count": 40,
   "id": "d77a9237-34d8-46fd-a844-b30b9f07d4a4",
   "metadata": {},
   "outputs": [],
   "source": [
    "Industry_Status_sort_list = train_copy.groupby(['Industry_Status'])['Income'].mean().sort_values().index"
   ]
  },
  {
   "cell_type": "code",
   "execution_count": 41,
   "id": "6d5add59-2cc8-4df2-aa9f-04162e166e45",
   "metadata": {},
   "outputs": [
    {
     "data": {
      "text/plain": [
       "Index(['Armed Forces', 'Not in universe or children', 'Agriculture',\n",
       "       'Private Household Services',\n",
       "       'Personal Services (except Private Household)', 'Retail',\n",
       "       'Social Services', 'Education', 'Forestry & Fisheries',\n",
       "       'Finance Insurance & Real Estate', 'Wholesale', 'Business & Repair',\n",
       "       'Other professional services', 'Medical (except Hospitals)',\n",
       "       'Entertainment', 'Manufacturing (Non-durable)', 'Construction',\n",
       "       'Manufacturing (Durable)', 'Transportation', 'Communications',\n",
       "       'Public Administration', 'Mining', 'Hospitals', 'Utilities & Sanitary'],\n",
       "      dtype='object', name='Industry_Status')"
      ]
     },
     "execution_count": 41,
     "metadata": {},
     "output_type": "execute_result"
    }
   ],
   "source": [
    "Industry_Status_sort_list"
   ]
  },
  {
   "cell_type": "code",
   "execution_count": 42,
   "id": "f637e340-112f-4a03-8aee-9b9432914c07",
   "metadata": {},
   "outputs": [],
   "source": [
    "for i in range(len(Industry_Status_sort_list)):\n",
    "    for j in range(len(train)):\n",
    "        if j not in del_ind_list:\n",
    "            if train_copy['Industry_Status'][j] == Industry_Status_sort_list[i]:\n",
    "                train_copy.loc[j, 'Industry_Status'] = i\n",
    "    for k in range(len(test)):\n",
    "        if test['Industry_Status'][k] == Industry_Status_sort_list[i]:\n",
    "            test.loc[k, 'Industry_Status'] = i"
   ]
  },
  {
   "cell_type": "markdown",
   "id": "1f1ab538-fd7f-4c1d-8e95-79a26413de6e",
   "metadata": {
    "jp-MarkdownHeadingCollapsed": true
   },
   "source": [
    "### Occupation_Status"
   ]
  },
  {
   "cell_type": "code",
   "execution_count": 43,
   "id": "1e6c25ae-ca7c-474b-9725-33d0df564f12",
   "metadata": {},
   "outputs": [],
   "source": [
    "Occupation_Status_sort_list = train_copy.groupby(['Occupation_Status'])['Income'].mean().sort_values().index"
   ]
  },
  {
   "cell_type": "code",
   "execution_count": 44,
   "id": "72dfb42c-cca6-4896-a176-fcce9168a93b",
   "metadata": {},
   "outputs": [],
   "source": [
    "for i in range(len(Occupation_Status_sort_list)):\n",
    "    for j in range(len(train)):\n",
    "        if j not in del_ind_list:\n",
    "            if train_copy['Occupation_Status'][j] == Occupation_Status_sort_list[i]:\n",
    "                train_copy.loc[j, 'Occupation_Status'] = i\n",
    "    for k in range(len(test)):\n",
    "        if test['Occupation_Status'][k] == Occupation_Status_sort_list[i]:\n",
    "            test.loc[k, 'Occupation_Status'] = i"
   ]
  },
  {
   "cell_type": "markdown",
   "id": "c3210f97-ae3f-4c38-93df-7d15aa53c4b8",
   "metadata": {
    "jp-MarkdownHeadingCollapsed": true
   },
   "source": [
    "### Race"
   ]
  },
  {
   "cell_type": "code",
   "execution_count": 45,
   "id": "4f56cbdb-17f8-4d15-a960-16d50fd9d8ac",
   "metadata": {},
   "outputs": [],
   "source": [
    "Race_sort_list = train_copy.groupby(['Race'])['Income'].mean().sort_values().index\n",
    "\n",
    "for i in range(len(Race_sort_list)):\n",
    "    for j in range(len(train)):\n",
    "        if j not in del_ind_list:\n",
    "            if train_copy['Race'][j] == Race_sort_list[i]:\n",
    "                train_copy.loc[j, 'Race'] = i\n",
    "    for k in range(len(test)):\n",
    "        if test['Race'][k] == Race_sort_list[i]:\n",
    "            test.loc[k, 'Race'] = i"
   ]
  },
  {
   "cell_type": "markdown",
   "id": "3a8825ab-d210-49a7-9058-0956fed36faa",
   "metadata": {
    "jp-MarkdownHeadingCollapsed": true
   },
   "source": [
    "### Hispanic_Origin"
   ]
  },
  {
   "cell_type": "code",
   "execution_count": 46,
   "id": "7b9d2eb9-7ccc-4bbc-9384-0cdd30cc8e26",
   "metadata": {},
   "outputs": [],
   "source": [
    "Hispanic_Origin_sort_list = train_copy.groupby(['Hispanic_Origin'])['Income'].mean().sort_values().index\n",
    "\n",
    "for i in range(len(Hispanic_Origin_sort_list)):\n",
    "    for j in range(len(train)):\n",
    "        if j not in del_ind_list:\n",
    "            if train_copy['Hispanic_Origin'][j] == Hispanic_Origin_sort_list[i]:\n",
    "                train_copy.loc[j, 'Hispanic_Origin'] = i\n",
    "    for k in range(len(test)):\n",
    "        if test['Hispanic_Origin'][k] == Hispanic_Origin_sort_list[i]:\n",
    "            test.loc[k, 'Hispanic_Origin'] = i"
   ]
  },
  {
   "cell_type": "markdown",
   "id": "04996e48-61f8-4987-a40a-2c313fe547b2",
   "metadata": {
    "jp-MarkdownHeadingCollapsed": true
   },
   "source": [
    "### Martial_Status"
   ]
  },
  {
   "cell_type": "code",
   "execution_count": 47,
   "id": "ff5d5a76-49f2-4140-abe6-4d77b076e0ac",
   "metadata": {},
   "outputs": [],
   "source": [
    "Martial_Status_sort_list = train_copy.groupby(['Martial_Status'])['Income'].mean().sort_values().index\n",
    "\n",
    "for i in range(len(Martial_Status_sort_list)):\n",
    "    for j in range(len(train)):\n",
    "        if j not in del_ind_list:\n",
    "            if train_copy['Martial_Status'][j] == Martial_Status_sort_list[i]:\n",
    "                train_copy.loc[j, 'Martial_Status'] = i\n",
    "    for k in range(len(test)):\n",
    "        if test['Martial_Status'][k] == Martial_Status_sort_list[i]:\n",
    "            test.loc[k, 'Martial_Status'] = i"
   ]
  },
  {
   "cell_type": "markdown",
   "id": "14ae98b0-3f10-46da-9154-e9e0d16f7cd5",
   "metadata": {
    "jp-MarkdownHeadingCollapsed": true
   },
   "source": [
    "### Household_Status (분기점)"
   ]
  },
  {
   "cell_type": "markdown",
   "id": "22647739-025c-4ac7-a9f7-4398f8dd91de",
   "metadata": {},
   "source": [
    "1. Household_Summary로 충분하니 Household_Status를 삭제한다.\n",
    "2. 둘 다 사용한다.\n",
    "\n",
    "일단 2로 함"
   ]
  },
  {
   "cell_type": "markdown",
   "id": "046dcfe3-3648-41d2-ba79-6262181cdbcb",
   "metadata": {},
   "source": [
    "여기 결측치가 있었으니 채워주고"
   ]
  },
  {
   "cell_type": "code",
   "execution_count": 48,
   "id": "19146df7-c01d-488c-8bb1-712216031299",
   "metadata": {},
   "outputs": [
    {
     "data": {
      "text/html": [
       "<div>\n",
       "<style scoped>\n",
       "    .dataframe tbody tr th:only-of-type {\n",
       "        vertical-align: middle;\n",
       "    }\n",
       "\n",
       "    .dataframe tbody tr th {\n",
       "        vertical-align: top;\n",
       "    }\n",
       "\n",
       "    .dataframe thead th {\n",
       "        text-align: right;\n",
       "    }\n",
       "</style>\n",
       "<table border=\"1\" class=\"dataframe\">\n",
       "  <thead>\n",
       "    <tr style=\"text-align: right;\">\n",
       "      <th></th>\n",
       "      <th>Age</th>\n",
       "      <th>Gender</th>\n",
       "      <th>Education_Status</th>\n",
       "      <th>Employment_Status</th>\n",
       "      <th>Working_Week (Yearly)</th>\n",
       "      <th>Industry_Status</th>\n",
       "      <th>Occupation_Status</th>\n",
       "      <th>Race</th>\n",
       "      <th>Hispanic_Origin</th>\n",
       "      <th>Martial_Status</th>\n",
       "      <th>...</th>\n",
       "      <th>Citizenship</th>\n",
       "      <th>Birth_Country</th>\n",
       "      <th>Birth_Country (Father)</th>\n",
       "      <th>Birth_Country (Mother)</th>\n",
       "      <th>Tax_Status</th>\n",
       "      <th>Gains</th>\n",
       "      <th>Losses</th>\n",
       "      <th>Dividends</th>\n",
       "      <th>Income_Status</th>\n",
       "      <th>No_Income_Level</th>\n",
       "    </tr>\n",
       "  </thead>\n",
       "  <tbody>\n",
       "    <tr>\n",
       "      <th>2659</th>\n",
       "      <td>20</td>\n",
       "      <td>0</td>\n",
       "      <td>12</td>\n",
       "      <td>3</td>\n",
       "      <td>0</td>\n",
       "      <td>1</td>\n",
       "      <td>1</td>\n",
       "      <td>1</td>\n",
       "      <td>8</td>\n",
       "      <td>1</td>\n",
       "      <td>...</td>\n",
       "      <td>Native</td>\n",
       "      <td>US</td>\n",
       "      <td>US</td>\n",
       "      <td>US</td>\n",
       "      <td>Nonfiler</td>\n",
       "      <td>0</td>\n",
       "      <td>0</td>\n",
       "      <td>0</td>\n",
       "      <td>Under Median</td>\n",
       "      <td>12</td>\n",
       "    </tr>\n",
       "  </tbody>\n",
       "</table>\n",
       "<p>1 rows × 22 columns</p>\n",
       "</div>"
      ],
      "text/plain": [
       "      Age  Gender Education_Status  Employment_Status  Working_Week (Yearly)  \\\n",
       "2659   20       0               12                  3                      0   \n",
       "\n",
       "     Industry_Status Occupation_Status Race Hispanic_Origin Martial_Status  \\\n",
       "2659               1                 1    1               8              1   \n",
       "\n",
       "      ... Citizenship Birth_Country Birth_Country (Father)  \\\n",
       "2659  ...      Native            US                     US   \n",
       "\n",
       "     Birth_Country (Mother) Tax_Status Gains Losses  Dividends  Income_Status  \\\n",
       "2659                     US   Nonfiler     0      0          0   Under Median   \n",
       "\n",
       "      No_Income_Level  \n",
       "2659               12  \n",
       "\n",
       "[1 rows x 22 columns]"
      ]
     },
     "execution_count": 48,
     "metadata": {},
     "output_type": "execute_result"
    }
   ],
   "source": [
    "test[test.Household_Status.isna()]"
   ]
  },
  {
   "cell_type": "code",
   "execution_count": 49,
   "id": "af1f52d5-478a-45b7-b76d-5c47a2b746c5",
   "metadata": {},
   "outputs": [
    {
     "name": "stderr",
     "output_type": "stream",
     "text": [
      "C:\\Users\\82102\\AppData\\Local\\Temp\\ipykernel_14476\\2162220367.py:1: FutureWarning: ChainedAssignmentError: behaviour will change in pandas 3.0!\n",
      "You are setting values through chained assignment. Currently this works in certain cases, but when using Copy-on-Write (which will become the default behaviour in pandas 3.0) this will never work to update the original DataFrame or Series, because the intermediate object on which we are setting values will behave as a copy.\n",
      "A typical example is when you are setting values in a column of a DataFrame, like:\n",
      "\n",
      "df[\"col\"][row_indexer] = value\n",
      "\n",
      "Use `df.loc[row_indexer, \"col\"] = values` instead, to perform the assignment in a single step and ensure this keeps updating the original `df`.\n",
      "\n",
      "See the caveats in the documentation: https://pandas.pydata.org/pandas-docs/stable/user_guide/indexing.html#returning-a-view-versus-a-copy\n",
      "\n",
      "  test['Household_Status'][2659] = 'Other Relative 18+ never married Responsible Person of subfamily'\n",
      "C:\\Users\\82102\\AppData\\Local\\Temp\\ipykernel_14476\\2162220367.py:1: SettingWithCopyWarning: \n",
      "A value is trying to be set on a copy of a slice from a DataFrame\n",
      "\n",
      "See the caveats in the documentation: https://pandas.pydata.org/pandas-docs/stable/user_guide/indexing.html#returning-a-view-versus-a-copy\n",
      "  test['Household_Status'][2659] = 'Other Relative 18+ never married Responsible Person of subfamily'\n"
     ]
    }
   ],
   "source": [
    "test['Household_Status'][2659] = 'Other Relative 18+ never married Responsible Person of subfamily'"
   ]
  },
  {
   "cell_type": "code",
   "execution_count": 50,
   "id": "d20f7f29-cf53-4a0f-98d7-1c6b9694822b",
   "metadata": {},
   "outputs": [],
   "source": [
    "Household_Status_sort_list = train_copy.groupby(['Household_Status'])['Income'].mean().sort_values().index\n",
    "\n",
    "for i in range(len(Household_Status_sort_list)):\n",
    "    for j in range(len(train)):\n",
    "        if j not in del_ind_list:\n",
    "            if train_copy['Household_Status'][j] == Household_Status_sort_list[i]:\n",
    "                train_copy.loc[j, 'Household_Status'] = i\n",
    "    for k in range(len(test)):\n",
    "        if test['Household_Status'][k] == Household_Status_sort_list[i]:\n",
    "            test.loc[k, 'Household_Status'] = i"
   ]
  },
  {
   "cell_type": "markdown",
   "id": "f56ee4cc-878b-4965-ae4a-c263f2091593",
   "metadata": {
    "jp-MarkdownHeadingCollapsed": true
   },
   "source": [
    "### Household_Summary"
   ]
  },
  {
   "cell_type": "code",
   "execution_count": 51,
   "id": "d93daf72-ba53-43a0-9098-9370746c890c",
   "metadata": {},
   "outputs": [],
   "source": [
    "Household_Summary_sort_list = train_copy.groupby(['Household_Summary'])['Income'].mean().sort_values().index\n",
    "\n",
    "for i in range(len(Household_Summary_sort_list)):\n",
    "    for j in range(len(train)):\n",
    "        if j not in del_ind_list:\n",
    "            if train_copy['Household_Summary'][j] == Household_Summary_sort_list[i]:\n",
    "                train_copy.loc[j, 'Household_Summary'] = i\n",
    "    for k in range(len(test)):\n",
    "        if test['Household_Summary'][k] == Household_Summary_sort_list[i]:\n",
    "            test.loc[k, 'Household_Summary'] = i"
   ]
  },
  {
   "cell_type": "markdown",
   "id": "250eee8a-4838-4368-b848-2b2df4cc7a53",
   "metadata": {
    "jp-MarkdownHeadingCollapsed": true
   },
   "source": [
    "### Citizenship"
   ]
  },
  {
   "cell_type": "code",
   "execution_count": 52,
   "id": "33e8af16-bc78-429f-b118-7d0f9d259e60",
   "metadata": {},
   "outputs": [],
   "source": [
    "Citizenship_sort_list = train_copy.groupby(['Citizenship'])['Income'].mean().sort_values().index\n",
    "\n",
    "for i in range(len(Citizenship_sort_list)):\n",
    "    for j in range(len(train)):\n",
    "        if j not in del_ind_list:\n",
    "            if train_copy['Citizenship'][j] == Citizenship_sort_list[i]:\n",
    "                train_copy.loc[j, 'Citizenship'] = i\n",
    "    for k in range(len(test)):\n",
    "        if test['Citizenship'][k] == Citizenship_sort_list[i]:\n",
    "            test.loc[k, 'Citizenship'] = i"
   ]
  },
  {
   "cell_type": "markdown",
   "id": "c71aff78-f2b9-4481-bc57-eea8d16ece07",
   "metadata": {},
   "source": [
    "### Birth_Country, Birth_Country (Father), Birth_Country (Mother) (분기점)"
   ]
  },
  {
   "cell_type": "markdown",
   "id": "1545ae73-aef8-4b44-af36-b8a901dad2f2",
   "metadata": {},
   "source": [
    "1. 안쓴다\n",
    "2. 쓴다\n",
    "\n",
    "일단 2"
   ]
  },
  {
   "cell_type": "code",
   "execution_count": 53,
   "id": "37c4d29e-3321-4544-9740-bf78c6d14941",
   "metadata": {},
   "outputs": [
    {
     "name": "stderr",
     "output_type": "stream",
     "text": [
      "100%|██████████████████████████████████████████████████████████████████████████████████| 43/43 [00:40<00:00,  1.06it/s]\n"
     ]
    }
   ],
   "source": [
    "Birth_Country_sort_list = train_copy.groupby(['Birth_Country'])['Income'].mean().sort_values().index\n",
    "\n",
    "for i in tqdm(range(len(Birth_Country_sort_list))):\n",
    "    for j in range(len(train)):\n",
    "        if j not in del_ind_list:\n",
    "            if train_copy['Birth_Country'][j] == Birth_Country_sort_list[i]:\n",
    "                train_copy.loc[j, 'Birth_Country'] = i\n",
    "            if train_copy['Birth_Country (Father)'][j] == Birth_Country_sort_list[i]:\n",
    "                train_copy.loc[j, 'Birth_Country (Father)'] = i\n",
    "            if train_copy['Birth_Country (Mother)'][j] == Birth_Country_sort_list[i]:\n",
    "                train_copy.loc[j, 'Birth_Country (Mother)'] = i\n",
    "    for k in range(len(test)):\n",
    "        if test['Birth_Country'][k] == Birth_Country_sort_list[i]:\n",
    "            test.loc[k, 'Birth_Country'] = i\n",
    "        if test['Birth_Country (Father)'][k] == Birth_Country_sort_list[i]:\n",
    "            test.loc[k, 'Birth_Country (Father)'] = i\n",
    "        if test['Birth_Country (Mother)'][k] == Birth_Country_sort_list[i]:\n",
    "            test.loc[k, 'Birth_Country (Mother)'] = i"
   ]
  },
  {
   "cell_type": "markdown",
   "id": "4c241735-659d-4132-ba48-1ff024c26490",
   "metadata": {
    "jp-MarkdownHeadingCollapsed": true
   },
   "source": [
    "### Tax_Status"
   ]
  },
  {
   "cell_type": "code",
   "execution_count": 54,
   "id": "14234d25-1589-4f1e-adb2-ac9b42f93bbe",
   "metadata": {},
   "outputs": [],
   "source": [
    "Tax_Status_sort_list = train_copy.groupby(['Tax_Status'])['Income'].mean().sort_values().index\n",
    "\n",
    "for i in range(len(Tax_Status_sort_list)):\n",
    "    for j in range(len(train)):\n",
    "        if j not in del_ind_list:\n",
    "            if train_copy['Tax_Status'][j] == Tax_Status_sort_list[i]:\n",
    "                train_copy.loc[j, 'Tax_Status'] = i\n",
    "    for k in range(len(test)):\n",
    "        if test['Tax_Status'][k] == Tax_Status_sort_list[i]:\n",
    "            test.loc[k, 'Tax_Status'] = i"
   ]
  },
  {
   "cell_type": "markdown",
   "id": "fa66fb98-0ca6-4c09-825b-a0dc0bd5ecb5",
   "metadata": {
    "jp-MarkdownHeadingCollapsed": true
   },
   "source": [
    "### Income_Status"
   ]
  },
  {
   "cell_type": "code",
   "execution_count": 55,
   "id": "e0df9662-f2f0-4fa1-8cd7-f22354ac3183",
   "metadata": {},
   "outputs": [],
   "source": [
    "Income_Status_sort_list = train_copy.groupby(['Income_Status'])['Income'].mean().sort_values().index\n",
    "\n",
    "for i in range(len(Income_Status_sort_list)):\n",
    "    for j in range(len(train)):\n",
    "        if j not in del_ind_list:\n",
    "            if train_copy['Income_Status'][j] == Income_Status_sort_list[i]:\n",
    "                train_copy.loc[j, 'Income_Status'] = i\n",
    "    for k in range(len(test)):\n",
    "        if test['Income_Status'][k] == Income_Status_sort_list[i]:\n",
    "            test.loc[k, 'Income_Status'] = i"
   ]
  },
  {
   "cell_type": "markdown",
   "id": "14808c37-a589-4f0c-bae7-a09faaa46d21",
   "metadata": {
    "jp-MarkdownHeadingCollapsed": true
   },
   "source": [
    "## 수치형 데이터 다루기(분기점)"
   ]
  },
  {
   "cell_type": "markdown",
   "id": "262f18d8-dbf1-4d63-824c-5d35b3dae77f",
   "metadata": {},
   "source": [
    "1. 수치형 데이터 그대로 사용\n",
    "2. 처리하고 사용\n",
    "\n",
    "일단 1로"
   ]
  },
  {
   "cell_type": "markdown",
   "id": "53ed44b2-24e7-4f04-96db-49f72cdd1985",
   "metadata": {},
   "source": [
    "## 데이터 저장 건너뛰고 바로 학습으로"
   ]
  },
  {
   "cell_type": "markdown",
   "id": "28f62cc8-ebe5-4631-a41e-530bf1285205",
   "metadata": {},
   "source": [
    "# 학습"
   ]
  },
  {
   "cell_type": "code",
   "execution_count": 56,
   "id": "726fbdb7-ceab-438b-9bde-8bd34afdce3d",
   "metadata": {},
   "outputs": [],
   "source": [
    "train_copy_copy = train_copy.copy()\n",
    "test_copy_copy = test.copy()"
   ]
  },
  {
   "cell_type": "markdown",
   "id": "a1fe461d-f71a-4539-a69e-3b137a7bbc5b",
   "metadata": {},
   "source": [
    "## RandomForestRegressor"
   ]
  },
  {
   "cell_type": "code",
   "execution_count": 57,
   "id": "be30aab1-df80-4c36-bcbb-77e3a2f0e0db",
   "metadata": {},
   "outputs": [],
   "source": [
    "train_x = train_copy.drop('Income', axis=1)\n",
    "train_y = train_copy['Income']"
   ]
  },
  {
   "cell_type": "code",
   "execution_count": 58,
   "id": "3231cc89-d275-444b-91b5-c7884f5a8a37",
   "metadata": {},
   "outputs": [
    {
     "data": {
      "text/html": [
       "<div>\n",
       "<style scoped>\n",
       "    .dataframe tbody tr th:only-of-type {\n",
       "        vertical-align: middle;\n",
       "    }\n",
       "\n",
       "    .dataframe tbody tr th {\n",
       "        vertical-align: top;\n",
       "    }\n",
       "\n",
       "    .dataframe thead th {\n",
       "        text-align: right;\n",
       "    }\n",
       "</style>\n",
       "<table border=\"1\" class=\"dataframe\">\n",
       "  <thead>\n",
       "    <tr style=\"text-align: right;\">\n",
       "      <th></th>\n",
       "      <th>Age</th>\n",
       "      <th>Gender</th>\n",
       "      <th>Education_Status</th>\n",
       "      <th>Employment_Status</th>\n",
       "      <th>Working_Week (Yearly)</th>\n",
       "      <th>Industry_Status</th>\n",
       "      <th>Occupation_Status</th>\n",
       "      <th>Race</th>\n",
       "      <th>Hispanic_Origin</th>\n",
       "      <th>Martial_Status</th>\n",
       "      <th>...</th>\n",
       "      <th>Citizenship</th>\n",
       "      <th>Birth_Country</th>\n",
       "      <th>Birth_Country (Father)</th>\n",
       "      <th>Birth_Country (Mother)</th>\n",
       "      <th>Tax_Status</th>\n",
       "      <th>Gains</th>\n",
       "      <th>Losses</th>\n",
       "      <th>Dividends</th>\n",
       "      <th>Income_Status</th>\n",
       "      <th>No_Income_Level</th>\n",
       "    </tr>\n",
       "  </thead>\n",
       "  <tbody>\n",
       "    <tr>\n",
       "      <th>0</th>\n",
       "      <td>63</td>\n",
       "      <td>1</td>\n",
       "      <td>4</td>\n",
       "      <td>4</td>\n",
       "      <td>4</td>\n",
       "      <td>6</td>\n",
       "      <td>5</td>\n",
       "      <td>4</td>\n",
       "      <td>8</td>\n",
       "      <td>4</td>\n",
       "      <td>...</td>\n",
       "      <td>3</td>\n",
       "      <td>31</td>\n",
       "      <td>31</td>\n",
       "      <td>31</td>\n",
       "      <td>0</td>\n",
       "      <td>0</td>\n",
       "      <td>0</td>\n",
       "      <td>0</td>\n",
       "      <td>1</td>\n",
       "      <td>4</td>\n",
       "    </tr>\n",
       "    <tr>\n",
       "      <th>1</th>\n",
       "      <td>37</td>\n",
       "      <td>1</td>\n",
       "      <td>16</td>\n",
       "      <td>4</td>\n",
       "      <td>52</td>\n",
       "      <td>14</td>\n",
       "      <td>5</td>\n",
       "      <td>4</td>\n",
       "      <td>8</td>\n",
       "      <td>3</td>\n",
       "      <td>...</td>\n",
       "      <td>3</td>\n",
       "      <td>31</td>\n",
       "      <td>31</td>\n",
       "      <td>31</td>\n",
       "      <td>3</td>\n",
       "      <td>0</td>\n",
       "      <td>0</td>\n",
       "      <td>0</td>\n",
       "      <td>0</td>\n",
       "      <td>16</td>\n",
       "    </tr>\n",
       "    <tr>\n",
       "      <th>2</th>\n",
       "      <td>58</td>\n",
       "      <td>0</td>\n",
       "      <td>13</td>\n",
       "      <td>4</td>\n",
       "      <td>52</td>\n",
       "      <td>15</td>\n",
       "      <td>8</td>\n",
       "      <td>1</td>\n",
       "      <td>8</td>\n",
       "      <td>4</td>\n",
       "      <td>...</td>\n",
       "      <td>3</td>\n",
       "      <td>31</td>\n",
       "      <td>31</td>\n",
       "      <td>31</td>\n",
       "      <td>5</td>\n",
       "      <td>3411</td>\n",
       "      <td>0</td>\n",
       "      <td>0</td>\n",
       "      <td>0</td>\n",
       "      <td>13</td>\n",
       "    </tr>\n",
       "    <tr>\n",
       "      <th>3</th>\n",
       "      <td>44</td>\n",
       "      <td>1</td>\n",
       "      <td>13</td>\n",
       "      <td>4</td>\n",
       "      <td>52</td>\n",
       "      <td>5</td>\n",
       "      <td>13</td>\n",
       "      <td>4</td>\n",
       "      <td>8</td>\n",
       "      <td>5</td>\n",
       "      <td>...</td>\n",
       "      <td>3</td>\n",
       "      <td>31</td>\n",
       "      <td>31</td>\n",
       "      <td>31</td>\n",
       "      <td>3</td>\n",
       "      <td>0</td>\n",
       "      <td>0</td>\n",
       "      <td>0</td>\n",
       "      <td>0</td>\n",
       "      <td>13</td>\n",
       "    </tr>\n",
       "    <tr>\n",
       "      <th>4</th>\n",
       "      <td>37</td>\n",
       "      <td>0</td>\n",
       "      <td>13</td>\n",
       "      <td>4</td>\n",
       "      <td>52</td>\n",
       "      <td>5</td>\n",
       "      <td>4</td>\n",
       "      <td>4</td>\n",
       "      <td>8</td>\n",
       "      <td>5</td>\n",
       "      <td>...</td>\n",
       "      <td>3</td>\n",
       "      <td>31</td>\n",
       "      <td>31</td>\n",
       "      <td>31</td>\n",
       "      <td>4</td>\n",
       "      <td>0</td>\n",
       "      <td>0</td>\n",
       "      <td>0</td>\n",
       "      <td>1</td>\n",
       "      <td>13</td>\n",
       "    </tr>\n",
       "    <tr>\n",
       "      <th>...</th>\n",
       "      <td>...</td>\n",
       "      <td>...</td>\n",
       "      <td>...</td>\n",
       "      <td>...</td>\n",
       "      <td>...</td>\n",
       "      <td>...</td>\n",
       "      <td>...</td>\n",
       "      <td>...</td>\n",
       "      <td>...</td>\n",
       "      <td>...</td>\n",
       "      <td>...</td>\n",
       "      <td>...</td>\n",
       "      <td>...</td>\n",
       "      <td>...</td>\n",
       "      <td>...</td>\n",
       "      <td>...</td>\n",
       "      <td>...</td>\n",
       "      <td>...</td>\n",
       "      <td>...</td>\n",
       "      <td>...</td>\n",
       "      <td>...</td>\n",
       "    </tr>\n",
       "    <tr>\n",
       "      <th>19995</th>\n",
       "      <td>33</td>\n",
       "      <td>1</td>\n",
       "      <td>13</td>\n",
       "      <td>3</td>\n",
       "      <td>52</td>\n",
       "      <td>17</td>\n",
       "      <td>7</td>\n",
       "      <td>4</td>\n",
       "      <td>8</td>\n",
       "      <td>1</td>\n",
       "      <td>...</td>\n",
       "      <td>3</td>\n",
       "      <td>31</td>\n",
       "      <td>31</td>\n",
       "      <td>31</td>\n",
       "      <td>3</td>\n",
       "      <td>0</td>\n",
       "      <td>0</td>\n",
       "      <td>0</td>\n",
       "      <td>0</td>\n",
       "      <td>13</td>\n",
       "    </tr>\n",
       "    <tr>\n",
       "      <th>19996</th>\n",
       "      <td>20</td>\n",
       "      <td>0</td>\n",
       "      <td>12</td>\n",
       "      <td>4</td>\n",
       "      <td>12</td>\n",
       "      <td>7</td>\n",
       "      <td>8</td>\n",
       "      <td>4</td>\n",
       "      <td>7</td>\n",
       "      <td>1</td>\n",
       "      <td>...</td>\n",
       "      <td>3</td>\n",
       "      <td>31</td>\n",
       "      <td>14</td>\n",
       "      <td>14</td>\n",
       "      <td>0</td>\n",
       "      <td>0</td>\n",
       "      <td>0</td>\n",
       "      <td>0</td>\n",
       "      <td>0</td>\n",
       "      <td>12</td>\n",
       "    </tr>\n",
       "    <tr>\n",
       "      <th>19997</th>\n",
       "      <td>22</td>\n",
       "      <td>1</td>\n",
       "      <td>12</td>\n",
       "      <td>3</td>\n",
       "      <td>52</td>\n",
       "      <td>18</td>\n",
       "      <td>13</td>\n",
       "      <td>4</td>\n",
       "      <td>8</td>\n",
       "      <td>1</td>\n",
       "      <td>...</td>\n",
       "      <td>3</td>\n",
       "      <td>31</td>\n",
       "      <td>31</td>\n",
       "      <td>31</td>\n",
       "      <td>3</td>\n",
       "      <td>0</td>\n",
       "      <td>0</td>\n",
       "      <td>0</td>\n",
       "      <td>1</td>\n",
       "      <td>12</td>\n",
       "    </tr>\n",
       "    <tr>\n",
       "      <th>19998</th>\n",
       "      <td>76</td>\n",
       "      <td>0</td>\n",
       "      <td>13</td>\n",
       "      <td>0</td>\n",
       "      <td>0</td>\n",
       "      <td>1</td>\n",
       "      <td>1</td>\n",
       "      <td>4</td>\n",
       "      <td>8</td>\n",
       "      <td>0</td>\n",
       "      <td>...</td>\n",
       "      <td>3</td>\n",
       "      <td>31</td>\n",
       "      <td>38</td>\n",
       "      <td>36</td>\n",
       "      <td>3</td>\n",
       "      <td>0</td>\n",
       "      <td>0</td>\n",
       "      <td>0</td>\n",
       "      <td>0</td>\n",
       "      <td>13</td>\n",
       "    </tr>\n",
       "    <tr>\n",
       "      <th>19999</th>\n",
       "      <td>41</td>\n",
       "      <td>0</td>\n",
       "      <td>13</td>\n",
       "      <td>3</td>\n",
       "      <td>52</td>\n",
       "      <td>20</td>\n",
       "      <td>8</td>\n",
       "      <td>4</td>\n",
       "      <td>8</td>\n",
       "      <td>3</td>\n",
       "      <td>...</td>\n",
       "      <td>3</td>\n",
       "      <td>31</td>\n",
       "      <td>31</td>\n",
       "      <td>31</td>\n",
       "      <td>4</td>\n",
       "      <td>0</td>\n",
       "      <td>0</td>\n",
       "      <td>0</td>\n",
       "      <td>0</td>\n",
       "      <td>13</td>\n",
       "    </tr>\n",
       "  </tbody>\n",
       "</table>\n",
       "<p>19948 rows × 22 columns</p>\n",
       "</div>"
      ],
      "text/plain": [
       "       Age  Gender Education_Status  Employment_Status  Working_Week (Yearly)  \\\n",
       "0       63       1                4                  4                      4   \n",
       "1       37       1               16                  4                     52   \n",
       "2       58       0               13                  4                     52   \n",
       "3       44       1               13                  4                     52   \n",
       "4       37       0               13                  4                     52   \n",
       "...    ...     ...              ...                ...                    ...   \n",
       "19995   33       1               13                  3                     52   \n",
       "19996   20       0               12                  4                     12   \n",
       "19997   22       1               12                  3                     52   \n",
       "19998   76       0               13                  0                      0   \n",
       "19999   41       0               13                  3                     52   \n",
       "\n",
       "      Industry_Status Occupation_Status Race Hispanic_Origin Martial_Status  \\\n",
       "0                   6                 5    4               8              4   \n",
       "1                  14                 5    4               8              3   \n",
       "2                  15                 8    1               8              4   \n",
       "3                   5                13    4               8              5   \n",
       "4                   5                 4    4               8              5   \n",
       "...               ...               ...  ...             ...            ...   \n",
       "19995              17                 7    4               8              1   \n",
       "19996               7                 8    4               7              1   \n",
       "19997              18                13    4               8              1   \n",
       "19998               1                 1    4               8              0   \n",
       "19999              20                 8    4               8              3   \n",
       "\n",
       "       ... Citizenship Birth_Country Birth_Country (Father)  \\\n",
       "0      ...           3            31                     31   \n",
       "1      ...           3            31                     31   \n",
       "2      ...           3            31                     31   \n",
       "3      ...           3            31                     31   \n",
       "4      ...           3            31                     31   \n",
       "...    ...         ...           ...                    ...   \n",
       "19995  ...           3            31                     31   \n",
       "19996  ...           3            31                     14   \n",
       "19997  ...           3            31                     31   \n",
       "19998  ...           3            31                     38   \n",
       "19999  ...           3            31                     31   \n",
       "\n",
       "      Birth_Country (Mother) Tax_Status Gains Losses  Dividends  \\\n",
       "0                         31          0     0      0          0   \n",
       "1                         31          3     0      0          0   \n",
       "2                         31          5  3411      0          0   \n",
       "3                         31          3     0      0          0   \n",
       "4                         31          4     0      0          0   \n",
       "...                      ...        ...   ...    ...        ...   \n",
       "19995                     31          3     0      0          0   \n",
       "19996                     14          0     0      0          0   \n",
       "19997                     31          3     0      0          0   \n",
       "19998                     36          3     0      0          0   \n",
       "19999                     31          4     0      0          0   \n",
       "\n",
       "       Income_Status  No_Income_Level  \n",
       "0                  1                4  \n",
       "1                  0               16  \n",
       "2                  0               13  \n",
       "3                  0               13  \n",
       "4                  1               13  \n",
       "...              ...              ...  \n",
       "19995              0               13  \n",
       "19996              0               12  \n",
       "19997              1               12  \n",
       "19998              0               13  \n",
       "19999              0               13  \n",
       "\n",
       "[19948 rows x 22 columns]"
      ]
     },
     "execution_count": 58,
     "metadata": {},
     "output_type": "execute_result"
    }
   ],
   "source": [
    "train_x"
   ]
  },
  {
   "cell_type": "code",
   "execution_count": 59,
   "id": "dfc2bbca-fb33-4adc-b412-f6e8ad0c54e7",
   "metadata": {},
   "outputs": [
    {
     "data": {
      "text/html": [
       "<div>\n",
       "<style scoped>\n",
       "    .dataframe tbody tr th:only-of-type {\n",
       "        vertical-align: middle;\n",
       "    }\n",
       "\n",
       "    .dataframe tbody tr th {\n",
       "        vertical-align: top;\n",
       "    }\n",
       "\n",
       "    .dataframe thead th {\n",
       "        text-align: right;\n",
       "    }\n",
       "</style>\n",
       "<table border=\"1\" class=\"dataframe\">\n",
       "  <thead>\n",
       "    <tr style=\"text-align: right;\">\n",
       "      <th></th>\n",
       "      <th>Age</th>\n",
       "      <th>Gender</th>\n",
       "      <th>Education_Status</th>\n",
       "      <th>Employment_Status</th>\n",
       "      <th>Working_Week (Yearly)</th>\n",
       "      <th>Industry_Status</th>\n",
       "      <th>Occupation_Status</th>\n",
       "      <th>Race</th>\n",
       "      <th>Hispanic_Origin</th>\n",
       "      <th>Martial_Status</th>\n",
       "      <th>...</th>\n",
       "      <th>Citizenship</th>\n",
       "      <th>Birth_Country</th>\n",
       "      <th>Birth_Country (Father)</th>\n",
       "      <th>Birth_Country (Mother)</th>\n",
       "      <th>Tax_Status</th>\n",
       "      <th>Gains</th>\n",
       "      <th>Losses</th>\n",
       "      <th>Dividends</th>\n",
       "      <th>Income_Status</th>\n",
       "      <th>No_Income_Level</th>\n",
       "    </tr>\n",
       "  </thead>\n",
       "  <tbody>\n",
       "    <tr>\n",
       "      <th>0</th>\n",
       "      <td>79</td>\n",
       "      <td>1</td>\n",
       "      <td>10</td>\n",
       "      <td>3</td>\n",
       "      <td>0</td>\n",
       "      <td>1</td>\n",
       "      <td>1</td>\n",
       "      <td>4</td>\n",
       "      <td>8</td>\n",
       "      <td>1</td>\n",
       "      <td>...</td>\n",
       "      <td>3</td>\n",
       "      <td>31</td>\n",
       "      <td>32</td>\n",
       "      <td>32</td>\n",
       "      <td>3</td>\n",
       "      <td>0</td>\n",
       "      <td>0</td>\n",
       "      <td>0</td>\n",
       "      <td>0</td>\n",
       "      <td>10</td>\n",
       "    </tr>\n",
       "    <tr>\n",
       "      <th>1</th>\n",
       "      <td>47</td>\n",
       "      <td>1</td>\n",
       "      <td>3</td>\n",
       "      <td>3</td>\n",
       "      <td>0</td>\n",
       "      <td>1</td>\n",
       "      <td>1</td>\n",
       "      <td>4</td>\n",
       "      <td>6</td>\n",
       "      <td>1</td>\n",
       "      <td>...</td>\n",
       "      <td>3</td>\n",
       "      <td>31</td>\n",
       "      <td>31</td>\n",
       "      <td>31</td>\n",
       "      <td>0</td>\n",
       "      <td>0</td>\n",
       "      <td>0</td>\n",
       "      <td>0</td>\n",
       "      <td>0</td>\n",
       "      <td>3</td>\n",
       "    </tr>\n",
       "    <tr>\n",
       "      <th>2</th>\n",
       "      <td>18</td>\n",
       "      <td>0</td>\n",
       "      <td>10</td>\n",
       "      <td>3</td>\n",
       "      <td>52</td>\n",
       "      <td>5</td>\n",
       "      <td>5</td>\n",
       "      <td>4</td>\n",
       "      <td>8</td>\n",
       "      <td>1</td>\n",
       "      <td>...</td>\n",
       "      <td>3</td>\n",
       "      <td>31</td>\n",
       "      <td>31</td>\n",
       "      <td>31</td>\n",
       "      <td>3</td>\n",
       "      <td>0</td>\n",
       "      <td>0</td>\n",
       "      <td>0</td>\n",
       "      <td>0</td>\n",
       "      <td>10</td>\n",
       "    </tr>\n",
       "    <tr>\n",
       "      <th>3</th>\n",
       "      <td>39</td>\n",
       "      <td>0</td>\n",
       "      <td>16</td>\n",
       "      <td>4</td>\n",
       "      <td>30</td>\n",
       "      <td>13</td>\n",
       "      <td>5</td>\n",
       "      <td>4</td>\n",
       "      <td>8</td>\n",
       "      <td>4</td>\n",
       "      <td>...</td>\n",
       "      <td>3</td>\n",
       "      <td>31</td>\n",
       "      <td>31</td>\n",
       "      <td>31</td>\n",
       "      <td>5</td>\n",
       "      <td>0</td>\n",
       "      <td>0</td>\n",
       "      <td>0</td>\n",
       "      <td>1</td>\n",
       "      <td>16</td>\n",
       "    </tr>\n",
       "    <tr>\n",
       "      <th>4</th>\n",
       "      <td>6</td>\n",
       "      <td>1</td>\n",
       "      <td>0</td>\n",
       "      <td>3</td>\n",
       "      <td>0</td>\n",
       "      <td>1</td>\n",
       "      <td>1</td>\n",
       "      <td>4</td>\n",
       "      <td>7</td>\n",
       "      <td>1</td>\n",
       "      <td>...</td>\n",
       "      <td>3</td>\n",
       "      <td>31</td>\n",
       "      <td>31</td>\n",
       "      <td>31</td>\n",
       "      <td>0</td>\n",
       "      <td>0</td>\n",
       "      <td>0</td>\n",
       "      <td>0</td>\n",
       "      <td>1</td>\n",
       "      <td>0</td>\n",
       "    </tr>\n",
       "    <tr>\n",
       "      <th>...</th>\n",
       "      <td>...</td>\n",
       "      <td>...</td>\n",
       "      <td>...</td>\n",
       "      <td>...</td>\n",
       "      <td>...</td>\n",
       "      <td>...</td>\n",
       "      <td>...</td>\n",
       "      <td>...</td>\n",
       "      <td>...</td>\n",
       "      <td>...</td>\n",
       "      <td>...</td>\n",
       "      <td>...</td>\n",
       "      <td>...</td>\n",
       "      <td>...</td>\n",
       "      <td>...</td>\n",
       "      <td>...</td>\n",
       "      <td>...</td>\n",
       "      <td>...</td>\n",
       "      <td>...</td>\n",
       "      <td>...</td>\n",
       "      <td>...</td>\n",
       "    </tr>\n",
       "    <tr>\n",
       "      <th>9995</th>\n",
       "      <td>31</td>\n",
       "      <td>1</td>\n",
       "      <td>14</td>\n",
       "      <td>3</td>\n",
       "      <td>52</td>\n",
       "      <td>12</td>\n",
       "      <td>13</td>\n",
       "      <td>4</td>\n",
       "      <td>8</td>\n",
       "      <td>1</td>\n",
       "      <td>...</td>\n",
       "      <td>3</td>\n",
       "      <td>31</td>\n",
       "      <td>31</td>\n",
       "      <td>31</td>\n",
       "      <td>3</td>\n",
       "      <td>0</td>\n",
       "      <td>0</td>\n",
       "      <td>0</td>\n",
       "      <td>0</td>\n",
       "      <td>14</td>\n",
       "    </tr>\n",
       "    <tr>\n",
       "      <th>9996</th>\n",
       "      <td>27</td>\n",
       "      <td>1</td>\n",
       "      <td>12</td>\n",
       "      <td>3</td>\n",
       "      <td>52</td>\n",
       "      <td>5</td>\n",
       "      <td>7</td>\n",
       "      <td>4</td>\n",
       "      <td>8</td>\n",
       "      <td>4</td>\n",
       "      <td>...</td>\n",
       "      <td>3</td>\n",
       "      <td>31</td>\n",
       "      <td>31</td>\n",
       "      <td>31</td>\n",
       "      <td>5</td>\n",
       "      <td>0</td>\n",
       "      <td>0</td>\n",
       "      <td>0</td>\n",
       "      <td>0</td>\n",
       "      <td>12</td>\n",
       "    </tr>\n",
       "    <tr>\n",
       "      <th>9997</th>\n",
       "      <td>18</td>\n",
       "      <td>1</td>\n",
       "      <td>13</td>\n",
       "      <td>3</td>\n",
       "      <td>7</td>\n",
       "      <td>5</td>\n",
       "      <td>5</td>\n",
       "      <td>1</td>\n",
       "      <td>8</td>\n",
       "      <td>1</td>\n",
       "      <td>...</td>\n",
       "      <td>3</td>\n",
       "      <td>31</td>\n",
       "      <td>31</td>\n",
       "      <td>31</td>\n",
       "      <td>0</td>\n",
       "      <td>0</td>\n",
       "      <td>0</td>\n",
       "      <td>0</td>\n",
       "      <td>0</td>\n",
       "      <td>13</td>\n",
       "    </tr>\n",
       "    <tr>\n",
       "      <th>9998</th>\n",
       "      <td>9</td>\n",
       "      <td>1</td>\n",
       "      <td>0</td>\n",
       "      <td>3</td>\n",
       "      <td>0</td>\n",
       "      <td>1</td>\n",
       "      <td>1</td>\n",
       "      <td>4</td>\n",
       "      <td>8</td>\n",
       "      <td>1</td>\n",
       "      <td>...</td>\n",
       "      <td>3</td>\n",
       "      <td>31</td>\n",
       "      <td>31</td>\n",
       "      <td>31</td>\n",
       "      <td>0</td>\n",
       "      <td>0</td>\n",
       "      <td>0</td>\n",
       "      <td>0</td>\n",
       "      <td>0</td>\n",
       "      <td>0</td>\n",
       "    </tr>\n",
       "    <tr>\n",
       "      <th>9999</th>\n",
       "      <td>34</td>\n",
       "      <td>1</td>\n",
       "      <td>13</td>\n",
       "      <td>4</td>\n",
       "      <td>39</td>\n",
       "      <td>5</td>\n",
       "      <td>6</td>\n",
       "      <td>4</td>\n",
       "      <td>8</td>\n",
       "      <td>6</td>\n",
       "      <td>...</td>\n",
       "      <td>3</td>\n",
       "      <td>31</td>\n",
       "      <td>31</td>\n",
       "      <td>31</td>\n",
       "      <td>5</td>\n",
       "      <td>0</td>\n",
       "      <td>0</td>\n",
       "      <td>0</td>\n",
       "      <td>0</td>\n",
       "      <td>13</td>\n",
       "    </tr>\n",
       "  </tbody>\n",
       "</table>\n",
       "<p>10000 rows × 22 columns</p>\n",
       "</div>"
      ],
      "text/plain": [
       "      Age  Gender Education_Status  Employment_Status  Working_Week (Yearly)  \\\n",
       "0      79       1               10                  3                      0   \n",
       "1      47       1                3                  3                      0   \n",
       "2      18       0               10                  3                     52   \n",
       "3      39       0               16                  4                     30   \n",
       "4       6       1                0                  3                      0   \n",
       "...   ...     ...              ...                ...                    ...   \n",
       "9995   31       1               14                  3                     52   \n",
       "9996   27       1               12                  3                     52   \n",
       "9997   18       1               13                  3                      7   \n",
       "9998    9       1                0                  3                      0   \n",
       "9999   34       1               13                  4                     39   \n",
       "\n",
       "     Industry_Status Occupation_Status Race Hispanic_Origin Martial_Status  \\\n",
       "0                  1                 1    4               8              1   \n",
       "1                  1                 1    4               6              1   \n",
       "2                  5                 5    4               8              1   \n",
       "3                 13                 5    4               8              4   \n",
       "4                  1                 1    4               7              1   \n",
       "...              ...               ...  ...             ...            ...   \n",
       "9995              12                13    4               8              1   \n",
       "9996               5                 7    4               8              4   \n",
       "9997               5                 5    1               8              1   \n",
       "9998               1                 1    4               8              1   \n",
       "9999               5                 6    4               8              6   \n",
       "\n",
       "      ... Citizenship Birth_Country Birth_Country (Father)  \\\n",
       "0     ...           3            31                     32   \n",
       "1     ...           3            31                     31   \n",
       "2     ...           3            31                     31   \n",
       "3     ...           3            31                     31   \n",
       "4     ...           3            31                     31   \n",
       "...   ...         ...           ...                    ...   \n",
       "9995  ...           3            31                     31   \n",
       "9996  ...           3            31                     31   \n",
       "9997  ...           3            31                     31   \n",
       "9998  ...           3            31                     31   \n",
       "9999  ...           3            31                     31   \n",
       "\n",
       "     Birth_Country (Mother) Tax_Status Gains Losses  Dividends  Income_Status  \\\n",
       "0                        32          3     0      0          0              0   \n",
       "1                        31          0     0      0          0              0   \n",
       "2                        31          3     0      0          0              0   \n",
       "3                        31          5     0      0          0              1   \n",
       "4                        31          0     0      0          0              1   \n",
       "...                     ...        ...   ...    ...        ...            ...   \n",
       "9995                     31          3     0      0          0              0   \n",
       "9996                     31          5     0      0          0              0   \n",
       "9997                     31          0     0      0          0              0   \n",
       "9998                     31          0     0      0          0              0   \n",
       "9999                     31          5     0      0          0              0   \n",
       "\n",
       "      No_Income_Level  \n",
       "0                  10  \n",
       "1                   3  \n",
       "2                  10  \n",
       "3                  16  \n",
       "4                   0  \n",
       "...               ...  \n",
       "9995               14  \n",
       "9996               12  \n",
       "9997               13  \n",
       "9998                0  \n",
       "9999               13  \n",
       "\n",
       "[10000 rows x 22 columns]"
      ]
     },
     "execution_count": 59,
     "metadata": {},
     "output_type": "execute_result"
    }
   ],
   "source": [
    "test"
   ]
  },
  {
   "cell_type": "markdown",
   "id": "4a8ae46f-4c38-481b-941c-1a6d2c5c8ba3",
   "metadata": {},
   "source": [
    "### 단순 학습 (569.9433244625 점)"
   ]
  },
  {
   "cell_type": "code",
   "execution_count": 60,
   "id": "8946645a-bc12-4a04-8774-4e8a37e5181e",
   "metadata": {},
   "outputs": [],
   "source": [
    "from sklearn.ensemble import RandomForestRegressor\n",
    "from sklearn.model_selection import cross_val_score\n",
    "# import pandas as pd\n",
    "# import numpy as np\n",
    "from sklearn.model_selection import GridSearchCV\n",
    "from sklearn.model_selection import train_test_split\n",
    "from sklearn.metrics import mean_squared_error\n",
    "import math"
   ]
  },
  {
   "cell_type": "code",
   "execution_count": 61,
   "id": "7f131694-e42e-431b-bcdf-2591eb5e9cb3",
   "metadata": {},
   "outputs": [],
   "source": [
    "train_x = train_copy.drop('Income', axis=1)\n",
    "train_y = train_copy['Income']"
   ]
  },
  {
   "cell_type": "code",
   "execution_count": 62,
   "id": "c00b45b5-0729-475b-9701-720948fe7309",
   "metadata": {},
   "outputs": [
    {
     "data": {
      "text/html": [
       "<style>#sk-container-id-1 {color: black;}#sk-container-id-1 pre{padding: 0;}#sk-container-id-1 div.sk-toggleable {background-color: white;}#sk-container-id-1 label.sk-toggleable__label {cursor: pointer;display: block;width: 100%;margin-bottom: 0;padding: 0.3em;box-sizing: border-box;text-align: center;}#sk-container-id-1 label.sk-toggleable__label-arrow:before {content: \"▸\";float: left;margin-right: 0.25em;color: #696969;}#sk-container-id-1 label.sk-toggleable__label-arrow:hover:before {color: black;}#sk-container-id-1 div.sk-estimator:hover label.sk-toggleable__label-arrow:before {color: black;}#sk-container-id-1 div.sk-toggleable__content {max-height: 0;max-width: 0;overflow: hidden;text-align: left;background-color: #f0f8ff;}#sk-container-id-1 div.sk-toggleable__content pre {margin: 0.2em;color: black;border-radius: 0.25em;background-color: #f0f8ff;}#sk-container-id-1 input.sk-toggleable__control:checked~div.sk-toggleable__content {max-height: 200px;max-width: 100%;overflow: auto;}#sk-container-id-1 input.sk-toggleable__control:checked~label.sk-toggleable__label-arrow:before {content: \"▾\";}#sk-container-id-1 div.sk-estimator input.sk-toggleable__control:checked~label.sk-toggleable__label {background-color: #d4ebff;}#sk-container-id-1 div.sk-label input.sk-toggleable__control:checked~label.sk-toggleable__label {background-color: #d4ebff;}#sk-container-id-1 input.sk-hidden--visually {border: 0;clip: rect(1px 1px 1px 1px);clip: rect(1px, 1px, 1px, 1px);height: 1px;margin: -1px;overflow: hidden;padding: 0;position: absolute;width: 1px;}#sk-container-id-1 div.sk-estimator {font-family: monospace;background-color: #f0f8ff;border: 1px dotted black;border-radius: 0.25em;box-sizing: border-box;margin-bottom: 0.5em;}#sk-container-id-1 div.sk-estimator:hover {background-color: #d4ebff;}#sk-container-id-1 div.sk-parallel-item::after {content: \"\";width: 100%;border-bottom: 1px solid gray;flex-grow: 1;}#sk-container-id-1 div.sk-label:hover label.sk-toggleable__label {background-color: #d4ebff;}#sk-container-id-1 div.sk-serial::before {content: \"\";position: absolute;border-left: 1px solid gray;box-sizing: border-box;top: 0;bottom: 0;left: 50%;z-index: 0;}#sk-container-id-1 div.sk-serial {display: flex;flex-direction: column;align-items: center;background-color: white;padding-right: 0.2em;padding-left: 0.2em;position: relative;}#sk-container-id-1 div.sk-item {position: relative;z-index: 1;}#sk-container-id-1 div.sk-parallel {display: flex;align-items: stretch;justify-content: center;background-color: white;position: relative;}#sk-container-id-1 div.sk-item::before, #sk-container-id-1 div.sk-parallel-item::before {content: \"\";position: absolute;border-left: 1px solid gray;box-sizing: border-box;top: 0;bottom: 0;left: 50%;z-index: -1;}#sk-container-id-1 div.sk-parallel-item {display: flex;flex-direction: column;z-index: 1;position: relative;background-color: white;}#sk-container-id-1 div.sk-parallel-item:first-child::after {align-self: flex-end;width: 50%;}#sk-container-id-1 div.sk-parallel-item:last-child::after {align-self: flex-start;width: 50%;}#sk-container-id-1 div.sk-parallel-item:only-child::after {width: 0;}#sk-container-id-1 div.sk-dashed-wrapped {border: 1px dashed gray;margin: 0 0.4em 0.5em 0.4em;box-sizing: border-box;padding-bottom: 0.4em;background-color: white;}#sk-container-id-1 div.sk-label label {font-family: monospace;font-weight: bold;display: inline-block;line-height: 1.2em;}#sk-container-id-1 div.sk-label-container {text-align: center;}#sk-container-id-1 div.sk-container {/* jupyter's `normalize.less` sets `[hidden] { display: none; }` but bootstrap.min.css set `[hidden] { display: none !important; }` so we also need the `!important` here to be able to override the default hidden behavior on the sphinx rendered scikit-learn.org. See: https://github.com/scikit-learn/scikit-learn/issues/21755 */display: inline-block !important;position: relative;}#sk-container-id-1 div.sk-text-repr-fallback {display: none;}</style><div id=\"sk-container-id-1\" class=\"sk-top-container\"><div class=\"sk-text-repr-fallback\"><pre>RandomForestRegressor()</pre><b>In a Jupyter environment, please rerun this cell to show the HTML representation or trust the notebook. <br />On GitHub, the HTML representation is unable to render, please try loading this page with nbviewer.org.</b></div><div class=\"sk-container\" hidden><div class=\"sk-item\"><div class=\"sk-estimator sk-toggleable\"><input class=\"sk-toggleable__control sk-hidden--visually\" id=\"sk-estimator-id-1\" type=\"checkbox\" checked><label for=\"sk-estimator-id-1\" class=\"sk-toggleable__label sk-toggleable__label-arrow\">RandomForestRegressor</label><div class=\"sk-toggleable__content\"><pre>RandomForestRegressor()</pre></div></div></div></div></div>"
      ],
      "text/plain": [
       "RandomForestRegressor()"
      ]
     },
     "execution_count": 62,
     "metadata": {},
     "output_type": "execute_result"
    }
   ],
   "source": [
    "x_train, x_test, y_train, y_test = train_test_split(train_x, train_y, test_size=0.2, random_state=42)\n",
    "model_RFR = RandomForestRegressor() \n",
    "model_RFR.fit(x_train, y_train)"
   ]
  },
  {
   "cell_type": "code",
   "execution_count": 63,
   "id": "1b6ed9a8-a1d8-466a-afb4-7348833d9594",
   "metadata": {},
   "outputs": [
    {
     "name": "stdout",
     "output_type": "stream",
     "text": [
      "547.4571812178558\n"
     ]
    }
   ],
   "source": [
    "preds_RFR = model_RFR.predict(x_test)\n",
    "\n",
    "print(((y_test - preds_RFR)**2).mean() ** (1/2))"
   ]
  },
  {
   "cell_type": "code",
   "execution_count": 64,
   "id": "d8f6b11a-fd28-45c3-b93b-35233506e739",
   "metadata": {},
   "outputs": [],
   "source": [
    "model_RFR = RandomForestRegressor()\n",
    "model_RFR.fit(train_x, train_y)\n",
    "preds_RFR = model_RFR.predict(test)"
   ]
  },
  {
   "cell_type": "code",
   "execution_count": 65,
   "id": "ad219601-728f-4d21-a331-d5591d4ff203",
   "metadata": {},
   "outputs": [
    {
     "data": {
      "text/html": [
       "<div>\n",
       "<style scoped>\n",
       "    .dataframe tbody tr th:only-of-type {\n",
       "        vertical-align: middle;\n",
       "    }\n",
       "\n",
       "    .dataframe tbody tr th {\n",
       "        vertical-align: top;\n",
       "    }\n",
       "\n",
       "    .dataframe thead th {\n",
       "        text-align: right;\n",
       "    }\n",
       "</style>\n",
       "<table border=\"1\" class=\"dataframe\">\n",
       "  <thead>\n",
       "    <tr style=\"text-align: right;\">\n",
       "      <th></th>\n",
       "      <th>ID</th>\n",
       "      <th>Income</th>\n",
       "    </tr>\n",
       "  </thead>\n",
       "  <tbody>\n",
       "    <tr>\n",
       "      <th>0</th>\n",
       "      <td>TEST_0000</td>\n",
       "      <td>0.000000</td>\n",
       "    </tr>\n",
       "    <tr>\n",
       "      <th>1</th>\n",
       "      <td>TEST_0001</td>\n",
       "      <td>0.000000</td>\n",
       "    </tr>\n",
       "    <tr>\n",
       "      <th>2</th>\n",
       "      <td>TEST_0002</td>\n",
       "      <td>480.095833</td>\n",
       "    </tr>\n",
       "    <tr>\n",
       "      <th>3</th>\n",
       "      <td>TEST_0003</td>\n",
       "      <td>764.200000</td>\n",
       "    </tr>\n",
       "    <tr>\n",
       "      <th>4</th>\n",
       "      <td>TEST_0004</td>\n",
       "      <td>0.000000</td>\n",
       "    </tr>\n",
       "    <tr>\n",
       "      <th>...</th>\n",
       "      <td>...</td>\n",
       "      <td>...</td>\n",
       "    </tr>\n",
       "    <tr>\n",
       "      <th>9995</th>\n",
       "      <td>TEST_9995</td>\n",
       "      <td>1117.010000</td>\n",
       "    </tr>\n",
       "    <tr>\n",
       "      <th>9996</th>\n",
       "      <td>TEST_9996</td>\n",
       "      <td>662.890000</td>\n",
       "    </tr>\n",
       "    <tr>\n",
       "      <th>9997</th>\n",
       "      <td>TEST_9997</td>\n",
       "      <td>436.766667</td>\n",
       "    </tr>\n",
       "    <tr>\n",
       "      <th>9998</th>\n",
       "      <td>TEST_9998</td>\n",
       "      <td>0.000000</td>\n",
       "    </tr>\n",
       "    <tr>\n",
       "      <th>9999</th>\n",
       "      <td>TEST_9999</td>\n",
       "      <td>519.570000</td>\n",
       "    </tr>\n",
       "  </tbody>\n",
       "</table>\n",
       "<p>10000 rows × 2 columns</p>\n",
       "</div>"
      ],
      "text/plain": [
       "             ID       Income\n",
       "0     TEST_0000     0.000000\n",
       "1     TEST_0001     0.000000\n",
       "2     TEST_0002   480.095833\n",
       "3     TEST_0003   764.200000\n",
       "4     TEST_0004     0.000000\n",
       "...         ...          ...\n",
       "9995  TEST_9995  1117.010000\n",
       "9996  TEST_9996   662.890000\n",
       "9997  TEST_9997   436.766667\n",
       "9998  TEST_9998     0.000000\n",
       "9999  TEST_9999   519.570000\n",
       "\n",
       "[10000 rows x 2 columns]"
      ]
     },
     "execution_count": 65,
     "metadata": {},
     "output_type": "execute_result"
    }
   ],
   "source": [
    "submission = pd.read_csv('C:\\\\Users\\\\82102\\\\Desktop\\\\Machine_Learning\\\\DACON_materials\\\\Income_Prediction\\\\sample_submission.csv')\n",
    "submission['Income'] = preds_RFR\n",
    "submission"
   ]
  },
  {
   "cell_type": "code",
   "execution_count": 66,
   "id": "4d555551-2a80-4bd3-bcb5-1dfa220e9ee8",
   "metadata": {},
   "outputs": [],
   "source": [
    "# submission.to_csv('./submission2_3.csv', index=False)"
   ]
  },
  {
   "cell_type": "markdown",
   "id": "62682882-d429-425f-8fed-5623c4b09826",
   "metadata": {
    "jp-MarkdownHeadingCollapsed": true
   },
   "source": [
    "### Income에 로그스케일 적용한 후 학습(자체평가 결과 737.2583253484137점. 제출 안함)"
   ]
  },
  {
   "cell_type": "code",
   "execution_count": 67,
   "id": "f1833372-397a-4d15-9ceb-d89a51c9b5af",
   "metadata": {},
   "outputs": [],
   "source": [
    "train_x = train_copy.drop('Income', axis=1)\n",
    "train_y = train_copy['Income']"
   ]
  },
  {
   "cell_type": "code",
   "execution_count": 68,
   "id": "ca98208e-d30f-4727-9c23-dbf7e3b2ba8a",
   "metadata": {},
   "outputs": [],
   "source": [
    "train_y = np.log(train_y + 1)"
   ]
  },
  {
   "cell_type": "code",
   "execution_count": 69,
   "id": "c1997e2f-9395-4948-8c93-4c62cae3724f",
   "metadata": {},
   "outputs": [
    {
     "data": {
      "text/plain": [
       "0        6.054439\n",
       "1        0.000000\n",
       "2        6.758095\n",
       "3        6.746412\n",
       "4        6.347389\n",
       "           ...   \n",
       "19995    7.170888\n",
       "19996    6.746412\n",
       "19997    6.907755\n",
       "19998    0.000000\n",
       "19999    6.510258\n",
       "Name: Income, Length: 19948, dtype: float64"
      ]
     },
     "execution_count": 69,
     "metadata": {},
     "output_type": "execute_result"
    }
   ],
   "source": [
    "train_y"
   ]
  },
  {
   "cell_type": "code",
   "execution_count": 70,
   "id": "27226364-5d51-4dab-87e4-c0c0f7ea4f31",
   "metadata": {},
   "outputs": [
    {
     "data": {
      "text/html": [
       "<style>#sk-container-id-2 {color: black;}#sk-container-id-2 pre{padding: 0;}#sk-container-id-2 div.sk-toggleable {background-color: white;}#sk-container-id-2 label.sk-toggleable__label {cursor: pointer;display: block;width: 100%;margin-bottom: 0;padding: 0.3em;box-sizing: border-box;text-align: center;}#sk-container-id-2 label.sk-toggleable__label-arrow:before {content: \"▸\";float: left;margin-right: 0.25em;color: #696969;}#sk-container-id-2 label.sk-toggleable__label-arrow:hover:before {color: black;}#sk-container-id-2 div.sk-estimator:hover label.sk-toggleable__label-arrow:before {color: black;}#sk-container-id-2 div.sk-toggleable__content {max-height: 0;max-width: 0;overflow: hidden;text-align: left;background-color: #f0f8ff;}#sk-container-id-2 div.sk-toggleable__content pre {margin: 0.2em;color: black;border-radius: 0.25em;background-color: #f0f8ff;}#sk-container-id-2 input.sk-toggleable__control:checked~div.sk-toggleable__content {max-height: 200px;max-width: 100%;overflow: auto;}#sk-container-id-2 input.sk-toggleable__control:checked~label.sk-toggleable__label-arrow:before {content: \"▾\";}#sk-container-id-2 div.sk-estimator input.sk-toggleable__control:checked~label.sk-toggleable__label {background-color: #d4ebff;}#sk-container-id-2 div.sk-label input.sk-toggleable__control:checked~label.sk-toggleable__label {background-color: #d4ebff;}#sk-container-id-2 input.sk-hidden--visually {border: 0;clip: rect(1px 1px 1px 1px);clip: rect(1px, 1px, 1px, 1px);height: 1px;margin: -1px;overflow: hidden;padding: 0;position: absolute;width: 1px;}#sk-container-id-2 div.sk-estimator {font-family: monospace;background-color: #f0f8ff;border: 1px dotted black;border-radius: 0.25em;box-sizing: border-box;margin-bottom: 0.5em;}#sk-container-id-2 div.sk-estimator:hover {background-color: #d4ebff;}#sk-container-id-2 div.sk-parallel-item::after {content: \"\";width: 100%;border-bottom: 1px solid gray;flex-grow: 1;}#sk-container-id-2 div.sk-label:hover label.sk-toggleable__label {background-color: #d4ebff;}#sk-container-id-2 div.sk-serial::before {content: \"\";position: absolute;border-left: 1px solid gray;box-sizing: border-box;top: 0;bottom: 0;left: 50%;z-index: 0;}#sk-container-id-2 div.sk-serial {display: flex;flex-direction: column;align-items: center;background-color: white;padding-right: 0.2em;padding-left: 0.2em;position: relative;}#sk-container-id-2 div.sk-item {position: relative;z-index: 1;}#sk-container-id-2 div.sk-parallel {display: flex;align-items: stretch;justify-content: center;background-color: white;position: relative;}#sk-container-id-2 div.sk-item::before, #sk-container-id-2 div.sk-parallel-item::before {content: \"\";position: absolute;border-left: 1px solid gray;box-sizing: border-box;top: 0;bottom: 0;left: 50%;z-index: -1;}#sk-container-id-2 div.sk-parallel-item {display: flex;flex-direction: column;z-index: 1;position: relative;background-color: white;}#sk-container-id-2 div.sk-parallel-item:first-child::after {align-self: flex-end;width: 50%;}#sk-container-id-2 div.sk-parallel-item:last-child::after {align-self: flex-start;width: 50%;}#sk-container-id-2 div.sk-parallel-item:only-child::after {width: 0;}#sk-container-id-2 div.sk-dashed-wrapped {border: 1px dashed gray;margin: 0 0.4em 0.5em 0.4em;box-sizing: border-box;padding-bottom: 0.4em;background-color: white;}#sk-container-id-2 div.sk-label label {font-family: monospace;font-weight: bold;display: inline-block;line-height: 1.2em;}#sk-container-id-2 div.sk-label-container {text-align: center;}#sk-container-id-2 div.sk-container {/* jupyter's `normalize.less` sets `[hidden] { display: none; }` but bootstrap.min.css set `[hidden] { display: none !important; }` so we also need the `!important` here to be able to override the default hidden behavior on the sphinx rendered scikit-learn.org. See: https://github.com/scikit-learn/scikit-learn/issues/21755 */display: inline-block !important;position: relative;}#sk-container-id-2 div.sk-text-repr-fallback {display: none;}</style><div id=\"sk-container-id-2\" class=\"sk-top-container\"><div class=\"sk-text-repr-fallback\"><pre>RandomForestRegressor()</pre><b>In a Jupyter environment, please rerun this cell to show the HTML representation or trust the notebook. <br />On GitHub, the HTML representation is unable to render, please try loading this page with nbviewer.org.</b></div><div class=\"sk-container\" hidden><div class=\"sk-item\"><div class=\"sk-estimator sk-toggleable\"><input class=\"sk-toggleable__control sk-hidden--visually\" id=\"sk-estimator-id-2\" type=\"checkbox\" checked><label for=\"sk-estimator-id-2\" class=\"sk-toggleable__label sk-toggleable__label-arrow\">RandomForestRegressor</label><div class=\"sk-toggleable__content\"><pre>RandomForestRegressor()</pre></div></div></div></div></div>"
      ],
      "text/plain": [
       "RandomForestRegressor()"
      ]
     },
     "execution_count": 70,
     "metadata": {},
     "output_type": "execute_result"
    }
   ],
   "source": [
    "x_train, x_test, y_train, y_test = train_test_split(train_x, train_y, test_size=0.2, random_state=42)\n",
    "model_RFR = RandomForestRegressor() \n",
    "model_RFR.fit(x_train, y_train)"
   ]
  },
  {
   "cell_type": "code",
   "execution_count": 71,
   "id": "5aa194d2-cdfe-4d84-b445-fea2982f5df4",
   "metadata": {},
   "outputs": [
    {
     "name": "stdout",
     "output_type": "stream",
     "text": [
      "737.680082230145\n"
     ]
    }
   ],
   "source": [
    "preds_RFR = model_RFR.predict(x_test)\n",
    "\n",
    "print(((np.exp(y_test) - 1 - np.exp(preds_RFR) - 1)**2).mean() ** (1/2))"
   ]
  },
  {
   "cell_type": "markdown",
   "id": "fd314fa0-cd2d-41c3-89f3-e82a50ef2693",
   "metadata": {
    "jp-MarkdownHeadingCollapsed": true
   },
   "source": [
    "### 분기점 바꿔서 단순학습"
   ]
  },
  {
   "cell_type": "markdown",
   "id": "ad7f836f-9ed8-4d1f-977e-080e823b2726",
   "metadata": {
    "jp-MarkdownHeadingCollapsed": true
   },
   "source": [
    "#### Household_Status, Birth_Country (Father), Birth_Country (Mother) 삭제(자체평가 547.1974185977643 점, 제출안함)"
   ]
  },
  {
   "cell_type": "code",
   "execution_count": 72,
   "id": "7f586639-f88c-40a5-b3c8-3a8aee897751",
   "metadata": {},
   "outputs": [],
   "source": [
    "train_x = train_copy.drop('Income', axis=1)\n",
    "train_y = train_copy['Income']"
   ]
  },
  {
   "cell_type": "code",
   "execution_count": 73,
   "id": "28f978ad-85de-474f-a694-2b2055024042",
   "metadata": {},
   "outputs": [],
   "source": [
    "# train_x = train_x.drop('Household_Status', axis=1)\n",
    "# test = test.drop('Household_Status', axis=1)"
   ]
  },
  {
   "cell_type": "code",
   "execution_count": 74,
   "id": "f78807a2-aa41-45dc-a935-ba9527a9e612",
   "metadata": {},
   "outputs": [],
   "source": [
    "# train_x = train_x.drop('Birth_Country (Father)', axis=1)\n",
    "# test = test.drop('Birth_Country (Father)', axis=1)"
   ]
  },
  {
   "cell_type": "code",
   "execution_count": 75,
   "id": "6f29f23a-2818-4713-9685-fcddd6173363",
   "metadata": {},
   "outputs": [],
   "source": [
    "# train_x = train_x.drop('Birth_Country (Mother)', axis=1)\n",
    "# test = test.drop('Birth_Country (Mother)', axis=1)"
   ]
  },
  {
   "cell_type": "code",
   "execution_count": 76,
   "id": "3e60ab6f-e9a4-4087-be3c-8946ec8139f2",
   "metadata": {},
   "outputs": [
    {
     "data": {
      "text/html": [
       "<style>#sk-container-id-3 {color: black;}#sk-container-id-3 pre{padding: 0;}#sk-container-id-3 div.sk-toggleable {background-color: white;}#sk-container-id-3 label.sk-toggleable__label {cursor: pointer;display: block;width: 100%;margin-bottom: 0;padding: 0.3em;box-sizing: border-box;text-align: center;}#sk-container-id-3 label.sk-toggleable__label-arrow:before {content: \"▸\";float: left;margin-right: 0.25em;color: #696969;}#sk-container-id-3 label.sk-toggleable__label-arrow:hover:before {color: black;}#sk-container-id-3 div.sk-estimator:hover label.sk-toggleable__label-arrow:before {color: black;}#sk-container-id-3 div.sk-toggleable__content {max-height: 0;max-width: 0;overflow: hidden;text-align: left;background-color: #f0f8ff;}#sk-container-id-3 div.sk-toggleable__content pre {margin: 0.2em;color: black;border-radius: 0.25em;background-color: #f0f8ff;}#sk-container-id-3 input.sk-toggleable__control:checked~div.sk-toggleable__content {max-height: 200px;max-width: 100%;overflow: auto;}#sk-container-id-3 input.sk-toggleable__control:checked~label.sk-toggleable__label-arrow:before {content: \"▾\";}#sk-container-id-3 div.sk-estimator input.sk-toggleable__control:checked~label.sk-toggleable__label {background-color: #d4ebff;}#sk-container-id-3 div.sk-label input.sk-toggleable__control:checked~label.sk-toggleable__label {background-color: #d4ebff;}#sk-container-id-3 input.sk-hidden--visually {border: 0;clip: rect(1px 1px 1px 1px);clip: rect(1px, 1px, 1px, 1px);height: 1px;margin: -1px;overflow: hidden;padding: 0;position: absolute;width: 1px;}#sk-container-id-3 div.sk-estimator {font-family: monospace;background-color: #f0f8ff;border: 1px dotted black;border-radius: 0.25em;box-sizing: border-box;margin-bottom: 0.5em;}#sk-container-id-3 div.sk-estimator:hover {background-color: #d4ebff;}#sk-container-id-3 div.sk-parallel-item::after {content: \"\";width: 100%;border-bottom: 1px solid gray;flex-grow: 1;}#sk-container-id-3 div.sk-label:hover label.sk-toggleable__label {background-color: #d4ebff;}#sk-container-id-3 div.sk-serial::before {content: \"\";position: absolute;border-left: 1px solid gray;box-sizing: border-box;top: 0;bottom: 0;left: 50%;z-index: 0;}#sk-container-id-3 div.sk-serial {display: flex;flex-direction: column;align-items: center;background-color: white;padding-right: 0.2em;padding-left: 0.2em;position: relative;}#sk-container-id-3 div.sk-item {position: relative;z-index: 1;}#sk-container-id-3 div.sk-parallel {display: flex;align-items: stretch;justify-content: center;background-color: white;position: relative;}#sk-container-id-3 div.sk-item::before, #sk-container-id-3 div.sk-parallel-item::before {content: \"\";position: absolute;border-left: 1px solid gray;box-sizing: border-box;top: 0;bottom: 0;left: 50%;z-index: -1;}#sk-container-id-3 div.sk-parallel-item {display: flex;flex-direction: column;z-index: 1;position: relative;background-color: white;}#sk-container-id-3 div.sk-parallel-item:first-child::after {align-self: flex-end;width: 50%;}#sk-container-id-3 div.sk-parallel-item:last-child::after {align-self: flex-start;width: 50%;}#sk-container-id-3 div.sk-parallel-item:only-child::after {width: 0;}#sk-container-id-3 div.sk-dashed-wrapped {border: 1px dashed gray;margin: 0 0.4em 0.5em 0.4em;box-sizing: border-box;padding-bottom: 0.4em;background-color: white;}#sk-container-id-3 div.sk-label label {font-family: monospace;font-weight: bold;display: inline-block;line-height: 1.2em;}#sk-container-id-3 div.sk-label-container {text-align: center;}#sk-container-id-3 div.sk-container {/* jupyter's `normalize.less` sets `[hidden] { display: none; }` but bootstrap.min.css set `[hidden] { display: none !important; }` so we also need the `!important` here to be able to override the default hidden behavior on the sphinx rendered scikit-learn.org. See: https://github.com/scikit-learn/scikit-learn/issues/21755 */display: inline-block !important;position: relative;}#sk-container-id-3 div.sk-text-repr-fallback {display: none;}</style><div id=\"sk-container-id-3\" class=\"sk-top-container\"><div class=\"sk-text-repr-fallback\"><pre>RandomForestRegressor()</pre><b>In a Jupyter environment, please rerun this cell to show the HTML representation or trust the notebook. <br />On GitHub, the HTML representation is unable to render, please try loading this page with nbviewer.org.</b></div><div class=\"sk-container\" hidden><div class=\"sk-item\"><div class=\"sk-estimator sk-toggleable\"><input class=\"sk-toggleable__control sk-hidden--visually\" id=\"sk-estimator-id-3\" type=\"checkbox\" checked><label for=\"sk-estimator-id-3\" class=\"sk-toggleable__label sk-toggleable__label-arrow\">RandomForestRegressor</label><div class=\"sk-toggleable__content\"><pre>RandomForestRegressor()</pre></div></div></div></div></div>"
      ],
      "text/plain": [
       "RandomForestRegressor()"
      ]
     },
     "execution_count": 76,
     "metadata": {},
     "output_type": "execute_result"
    }
   ],
   "source": [
    "x_train, x_test, y_train, y_test = train_test_split(train_x, train_y, test_size=0.2, random_state=42)\n",
    "model_RFR = RandomForestRegressor() \n",
    "model_RFR.fit(x_train, y_train)"
   ]
  },
  {
   "cell_type": "code",
   "execution_count": 77,
   "id": "eb23f678-17ac-4611-9a03-7d81f145dc3a",
   "metadata": {},
   "outputs": [
    {
     "name": "stdout",
     "output_type": "stream",
     "text": [
      "549.7683845032366\n"
     ]
    }
   ],
   "source": [
    "preds_RFR = model_RFR.predict(x_test)\n",
    "\n",
    "print(((y_test - preds_RFR)**2).mean() ** (1/2))"
   ]
  },
  {
   "cell_type": "markdown",
   "id": "15aaa8da-f1ef-4c33-b945-0d13f3198ae7",
   "metadata": {
    "jp-MarkdownHeadingCollapsed": true
   },
   "source": [
    "#### Household_Status, Birth_Country, Birth_Country (Father), Birth_Country (Mother) 삭제 (자체평가 549.4547746775175점, 제출안함)"
   ]
  },
  {
   "cell_type": "code",
   "execution_count": 78,
   "id": "7fef870c-6f69-4fe3-a182-83bf667aabc1",
   "metadata": {},
   "outputs": [],
   "source": [
    "train_x = train_copy.drop('Income', axis=1)\n",
    "train_y = train_copy['Income']"
   ]
  },
  {
   "cell_type": "code",
   "execution_count": 79,
   "id": "f99885e6-d491-4c84-a418-036dd65fd250",
   "metadata": {},
   "outputs": [],
   "source": [
    "# train_x = train_x.drop('Birth_Country', axis=1)\n",
    "# test = test.drop('Birth_Country', axis=1)"
   ]
  },
  {
   "cell_type": "code",
   "execution_count": 80,
   "id": "4cbc9c51-ad75-4fce-9964-859dca830b47",
   "metadata": {},
   "outputs": [
    {
     "data": {
      "text/html": [
       "<style>#sk-container-id-4 {color: black;}#sk-container-id-4 pre{padding: 0;}#sk-container-id-4 div.sk-toggleable {background-color: white;}#sk-container-id-4 label.sk-toggleable__label {cursor: pointer;display: block;width: 100%;margin-bottom: 0;padding: 0.3em;box-sizing: border-box;text-align: center;}#sk-container-id-4 label.sk-toggleable__label-arrow:before {content: \"▸\";float: left;margin-right: 0.25em;color: #696969;}#sk-container-id-4 label.sk-toggleable__label-arrow:hover:before {color: black;}#sk-container-id-4 div.sk-estimator:hover label.sk-toggleable__label-arrow:before {color: black;}#sk-container-id-4 div.sk-toggleable__content {max-height: 0;max-width: 0;overflow: hidden;text-align: left;background-color: #f0f8ff;}#sk-container-id-4 div.sk-toggleable__content pre {margin: 0.2em;color: black;border-radius: 0.25em;background-color: #f0f8ff;}#sk-container-id-4 input.sk-toggleable__control:checked~div.sk-toggleable__content {max-height: 200px;max-width: 100%;overflow: auto;}#sk-container-id-4 input.sk-toggleable__control:checked~label.sk-toggleable__label-arrow:before {content: \"▾\";}#sk-container-id-4 div.sk-estimator input.sk-toggleable__control:checked~label.sk-toggleable__label {background-color: #d4ebff;}#sk-container-id-4 div.sk-label input.sk-toggleable__control:checked~label.sk-toggleable__label {background-color: #d4ebff;}#sk-container-id-4 input.sk-hidden--visually {border: 0;clip: rect(1px 1px 1px 1px);clip: rect(1px, 1px, 1px, 1px);height: 1px;margin: -1px;overflow: hidden;padding: 0;position: absolute;width: 1px;}#sk-container-id-4 div.sk-estimator {font-family: monospace;background-color: #f0f8ff;border: 1px dotted black;border-radius: 0.25em;box-sizing: border-box;margin-bottom: 0.5em;}#sk-container-id-4 div.sk-estimator:hover {background-color: #d4ebff;}#sk-container-id-4 div.sk-parallel-item::after {content: \"\";width: 100%;border-bottom: 1px solid gray;flex-grow: 1;}#sk-container-id-4 div.sk-label:hover label.sk-toggleable__label {background-color: #d4ebff;}#sk-container-id-4 div.sk-serial::before {content: \"\";position: absolute;border-left: 1px solid gray;box-sizing: border-box;top: 0;bottom: 0;left: 50%;z-index: 0;}#sk-container-id-4 div.sk-serial {display: flex;flex-direction: column;align-items: center;background-color: white;padding-right: 0.2em;padding-left: 0.2em;position: relative;}#sk-container-id-4 div.sk-item {position: relative;z-index: 1;}#sk-container-id-4 div.sk-parallel {display: flex;align-items: stretch;justify-content: center;background-color: white;position: relative;}#sk-container-id-4 div.sk-item::before, #sk-container-id-4 div.sk-parallel-item::before {content: \"\";position: absolute;border-left: 1px solid gray;box-sizing: border-box;top: 0;bottom: 0;left: 50%;z-index: -1;}#sk-container-id-4 div.sk-parallel-item {display: flex;flex-direction: column;z-index: 1;position: relative;background-color: white;}#sk-container-id-4 div.sk-parallel-item:first-child::after {align-self: flex-end;width: 50%;}#sk-container-id-4 div.sk-parallel-item:last-child::after {align-self: flex-start;width: 50%;}#sk-container-id-4 div.sk-parallel-item:only-child::after {width: 0;}#sk-container-id-4 div.sk-dashed-wrapped {border: 1px dashed gray;margin: 0 0.4em 0.5em 0.4em;box-sizing: border-box;padding-bottom: 0.4em;background-color: white;}#sk-container-id-4 div.sk-label label {font-family: monospace;font-weight: bold;display: inline-block;line-height: 1.2em;}#sk-container-id-4 div.sk-label-container {text-align: center;}#sk-container-id-4 div.sk-container {/* jupyter's `normalize.less` sets `[hidden] { display: none; }` but bootstrap.min.css set `[hidden] { display: none !important; }` so we also need the `!important` here to be able to override the default hidden behavior on the sphinx rendered scikit-learn.org. See: https://github.com/scikit-learn/scikit-learn/issues/21755 */display: inline-block !important;position: relative;}#sk-container-id-4 div.sk-text-repr-fallback {display: none;}</style><div id=\"sk-container-id-4\" class=\"sk-top-container\"><div class=\"sk-text-repr-fallback\"><pre>RandomForestRegressor()</pre><b>In a Jupyter environment, please rerun this cell to show the HTML representation or trust the notebook. <br />On GitHub, the HTML representation is unable to render, please try loading this page with nbviewer.org.</b></div><div class=\"sk-container\" hidden><div class=\"sk-item\"><div class=\"sk-estimator sk-toggleable\"><input class=\"sk-toggleable__control sk-hidden--visually\" id=\"sk-estimator-id-4\" type=\"checkbox\" checked><label for=\"sk-estimator-id-4\" class=\"sk-toggleable__label sk-toggleable__label-arrow\">RandomForestRegressor</label><div class=\"sk-toggleable__content\"><pre>RandomForestRegressor()</pre></div></div></div></div></div>"
      ],
      "text/plain": [
       "RandomForestRegressor()"
      ]
     },
     "execution_count": 80,
     "metadata": {},
     "output_type": "execute_result"
    }
   ],
   "source": [
    "x_train, x_test, y_train, y_test = train_test_split(train_x, train_y, test_size=0.2, random_state=42)\n",
    "model_RFR = RandomForestRegressor() \n",
    "model_RFR.fit(x_train, y_train)"
   ]
  },
  {
   "cell_type": "code",
   "execution_count": 81,
   "id": "c1d46f5e-6d45-4893-8549-98f8e9cba904",
   "metadata": {},
   "outputs": [
    {
     "name": "stdout",
     "output_type": "stream",
     "text": [
      "548.467641039735\n"
     ]
    }
   ],
   "source": [
    "preds_RFR = model_RFR.predict(x_test)\n",
    "\n",
    "print(((y_test - preds_RFR)**2).mean() ** (1/2))"
   ]
  },
  {
   "cell_type": "markdown",
   "id": "a60ad1a9-f0ca-40dd-903b-7df79d699c50",
   "metadata": {
    "jp-MarkdownHeadingCollapsed": true
   },
   "source": [
    "### 수치형 데이터 처리해주고 학습하기(자체평가 결과 554.2544596549571점. 제출 안함)"
   ]
  },
  {
   "cell_type": "code",
   "execution_count": 82,
   "id": "a4b95cd7-af9f-4e85-a8f4-a157ac5330b8",
   "metadata": {},
   "outputs": [],
   "source": [
    "train_copy_numerical = train[train.describe().columns]"
   ]
  },
  {
   "cell_type": "code",
   "execution_count": 83,
   "id": "d0773d6f-0799-4ef4-843b-edad828e0a5e",
   "metadata": {},
   "outputs": [
    {
     "data": {
      "image/png": "[encoded data removed]",
      "text/plain": [
       "<Figure size 1000x400 with 2 Axes>"
      ]
     },
     "metadata": {},
     "output_type": "display_data"
    }
   ],
   "source": [
    "fig, axes = plt.subplots(1, 2, figsize=(10, 4))\n",
    "\n",
    "train_copy_numerical['Age'].hist(bins =  50,ax=axes[0])\n",
    "axes[0].set_title('Histogram')\n",
    "\n",
    "train_copy_numerical['Age'].plot(kind = 'box',ax=axes[1])\n",
    "axes[1].set_title('Boxplot')\n",
    "\n",
    "plt.tight_layout()"
   ]
  },
  {
   "cell_type": "code",
   "execution_count": 84,
   "id": "b7b08f9f-4699-4db7-bf8e-43132d0b0889",
   "metadata": {},
   "outputs": [
    {
     "data": {
      "image/png": "[encoded data removed]",
      "text/plain": [
       "<Figure size 1000x400 with 2 Axes>"
      ]
     },
     "metadata": {},
     "output_type": "display_data"
    }
   ],
   "source": [
    "fig, axes = plt.subplots(1, 2, figsize=(10, 4))\n",
    "\n",
    "train_copy_numerical['Working_Week (Yearly)'].hist(bins =  50,ax=axes[0])\n",
    "axes[0].set_title('Histogram')\n",
    "\n",
    "train_copy_numerical['Working_Week (Yearly)'].plot(kind = 'box',ax=axes[1])\n",
    "axes[1].set_title('Boxplot')\n",
    "\n",
    "plt.tight_layout()"
   ]
  },
  {
   "cell_type": "markdown",
   "id": "4673f559-adef-4bd0-bcf4-af5b4bd11a6e",
   "metadata": {},
   "source": [
    "27 이하는 0, 초과는 52로 범주화해보자"
   ]
  },
  {
   "cell_type": "code",
   "execution_count": 85,
   "id": "4ce32d3c-849a-4948-8de0-00afb01bcc27",
   "metadata": {},
   "outputs": [],
   "source": [
    "for i in range(len(train)):\n",
    "    if i not in del_ind_list:\n",
    "        if train_copy.loc[i, 'Working_Week (Yearly)'] > 27:\n",
    "            train_copy.loc[i, 'Working_Week (Yearly)'] = 1\n",
    "        else:\n",
    "            train_copy.loc[i, 'Working_Week (Yearly)'] = 0"
   ]
  },
  {
   "cell_type": "code",
   "execution_count": 86,
   "id": "fcecaa1d-9804-4486-94d3-f1aaffb3fdeb",
   "metadata": {},
   "outputs": [],
   "source": [
    "for i in range(len(test)):\n",
    "    if test.loc[i, 'Working_Week (Yearly)'] > 27:\n",
    "        test.loc[i, 'Working_Week (Yearly)'] = 1\n",
    "    else:\n",
    "        test.loc[i, 'Working_Week (Yearly)'] = 0"
   ]
  },
  {
   "cell_type": "code",
   "execution_count": 87,
   "id": "3085cafc-f3e3-4006-96bb-7e957ef9adc2",
   "metadata": {},
   "outputs": [
    {
     "data": {
      "image/png": "[encoded data removed]",
      "text/plain": [
       "<Figure size 1000x400 with 2 Axes>"
      ]
     },
     "metadata": {},
     "output_type": "display_data"
    }
   ],
   "source": [
    "fig, axes = plt.subplots(1, 2, figsize=(10, 4))\n",
    "\n",
    "train_copy['Working_Week (Yearly)'].hist(bins =  50,ax=axes[0])\n",
    "axes[0].set_title('Histogram')\n",
    "\n",
    "train_copy['Working_Week (Yearly)'].plot(kind = 'box',ax=axes[1])\n",
    "axes[1].set_title('Boxplot')\n",
    "\n",
    "plt.tight_layout()"
   ]
  },
  {
   "cell_type": "code",
   "execution_count": 88,
   "id": "eda9b2c1-71dd-4543-b150-4a493c2d4505",
   "metadata": {},
   "outputs": [
    {
     "data": {
      "image/png": "[encoded data removed]",
      "text/plain": [
       "<Figure size 1000x400 with 2 Axes>"
      ]
     },
     "metadata": {},
     "output_type": "display_data"
    }
   ],
   "source": [
    "fig, axes = plt.subplots(1, 2, figsize=(10, 4))\n",
    "\n",
    "train_copy_numerical['Gains'].hist(bins =  50,ax=axes[0])\n",
    "axes[0].set_title('Histogram')\n",
    "\n",
    "train_copy_numerical['Gains'].plot(kind = 'box',ax=axes[1])\n",
    "axes[1].set_title('Boxplot')\n",
    "\n",
    "plt.tight_layout()"
   ]
  },
  {
   "cell_type": "code",
   "execution_count": 94,
   "id": "d1d57492-8092-442f-8d53-94bc26d6292b",
   "metadata": {},
   "outputs": [],
   "source": [
    "# train_copy = train_copy.drop('Gains', axis=1)\n",
    "test = test.drop('Gains', axis=1)"
   ]
  },
  {
   "cell_type": "code",
   "execution_count": 90,
   "id": "3e164ea0-542f-4e5d-800c-ff003b70d601",
   "metadata": {},
   "outputs": [
    {
     "data": {
      "image/png": "[encoded data removed]",
      "text/plain": [
       "<Figure size 1000x400 with 2 Axes>"
      ]
     },
     "metadata": {},
     "output_type": "display_data"
    }
   ],
   "source": [
    "fig, axes = plt.subplots(1, 2, figsize=(10, 4))\n",
    "\n",
    "train_copy_numerical['Losses'].hist(bins =  50,ax=axes[0])\n",
    "axes[0].set_title('Histogram')\n",
    "\n",
    "train_copy_numerical['Losses'].plot(kind = 'box',ax=axes[1])\n",
    "axes[1].set_title('Boxplot')\n",
    "\n",
    "plt.tight_layout()"
   ]
  },
  {
   "cell_type": "code",
   "execution_count": 95,
   "id": "905505b6-a906-4915-b89b-1eb08674f02d",
   "metadata": {},
   "outputs": [],
   "source": [
    "# train_copy = train_copy.drop('Losses', axis=1)\n",
    "# test = test.drop('Losses', axis=1)"
   ]
  },
  {
   "cell_type": "code",
   "execution_count": 96,
   "id": "f69e7b54-9d6a-480f-a425-ec1b8f645e9e",
   "metadata": {},
   "outputs": [
    {
     "data": {
      "image/png": "[encoded data removed]",
      "text/plain": [
       "<Figure size 1000x400 with 2 Axes>"
      ]
     },
     "metadata": {},
     "output_type": "display_data"
    }
   ],
   "source": [
    "fig, axes = plt.subplots(1, 2, figsize=(10, 4))\n",
    "\n",
    "train_copy_numerical['Dividends'].hist(bins =  50,ax=axes[0])\n",
    "axes[0].set_title('Histogram')\n",
    "\n",
    "train_copy_numerical['Dividends'].plot(kind = 'box',ax=axes[1])\n",
    "axes[1].set_title('Boxplot')\n",
    "\n",
    "plt.tight_layout()"
   ]
  },
  {
   "cell_type": "code",
   "execution_count": 97,
   "id": "9748ab56-6201-4a04-90af-cd2405cb6882",
   "metadata": {},
   "outputs": [],
   "source": [
    "for i in range(len(train)):\n",
    "    if i not in del_ind_list:\n",
    "        if train_copy.loc[i, 'Dividends'] > 30000:\n",
    "            train_copy.loc[i, 'Dividends'] = 1\n",
    "        else:\n",
    "            train_copy.loc[i, 'Dividends'] = 0"
   ]
  },
  {
   "cell_type": "code",
   "execution_count": 98,
   "id": "681b0903-6ce9-4cc2-9ffe-7ac858c5de81",
   "metadata": {},
   "outputs": [],
   "source": [
    "for i in range(len(test)):\n",
    "    if test.loc[i, 'Dividends'] > 30000:\n",
    "        test.loc[i, 'Dividends'] = 1\n",
    "    else:\n",
    "        test.loc[i, 'Dividends'] = 0"
   ]
  },
  {
   "cell_type": "code",
   "execution_count": 99,
   "id": "bf16d820-93bb-48d4-a0ef-d3f9be5a691d",
   "metadata": {},
   "outputs": [
    {
     "data": {
      "image/png": "[encoded data removed]",
      "text/plain": [
       "<Figure size 1000x400 with 2 Axes>"
      ]
     },
     "metadata": {},
     "output_type": "display_data"
    }
   ],
   "source": [
    "fig, axes = plt.subplots(1, 2, figsize=(10, 4))\n",
    "\n",
    "train_copy['Dividends'].hist(bins =  50,ax=axes[0])\n",
    "axes[0].set_title('Histogram')\n",
    "\n",
    "train_copy['Dividends'].plot(kind = 'box',ax=axes[1])\n",
    "axes[1].set_title('Boxplot')\n",
    "\n",
    "plt.tight_layout()"
   ]
  },
  {
   "cell_type": "code",
   "execution_count": 100,
   "id": "1524bebe-60eb-47ba-bef4-af8cf36cbe5d",
   "metadata": {},
   "outputs": [
    {
     "data": {
      "image/png": "[encoded data removed]",
      "text/plain": [
       "<Figure size 1000x400 with 2 Axes>"
      ]
     },
     "metadata": {},
     "output_type": "display_data"
    }
   ],
   "source": [
    "fig, axes = plt.subplots(1, 2, figsize=(10, 4))\n",
    "\n",
    "train_copy_numerical['Income'].hist(bins =  50,ax=axes[0])\n",
    "axes[0].set_title('Histogram')\n",
    "\n",
    "train_copy_numerical['Income'].plot(kind = 'box',ax=axes[1])\n",
    "axes[1].set_title('Boxplot')\n",
    "\n",
    "plt.tight_layout()"
   ]
  },
  {
   "cell_type": "code",
   "execution_count": 101,
   "id": "6213c654-146b-49e6-9403-0e7b0e6e030f",
   "metadata": {},
   "outputs": [],
   "source": [
    "train_x = train_copy.drop('Income', axis=1)\n",
    "train_y = train_copy['Income']"
   ]
  },
  {
   "cell_type": "code",
   "execution_count": 102,
   "id": "359e57bb-3562-4aa2-a24f-c08f835d81c5",
   "metadata": {},
   "outputs": [
    {
     "data": {
      "text/html": [
       "<style>#sk-container-id-5 {color: black;}#sk-container-id-5 pre{padding: 0;}#sk-container-id-5 div.sk-toggleable {background-color: white;}#sk-container-id-5 label.sk-toggleable__label {cursor: pointer;display: block;width: 100%;margin-bottom: 0;padding: 0.3em;box-sizing: border-box;text-align: center;}#sk-container-id-5 label.sk-toggleable__label-arrow:before {content: \"▸\";float: left;margin-right: 0.25em;color: #696969;}#sk-container-id-5 label.sk-toggleable__label-arrow:hover:before {color: black;}#sk-container-id-5 div.sk-estimator:hover label.sk-toggleable__label-arrow:before {color: black;}#sk-container-id-5 div.sk-toggleable__content {max-height: 0;max-width: 0;overflow: hidden;text-align: left;background-color: #f0f8ff;}#sk-container-id-5 div.sk-toggleable__content pre {margin: 0.2em;color: black;border-radius: 0.25em;background-color: #f0f8ff;}#sk-container-id-5 input.sk-toggleable__control:checked~div.sk-toggleable__content {max-height: 200px;max-width: 100%;overflow: auto;}#sk-container-id-5 input.sk-toggleable__control:checked~label.sk-toggleable__label-arrow:before {content: \"▾\";}#sk-container-id-5 div.sk-estimator input.sk-toggleable__control:checked~label.sk-toggleable__label {background-color: #d4ebff;}#sk-container-id-5 div.sk-label input.sk-toggleable__control:checked~label.sk-toggleable__label {background-color: #d4ebff;}#sk-container-id-5 input.sk-hidden--visually {border: 0;clip: rect(1px 1px 1px 1px);clip: rect(1px, 1px, 1px, 1px);height: 1px;margin: -1px;overflow: hidden;padding: 0;position: absolute;width: 1px;}#sk-container-id-5 div.sk-estimator {font-family: monospace;background-color: #f0f8ff;border: 1px dotted black;border-radius: 0.25em;box-sizing: border-box;margin-bottom: 0.5em;}#sk-container-id-5 div.sk-estimator:hover {background-color: #d4ebff;}#sk-container-id-5 div.sk-parallel-item::after {content: \"\";width: 100%;border-bottom: 1px solid gray;flex-grow: 1;}#sk-container-id-5 div.sk-label:hover label.sk-toggleable__label {background-color: #d4ebff;}#sk-container-id-5 div.sk-serial::before {content: \"\";position: absolute;border-left: 1px solid gray;box-sizing: border-box;top: 0;bottom: 0;left: 50%;z-index: 0;}#sk-container-id-5 div.sk-serial {display: flex;flex-direction: column;align-items: center;background-color: white;padding-right: 0.2em;padding-left: 0.2em;position: relative;}#sk-container-id-5 div.sk-item {position: relative;z-index: 1;}#sk-container-id-5 div.sk-parallel {display: flex;align-items: stretch;justify-content: center;background-color: white;position: relative;}#sk-container-id-5 div.sk-item::before, #sk-container-id-5 div.sk-parallel-item::before {content: \"\";position: absolute;border-left: 1px solid gray;box-sizing: border-box;top: 0;bottom: 0;left: 50%;z-index: -1;}#sk-container-id-5 div.sk-parallel-item {display: flex;flex-direction: column;z-index: 1;position: relative;background-color: white;}#sk-container-id-5 div.sk-parallel-item:first-child::after {align-self: flex-end;width: 50%;}#sk-container-id-5 div.sk-parallel-item:last-child::after {align-self: flex-start;width: 50%;}#sk-container-id-5 div.sk-parallel-item:only-child::after {width: 0;}#sk-container-id-5 div.sk-dashed-wrapped {border: 1px dashed gray;margin: 0 0.4em 0.5em 0.4em;box-sizing: border-box;padding-bottom: 0.4em;background-color: white;}#sk-container-id-5 div.sk-label label {font-family: monospace;font-weight: bold;display: inline-block;line-height: 1.2em;}#sk-container-id-5 div.sk-label-container {text-align: center;}#sk-container-id-5 div.sk-container {/* jupyter's `normalize.less` sets `[hidden] { display: none; }` but bootstrap.min.css set `[hidden] { display: none !important; }` so we also need the `!important` here to be able to override the default hidden behavior on the sphinx rendered scikit-learn.org. See: https://github.com/scikit-learn/scikit-learn/issues/21755 */display: inline-block !important;position: relative;}#sk-container-id-5 div.sk-text-repr-fallback {display: none;}</style><div id=\"sk-container-id-5\" class=\"sk-top-container\"><div class=\"sk-text-repr-fallback\"><pre>RandomForestRegressor()</pre><b>In a Jupyter environment, please rerun this cell to show the HTML representation or trust the notebook. <br />On GitHub, the HTML representation is unable to render, please try loading this page with nbviewer.org.</b></div><div class=\"sk-container\" hidden><div class=\"sk-item\"><div class=\"sk-estimator sk-toggleable\"><input class=\"sk-toggleable__control sk-hidden--visually\" id=\"sk-estimator-id-5\" type=\"checkbox\" checked><label for=\"sk-estimator-id-5\" class=\"sk-toggleable__label sk-toggleable__label-arrow\">RandomForestRegressor</label><div class=\"sk-toggleable__content\"><pre>RandomForestRegressor()</pre></div></div></div></div></div>"
      ],
      "text/plain": [
       "RandomForestRegressor()"
      ]
     },
     "execution_count": 102,
     "metadata": {},
     "output_type": "execute_result"
    }
   ],
   "source": [
    "x_train, x_test, y_train, y_test = train_test_split(train_x, train_y, test_size=0.2, random_state=42)\n",
    "model_RFR = RandomForestRegressor() \n",
    "model_RFR.fit(x_train, y_train)"
   ]
  },
  {
   "cell_type": "code",
   "execution_count": 103,
   "id": "fa947b5f-e757-4fb4-acd8-654ac598fa79",
   "metadata": {},
   "outputs": [
    {
     "name": "stdout",
     "output_type": "stream",
     "text": [
      "554.1175900437573\n"
     ]
    }
   ],
   "source": [
    "preds_RFR = model_RFR.predict(x_test)\n",
    "\n",
    "print(((y_test - preds_RFR)**2).mean() ** (1/2))"
   ]
  },
  {
   "cell_type": "markdown",
   "id": "b3def94c-7486-4370-9ceb-d0db9fbc84ab",
   "metadata": {
    "jp-MarkdownHeadingCollapsed": true
   },
   "source": [
    "### 베이지안 최적화로 하이퍼파라미터 튜닝"
   ]
  },
  {
   "cell_type": "code",
   "execution_count": 113,
   "id": "72000ee7-1d14-442b-8741-c814c787556b",
   "metadata": {},
   "outputs": [],
   "source": [
    "train_x = train_copy.drop('Income', axis=1)\n",
    "train_y = train_copy['Income']"
   ]
  },
  {
   "cell_type": "code",
   "execution_count": 125,
   "id": "76df3e50-af09-4e80-beb6-9c0b9ca758e6",
   "metadata": {},
   "outputs": [],
   "source": [
    "from sklearn.metrics import roc_auc_score\n",
    "\n",
    "def eval_function(n_estimators, criterion, bootstrap):\n",
    "    rf_bounds = {'n_estimators': [10, 30, 50, 100],\n",
    "                      'criterion': ['squared_error', 'absolute_error', 'friedman_mse', 'poisson'], \n",
    "                      'bootstrap': [True, False]}\n",
    "    rf=RandomForestClassifier(**rf_bounds)\n",
    "    X_train,X_valid,y_train,y_valid=train_test_split(train_x,train_y,test_size=0.2)\n",
    "    rf.fit(X_train,y_train)\n",
    "    preds = rf.predict(X_valid)\n",
    "    score = roc_auc_score(y_valid, preds)\n",
    "\n",
    "    return score"
   ]
  },
  {
   "cell_type": "code",
   "execution_count": 126,
   "id": "64ec7fb6-e76e-44ce-b8f4-a37fd677abe9",
   "metadata": {},
   "outputs": [],
   "source": [
    "param_bounds = {'n_estimators': [10, 30, 50, 100],\n",
    "                      'criterion': ['squared_error', 'absolute_error', 'friedman_mse', 'poisson'], \n",
    "                      'bootstrap': [True, False]}"
   ]
  },
  {
   "cell_type": "code",
   "execution_count": 129,
   "id": "8353fd4a-1603-4180-b791-ed07f5497bd8",
   "metadata": {},
   "outputs": [],
   "source": [
    "# from bayes_opt import BayesianOptimization\n",
    "\n",
    "# optimizer = BayesianOptimization(f=eval_function, pbounds=param_bounds, random_state=42, verbose=1)\n",
    "# optimizer.maximize(init_points=5, n_iter=10)\n",
    "\n",
    "# 오류 발생"
   ]
  },
  {
   "cell_type": "markdown",
   "id": "e44777af-1289-4f2a-ac99-cf52b3528d9c",
   "metadata": {},
   "source": [
    "### 그리드 서치로 하이퍼파라미터 튜닝(593.0957975322 점)"
   ]
  },
  {
   "cell_type": "code",
   "execution_count": 130,
   "id": "2e1f7462-c88e-4939-aa64-6dc0a35661c3",
   "metadata": {},
   "outputs": [],
   "source": [
    "train_x = train_copy.drop('Income', axis=1)\n",
    "train_y = train_copy['Income']"
   ]
  },
  {
   "cell_type": "code",
   "execution_count": 131,
   "id": "5e943fd2-b8d1-4b04-9296-c73e2e0f33c0",
   "metadata": {},
   "outputs": [],
   "source": [
    "param_bounds = {'n_estimators': [10, 30, 50, 100],\n",
    "                      'criterion': ['squared_error', 'absolute_error', 'friedman_mse', 'poisson'], \n",
    "                      'bootstrap': [True, False]}"
   ]
  },
  {
   "cell_type": "code",
   "execution_count": 140,
   "id": "cdf366fa-41a9-42d3-917f-a450aef5fc87",
   "metadata": {},
   "outputs": [
    {
     "data": {
      "text/html": [
       "<style>#sk-container-id-7 {color: black;}#sk-container-id-7 pre{padding: 0;}#sk-container-id-7 div.sk-toggleable {background-color: white;}#sk-container-id-7 label.sk-toggleable__label {cursor: pointer;display: block;width: 100%;margin-bottom: 0;padding: 0.3em;box-sizing: border-box;text-align: center;}#sk-container-id-7 label.sk-toggleable__label-arrow:before {content: \"▸\";float: left;margin-right: 0.25em;color: #696969;}#sk-container-id-7 label.sk-toggleable__label-arrow:hover:before {color: black;}#sk-container-id-7 div.sk-estimator:hover label.sk-toggleable__label-arrow:before {color: black;}#sk-container-id-7 div.sk-toggleable__content {max-height: 0;max-width: 0;overflow: hidden;text-align: left;background-color: #f0f8ff;}#sk-container-id-7 div.sk-toggleable__content pre {margin: 0.2em;color: black;border-radius: 0.25em;background-color: #f0f8ff;}#sk-container-id-7 input.sk-toggleable__control:checked~div.sk-toggleable__content {max-height: 200px;max-width: 100%;overflow: auto;}#sk-container-id-7 input.sk-toggleable__control:checked~label.sk-toggleable__label-arrow:before {content: \"▾\";}#sk-container-id-7 div.sk-estimator input.sk-toggleable__control:checked~label.sk-toggleable__label {background-color: #d4ebff;}#sk-container-id-7 div.sk-label input.sk-toggleable__control:checked~label.sk-toggleable__label {background-color: #d4ebff;}#sk-container-id-7 input.sk-hidden--visually {border: 0;clip: rect(1px 1px 1px 1px);clip: rect(1px, 1px, 1px, 1px);height: 1px;margin: -1px;overflow: hidden;padding: 0;position: absolute;width: 1px;}#sk-container-id-7 div.sk-estimator {font-family: monospace;background-color: #f0f8ff;border: 1px dotted black;border-radius: 0.25em;box-sizing: border-box;margin-bottom: 0.5em;}#sk-container-id-7 div.sk-estimator:hover {background-color: #d4ebff;}#sk-container-id-7 div.sk-parallel-item::after {content: \"\";width: 100%;border-bottom: 1px solid gray;flex-grow: 1;}#sk-container-id-7 div.sk-label:hover label.sk-toggleable__label {background-color: #d4ebff;}#sk-container-id-7 div.sk-serial::before {content: \"\";position: absolute;border-left: 1px solid gray;box-sizing: border-box;top: 0;bottom: 0;left: 50%;z-index: 0;}#sk-container-id-7 div.sk-serial {display: flex;flex-direction: column;align-items: center;background-color: white;padding-right: 0.2em;padding-left: 0.2em;position: relative;}#sk-container-id-7 div.sk-item {position: relative;z-index: 1;}#sk-container-id-7 div.sk-parallel {display: flex;align-items: stretch;justify-content: center;background-color: white;position: relative;}#sk-container-id-7 div.sk-item::before, #sk-container-id-7 div.sk-parallel-item::before {content: \"\";position: absolute;border-left: 1px solid gray;box-sizing: border-box;top: 0;bottom: 0;left: 50%;z-index: -1;}#sk-container-id-7 div.sk-parallel-item {display: flex;flex-direction: column;z-index: 1;position: relative;background-color: white;}#sk-container-id-7 div.sk-parallel-item:first-child::after {align-self: flex-end;width: 50%;}#sk-container-id-7 div.sk-parallel-item:last-child::after {align-self: flex-start;width: 50%;}#sk-container-id-7 div.sk-parallel-item:only-child::after {width: 0;}#sk-container-id-7 div.sk-dashed-wrapped {border: 1px dashed gray;margin: 0 0.4em 0.5em 0.4em;box-sizing: border-box;padding-bottom: 0.4em;background-color: white;}#sk-container-id-7 div.sk-label label {font-family: monospace;font-weight: bold;display: inline-block;line-height: 1.2em;}#sk-container-id-7 div.sk-label-container {text-align: center;}#sk-container-id-7 div.sk-container {/* jupyter's `normalize.less` sets `[hidden] { display: none; }` but bootstrap.min.css set `[hidden] { display: none !important; }` so we also need the `!important` here to be able to override the default hidden behavior on the sphinx rendered scikit-learn.org. See: https://github.com/scikit-learn/scikit-learn/issues/21755 */display: inline-block !important;position: relative;}#sk-container-id-7 div.sk-text-repr-fallback {display: none;}</style><div id=\"sk-container-id-7\" class=\"sk-top-container\"><div class=\"sk-text-repr-fallback\"><pre>RandomForestRegressor()</pre><b>In a Jupyter environment, please rerun this cell to show the HTML representation or trust the notebook. <br />On GitHub, the HTML representation is unable to render, please try loading this page with nbviewer.org.</b></div><div class=\"sk-container\" hidden><div class=\"sk-item\"><div class=\"sk-estimator sk-toggleable\"><input class=\"sk-toggleable__control sk-hidden--visually\" id=\"sk-estimator-id-9\" type=\"checkbox\" checked><label for=\"sk-estimator-id-9\" class=\"sk-toggleable__label sk-toggleable__label-arrow\">RandomForestRegressor</label><div class=\"sk-toggleable__content\"><pre>RandomForestRegressor()</pre></div></div></div></div></div>"
      ],
      "text/plain": [
       "RandomForestRegressor()"
      ]
     },
     "execution_count": 140,
     "metadata": {},
     "output_type": "execute_result"
    }
   ],
   "source": [
    "x_train, x_test, y_train, y_test = train_test_split(train_x, train_y, test_size=0.2, random_state=42)\n",
    "model_RFR = RandomForestRegressor() \n",
    "model_RFR.fit(x_train, y_train)"
   ]
  },
  {
   "cell_type": "code",
   "execution_count": 134,
   "id": "a2cf33ed-d8b5-40d3-af26-acaf0d60589c",
   "metadata": {},
   "outputs": [],
   "source": [
    "rf = RandomForestRegressor(random_state=42)"
   ]
  },
  {
   "cell_type": "code",
   "execution_count": 135,
   "id": "359202ad-6cf8-4534-875c-23045a245789",
   "metadata": {},
   "outputs": [],
   "source": [
    "grid_search = GridSearchCV(estimator=rf, param_grid=param_bounds, cv=3, n_jobs=-1, verbose=1, scoring='roc_auc')"
   ]
  },
  {
   "cell_type": "code",
   "execution_count": 136,
   "id": "501f5135-a9da-4361-90de-39e8331a1d86",
   "metadata": {},
   "outputs": [
    {
     "name": "stdout",
     "output_type": "stream",
     "text": [
      "Fitting 3 folds for each of 32 candidates, totalling 96 fits\n"
     ]
    },
    {
     "name": "stderr",
     "output_type": "stream",
     "text": [
      "C:\\Users\\82102\\anaconda3\\envs\\MLpy310\\lib\\site-packages\\sklearn\\model_selection\\_search.py:976: UserWarning: One or more of the test scores are non-finite: [nan nan nan nan nan nan nan nan nan nan nan nan nan nan nan nan nan nan\n",
      " nan nan nan nan nan nan nan nan nan nan nan nan nan nan]\n",
      "  warnings.warn(\n"
     ]
    },
    {
     "data": {
      "text/html": [
       "<style>#sk-container-id-6 {color: black;}#sk-container-id-6 pre{padding: 0;}#sk-container-id-6 div.sk-toggleable {background-color: white;}#sk-container-id-6 label.sk-toggleable__label {cursor: pointer;display: block;width: 100%;margin-bottom: 0;padding: 0.3em;box-sizing: border-box;text-align: center;}#sk-container-id-6 label.sk-toggleable__label-arrow:before {content: \"▸\";float: left;margin-right: 0.25em;color: #696969;}#sk-container-id-6 label.sk-toggleable__label-arrow:hover:before {color: black;}#sk-container-id-6 div.sk-estimator:hover label.sk-toggleable__label-arrow:before {color: black;}#sk-container-id-6 div.sk-toggleable__content {max-height: 0;max-width: 0;overflow: hidden;text-align: left;background-color: #f0f8ff;}#sk-container-id-6 div.sk-toggleable__content pre {margin: 0.2em;color: black;border-radius: 0.25em;background-color: #f0f8ff;}#sk-container-id-6 input.sk-toggleable__control:checked~div.sk-toggleable__content {max-height: 200px;max-width: 100%;overflow: auto;}#sk-container-id-6 input.sk-toggleable__control:checked~label.sk-toggleable__label-arrow:before {content: \"▾\";}#sk-container-id-6 div.sk-estimator input.sk-toggleable__control:checked~label.sk-toggleable__label {background-color: #d4ebff;}#sk-container-id-6 div.sk-label input.sk-toggleable__control:checked~label.sk-toggleable__label {background-color: #d4ebff;}#sk-container-id-6 input.sk-hidden--visually {border: 0;clip: rect(1px 1px 1px 1px);clip: rect(1px, 1px, 1px, 1px);height: 1px;margin: -1px;overflow: hidden;padding: 0;position: absolute;width: 1px;}#sk-container-id-6 div.sk-estimator {font-family: monospace;background-color: #f0f8ff;border: 1px dotted black;border-radius: 0.25em;box-sizing: border-box;margin-bottom: 0.5em;}#sk-container-id-6 div.sk-estimator:hover {background-color: #d4ebff;}#sk-container-id-6 div.sk-parallel-item::after {content: \"\";width: 100%;border-bottom: 1px solid gray;flex-grow: 1;}#sk-container-id-6 div.sk-label:hover label.sk-toggleable__label {background-color: #d4ebff;}#sk-container-id-6 div.sk-serial::before {content: \"\";position: absolute;border-left: 1px solid gray;box-sizing: border-box;top: 0;bottom: 0;left: 50%;z-index: 0;}#sk-container-id-6 div.sk-serial {display: flex;flex-direction: column;align-items: center;background-color: white;padding-right: 0.2em;padding-left: 0.2em;position: relative;}#sk-container-id-6 div.sk-item {position: relative;z-index: 1;}#sk-container-id-6 div.sk-parallel {display: flex;align-items: stretch;justify-content: center;background-color: white;position: relative;}#sk-container-id-6 div.sk-item::before, #sk-container-id-6 div.sk-parallel-item::before {content: \"\";position: absolute;border-left: 1px solid gray;box-sizing: border-box;top: 0;bottom: 0;left: 50%;z-index: -1;}#sk-container-id-6 div.sk-parallel-item {display: flex;flex-direction: column;z-index: 1;position: relative;background-color: white;}#sk-container-id-6 div.sk-parallel-item:first-child::after {align-self: flex-end;width: 50%;}#sk-container-id-6 div.sk-parallel-item:last-child::after {align-self: flex-start;width: 50%;}#sk-container-id-6 div.sk-parallel-item:only-child::after {width: 0;}#sk-container-id-6 div.sk-dashed-wrapped {border: 1px dashed gray;margin: 0 0.4em 0.5em 0.4em;box-sizing: border-box;padding-bottom: 0.4em;background-color: white;}#sk-container-id-6 div.sk-label label {font-family: monospace;font-weight: bold;display: inline-block;line-height: 1.2em;}#sk-container-id-6 div.sk-label-container {text-align: center;}#sk-container-id-6 div.sk-container {/* jupyter's `normalize.less` sets `[hidden] { display: none; }` but bootstrap.min.css set `[hidden] { display: none !important; }` so we also need the `!important` here to be able to override the default hidden behavior on the sphinx rendered scikit-learn.org. See: https://github.com/scikit-learn/scikit-learn/issues/21755 */display: inline-block !important;position: relative;}#sk-container-id-6 div.sk-text-repr-fallback {display: none;}</style><div id=\"sk-container-id-6\" class=\"sk-top-container\"><div class=\"sk-text-repr-fallback\"><pre>GridSearchCV(cv=3, estimator=RandomForestRegressor(random_state=42), n_jobs=-1,\n",
       "             param_grid={&#x27;bootstrap&#x27;: [True, False],\n",
       "                         &#x27;criterion&#x27;: [&#x27;squared_error&#x27;, &#x27;absolute_error&#x27;,\n",
       "                                       &#x27;friedman_mse&#x27;, &#x27;poisson&#x27;],\n",
       "                         &#x27;n_estimators&#x27;: [10, 30, 50, 100]},\n",
       "             scoring=&#x27;roc_auc&#x27;, verbose=1)</pre><b>In a Jupyter environment, please rerun this cell to show the HTML representation or trust the notebook. <br />On GitHub, the HTML representation is unable to render, please try loading this page with nbviewer.org.</b></div><div class=\"sk-container\" hidden><div class=\"sk-item sk-dashed-wrapped\"><div class=\"sk-label-container\"><div class=\"sk-label sk-toggleable\"><input class=\"sk-toggleable__control sk-hidden--visually\" id=\"sk-estimator-id-6\" type=\"checkbox\" ><label for=\"sk-estimator-id-6\" class=\"sk-toggleable__label sk-toggleable__label-arrow\">GridSearchCV</label><div class=\"sk-toggleable__content\"><pre>GridSearchCV(cv=3, estimator=RandomForestRegressor(random_state=42), n_jobs=-1,\n",
       "             param_grid={&#x27;bootstrap&#x27;: [True, False],\n",
       "                         &#x27;criterion&#x27;: [&#x27;squared_error&#x27;, &#x27;absolute_error&#x27;,\n",
       "                                       &#x27;friedman_mse&#x27;, &#x27;poisson&#x27;],\n",
       "                         &#x27;n_estimators&#x27;: [10, 30, 50, 100]},\n",
       "             scoring=&#x27;roc_auc&#x27;, verbose=1)</pre></div></div></div><div class=\"sk-parallel\"><div class=\"sk-parallel-item\"><div class=\"sk-item\"><div class=\"sk-label-container\"><div class=\"sk-label sk-toggleable\"><input class=\"sk-toggleable__control sk-hidden--visually\" id=\"sk-estimator-id-7\" type=\"checkbox\" ><label for=\"sk-estimator-id-7\" class=\"sk-toggleable__label sk-toggleable__label-arrow\">estimator: RandomForestRegressor</label><div class=\"sk-toggleable__content\"><pre>RandomForestRegressor(random_state=42)</pre></div></div></div><div class=\"sk-serial\"><div class=\"sk-item\"><div class=\"sk-estimator sk-toggleable\"><input class=\"sk-toggleable__control sk-hidden--visually\" id=\"sk-estimator-id-8\" type=\"checkbox\" ><label for=\"sk-estimator-id-8\" class=\"sk-toggleable__label sk-toggleable__label-arrow\">RandomForestRegressor</label><div class=\"sk-toggleable__content\"><pre>RandomForestRegressor(random_state=42)</pre></div></div></div></div></div></div></div></div></div></div>"
      ],
      "text/plain": [
       "GridSearchCV(cv=3, estimator=RandomForestRegressor(random_state=42), n_jobs=-1,\n",
       "             param_grid={'bootstrap': [True, False],\n",
       "                         'criterion': ['squared_error', 'absolute_error',\n",
       "                                       'friedman_mse', 'poisson'],\n",
       "                         'n_estimators': [10, 30, 50, 100]},\n",
       "             scoring='roc_auc', verbose=1)"
      ]
     },
     "execution_count": 136,
     "metadata": {},
     "output_type": "execute_result"
    }
   ],
   "source": [
    "grid_search.fit(train_x, train_y)"
   ]
  },
  {
   "cell_type": "code",
   "execution_count": 137,
   "id": "2527c67a-0d20-4504-8c32-d55223e39951",
   "metadata": {},
   "outputs": [],
   "source": [
    "# 최적의 파라미터와 최고 점수 출력\n",
    "best_params_Grd = grid_search.best_params_\n",
    "best_score_Grd = grid_search.best_score_"
   ]
  },
  {
   "cell_type": "code",
   "execution_count": 138,
   "id": "2343aecd-5895-42ad-9eb8-065744516ab7",
   "metadata": {},
   "outputs": [
    {
     "data": {
      "text/plain": [
       "({'bootstrap': True, 'criterion': 'squared_error', 'n_estimators': 10}, nan)"
      ]
     },
     "execution_count": 138,
     "metadata": {},
     "output_type": "execute_result"
    }
   ],
   "source": [
    "best_params_Grd, best_score_Grd"
   ]
  },
  {
   "cell_type": "code",
   "execution_count": 139,
   "id": "ce48c055-8d56-4b92-9612-38e0c327bfe2",
   "metadata": {},
   "outputs": [],
   "source": [
    "preds_RFR_GS = grid_search.predict(test)"
   ]
  },
  {
   "cell_type": "code",
   "execution_count": 142,
   "id": "5a25537e-a2c7-4a4a-bebd-79101adc2e75",
   "metadata": {},
   "outputs": [
    {
     "data": {
      "text/html": [
       "<div>\n",
       "<style scoped>\n",
       "    .dataframe tbody tr th:only-of-type {\n",
       "        vertical-align: middle;\n",
       "    }\n",
       "\n",
       "    .dataframe tbody tr th {\n",
       "        vertical-align: top;\n",
       "    }\n",
       "\n",
       "    .dataframe thead th {\n",
       "        text-align: right;\n",
       "    }\n",
       "</style>\n",
       "<table border=\"1\" class=\"dataframe\">\n",
       "  <thead>\n",
       "    <tr style=\"text-align: right;\">\n",
       "      <th></th>\n",
       "      <th>ID</th>\n",
       "      <th>Income</th>\n",
       "    </tr>\n",
       "  </thead>\n",
       "  <tbody>\n",
       "    <tr>\n",
       "      <th>0</th>\n",
       "      <td>TEST_0000</td>\n",
       "      <td>0.000000</td>\n",
       "    </tr>\n",
       "    <tr>\n",
       "      <th>1</th>\n",
       "      <td>TEST_0001</td>\n",
       "      <td>0.000000</td>\n",
       "    </tr>\n",
       "    <tr>\n",
       "      <th>2</th>\n",
       "      <td>TEST_0002</td>\n",
       "      <td>224.125000</td>\n",
       "    </tr>\n",
       "    <tr>\n",
       "      <th>3</th>\n",
       "      <td>TEST_0003</td>\n",
       "      <td>605.714286</td>\n",
       "    </tr>\n",
       "    <tr>\n",
       "      <th>4</th>\n",
       "      <td>TEST_0004</td>\n",
       "      <td>0.000000</td>\n",
       "    </tr>\n",
       "    <tr>\n",
       "      <th>...</th>\n",
       "      <td>...</td>\n",
       "      <td>...</td>\n",
       "    </tr>\n",
       "    <tr>\n",
       "      <th>9995</th>\n",
       "      <td>TEST_9995</td>\n",
       "      <td>1489.400000</td>\n",
       "    </tr>\n",
       "    <tr>\n",
       "      <th>9996</th>\n",
       "      <td>TEST_9996</td>\n",
       "      <td>679.200000</td>\n",
       "    </tr>\n",
       "    <tr>\n",
       "      <th>9997</th>\n",
       "      <td>TEST_9997</td>\n",
       "      <td>350.000000</td>\n",
       "    </tr>\n",
       "    <tr>\n",
       "      <th>9998</th>\n",
       "      <td>TEST_9998</td>\n",
       "      <td>0.000000</td>\n",
       "    </tr>\n",
       "    <tr>\n",
       "      <th>9999</th>\n",
       "      <td>TEST_9999</td>\n",
       "      <td>245.200000</td>\n",
       "    </tr>\n",
       "  </tbody>\n",
       "</table>\n",
       "<p>10000 rows × 2 columns</p>\n",
       "</div>"
      ],
      "text/plain": [
       "             ID       Income\n",
       "0     TEST_0000     0.000000\n",
       "1     TEST_0001     0.000000\n",
       "2     TEST_0002   224.125000\n",
       "3     TEST_0003   605.714286\n",
       "4     TEST_0004     0.000000\n",
       "...         ...          ...\n",
       "9995  TEST_9995  1489.400000\n",
       "9996  TEST_9996   679.200000\n",
       "9997  TEST_9997   350.000000\n",
       "9998  TEST_9998     0.000000\n",
       "9999  TEST_9999   245.200000\n",
       "\n",
       "[10000 rows x 2 columns]"
      ]
     },
     "execution_count": 142,
     "metadata": {},
     "output_type": "execute_result"
    }
   ],
   "source": [
    "submission = pd.read_csv('C:\\\\Users\\\\82102\\\\Desktop\\\\Machine_Learning\\\\DACON_materials\\\\Income_Prediction\\\\sample_submission.csv')\n",
    "submission['Income'] = preds_RFR_GS\n",
    "submission"
   ]
  },
  {
   "cell_type": "code",
   "execution_count": 143,
   "id": "5af64749-01be-4a82-816a-8c9afcca087b",
   "metadata": {},
   "outputs": [],
   "source": [
    "submission.to_csv('./submission2_7.csv', index=False)"
   ]
  },
  {
   "cell_type": "code",
   "execution_count": null,
   "id": "cc096658-6682-4051-887d-9d6a7e100f5f",
   "metadata": {},
   "outputs": [],
   "source": []
  }
 ],
 "metadata": {
  "kernelspec": {
   "display_name": "ML_py3.10.13",
   "language": "python",
   "name": "mlpy310"
  },
  "language_info": {
   "codemirror_mode": {
    "name": "ipython",
    "version": 3
   },
   "file_extension": ".py",
   "mimetype": "text/x-python",
   "name": "python",
   "nbconvert_exporter": "python",
   "pygments_lexer": "ipython3",
   "version": "3.10.13"
  }
 },
 "nbformat": 4,
 "nbformat_minor": 5
}
