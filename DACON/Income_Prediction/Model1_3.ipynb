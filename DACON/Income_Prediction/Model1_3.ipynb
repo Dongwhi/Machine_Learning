{
 "cells": [
  {
   "cell_type": "markdown",
   "id": "bbd9cd80-adbb-413c-bd42-af0ffba74ca8",
   "metadata": {},
   "source": [
    "# 신경망, k-fold 사용\n",
    "\n",
    "> [pppanghyun](https://velog.io/@pppanghyun/6.-%EA%B5%90%EC%B0%A8-%EA%B2%80%EC%A6%9DCross-Validation)"
   ]
  },
  {
   "cell_type": "code",
   "execution_count": null,
   "id": "59230d26-18bc-4aae-8c53-b6486aae9c44",
   "metadata": {},
   "outputs": [],
   "source": [
    "import pandas as pd\n",
    "import matplotlib.pyplot as plt\n",
    "import numpy as np\n",
    "import seaborn as sns"
   ]
  },
  {
   "cell_type": "code",
   "execution_count": null,
   "id": "067eb8fa-4907-4def-bae8-698904661225",
   "metadata": {},
   "outputs": [],
   "source": [
    "train = pd.read_csv('train_1.csv')"
   ]
  },
  {
   "cell_type": "code",
   "execution_count": null,
   "id": "6a005b2f-c98c-409d-977b-0efeaa70af02",
   "metadata": {},
   "outputs": [],
   "source": [
    "test = pd.read_csv('test_1.csv')"
   ]
  },
  {
   "cell_type": "code",
   "execution_count": null,
   "id": "cf94b316-c8da-4246-82af-91398095d685",
   "metadata": {},
   "outputs": [],
   "source": [
    "train_x = train.drop('Income', axis=1)"
   ]
  },
  {
   "cell_type": "code",
   "execution_count": null,
   "id": "4f04165e-fb54-4e2f-8f8d-00eca0ea0bc2",
   "metadata": {},
   "outputs": [],
   "source": [
    "train_y = train['Income']"
   ]
  },
  {
   "cell_type": "markdown",
   "id": "f28d2561-719e-4f48-a4e3-6346b952d18e",
   "metadata": {},
   "source": [
    "라이브러리 (k-fold validation은 sklearn으로 쉽게 사용 가능)"
   ]
  },
  {
   "cell_type": "code",
   "execution_count": null,
   "id": "176d2f56-e85c-4900-806b-c72fe084a518",
   "metadata": {},
   "outputs": [],
   "source": [
    "import torch\n",
    "import torch.nn as nn\n",
    "import torch.nn.functional as F\n",
    "import torch.optim as opt\n",
    "\n",
    "import pandas as pd # 데이터프레임 형태를 다룰 수 있는 라이브러리\n",
    "import numpy as np\n",
    "from sklearn.model_selection import train_test_split # 전체 데이터를 학습 데이터와 평가 데이터로 분할\n",
    "\n",
    "# ANN\n",
    "import torch\n",
    "from torch import nn, optim # torch 내의 세부적인 기능\n",
    "from torch.utils.data import DataLoader, Dataset # 데이터를 모델에 사용\n",
    "import torch.nn.functional as F # torch 내의 세부적인 기능\n",
    "\n",
    "# Cross Validation\n",
    "from sklearn.model_selection import KFold\n",
    "\n",
    "# Loss\n",
    "from sklearn.metrics import mean_squared_error # MSE(Mean Squared Error)\n",
    "\n",
    "# Plot\n",
    "import matplotlib.pyplot as plt # 시각화 도구"
   ]
  },
  {
   "cell_type": "markdown",
   "id": "154c2d35-05a6-4d6b-bcd7-ea8f345d9447",
   "metadata": {},
   "source": [
    "데이터 불러오고 텐서로 변환"
   ]
  },
  {
   "cell_type": "code",
   "execution_count": null,
   "id": "a14d213f-6c82-453c-be5c-9fb3ea326e38",
   "metadata": {},
   "outputs": [],
   "source": [
    "# 데이터를 넘파이 배열로\n",
    "X = train_x.to_numpy() # 타겟값을 제외하고 넘파이 배열로 \n",
    "Y = train_y.to_numpy().reshape((-1,1)) # 타겟값을 넘파이 배열로 만들기"
   ]
  },
  {
   "cell_type": "code",
   "execution_count": null,
   "id": "42c9f9ec-3a30-4153-817e-130817c8968a",
   "metadata": {},
   "outputs": [],
   "source": [
    "class TensorData(Dataset):\n",
    "\n",
    "    def __init__(self, x_data, y_data):\n",
    "        self.x_data = torch.FloatTensor(x_data)\n",
    "        self.y_data = torch.FloatTensor(y_data)\n",
    "        self.len = self.y_data.shape[0]\n",
    "\n",
    "    def __getitem__(self, index):\n",
    "\n",
    "        return self.x_data[index], self.y_data[index] \n",
    "\n",
    "    def __len__(self):\n",
    "        return self.len"
   ]
  },
  {
   "cell_type": "code",
   "execution_count": null,
   "id": "7357def8-d04b-4203-b0c7-06cb2f86c047",
   "metadata": {},
   "outputs": [],
   "source": [
    "X_train, X_test, Y_train, Y_test = train_test_split(X, Y, test_size=0.25)\n",
    "trainset = TensorData(X_train, Y_train)\n",
    "testset = TensorData(X_test, Y_test)\n",
    "testloader = torch.utils.data.DataLoader(testset, batch_size=32, shuffle=False)"
   ]
  },
  {
   "cell_type": "markdown",
   "id": "ec861f82-b5d4-46ff-9255-71f901ee66ff",
   "metadata": {},
   "source": [
    "간단한 회귀 모델 생성"
   ]
  },
  {
   "cell_type": "code",
   "execution_count": null,
   "id": "dc94f52d-abc0-473d-be3a-e7c46f14a5f5",
   "metadata": {},
   "outputs": [],
   "source": [
    "class Regressor(nn.Module):\n",
    "    def __init__(self):\n",
    "        super().__init__() # 모델 연산 정의\n",
    "        self.fc1 = nn.Linear(13, 50, bias=True) # 입력층(13) -> 은닉층1(50)으로 가는 연산\n",
    "        self.fc2 = nn.Linear(50, 30, bias=True) # 은닉층1(50) -> 은닉층2(30)으로 가는 연산\n",
    "        self.fc3 = nn.Linear(30, 1, bias=True) # 은닉층2(30) -> 출력층(1)으로 가는 연산\n",
    "    \n",
    "    def forward(self, x):\n",
    "        x = self.fc1(x) \n",
    "        x = self.fc2(x) \n",
    "        x = self.fc3(x) \n",
    "      \n",
    "        return x\n",
    "        \n",
    "Regressor()\n",
    "\n",
    "#result\n",
    "# Regressor(\n",
    "#   (fc1): Linear(in_features=13, out_features=50, bias=True)\n",
    "#   (fc2): Linear(in_features=50, out_features=30, bias=True)\n",
    "#   (fc3): Linear(in_features=30, out_features=1, bias=True)\n",
    "# )"
   ]
  },
  {
   "cell_type": "markdown",
   "id": "c033ce32-07a5-48f2-b06f-ada35be52254",
   "metadata": {},
   "source": [
    "K-fold 및 criterion 만들기 (k=3)"
   ]
  },
  {
   "cell_type": "code",
   "execution_count": null,
   "id": "093d4d55-125b-4935-99c4-4b9530402e67",
   "metadata": {},
   "outputs": [],
   "source": [
    "kfold = KFold(n_splits=3, shuffle=True)\n",
    "criterion = nn.MSELoss()"
   ]
  },
  {
   "cell_type": "markdown",
   "id": "f3031fa8-0f7d-40f2-a140-3ae269adaa4b",
   "metadata": {},
   "source": [
    "평가(evaluation)"
   ]
  },
  {
   "cell_type": "code",
   "execution_count": null,
   "id": "15189da3-602f-47e4-a7f8-c5b66dceb7c9",
   "metadata": {},
   "outputs": [],
   "source": [
    "def evaluation(dataloader):\n",
    "    \n",
    "    predictions = torch.tensor([], dtype=torch.float) # 예측값을 저장하는 텐서\n",
    "    actual = torch.tensor([], dtype=torch.float) # 실제값을 저장하는 텐서\n",
    "        \n",
    "    with torch.no_grad():\n",
    "        model.eval() # 평가를 할 때에는 반드시 .eval()  사용\n",
    "        for data in dataloader:\n",
    "            inputs, values = data\n",
    "            outputs = model(inputs)\n",
    "\n",
    "            predictions = torch.cat((predictions, outputs), 0) # cat을 통해 예측값을 누적\n",
    "            actual = torch.cat((actual, values), 0) # cat을 통해 실제값을 누적\n",
    "    \n",
    "    predictions = predictions.numpy() # 넘파이 배열로 변경\n",
    "    actual = actual.numpy() # 넘파이 배열로 변경 (sklearn 사용해야되니까)\n",
    "    rmse = np.sqrt(mean_squared_error(predictions, actual)) # sklearn을 이용하여 RMSE 계산\n",
    "    model.train()\n",
    "    return rmse  \n",
    "\n",
    "# 평가 시 .eval()을 사용해야 하는 이유\n",
    "# 이번 예시에서는 상관없으나 평가 시에는 정규화 기술(dropout 등)을 배제하여 온전한 모델로 평가를 해야함\n",
    "# 따라서 .eval()을 사용\n",
    "# 즉, 드랍아웃이나 배치 정규화 등과 같이 학습 시에만 사용하는 기술들이 적용 된 모델은 평가 시에는 비활성화 해야됨\n",
    "# 학습 시 .train()을 사용"
   ]
  },
  {
   "cell_type": "markdown",
   "id": "d55033d5-c4c9-4c0f-8e75-7ce015e31ded",
   "metadata": {},
   "source": [
    "k-fold validation 을 이용한 학습"
   ]
  },
  {
   "cell_type": "code",
   "execution_count": null,
   "id": "26e95eb3-518f-4f19-a253-efc8ed00b432",
   "metadata": {},
   "outputs": [],
   "source": [
    "validation_loss = []\n",
    "\n",
    "for fold, (train_idx, val_idx) in enumerate(kfold.split(trainset)): # 위의 k-fold class 사용\n",
    "    \n",
    "    \n",
    "    train_subsampler = torch.utils.data.SubsetRandomSampler(train_idx) # index 생성\n",
    "    val_subsampler = torch.utils.data.SubsetRandomSampler(val_idx) # index 생성\n",
    "    \n",
    "    # sampler를 이용한 DataLoader 정의\n",
    "    trainloader = torch.utils.data.DataLoader(trainset, batch_size=32, sampler=train_subsampler) # 해당하는 index 추출\n",
    "    valloader = torch.utils.data.DataLoader(trainset, batch_size=32, sampler=val_subsampler)\n",
    "    \n",
    "    # 모델\n",
    "    model = Regressor()\n",
    "    optimizer = optim.Adam(model.parameters(), lr=0.001, weight_decay=1e-7)\n",
    "    \n",
    "    for epoch in range(400): # 400번 학습을 진행한다.\n",
    "\n",
    "        for data in trainloader: # 무작위로 섞인 32개 데이터가 있는 배치가 하나 씩 들어온다.\n",
    "\n",
    "            inputs, values = data # data에는 X, Y가 들어있다.\n",
    "\n",
    "            optimizer.zero_grad() # 최적화 초기화\n",
    "\n",
    "            outputs = model(inputs) # 모델에 입력값 대입 후 예측값 산출\n",
    "            loss = criterion(outputs, values) # 손실 함수 계산\n",
    "            loss.backward() # 손실 함수 기준으로 역전파 설정 \n",
    "            optimizer.step() # 역전파를 진행하고 가중치 업데이트\n",
    "\n",
    "    train_rmse = evaluation(trainloader) # 학습 데이터의 RMSE\n",
    "    val_rmse = evaluation(valloader)\n",
    "    print(\"k-fold\", fold,\" Train Loss: %.4f, Validation Loss: %.4f\" %(train_rmse, val_rmse)) \n",
    "    validation_loss.append(val_rmse)\n",
    "\n",
    "validation_loss = np.array(validation_loss)\n",
    "mean = np.mean(validation_loss)\n",
    "std = np.std(validation_loss)\n",
    "print(\"Validation Score: %.4f, ± %.4f\" %(mean, std))\n",
    "\n",
    "# return\n",
    "# k-fold 0  Train Loss: 0.0945, Validation Loss: 0.1605\n",
    "# k-fold 1  Train Loss: 0.1118, Validation Loss: 0.1503\n",
    "# k-fold 2  Train Loss: 0.1240, Validation Loss: 0.1077\n",
    "# Validation Score: 0.1395, ± 0.0229"
   ]
  },
  {
   "cell_type": "markdown",
   "id": "706ffdf6-64f6-4aac-b29f-c3e3c2e89c12",
   "metadata": {},
   "source": [
    "테스트"
   ]
  },
  {
   "cell_type": "code",
   "execution_count": null,
   "id": "e645b3eb-8491-4c72-9dba-795cd7231249",
   "metadata": {},
   "outputs": [],
   "source": [
    "trainloader = torch.utils.data.DataLoader(trainset, batch_size=32, shuffle=False)\n",
    "train_rmse = evaluation(trainloader) # 학습 데이터의 RMSE\n",
    "test_rmse = evaluation(testloader) # 시험 데이터의 RMSE\n",
    "\n",
    "print(\"Train RMSE: %.4f\" %train_rmse)\n",
    "print(\"Test RMSE: %.4f\" %test_rmse)\n",
    "\n",
    "#result\n",
    "# Train RMSE: 0.1189\n",
    "# Test RMSE: 0.1279"
   ]
  },
  {
   "cell_type": "code",
   "execution_count": null,
   "id": "76784445-e7de-480e-a688-6f9d33b90b0f",
   "metadata": {},
   "outputs": [],
   "source": [
    "X = torch.FloatTensor(train_x.values).view(-1, 1)\n",
    "Y = torch.FloatTensor(train_y.values).view(-1, 1)"
   ]
  },
  {
   "cell_type": "code",
   "execution_count": null,
   "id": "65d82a9a-e429-419a-a8a7-e61117dd5275",
   "metadata": {},
   "outputs": [],
   "source": []
  },
  {
   "cell_type": "code",
   "execution_count": null,
   "id": "a13b927d-d740-4e23-8dea-7e1193a692f3",
   "metadata": {},
   "outputs": [],
   "source": []
  },
  {
   "cell_type": "code",
   "execution_count": null,
   "id": "fbe0e1a4-d714-4609-8866-dfb7475b6c9f",
   "metadata": {},
   "outputs": [],
   "source": []
  },
  {
   "cell_type": "code",
   "execution_count": null,
   "id": "6ffd9628-ea25-4bd7-b827-7c091655cd8f",
   "metadata": {},
   "outputs": [],
   "source": []
  },
  {
   "cell_type": "code",
   "execution_count": null,
   "id": "1358c3c5-594e-4cd7-bcd5-47de80995e06",
   "metadata": {},
   "outputs": [],
   "source": []
  },
  {
   "cell_type": "code",
   "execution_count": null,
   "id": "6cb40761-d830-4211-b3b1-c2e06c0b8e94",
   "metadata": {},
   "outputs": [],
   "source": []
  },
  {
   "cell_type": "code",
   "execution_count": null,
   "id": "e9b67ad9-b29d-45b5-98fd-5f18fc3cee26",
   "metadata": {},
   "outputs": [],
   "source": []
  },
  {
   "cell_type": "code",
   "execution_count": null,
   "id": "c49b5a9c-444e-44c0-906a-1f494f874494",
   "metadata": {},
   "outputs": [],
   "source": []
  },
  {
   "cell_type": "code",
   "execution_count": null,
   "id": "fdc961e4-2b98-453f-b8f8-fd4a90bd4a3c",
   "metadata": {},
   "outputs": [],
   "source": []
  },
  {
   "cell_type": "code",
   "execution_count": null,
   "id": "da72c099-4dd1-4eb9-aef7-e213799756eb",
   "metadata": {},
   "outputs": [],
   "source": []
  },
  {
   "cell_type": "code",
   "execution_count": null,
   "id": "1eae2257-8a8c-4502-89fd-aa9fca2ba3b4",
   "metadata": {},
   "outputs": [],
   "source": []
  },
  {
   "cell_type": "code",
   "execution_count": null,
   "id": "1932bcbf-fa32-44a3-8c87-06006c4fe2cc",
   "metadata": {},
   "outputs": [],
   "source": []
  },
  {
   "cell_type": "code",
   "execution_count": null,
   "id": "4f0add42-e9e5-452c-8a4c-745456dbba72",
   "metadata": {},
   "outputs": [],
   "source": []
  },
  {
   "cell_type": "code",
   "execution_count": null,
   "id": "499153bb-ef99-4175-a011-d8755682ef8d",
   "metadata": {},
   "outputs": [],
   "source": []
  },
  {
   "cell_type": "code",
   "execution_count": null,
   "id": "b8957705-1b81-417f-b45a-c2666e98491a",
   "metadata": {},
   "outputs": [],
   "source": []
  },
  {
   "cell_type": "code",
   "execution_count": null,
   "id": "17bcc205-1c1d-409c-bb21-6a4dd65746a6",
   "metadata": {},
   "outputs": [],
   "source": []
  },
  {
   "cell_type": "code",
   "execution_count": null,
   "id": "bf0e3e3f-0c2c-455a-9e7b-e715466bac24",
   "metadata": {},
   "outputs": [],
   "source": []
  },
  {
   "cell_type": "code",
   "execution_count": null,
   "id": "602ae0c0-bd52-4276-976b-c7face73300b",
   "metadata": {},
   "outputs": [],
   "source": []
  },
  {
   "cell_type": "code",
   "execution_count": null,
   "id": "bd6e5a38-814d-45bd-8b5d-84ae3d0a4bc7",
   "metadata": {},
   "outputs": [],
   "source": []
  },
  {
   "cell_type": "code",
   "execution_count": null,
   "id": "1697251c-0725-4775-8a5a-a598f69dc031",
   "metadata": {},
   "outputs": [],
   "source": []
  },
  {
   "cell_type": "code",
   "execution_count": null,
   "id": "4ca46510-3e7a-4fcf-abd6-481c432b6b41",
   "metadata": {},
   "outputs": [],
   "source": []
  }
 ],
 "metadata": {
  "kernelspec": {
   "display_name": "ML_py3.10.13",
   "language": "python",
   "name": "mlpy310"
  },
  "language_info": {
   "codemirror_mode": {
    "name": "ipython",
    "version": 3
   },
   "file_extension": ".py",
   "mimetype": "text/x-python",
   "name": "python",
   "nbconvert_exporter": "python",
   "pygments_lexer": "ipython3",
   "version": "3.10.13"
  }
 },
 "nbformat": 4,
 "nbformat_minor": 5
}
