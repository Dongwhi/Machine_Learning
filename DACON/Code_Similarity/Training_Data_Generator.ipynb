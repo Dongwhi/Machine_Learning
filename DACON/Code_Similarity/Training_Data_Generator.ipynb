{
 "cells": [
  {
   "cell_type": "markdown",
   "id": "77154970-5f41-41b5-a6fd-3aa892abfdeb",
   "metadata": {},
   "source": [
    "## 학습용 데이터 생성"
   ]
  },
  {
   "cell_type": "markdown",
   "id": "73704830-ee5c-4602-951d-c0eb9da85368",
   "metadata": {},
   "source": [
    "데이콘에서 라벨링된 데이터 말고도 수많은 원본 코드 샘플을 줬기 때문에 직접 라벨링된 학습용 데이터셋을 만들 수 있다.  \n",
    "해당 코드는 데이콘의 [미남호일룬](https://dacon.io/myprofile/477473/home)님의 코드를 참고했다."
   ]
  },
  {
   "cell_type": "markdown",
   "id": "9f440d04-4b74-4459-b1a3-80727c4c7020",
   "metadata": {},
   "source": [
    "### Library"
   ]
  },
  {
   "cell_type": "code",
   "execution_count": 1,
   "id": "be36449e-2d9a-49b8-8e7b-f259d32604fd",
   "metadata": {},
   "outputs": [],
   "source": [
    "import pandas as pd\n",
    "import numpy as np\n",
    "import random\n",
    "from tqdm import tqdm\n",
    "\n",
    "random.seed(42)\n",
    "np.random.seed(42)"
   ]
  },
  {
   "cell_type": "markdown",
   "id": "735ce932-c8f1-4b47-ba05-f2b05f6689f3",
   "metadata": {},
   "source": [
    "### 설정값"
   ]
  },
  {
   "cell_type": "code",
   "execution_count": 2,
   "id": "57b25aac-bebe-4804-809d-68afaadd7251",
   "metadata": {},
   "outputs": [],
   "source": [
    "path = '.' # train_code 폴더의 바로 위 폴더까지의 경로. 현재 환경에 train_code 폴더가 있다면 '.'이면 되고, 아니라면: ex) C:/.../Code_Similarity/train_code 라면 'C:/.../Code_Similarity'\n",
    "sample_count = 10000 # 만들고싶은 총 샘플 데이터 수\n",
    "pair_proportion = 0.5 # 같은 문제를 해결하는 코드끼리 묶여있는 짝의 비율(similar가 1인 샘플의 비율. 0~1사이의 실수)"
   ]
  },
  {
   "cell_type": "markdown",
   "id": "4f5c8641-34de-40cd-88d6-852677c0793f",
   "metadata": {},
   "source": [
    "### 함수 정의"
   ]
  },
  {
   "cell_type": "code",
   "execution_count": 3,
   "id": "3f9cca8e-b822-4423-8bdb-dad28dff3058",
   "metadata": {},
   "outputs": [],
   "source": [
    "def new_sample_generator(path, sample_count, pair_proportion):\n",
    "    new_df = pd.DataFrame({'code1_path' : [], 'code2_path' : [], 'code1' : [], 'code2' : [], 'similar' : []})\n",
    "    pair_count = int(sample_count * pair_proportion)\n",
    "    not_pair_count = sample_count - pair_count\n",
    "    sample_similar_list = list(np.random.permutation([1] * pair_count + [0] * not_pair_count))\n",
    "\n",
    "    problem_num_diction = {}\n",
    "    for i in range(sample_count):\n",
    "        boolean = sample_similar_list[i]\n",
    "        if boolean:\n",
    "            problem_num_diction[i] = np.random.randint(1, 501)\n",
    "        else:\n",
    "            problem_num_diction[i] = list(np.random.choice(range(1, 501), size = 2, replace = False))\n",
    "\n",
    "    sample_num_diction = {}\n",
    "    for i in range(sample_count):\n",
    "        boolean = sample_similar_list[i]\n",
    "        if boolean:\n",
    "            sample_num_diction[i] = list(np.random.choice(range(1, 501), size = 2, replace = False))\n",
    "        else:\n",
    "            sample_num_diction[i] = list(np.random.choice(range(1, 501), size = 2, replace = True))\n",
    "\n",
    "    for i in tqdm(range(sample_count)):\n",
    "        boolean = sample_similar_list[i]\n",
    "        if boolean:\n",
    "            code_path_1 = '/train_code/problem{number:03d}/problem{number:03d}_{num}.cpp'.format(number = problem_num_diction[i], num = sample_num_diction[i][0])\n",
    "            code_path_2 = '/train_code/problem{number:03d}/problem{number:03d}_{num}.cpp'.format(number = problem_num_diction[i], num = sample_num_diction[i][1])\n",
    "        else:\n",
    "            code_path_1 = '/train_code/problem{number:03d}/problem{number:03d}_{num}.cpp'.format(number = problem_num_diction[i][0], num = sample_num_diction[i][0])\n",
    "            code_path_2 = '/train_code/problem{number:03d}/problem{number:03d}_{num}.cpp'.format(number = problem_num_diction[i][1], num = sample_num_diction[i][1])\n",
    "        code_1 = open(path + code_path_1, encoding='utf-8').read()\n",
    "        code_2 = open(path + code_path_2, encoding='utf-8').read()\n",
    "        new_df.loc[i] = ['.' + code_path_1, '.' + code_path_2, code_1, code_2, boolean]\n",
    "    return new_df"
   ]
  },
  {
   "cell_type": "markdown",
   "id": "16381dd4-11ef-46a2-9d62-2748da1a9c5d",
   "metadata": {},
   "source": [
    "### 데이터 생성"
   ]
  },
  {
   "cell_type": "code",
   "execution_count": 4,
   "id": "46e64627-bbf6-41a8-8f7a-f60b61f7a63b",
   "metadata": {},
   "outputs": [
    {
     "name": "stderr",
     "output_type": "stream",
     "text": [
      "100%|███████████████████████████████████████████████████████████████████████████| 10000/10000 [00:14<00:00, 671.89it/s]\n"
     ]
    }
   ],
   "source": [
    "new_df = new_sample_generator(path, sample_count, pair_proportion)"
   ]
  },
  {
   "cell_type": "markdown",
   "id": "57e3e306-8750-4f6c-8626-875b233b04f2",
   "metadata": {},
   "source": [
    "### 데이터 확인"
   ]
  },
  {
   "cell_type": "code",
   "execution_count": null,
   "id": "f2d51c1d-d36d-4d95-abcd-72ef3aa3eb10",
   "metadata": {},
   "outputs": [],
   "source": [
    "new_df"
   ]
  },
  {
   "cell_type": "code",
   "execution_count": null,
   "id": "e5d92ae5-b72a-43b1-9384-28afcf30b224",
   "metadata": {},
   "outputs": [],
   "source": [
    "new_df.info()"
   ]
  },
  {
   "cell_type": "markdown",
   "id": "3288b0d3-10d9-4623-85e8-377032c97884",
   "metadata": {},
   "source": [
    "### 데이터 저장"
   ]
  },
  {
   "cell_type": "code",
   "execution_count": 13,
   "id": "54f33219-4e49-445f-af34-f0ad8290cdb7",
   "metadata": {},
   "outputs": [],
   "source": [
    "# new_df.to_csv('./train_2.csv', index=False)"
   ]
  }
 ],
 "metadata": {
  "kernelspec": {
   "display_name": "ML_py3.10.13",
   "language": "python",
   "name": "mlpy310"
  },
  "language_info": {
   "codemirror_mode": {
    "name": "ipython",
    "version": 3
   },
   "file_extension": ".py",
   "mimetype": "text/x-python",
   "name": "python",
   "nbconvert_exporter": "python",
   "pygments_lexer": "ipython3",
   "version": "3.10.13"
  }
 },
 "nbformat": 4,
 "nbformat_minor": 5
}
