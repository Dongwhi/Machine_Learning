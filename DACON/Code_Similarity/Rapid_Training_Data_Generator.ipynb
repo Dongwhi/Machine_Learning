{
 "cells": [
  {
   "cell_type": "markdown",
   "id": "77154970-5f41-41b5-a6fd-3aa892abfdeb",
   "metadata": {},
   "source": [
    "## 학습용 데이터 생성"
   ]
  },
  {
   "cell_type": "markdown",
   "id": "9f440d04-4b74-4459-b1a3-80727c4c7020",
   "metadata": {},
   "source": [
    "### Library"
   ]
  },
  {
   "cell_type": "code",
   "execution_count": 1,
   "id": "be36449e-2d9a-49b8-8e7b-f259d32604fd",
   "metadata": {},
   "outputs": [],
   "source": [
    "import pandas as pd\n",
    "import numpy as np\n",
    "import random\n",
    "from tqdm import tqdm\n",
    "\n",
    "random.seed(42)\n",
    "np.random.seed(42)"
   ]
  },
  {
   "cell_type": "markdown",
   "id": "735ce932-c8f1-4b47-ba05-f2b05f6689f3",
   "metadata": {},
   "source": [
    "### hyperparameter"
   ]
  },
  {
   "cell_type": "code",
   "execution_count": 2,
   "id": "57b25aac-bebe-4804-809d-68afaadd7251",
   "metadata": {},
   "outputs": [],
   "source": [
    "path = '.' # train_code 폴더의 바로 위 폴더까지의 경로. 현재 환경에 train_code 폴더가 있다면 '.'이면 되고, 아니라면: ex) C:/.../Code_Similarity/train_code 라면 'C:/.../Code_Similarity'\n",
    "sample_count = 1000000 # 만들고싶은 총 샘플 데이터 수\n",
    "pair_proportion = 0.5 # 같은 문제를 해결하는 코드끼리 묶여있는 짝의 비율(similar가 1인 샘플의 비율. 0~1사이의 실수)"
   ]
  },
  {
   "cell_type": "markdown",
   "id": "4f5c8641-34de-40cd-88d6-852677c0793f",
   "metadata": {},
   "source": [
    "### generator function"
   ]
  },
  {
   "cell_type": "code",
   "execution_count": 3,
   "id": "3f9cca8e-b822-4423-8bdb-dad28dff3058",
   "metadata": {},
   "outputs": [],
   "source": [
    "def new_sample_generator(path, sample_count, pair_proportion):\n",
    "    # pair 및 non-pair count 사전 계산\n",
    "    pair_count = int(sample_count * pair_proportion)\n",
    "    not_pair_count = sample_count - pair_count\n",
    "    \n",
    "    # similar 쌍과 not similar 쌍을 미리 생성\n",
    "    sample_similar_list = np.random.permutation([1] * pair_count + [0] * not_pair_count)\n",
    "    \n",
    "    # 문제 번호 및 샘플 번호 생성\n",
    "    problem_num_diction = [\n",
    "        np.random.randint(1, 501) if boolean else list(np.random.choice(range(1, 501), size=2, replace=False)) \n",
    "        for boolean in tqdm(sample_similar_list)\n",
    "    ]\n",
    "    \n",
    "    sample_num_diction = [\n",
    "        list(np.random.choice(range(1, 501), size=2, replace=False if boolean else True)) \n",
    "        for boolean in tqdm(sample_similar_list)\n",
    "    ]\n",
    "    \n",
    "    data = []\n",
    "\n",
    "    for i in tqdm(range(sample_count)):\n",
    "        boolean = sample_similar_list[i]\n",
    "        if boolean:\n",
    "            code_path_1 = f'/train_code/problem{problem_num_diction[i]:03d}/problem{problem_num_diction[i]:03d}_{sample_num_diction[i][0]}.cpp'\n",
    "            code_path_2 = f'/train_code/problem{problem_num_diction[i]:03d}/problem{problem_num_diction[i]:03d}_{sample_num_diction[i][1]}.cpp'\n",
    "        else:\n",
    "            code_path_1 = f'/train_code/problem{problem_num_diction[i][0]:03d}/problem{problem_num_diction[i][0]:03d}_{sample_num_diction[i][0]}.cpp'\n",
    "            code_path_2 = f'/train_code/problem{problem_num_diction[i][1]:03d}/problem{problem_num_diction[i][1]:03d}_{sample_num_diction[i][1]}.cpp'\n",
    "        \n",
    "        code_1 = open(path + code_path_1, encoding='utf-8').read()\n",
    "        code_2 = open(path + code_path_2, encoding='utf-8').read()\n",
    "        data.append({'code1_path': '.' + code_path_1, 'code2_path': '.' + code_path_2, 'code1': code_1, 'code2': code_2, 'similar': boolean})\n",
    "\n",
    "    # dict을 DataFrame으로 변환\n",
    "    new_df = pd.DataFrame(data)\n",
    "    \n",
    "    return new_df"
   ]
  },
  {
   "cell_type": "markdown",
   "id": "16381dd4-11ef-46a2-9d62-2748da1a9c5d",
   "metadata": {},
   "source": [
    "### generate data"
   ]
  },
  {
   "cell_type": "code",
   "execution_count": 5,
   "id": "46e64627-bbf6-41a8-8f7a-f60b61f7a63b",
   "metadata": {},
   "outputs": [
    {
     "name": "stderr",
     "output_type": "stream",
     "text": [
      "100%|██████████| 1000000/1000000 [00:23<00:00, 43048.43it/s]\n",
      "100%|██████████| 1000000/1000000 [00:42<00:00, 23684.40it/s]\n",
      "100%|██████████| 1000000/1000000 [00:34<00:00, 29298.81it/s]\n"
     ]
    }
   ],
   "source": [
    "new_df = new_sample_generator(path, sample_count, pair_proportion)"
   ]
  },
  {
   "cell_type": "markdown",
   "id": "57e3e306-8750-4f6c-8626-875b233b04f2",
   "metadata": {},
   "source": [
    "### data visualization"
   ]
  },
  {
   "cell_type": "code",
   "execution_count": 6,
   "id": "f2d51c1d-d36d-4d95-abcd-72ef3aa3eb10",
   "metadata": {},
   "outputs": [
    {
     "data": {
      "text/html": [
       "<div>\n",
       "<style scoped>\n",
       "    .dataframe tbody tr th:only-of-type {\n",
       "        vertical-align: middle;\n",
       "    }\n",
       "\n",
       "    .dataframe tbody tr th {\n",
       "        vertical-align: top;\n",
       "    }\n",
       "\n",
       "    .dataframe thead th {\n",
       "        text-align: right;\n",
       "    }\n",
       "</style>\n",
       "<table border=\"1\" class=\"dataframe\">\n",
       "  <thead>\n",
       "    <tr style=\"text-align: right;\">\n",
       "      <th></th>\n",
       "      <th>code1_path</th>\n",
       "      <th>code2_path</th>\n",
       "      <th>code1</th>\n",
       "      <th>code2</th>\n",
       "      <th>similar</th>\n",
       "    </tr>\n",
       "  </thead>\n",
       "  <tbody>\n",
       "    <tr>\n",
       "      <th>0</th>\n",
       "      <td>./train_code/problem368/problem368_42.cpp</td>\n",
       "      <td>./train_code/problem496/problem496_265.cpp</td>\n",
       "      <td>#include&lt;iostream&gt;\\n#include&lt;algorithm&gt;\\n#incl...</td>\n",
       "      <td>#include&lt;bits/stdc++.h&gt;\\n#define rep(i,n) for(...</td>\n",
       "      <td>0</td>\n",
       "    </tr>\n",
       "    <tr>\n",
       "      <th>1</th>\n",
       "      <td>./train_code/problem304/problem304_436.cpp</td>\n",
       "      <td>./train_code/problem304/problem304_270.cpp</td>\n",
       "      <td>#include &lt;bits/stdc++.h&gt;  \\nusing namespace st...</td>\n",
       "      <td>#include &lt;bits/stdc++.h&gt;\\n#define _GLIBCXX_DEB...</td>\n",
       "      <td>1</td>\n",
       "    </tr>\n",
       "    <tr>\n",
       "      <th>2</th>\n",
       "      <td>./train_code/problem276/problem276_211.cpp</td>\n",
       "      <td>./train_code/problem123/problem123_406.cpp</td>\n",
       "      <td>#include&lt;iostream&gt;\\n#include&lt;algorithm&gt;\\n#defi...</td>\n",
       "      <td>#include&lt;iostream&gt;\\n#include&lt;string&gt;\\n#include...</td>\n",
       "      <td>0</td>\n",
       "    </tr>\n",
       "    <tr>\n",
       "      <th>3</th>\n",
       "      <td>./train_code/problem416/problem416_190.cpp</td>\n",
       "      <td>./train_code/problem041/problem041_151.cpp</td>\n",
       "      <td>#include &lt;iostream&gt;\\n#include &lt;string&gt;\\n#inclu...</td>\n",
       "      <td>#include &lt;iostream&gt;\\n#include &lt;string&gt;\\n#inclu...</td>\n",
       "      <td>0</td>\n",
       "    </tr>\n",
       "    <tr>\n",
       "      <th>4</th>\n",
       "      <td>./train_code/problem006/problem006_66.cpp</td>\n",
       "      <td>./train_code/problem006/problem006_173.cpp</td>\n",
       "      <td>#include&lt;iostream&gt;\\n#include&lt;algorithm&gt;\\n#incl...</td>\n",
       "      <td>#include &lt;algorithm&gt;\\n#include &lt;cstdio&gt;\\n#incl...</td>\n",
       "      <td>1</td>\n",
       "    </tr>\n",
       "    <tr>\n",
       "      <th>...</th>\n",
       "      <td>...</td>\n",
       "      <td>...</td>\n",
       "      <td>...</td>\n",
       "      <td>...</td>\n",
       "      <td>...</td>\n",
       "    </tr>\n",
       "    <tr>\n",
       "      <th>999995</th>\n",
       "      <td>./train_code/problem088/problem088_440.cpp</td>\n",
       "      <td>./train_code/problem088/problem088_489.cpp</td>\n",
       "      <td>#include &lt;iostream&gt;\\n#include &lt;cmath&gt;\\n\\nusing...</td>\n",
       "      <td>//\\n//  AOJ 0009 Prime Number\\n//\\n//  Created...</td>\n",
       "      <td>1</td>\n",
       "    </tr>\n",
       "    <tr>\n",
       "      <th>999996</th>\n",
       "      <td>./train_code/problem132/problem132_146.cpp</td>\n",
       "      <td>./train_code/problem132/problem132_281.cpp</td>\n",
       "      <td>#include &lt;bits/stdc++.h&gt;\\nusing namespace std;...</td>\n",
       "      <td>#pragma GCC optimize(\"O3\")\\n #pragma GCC opti...</td>\n",
       "      <td>1</td>\n",
       "    </tr>\n",
       "    <tr>\n",
       "      <th>999997</th>\n",
       "      <td>./train_code/problem141/problem141_172.cpp</td>\n",
       "      <td>./train_code/problem141/problem141_347.cpp</td>\n",
       "      <td>#include&lt;bits/stdc++.h&gt;\\nusing namespace std;\\...</td>\n",
       "      <td>#include &lt;iostream&gt;\\n#include &lt;vector&gt;\\n#inclu...</td>\n",
       "      <td>1</td>\n",
       "    </tr>\n",
       "    <tr>\n",
       "      <th>999998</th>\n",
       "      <td>./train_code/problem105/problem105_238.cpp</td>\n",
       "      <td>./train_code/problem172/problem172_252.cpp</td>\n",
       "      <td>#include &lt;bits/stdc++.h&gt;\\n#define rep(i, n) fo...</td>\n",
       "      <td>#include &lt;bits/stdc++.h&gt;\\nusing namespace std;...</td>\n",
       "      <td>0</td>\n",
       "    </tr>\n",
       "    <tr>\n",
       "      <th>999999</th>\n",
       "      <td>./train_code/problem451/problem451_272.cpp</td>\n",
       "      <td>./train_code/problem451/problem451_9.cpp</td>\n",
       "      <td>#include &lt;bits/stdc++.h&gt;\\nusing namespace std;...</td>\n",
       "      <td>#include &lt;bits/stdc++.h&gt;\\n#define rep(i,n) for...</td>\n",
       "      <td>1</td>\n",
       "    </tr>\n",
       "  </tbody>\n",
       "</table>\n",
       "<p>1000000 rows × 5 columns</p>\n",
       "</div>"
      ],
      "text/plain": [
       "                                        code1_path  \\\n",
       "0        ./train_code/problem368/problem368_42.cpp   \n",
       "1       ./train_code/problem304/problem304_436.cpp   \n",
       "2       ./train_code/problem276/problem276_211.cpp   \n",
       "3       ./train_code/problem416/problem416_190.cpp   \n",
       "4        ./train_code/problem006/problem006_66.cpp   \n",
       "...                                            ...   \n",
       "999995  ./train_code/problem088/problem088_440.cpp   \n",
       "999996  ./train_code/problem132/problem132_146.cpp   \n",
       "999997  ./train_code/problem141/problem141_172.cpp   \n",
       "999998  ./train_code/problem105/problem105_238.cpp   \n",
       "999999  ./train_code/problem451/problem451_272.cpp   \n",
       "\n",
       "                                        code2_path  \\\n",
       "0       ./train_code/problem496/problem496_265.cpp   \n",
       "1       ./train_code/problem304/problem304_270.cpp   \n",
       "2       ./train_code/problem123/problem123_406.cpp   \n",
       "3       ./train_code/problem041/problem041_151.cpp   \n",
       "4       ./train_code/problem006/problem006_173.cpp   \n",
       "...                                            ...   \n",
       "999995  ./train_code/problem088/problem088_489.cpp   \n",
       "999996  ./train_code/problem132/problem132_281.cpp   \n",
       "999997  ./train_code/problem141/problem141_347.cpp   \n",
       "999998  ./train_code/problem172/problem172_252.cpp   \n",
       "999999    ./train_code/problem451/problem451_9.cpp   \n",
       "\n",
       "                                                    code1  \\\n",
       "0       #include<iostream>\\n#include<algorithm>\\n#incl...   \n",
       "1       #include <bits/stdc++.h>  \\nusing namespace st...   \n",
       "2       #include<iostream>\\n#include<algorithm>\\n#defi...   \n",
       "3       #include <iostream>\\n#include <string>\\n#inclu...   \n",
       "4       #include<iostream>\\n#include<algorithm>\\n#incl...   \n",
       "...                                                   ...   \n",
       "999995  #include <iostream>\\n#include <cmath>\\n\\nusing...   \n",
       "999996  #include <bits/stdc++.h>\\nusing namespace std;...   \n",
       "999997  #include<bits/stdc++.h>\\nusing namespace std;\\...   \n",
       "999998  #include <bits/stdc++.h>\\n#define rep(i, n) fo...   \n",
       "999999  #include <bits/stdc++.h>\\nusing namespace std;...   \n",
       "\n",
       "                                                    code2  similar  \n",
       "0       #include<bits/stdc++.h>\\n#define rep(i,n) for(...        0  \n",
       "1       #include <bits/stdc++.h>\\n#define _GLIBCXX_DEB...        1  \n",
       "2       #include<iostream>\\n#include<string>\\n#include...        0  \n",
       "3       #include <iostream>\\n#include <string>\\n#inclu...        0  \n",
       "4       #include <algorithm>\\n#include <cstdio>\\n#incl...        1  \n",
       "...                                                   ...      ...  \n",
       "999995  //\\n//  AOJ 0009 Prime Number\\n//\\n//  Created...        1  \n",
       "999996   #pragma GCC optimize(\"O3\")\\n #pragma GCC opti...        1  \n",
       "999997  #include <iostream>\\n#include <vector>\\n#inclu...        1  \n",
       "999998  #include <bits/stdc++.h>\\nusing namespace std;...        0  \n",
       "999999  #include <bits/stdc++.h>\\n#define rep(i,n) for...        1  \n",
       "\n",
       "[1000000 rows x 5 columns]"
      ]
     },
     "execution_count": 6,
     "metadata": {},
     "output_type": "execute_result"
    }
   ],
   "source": [
    "new_df"
   ]
  },
  {
   "cell_type": "code",
   "execution_count": 7,
   "id": "e5d92ae5-b72a-43b1-9384-28afcf30b224",
   "metadata": {},
   "outputs": [
    {
     "name": "stdout",
     "output_type": "stream",
     "text": [
      "<class 'pandas.core.frame.DataFrame'>\n",
      "RangeIndex: 1000000 entries, 0 to 999999\n",
      "Data columns (total 5 columns):\n",
      " #   Column      Non-Null Count    Dtype \n",
      "---  ------      --------------    ----- \n",
      " 0   code1_path  1000000 non-null  object\n",
      " 1   code2_path  1000000 non-null  object\n",
      " 2   code1       1000000 non-null  object\n",
      " 3   code2       1000000 non-null  object\n",
      " 4   similar     1000000 non-null  int64 \n",
      "dtypes: int64(1), object(4)\n",
      "memory usage: 38.1+ MB\n"
     ]
    }
   ],
   "source": [
    "new_df.info()"
   ]
  },
  {
   "cell_type": "markdown",
   "id": "3288b0d3-10d9-4623-85e8-377032c97884",
   "metadata": {},
   "source": [
    "### dataframe save"
   ]
  },
  {
   "cell_type": "code",
   "execution_count": 8,
   "id": "54f33219-4e49-445f-af34-f0ad8290cdb7",
   "metadata": {},
   "outputs": [],
   "source": [
    "new_df.to_csv('train_2.csv', index=False)"
   ]
  }
 ],
 "metadata": {
  "kernelspec": {
   "display_name": "Python 3 (ipykernel)",
   "language": "python",
   "name": "python3"
  },
  "language_info": {
   "codemirror_mode": {
    "name": "ipython",
    "version": 3
   },
   "file_extension": ".py",
   "mimetype": "text/x-python",
   "name": "python",
   "nbconvert_exporter": "python",
   "pygments_lexer": "ipython3",
   "version": "3.10.13"
  }
 },
 "nbformat": 4,
 "nbformat_minor": 5
}
