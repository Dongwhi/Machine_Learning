{
 "cells": [
  {
   "cell_type": "code",
   "execution_count": 2,
   "id": "eb9ba262-1dc2-416e-bd27-73a6c71b7c67",
   "metadata": {},
   "outputs": [],
   "source": [
    "import pandas as pd\n",
    "import numpy as np\n",
    "import glob\n",
    "from tqdm import tqdm"
   ]
  },
  {
   "cell_type": "code",
   "execution_count": 3,
   "id": "3f7c535b-a8fd-4aef-b119-eb3c7f9e3b1f",
   "metadata": {},
   "outputs": [
    {
     "data": {
      "text/html": [
       "<div>\n",
       "<style scoped>\n",
       "    .dataframe tbody tr th:only-of-type {\n",
       "        vertical-align: middle;\n",
       "    }\n",
       "\n",
       "    .dataframe tbody tr th {\n",
       "        vertical-align: top;\n",
       "    }\n",
       "\n",
       "    .dataframe thead th {\n",
       "        text-align: right;\n",
       "    }\n",
       "</style>\n",
       "<table border=\"1\" class=\"dataframe\">\n",
       "  <thead>\n",
       "    <tr style=\"text-align: right;\">\n",
       "      <th></th>\n",
       "      <th>code1_path</th>\n",
       "      <th>code2_path</th>\n",
       "      <th>code1</th>\n",
       "      <th>code2</th>\n",
       "      <th>similar</th>\n",
       "    </tr>\n",
       "  </thead>\n",
       "  <tbody>\n",
       "    <tr>\n",
       "      <th>0</th>\n",
       "      <td>./train_code/problem393/problem393_19.cpp</td>\n",
       "      <td>./train_code/problem033/problem033_439.cpp</td>\n",
       "      <td>#include &lt;bits/stdc++.h&gt;\\n\\nusing namespace st...</td>\n",
       "      <td>#include &lt;algorithm&gt;\\n#include &lt;bitset&gt;\\n#incl...</td>\n",
       "      <td>0</td>\n",
       "    </tr>\n",
       "    <tr>\n",
       "      <th>1</th>\n",
       "      <td>./train_code/problem019/problem019_210.cpp</td>\n",
       "      <td>./train_code/problem019/problem019_63.cpp</td>\n",
       "      <td>#include &lt;iostream&gt;\\n\\nusing namespace std;\\n\\...</td>\n",
       "      <td>#include &lt;iostream&gt;\\n#include &lt;string&gt;\\nusing ...</td>\n",
       "      <td>1</td>\n",
       "    </tr>\n",
       "    <tr>\n",
       "      <th>2</th>\n",
       "      <td>./train_code/problem107/problem107_486.cpp</td>\n",
       "      <td>./train_code/problem107/problem107_340.cpp</td>\n",
       "      <td>#include &lt;iostream&gt;\\n#include &lt;vector&gt;\\nusing ...</td>\n",
       "      <td>#include &lt;cstdio&gt;\\n#include &lt;cstdlib&gt;\\n#includ...</td>\n",
       "      <td>1</td>\n",
       "    </tr>\n",
       "    <tr>\n",
       "      <th>3</th>\n",
       "      <td>./train_code/problem187/problem187_257.cpp</td>\n",
       "      <td>./train_code/problem403/problem403_135.cpp</td>\n",
       "      <td>#include &lt;bits/stdc++.h&gt;\\n#include &lt;unordered_...</td>\n",
       "      <td>#include &lt;bits/stdc++.h&gt;\\nusing namespace std;...</td>\n",
       "      <td>0</td>\n",
       "    </tr>\n",
       "    <tr>\n",
       "      <th>4</th>\n",
       "      <td>./train_code/problem173/problem173_490.cpp</td>\n",
       "      <td>./train_code/problem173/problem173_345.cpp</td>\n",
       "      <td>#include &lt;bits/stdc++.h&gt;\\ntypedef long long ll...</td>\n",
       "      <td>#include \"bits/stdc++.h\"\\n#define rep(i,n) for...</td>\n",
       "      <td>1</td>\n",
       "    </tr>\n",
       "  </tbody>\n",
       "</table>\n",
       "</div>"
      ],
      "text/plain": [
       "                                   code1_path  \\\n",
       "0   ./train_code/problem393/problem393_19.cpp   \n",
       "1  ./train_code/problem019/problem019_210.cpp   \n",
       "2  ./train_code/problem107/problem107_486.cpp   \n",
       "3  ./train_code/problem187/problem187_257.cpp   \n",
       "4  ./train_code/problem173/problem173_490.cpp   \n",
       "\n",
       "                                   code2_path  \\\n",
       "0  ./train_code/problem033/problem033_439.cpp   \n",
       "1   ./train_code/problem019/problem019_63.cpp   \n",
       "2  ./train_code/problem107/problem107_340.cpp   \n",
       "3  ./train_code/problem403/problem403_135.cpp   \n",
       "4  ./train_code/problem173/problem173_345.cpp   \n",
       "\n",
       "                                               code1  \\\n",
       "0  #include <bits/stdc++.h>\\n\\nusing namespace st...   \n",
       "1  #include <iostream>\\n\\nusing namespace std;\\n\\...   \n",
       "2  #include <iostream>\\n#include <vector>\\nusing ...   \n",
       "3  #include <bits/stdc++.h>\\n#include <unordered_...   \n",
       "4  #include <bits/stdc++.h>\\ntypedef long long ll...   \n",
       "\n",
       "                                               code2  similar  \n",
       "0  #include <algorithm>\\n#include <bitset>\\n#incl...        0  \n",
       "1  #include <iostream>\\n#include <string>\\nusing ...        1  \n",
       "2  #include <cstdio>\\n#include <cstdlib>\\n#includ...        1  \n",
       "3  #include <bits/stdc++.h>\\nusing namespace std;...        0  \n",
       "4  #include \"bits/stdc++.h\"\\n#define rep(i,n) for...        1  "
      ]
     },
     "execution_count": 3,
     "metadata": {},
     "output_type": "execute_result"
    }
   ],
   "source": [
    "val = pd.read_csv(\"C:\\\\Users\\\\82102\\\\Desktop\\\\Machine_Learning\\\\DACON_materials\\\\Code_Similarity\\\\sample_train.csv\")\n",
    "val.head()"
   ]
  },
  {
   "cell_type": "markdown",
   "id": "5dc49d6c-b589-4f2e-951c-08d23bf68535",
   "metadata": {
    "jp-MarkdownHeadingCollapsed": true
   },
   "source": [
    "## 주석 제거"
   ]
  },
  {
   "cell_type": "code",
   "execution_count": 4,
   "id": "ff013583-c711-4bfc-a40a-89c66129e720",
   "metadata": {},
   "outputs": [],
   "source": [
    "val_copy = val[['code1', 'code2', 'similar']]"
   ]
  },
  {
   "cell_type": "markdown",
   "id": "aef2a979-a7ff-4d6f-b4d6-0a023339f28b",
   "metadata": {},
   "source": [
    "주석은 //뒤에 오며 \\n 전까지 이어진다. 주석으로 끝나는 코드(// 뒤에 \\n이 없음)도 고려해야 한다. 이를 제거해주자."
   ]
  },
  {
   "cell_type": "code",
   "execution_count": 4,
   "id": "5ddcddcb-9a33-48b7-b6a7-352c32e58f1c",
   "metadata": {},
   "outputs": [
    {
     "name": "stderr",
     "output_type": "stream",
     "text": [
      "100%|██████████████████████████████████████████████████████████████████████████| 20000/20000 [00:13<00:00, 1522.98it/s]\n"
     ]
    }
   ],
   "source": [
    "for i in tqdm(range(len(val_copy))):\n",
    "    txt = val_copy['code1'][i]\n",
    "    two_geul = [0, 0]\n",
    "    juseok_flag = False\n",
    "    new_txt = \"\"\n",
    "    for j in range(len(txt)):\n",
    "        two_geul[0] = two_geul[1]\n",
    "        two_geul[1] = txt[j]\n",
    "        if two_geul == ['/', '/']:\n",
    "            new_txt = new_txt[:-1]\n",
    "            juseok_flag = True\n",
    "        if juseok_flag:\n",
    "            if two_geul[1] == '\\n':\n",
    "                new_txt += txt[j]\n",
    "                juseok_flag = False\n",
    "        else:\n",
    "            new_txt += txt[j]\n",
    "    val_copy.loc[i, 'code1'] = new_txt"
   ]
  },
  {
   "cell_type": "code",
   "execution_count": 5,
   "id": "c70d8826-9675-4ec1-b5e3-e8716fdd3810",
   "metadata": {},
   "outputs": [
    {
     "name": "stderr",
     "output_type": "stream",
     "text": [
      "100%|██████████████████████████████████████████████████████████████████████████| 20000/20000 [00:13<00:00, 1471.45it/s]\n"
     ]
    }
   ],
   "source": [
    "for i in tqdm(range(len(val_copy))):\n",
    "    txt = val_copy['code2'][i]\n",
    "    two_geul = [0, 0]\n",
    "    juseok_flag = False\n",
    "    new_txt = \"\"\n",
    "    for j in range(len(txt)):\n",
    "        two_geul[0] = two_geul[1]\n",
    "        two_geul[1] = txt[j]\n",
    "        if two_geul == ['/', '/']:\n",
    "            new_txt = new_txt[:-1]\n",
    "            juseok_flag = True\n",
    "        if juseok_flag:\n",
    "            if two_geul[1] == '\\n':\n",
    "                new_txt += txt[j]\n",
    "                juseok_flag = False\n",
    "        else:\n",
    "            new_txt += txt[j]\n",
    "    val_copy.loc[i, 'code2'] = new_txt"
   ]
  },
  {
   "cell_type": "markdown",
   "id": "bc0767af-b4f5-403c-b1fe-1ed8af65a019",
   "metadata": {},
   "source": [
    "/**/ 주석문 제거하자"
   ]
  },
  {
   "cell_type": "code",
   "execution_count": 6,
   "id": "8ecb14b9-febc-44d9-94f3-a7c8b248eb7b",
   "metadata": {},
   "outputs": [
    {
     "name": "stderr",
     "output_type": "stream",
     "text": [
      "100%|██████████████████████████████████████████████████████████████████████████| 20000/20000 [00:13<00:00, 1506.56it/s]\n"
     ]
    }
   ],
   "source": [
    "for i in tqdm(range(len(val_copy))):\n",
    "    txt = val_copy['code1'][i]\n",
    "    two_geul = [0, 0]\n",
    "    juseok_flag = False\n",
    "    new_txt = \"\"\n",
    "    for j in range(len(txt)):\n",
    "        two_geul[0] = two_geul[1]\n",
    "        two_geul[1] = txt[j]\n",
    "        if two_geul == ['/', '*']:\n",
    "            new_txt = new_txt[:-1]\n",
    "            juseok_flag = True\n",
    "        if juseok_flag:\n",
    "            if two_geul == ['*', '/']:\n",
    "                juseok_flag = False\n",
    "        else:\n",
    "            new_txt += txt[j]\n",
    "    val_copy.loc[i, 'code1'] = new_txt"
   ]
  },
  {
   "cell_type": "code",
   "execution_count": 7,
   "id": "299cedc3-e704-4535-b619-8299677ab5ce",
   "metadata": {},
   "outputs": [
    {
     "name": "stderr",
     "output_type": "stream",
     "text": [
      "100%|██████████████████████████████████████████████████████████████████████████| 20000/20000 [00:12<00:00, 1567.14it/s]\n"
     ]
    }
   ],
   "source": [
    "for i in tqdm(range(len(val_copy))):\n",
    "    txt = val_copy['code2'][i]\n",
    "    two_geul = [0, 0]\n",
    "    juseok_flag = False\n",
    "    new_txt = \"\"\n",
    "    for j in range(len(txt)):\n",
    "        two_geul[0] = two_geul[1]\n",
    "        two_geul[1] = txt[j]\n",
    "        if two_geul == ['/', '*']:\n",
    "            new_txt = new_txt[:-1]\n",
    "            juseok_flag = True\n",
    "        if juseok_flag:\n",
    "            if two_geul == ['*', '/']:\n",
    "                juseok_flag = False\n",
    "        else:\n",
    "            new_txt += txt[j]\n",
    "    val_copy.loc[i, 'code2'] = new_txt"
   ]
  },
  {
   "cell_type": "markdown",
   "id": "ff7164f0-33af-4bd2-85aa-60431f99dd8c",
   "metadata": {},
   "source": [
    "## #으로 시작하는거 지우기"
   ]
  },
  {
   "cell_type": "markdown",
   "id": "1486aaaf-aedc-41aa-bee3-6c77f24910ed",
   "metadata": {},
   "source": [
    "### #define은 남기고 나머지 다 지우기"
   ]
  },
  {
   "cell_type": "code",
   "execution_count": 8,
   "id": "53c03af2-ee91-4be5-abaf-6513a7fc0e5b",
   "metadata": {},
   "outputs": [],
   "source": [
    "# for i in tqdm(range(len(val_copy))):\n",
    "#     txt = val_copy['code1'][i]\n",
    "#     two_geul = [0, 0]\n",
    "#     shap_flag = False\n",
    "#     new_txt = \"\"\n",
    "#     for j in range(len(txt)):\n",
    "#         two_geul[0] = two_geul[1]\n",
    "#         two_geul[1] = txt[j]\n",
    "#         if two_geul[0] == '#':\n",
    "#             if two_geul[1] != 'd':\n",
    "#                 new_txt = new_txt[:-1]\n",
    "#                 shap_flag = True\n",
    "#         if shap_flag:\n",
    "#             if two_geul[1] == '\\n':\n",
    "#                 new_txt += txt[j]\n",
    "#                 shap_flag = False\n",
    "#         else:\n",
    "#             new_txt += txt[j]\n",
    "#     val_copy.loc[i, 'code1'] = new_txt"
   ]
  },
  {
   "cell_type": "code",
   "execution_count": 9,
   "id": "a68abc33-ee4f-473e-bab4-055128795649",
   "metadata": {},
   "outputs": [],
   "source": [
    "# for i in tqdm(range(len(val_copy))):\n",
    "#     txt = val_copy['code2'][i]\n",
    "#     two_geul = [0, 0]\n",
    "#     shap_flag = False\n",
    "#     new_txt = \"\"\n",
    "#     for j in range(len(txt)):\n",
    "#         two_geul[0] = two_geul[1]\n",
    "#         two_geul[1] = txt[j]\n",
    "#         if two_geul[0] == '#':\n",
    "#             if two_geul[1] != 'd':\n",
    "#                 new_txt = new_txt[:-1]\n",
    "#                 shap_flag = True\n",
    "#         if shap_flag:\n",
    "#             if two_geul[1] == '\\n':\n",
    "#                 new_txt += txt[j]\n",
    "#                 shap_flag = False\n",
    "#         else:\n",
    "#             new_txt += txt[j]\n",
    "#     val_copy.loc[i, 'code2'] = new_txt"
   ]
  },
  {
   "cell_type": "markdown",
   "id": "7294e227-4d02-44b9-8a93-08a571efb282",
   "metadata": {},
   "source": [
    "### #define도 포함해서 다 지우기"
   ]
  },
  {
   "cell_type": "code",
   "execution_count": 10,
   "id": "61b28337-a8c8-4467-b79f-07a38ed7bf3a",
   "metadata": {},
   "outputs": [
    {
     "name": "stderr",
     "output_type": "stream",
     "text": [
      "100%|██████████████████████████████████████████████████████████████████████████| 20000/20000 [00:11<00:00, 1724.15it/s]\n"
     ]
    }
   ],
   "source": [
    "for i in tqdm(range(len(val_copy))):\n",
    "    txt = val_copy['code1'][i]\n",
    "    two_geul = [0, 0]\n",
    "    shap_flag = False\n",
    "    new_txt = \"\"\n",
    "    for j in range(len(txt)):\n",
    "        two_geul[0] = two_geul[1]\n",
    "        two_geul[1] = txt[j]\n",
    "        if two_geul[0] == '#':\n",
    "            shap_flag = True\n",
    "        if shap_flag:\n",
    "            if two_geul[1] == '\\n':\n",
    "                new_txt += txt[j]\n",
    "                shap_flag = False\n",
    "        else:\n",
    "            new_txt += txt[j]\n",
    "    val_copy.loc[i, 'code1'] = new_txt"
   ]
  },
  {
   "cell_type": "code",
   "execution_count": 11,
   "id": "1a7e7884-c79c-4c70-87ba-58f67354024f",
   "metadata": {},
   "outputs": [
    {
     "name": "stderr",
     "output_type": "stream",
     "text": [
      "100%|██████████████████████████████████████████████████████████████████████████| 20000/20000 [00:11<00:00, 1727.53it/s]\n"
     ]
    }
   ],
   "source": [
    "for i in tqdm(range(len(val_copy))):\n",
    "    txt = val_copy['code2'][i]\n",
    "    two_geul = [0, 0]\n",
    "    shap_flag = False\n",
    "    new_txt = \"\"\n",
    "    for j in range(len(txt)):\n",
    "        two_geul[0] = two_geul[1]\n",
    "        two_geul[1] = txt[j]\n",
    "        if two_geul[1] == '#':\n",
    "            shap_flag = True\n",
    "        if shap_flag:\n",
    "            if two_geul[1] == '\\n':\n",
    "                new_txt += txt[j]\n",
    "                shap_flag = False\n",
    "        else:\n",
    "            new_txt += txt[j]\n",
    "    val_copy.loc[i, 'code2'] = new_txt"
   ]
  },
  {
   "cell_type": "markdown",
   "id": "74c702f2-d384-4c35-a68d-881d4cded956",
   "metadata": {},
   "source": [
    "## \\n이 연속으로 있는것들을 하나씩으로만 줄여주기"
   ]
  },
  {
   "cell_type": "code",
   "execution_count": 12,
   "id": "a1b90fa2-b8eb-4280-9b0b-f48eab66d29a",
   "metadata": {},
   "outputs": [
    {
     "name": "stderr",
     "output_type": "stream",
     "text": [
      "100%|██████████████████████████████████████████████████████████████████████████| 20000/20000 [00:10<00:00, 1834.96it/s]\n"
     ]
    }
   ],
   "source": [
    "for i in tqdm(range(len(val_copy))):\n",
    "    txt = val_copy['code1'][i]\n",
    "    two_geul = [0, 0]\n",
    "    new_txt = \"\"\n",
    "    for j in range(len(txt)):\n",
    "        two_geul[0] = two_geul[1]\n",
    "        two_geul[1] = txt[j]\n",
    "        if two_geul == ['\\n', '\\n']:\n",
    "            pass\n",
    "        else:\n",
    "            new_txt += txt[j]\n",
    "    val_copy.loc[i, 'code1'] = new_txt"
   ]
  },
  {
   "cell_type": "code",
   "execution_count": 13,
   "id": "29c65423-47e0-4ad2-a204-a274d7fc2d8b",
   "metadata": {},
   "outputs": [
    {
     "name": "stderr",
     "output_type": "stream",
     "text": [
      "100%|██████████████████████████████████████████████████████████████████████████| 20000/20000 [00:10<00:00, 1898.87it/s]\n"
     ]
    }
   ],
   "source": [
    "for i in tqdm(range(len(val_copy))):\n",
    "    txt = val_copy['code2'][i]\n",
    "    two_geul = [0, 0]\n",
    "    new_txt = \"\"\n",
    "    for j in range(len(txt)):\n",
    "        two_geul[0] = two_geul[1]\n",
    "        two_geul[1] = txt[j]\n",
    "        if two_geul == ['\\n', '\\n']:\n",
    "            pass\n",
    "        else:\n",
    "            new_txt += txt[j]\n",
    "    val_copy.loc[i, 'code2'] = new_txt"
   ]
  },
  {
   "cell_type": "markdown",
   "id": "be7f5ba0-c5a9-408b-a94a-e54533a6eb3a",
   "metadata": {},
   "source": [
    "# 결과 확인"
   ]
  },
  {
   "cell_type": "markdown",
   "id": "923c4810-49dc-40d0-94b1-c7344926f0f4",
   "metadata": {},
   "source": [
    "## 원본 코드"
   ]
  },
  {
   "cell_type": "code",
   "execution_count": 14,
   "id": "ae46ece4-f12e-4156-b393-6b5bfb335674",
   "metadata": {},
   "outputs": [
    {
     "name": "stdout",
     "output_type": "stream",
     "text": [
      "#include <algorithm>\n",
      "#include <bitset>\n",
      "#include <complex>\n",
      "#include <deque>\n",
      "#include <exception>\n",
      "#include <fstream>\n",
      "#include <functional>\n",
      "#include <iomanip>\n",
      "#include <ios>\n",
      "#include <iosfwd>\n",
      "#include <iostream>\n",
      "#include <istream>\n",
      "#include <iterator>\n",
      "#include <limits>\n",
      "#include <list>\n",
      "#include <locale>\n",
      "#include <map>\n",
      "#include <memory>\n",
      "#include <new>\n",
      "#include <numeric>\n",
      "#include <ostream>\n",
      "#include <queue>\n",
      "#include <set>\n",
      "#include <sstream>\n",
      "#include <stack>\n",
      "#include <stdexcept>\n",
      "#include <streambuf>\n",
      "#include <string>\n",
      "#include <typeinfo>\n",
      "#include <utility>\n",
      "#include <valarray>\n",
      "#include <vector>\n",
      "#include <climits>\n",
      "#include <cstring>\n",
      "\n",
      "#define rep(i, m, n) for(int i=int(m);i<int(n);i++)\n",
      "#define all(c) begin(c),end(c)\n",
      "\n",
      "template<typename T1, typename T2>\n",
      "inline void chmin(T1 &a, T2 b) { if (a > b) a = b; }\n",
      "\n",
      "template<typename T1, typename T2>\n",
      "inline void chmax(T1 &a, T2 b) { if (a < b) a = b; }\n",
      "\n",
      "//改造\n",
      "typedef long long int ll;\n",
      "using namespace std;\n",
      "#define INF (1 << 30) - 1\n",
      "#define INFl (ll)5e15\n",
      "#define DEBUG 0 //デバッグする時1にしてね\n",
      "#define dump(x)  cerr << #x << \" = \" << (x) << endl\n",
      "#define MOD 1000000007\n",
      "\n",
      "\n",
      "//ここから編集する\n",
      "class Solve {\n",
      "public:\n",
      "    void input() {\n",
      "\n",
      "    }\n",
      "\n",
      "    void solve() {\n",
      "        input();\n",
      "        int n;\n",
      "        cin >> n;\n",
      "        if (n == 0) return;\n",
      "\n",
      "        vector<int> v(n);\n",
      "        rep(i, 0, n) cin >> v[i];\n",
      "        sort(all(v));\n",
      "\n",
      "        int ans = v[1] - v[0];\n",
      "        for (int i = 0; i + 1 < n; ++i) {\n",
      "            chmin(ans, v[i + 1] - v[i]);\n",
      "        }\n",
      "        cout << ans << endl;\n",
      "        solve();\n",
      "    }\n",
      "};\n",
      "\n",
      "\n",
      "int main() {\n",
      "    cin.tie(0);\n",
      "    ios::sync_with_stdio(false);\n",
      "    cout << fixed << setprecision(10);\n",
      "\n",
      "    Solve().solve();\n",
      "\n",
      "\n",
      "    return 0;\n",
      "}\n",
      "\n",
      "\n"
     ]
    }
   ],
   "source": [
    "print(val[\"code2\"][0])"
   ]
  },
  {
   "cell_type": "markdown",
   "id": "b3e46ff5-c306-4aea-8a3c-fc0ee0846a5f",
   "metadata": {},
   "source": [
    "## 처리된 코드"
   ]
  },
  {
   "cell_type": "code",
   "execution_count": 15,
   "id": "81ab9d8b-690e-463f-b5e2-a98c68ee3208",
   "metadata": {},
   "outputs": [
    {
     "name": "stdout",
     "output_type": "stream",
     "text": [
      "\n",
      "template<typename T1, typename T2>\n",
      "inline void chmin(T1 &a, T2 b) { if (a > b) a = b; }\n",
      "template<typename T1, typename T2>\n",
      "inline void chmax(T1 &a, T2 b) { if (a < b) a = b; }\n",
      "typedef long long int ll;\n",
      "using namespace std;\n",
      "class Solve {\n",
      "public:\n",
      "    void input() {\n",
      "    }\n",
      "    void solve() {\n",
      "        input();\n",
      "        int n;\n",
      "        cin >> n;\n",
      "        if (n == 0) return;\n",
      "        vector<int> v(n);\n",
      "        rep(i, 0, n) cin >> v[i];\n",
      "        sort(all(v));\n",
      "        int ans = v[1] - v[0];\n",
      "        for (int i = 0; i + 1 < n; ++i) {\n",
      "            chmin(ans, v[i + 1] - v[i]);\n",
      "        }\n",
      "        cout << ans << endl;\n",
      "        solve();\n",
      "    }\n",
      "};\n",
      "int main() {\n",
      "    cin.tie(0);\n",
      "    ios::sync_with_stdio(false);\n",
      "    cout << fixed << setprecision(10);\n",
      "    Solve().solve();\n",
      "    return 0;\n",
      "}\n",
      "\n"
     ]
    }
   ],
   "source": [
    "print(val_copy[\"code2\"][0])"
   ]
  }
 ],
 "metadata": {
  "kernelspec": {
   "display_name": "ML_py3.10.13",
   "language": "python",
   "name": "mlpy310"
  },
  "language_info": {
   "codemirror_mode": {
    "name": "ipython",
    "version": 3
   },
   "file_extension": ".py",
   "mimetype": "text/x-python",
   "name": "python",
   "nbconvert_exporter": "python",
   "pygments_lexer": "ipython3",
   "version": "3.10.13"
  }
 },
 "nbformat": 4,
 "nbformat_minor": 5
}
