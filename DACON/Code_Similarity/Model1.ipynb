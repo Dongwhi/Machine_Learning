{
 "cells": [
  {
   "cell_type": "markdown",
   "id": "50529fca-f808-4c95-8276-e0c466167c4c",
   "metadata": {},
   "source": [
    "# 데이터 살펴보기"
   ]
  },
  {
   "cell_type": "code",
   "execution_count": 1,
   "id": "eb9ba262-1dc2-416e-bd27-73a6c71b7c67",
   "metadata": {},
   "outputs": [],
   "source": [
    "import pandas as pd\n",
    "import numpy as np\n",
    "import glob\n",
    "from tqdm import tqdm"
   ]
  },
  {
   "cell_type": "code",
   "execution_count": 2,
   "id": "3f7c535b-a8fd-4aef-b119-eb3c7f9e3b1f",
   "metadata": {},
   "outputs": [
    {
     "data": {
      "text/html": [
       "<div>\n",
       "<style scoped>\n",
       "    .dataframe tbody tr th:only-of-type {\n",
       "        vertical-align: middle;\n",
       "    }\n",
       "\n",
       "    .dataframe tbody tr th {\n",
       "        vertical-align: top;\n",
       "    }\n",
       "\n",
       "    .dataframe thead th {\n",
       "        text-align: right;\n",
       "    }\n",
       "</style>\n",
       "<table border=\"1\" class=\"dataframe\">\n",
       "  <thead>\n",
       "    <tr style=\"text-align: right;\">\n",
       "      <th></th>\n",
       "      <th>code1_path</th>\n",
       "      <th>code2_path</th>\n",
       "      <th>code1</th>\n",
       "      <th>code2</th>\n",
       "      <th>similar</th>\n",
       "    </tr>\n",
       "  </thead>\n",
       "  <tbody>\n",
       "    <tr>\n",
       "      <th>0</th>\n",
       "      <td>./train_code/problem393/problem393_19.cpp</td>\n",
       "      <td>./train_code/problem033/problem033_439.cpp</td>\n",
       "      <td>#include &lt;bits/stdc++.h&gt;\\n\\nusing namespace st...</td>\n",
       "      <td>#include &lt;algorithm&gt;\\n#include &lt;bitset&gt;\\n#incl...</td>\n",
       "      <td>0</td>\n",
       "    </tr>\n",
       "    <tr>\n",
       "      <th>1</th>\n",
       "      <td>./train_code/problem019/problem019_210.cpp</td>\n",
       "      <td>./train_code/problem019/problem019_63.cpp</td>\n",
       "      <td>#include &lt;iostream&gt;\\n\\nusing namespace std;\\n\\...</td>\n",
       "      <td>#include &lt;iostream&gt;\\n#include &lt;string&gt;\\nusing ...</td>\n",
       "      <td>1</td>\n",
       "    </tr>\n",
       "    <tr>\n",
       "      <th>2</th>\n",
       "      <td>./train_code/problem107/problem107_486.cpp</td>\n",
       "      <td>./train_code/problem107/problem107_340.cpp</td>\n",
       "      <td>#include &lt;iostream&gt;\\n#include &lt;vector&gt;\\nusing ...</td>\n",
       "      <td>#include &lt;cstdio&gt;\\n#include &lt;cstdlib&gt;\\n#includ...</td>\n",
       "      <td>1</td>\n",
       "    </tr>\n",
       "    <tr>\n",
       "      <th>3</th>\n",
       "      <td>./train_code/problem187/problem187_257.cpp</td>\n",
       "      <td>./train_code/problem403/problem403_135.cpp</td>\n",
       "      <td>#include &lt;bits/stdc++.h&gt;\\n#include &lt;unordered_...</td>\n",
       "      <td>#include &lt;bits/stdc++.h&gt;\\nusing namespace std;...</td>\n",
       "      <td>0</td>\n",
       "    </tr>\n",
       "    <tr>\n",
       "      <th>4</th>\n",
       "      <td>./train_code/problem173/problem173_490.cpp</td>\n",
       "      <td>./train_code/problem173/problem173_345.cpp</td>\n",
       "      <td>#include &lt;bits/stdc++.h&gt;\\ntypedef long long ll...</td>\n",
       "      <td>#include \"bits/stdc++.h\"\\n#define rep(i,n) for...</td>\n",
       "      <td>1</td>\n",
       "    </tr>\n",
       "  </tbody>\n",
       "</table>\n",
       "</div>"
      ],
      "text/plain": [
       "                                   code1_path  \\\n",
       "0   ./train_code/problem393/problem393_19.cpp   \n",
       "1  ./train_code/problem019/problem019_210.cpp   \n",
       "2  ./train_code/problem107/problem107_486.cpp   \n",
       "3  ./train_code/problem187/problem187_257.cpp   \n",
       "4  ./train_code/problem173/problem173_490.cpp   \n",
       "\n",
       "                                   code2_path  \\\n",
       "0  ./train_code/problem033/problem033_439.cpp   \n",
       "1   ./train_code/problem019/problem019_63.cpp   \n",
       "2  ./train_code/problem107/problem107_340.cpp   \n",
       "3  ./train_code/problem403/problem403_135.cpp   \n",
       "4  ./train_code/problem173/problem173_345.cpp   \n",
       "\n",
       "                                               code1  \\\n",
       "0  #include <bits/stdc++.h>\\n\\nusing namespace st...   \n",
       "1  #include <iostream>\\n\\nusing namespace std;\\n\\...   \n",
       "2  #include <iostream>\\n#include <vector>\\nusing ...   \n",
       "3  #include <bits/stdc++.h>\\n#include <unordered_...   \n",
       "4  #include <bits/stdc++.h>\\ntypedef long long ll...   \n",
       "\n",
       "                                               code2  similar  \n",
       "0  #include <algorithm>\\n#include <bitset>\\n#incl...        0  \n",
       "1  #include <iostream>\\n#include <string>\\nusing ...        1  \n",
       "2  #include <cstdio>\\n#include <cstdlib>\\n#includ...        1  \n",
       "3  #include <bits/stdc++.h>\\nusing namespace std;...        0  \n",
       "4  #include \"bits/stdc++.h\"\\n#define rep(i,n) for...        1  "
      ]
     },
     "execution_count": 2,
     "metadata": {},
     "output_type": "execute_result"
    }
   ],
   "source": [
    "val = pd.read_csv(\"C:\\\\Users\\\\82102\\\\Desktop\\\\Machine_Learning\\\\DACON_materials\\\\Code_Similarity\\\\sample_train.csv\")\n",
    "val.head()"
   ]
  },
  {
   "cell_type": "code",
   "execution_count": 3,
   "id": "be760d0b-2bc7-40a8-b37c-3986931f5824",
   "metadata": {},
   "outputs": [
    {
     "data": {
      "text/html": [
       "<div>\n",
       "<style scoped>\n",
       "    .dataframe tbody tr th:only-of-type {\n",
       "        vertical-align: middle;\n",
       "    }\n",
       "\n",
       "    .dataframe tbody tr th {\n",
       "        vertical-align: top;\n",
       "    }\n",
       "\n",
       "    .dataframe thead th {\n",
       "        text-align: right;\n",
       "    }\n",
       "</style>\n",
       "<table border=\"1\" class=\"dataframe\">\n",
       "  <thead>\n",
       "    <tr style=\"text-align: right;\">\n",
       "      <th></th>\n",
       "      <th>pair_id</th>\n",
       "      <th>code1</th>\n",
       "      <th>code2</th>\n",
       "    </tr>\n",
       "  </thead>\n",
       "  <tbody>\n",
       "    <tr>\n",
       "      <th>0</th>\n",
       "      <td>TEST_000000</td>\n",
       "      <td>#include &lt;bits/stdc++.h&gt;\\nusing namespace std;...</td>\n",
       "      <td>#include &lt;bits/stdc++.h&gt;\\n#define rep(i, n) fo...</td>\n",
       "    </tr>\n",
       "    <tr>\n",
       "      <th>1</th>\n",
       "      <td>TEST_000001</td>\n",
       "      <td>#include&lt;bits/stdc++.h&gt;\\n#define rep(i,n)for(i...</td>\n",
       "      <td>// //bitset操作\\n// #include &lt;iostream&gt;\\n// #inc...</td>\n",
       "    </tr>\n",
       "    <tr>\n",
       "      <th>2</th>\n",
       "      <td>TEST_000002</td>\n",
       "      <td>#include &lt;bits/stdc++.h&gt;\\nusing namespace std;...</td>\n",
       "      <td>#include &lt;bits/stdc++.h&gt;\\n#include &lt;ext/pb_ds/...</td>\n",
       "    </tr>\n",
       "    <tr>\n",
       "      <th>3</th>\n",
       "      <td>TEST_000003</td>\n",
       "      <td>#include &lt;bits/stdc++.h&gt;\\nusing namespace std;...</td>\n",
       "      <td>#include &lt;bits/stdc++.h&gt;\\nusing namespace std;...</td>\n",
       "    </tr>\n",
       "    <tr>\n",
       "      <th>4</th>\n",
       "      <td>TEST_000004</td>\n",
       "      <td>#include&lt;bits/stdc++.h&gt;\\nusing namespace std;\\...</td>\n",
       "      <td>#include&lt;iostream&gt;\\n#include&lt;algorithm&gt;\\n#incl...</td>\n",
       "    </tr>\n",
       "  </tbody>\n",
       "</table>\n",
       "</div>"
      ],
      "text/plain": [
       "       pair_id                                              code1  \\\n",
       "0  TEST_000000  #include <bits/stdc++.h>\\nusing namespace std;...   \n",
       "1  TEST_000001  #include<bits/stdc++.h>\\n#define rep(i,n)for(i...   \n",
       "2  TEST_000002  #include <bits/stdc++.h>\\nusing namespace std;...   \n",
       "3  TEST_000003  #include <bits/stdc++.h>\\nusing namespace std;...   \n",
       "4  TEST_000004  #include<bits/stdc++.h>\\nusing namespace std;\\...   \n",
       "\n",
       "                                               code2  \n",
       "0  #include <bits/stdc++.h>\\n#define rep(i, n) fo...  \n",
       "1  // //bitset操作\\n// #include <iostream>\\n// #inc...  \n",
       "2  #include <bits/stdc++.h>\\n#include <ext/pb_ds/...  \n",
       "3  #include <bits/stdc++.h>\\nusing namespace std;...  \n",
       "4  #include<iostream>\\n#include<algorithm>\\n#incl...  "
      ]
     },
     "execution_count": 3,
     "metadata": {},
     "output_type": "execute_result"
    }
   ],
   "source": [
    "test = pd.read_csv(\"C:\\\\Users\\\\82102\\\\Desktop\\\\Machine_Learning\\\\DACON_materials\\\\Code_Similarity\\\\test.csv\")\n",
    "test.head()"
   ]
  },
  {
   "cell_type": "markdown",
   "id": "40c629de-c09d-49c1-b4b3-062d4f146cb9",
   "metadata": {},
   "source": [
    "0번째 샘플의 두 코드를 보자. 이 샘플의 similar label은 0으로, 두 코드는 다르다."
   ]
  },
  {
   "cell_type": "code",
   "execution_count": 4,
   "id": "9045e996-6bf4-4e53-b3a9-ea3a67110527",
   "metadata": {},
   "outputs": [
    {
     "name": "stdout",
     "output_type": "stream",
     "text": [
      "#include <bits/stdc++.h>\n",
      "\n",
      "using namespace std;\n",
      "using ll = long long;\n",
      "using vl = vector<ll>;\n",
      "using pll = pair<ll, ll>;\n",
      "\n",
      "#define rep(i, n) for (ll i = 0, xxx_rep_end = (n); i < xxx_rep_end; ++i)\n",
      "#define all(x) (x).begin(), (x).end()\n",
      "\n",
      "template <class T1, class T2>\n",
      "inline bool chmax(T1 &a, const T2 &b) {\n",
      "    if (a < b) {\n",
      "        a = b;\n",
      "        return true;\n",
      "    }\n",
      "    return false;\n",
      "}\n",
      "template <class T1, class T2>\n",
      "inline bool chmin(T1 &a, const T2 &b) {\n",
      "    if (a > b) {\n",
      "        a = b;\n",
      "        return true;\n",
      "    }\n",
      "    return false;\n",
      "}\n",
      "\n",
      "constexpr ll INF = 0x3f3f3f3f3f3f3f3fLL;\n",
      "constexpr ll mod = 1000000007;\n",
      "\n",
      "int main() {\n",
      "    ll S;\n",
      "    cin >> S;\n",
      "    for (int i = 0; i < 3; ++i) {\n",
      "        if (S % 10 == 7) {\n",
      "            cout << \"Yes\" << endl;\n",
      "            return 0;\n",
      "        }\n",
      "        S /= 10;\n",
      "    }\n",
      "    cout << \"No\" << endl;\n",
      "}\n"
     ]
    }
   ],
   "source": [
    "print(val[\"code1\"][0])"
   ]
  },
  {
   "cell_type": "code",
   "execution_count": 5,
   "id": "b823aea9-e6d6-45f5-9e63-5518b97754fd",
   "metadata": {},
   "outputs": [
    {
     "name": "stdout",
     "output_type": "stream",
     "text": [
      "#include <algorithm>\n",
      "#include <bitset>\n",
      "#include <complex>\n",
      "#include <deque>\n",
      "#include <exception>\n",
      "#include <fstream>\n",
      "#include <functional>\n",
      "#include <iomanip>\n",
      "#include <ios>\n",
      "#include <iosfwd>\n",
      "#include <iostream>\n",
      "#include <istream>\n",
      "#include <iterator>\n",
      "#include <limits>\n",
      "#include <list>\n",
      "#include <locale>\n",
      "#include <map>\n",
      "#include <memory>\n",
      "#include <new>\n",
      "#include <numeric>\n",
      "#include <ostream>\n",
      "#include <queue>\n",
      "#include <set>\n",
      "#include <sstream>\n",
      "#include <stack>\n",
      "#include <stdexcept>\n",
      "#include <streambuf>\n",
      "#include <string>\n",
      "#include <typeinfo>\n",
      "#include <utility>\n",
      "#include <valarray>\n",
      "#include <vector>\n",
      "#include <climits>\n",
      "#include <cstring>\n",
      "\n",
      "#define rep(i, m, n) for(int i=int(m);i<int(n);i++)\n",
      "#define all(c) begin(c),end(c)\n",
      "\n",
      "template<typename T1, typename T2>\n",
      "inline void chmin(T1 &a, T2 b) { if (a > b) a = b; }\n",
      "\n",
      "template<typename T1, typename T2>\n",
      "inline void chmax(T1 &a, T2 b) { if (a < b) a = b; }\n",
      "\n",
      "//改造\n",
      "typedef long long int ll;\n",
      "using namespace std;\n",
      "#define INF (1 << 30) - 1\n",
      "#define INFl (ll)5e15\n",
      "#define DEBUG 0 //デバッグする時1にしてね\n",
      "#define dump(x)  cerr << #x << \" = \" << (x) << endl\n",
      "#define MOD 1000000007\n",
      "\n",
      "\n",
      "//ここから編集する\n",
      "class Solve {\n",
      "public:\n",
      "    void input() {\n",
      "\n",
      "    }\n",
      "\n",
      "    void solve() {\n",
      "        input();\n",
      "        int n;\n",
      "        cin >> n;\n",
      "        if (n == 0) return;\n",
      "\n",
      "        vector<int> v(n);\n",
      "        rep(i, 0, n) cin >> v[i];\n",
      "        sort(all(v));\n",
      "\n",
      "        int ans = v[1] - v[0];\n",
      "        for (int i = 0; i + 1 < n; ++i) {\n",
      "            chmin(ans, v[i + 1] - v[i]);\n",
      "        }\n",
      "        cout << ans << endl;\n",
      "        solve();\n",
      "    }\n",
      "};\n",
      "\n",
      "\n",
      "int main() {\n",
      "    cin.tie(0);\n",
      "    ios::sync_with_stdio(false);\n",
      "    cout << fixed << setprecision(10);\n",
      "\n",
      "    Solve().solve();\n",
      "\n",
      "\n",
      "    return 0;\n",
      "}\n",
      "\n",
      "\n"
     ]
    }
   ],
   "source": [
    "print(val[\"code2\"][0])"
   ]
  },
  {
   "cell_type": "markdown",
   "id": "540b1760-c190-4d74-8868-7600ffa30124",
   "metadata": {},
   "source": [
    "1번째 샘플을 살펴보자. 두 코드는 같다."
   ]
  },
  {
   "cell_type": "code",
   "execution_count": 6,
   "id": "cbdba613-f779-4dd3-b11b-9252d87a68a3",
   "metadata": {},
   "outputs": [
    {
     "name": "stdout",
     "output_type": "stream",
     "text": [
      "#include <iostream>\n",
      "\n",
      "using namespace std;\n",
      "\n",
      "int main(void) {\n",
      "  int times,h;\n",
      "  string card,temp1,temp2;\n",
      "  while(cin >> card && card[0] != '-') {\n",
      "    cin >> times;\n",
      "    for(int i = 0; i < times; i++) {\n",
      "      cin >> h;\n",
      "      temp1 = card.substr(0, h);\n",
      "      temp2 = card.substr(h, card.length());\n",
      "      card = temp2 + temp1;\n",
      "    }\n",
      "    cout << card << endl;\n",
      "  }\n",
      "  return 0;\n",
      "}\n"
     ]
    }
   ],
   "source": [
    "print(val[\"code1\"][1])"
   ]
  },
  {
   "cell_type": "code",
   "execution_count": 7,
   "id": "aa43ed5f-61d3-4e35-ae55-06b3672739e0",
   "metadata": {},
   "outputs": [
    {
     "name": "stdout",
     "output_type": "stream",
     "text": [
      "#include <iostream>\n",
      "#include <string>\n",
      "using namespace std;\n",
      "int main(void)\n",
      "{\n",
      "    int m,h,i;\n",
      "    string str;\n",
      "    cin >> str;\n",
      "    while(str != \"-\") {\n",
      "        cin >> m;\n",
      "        for(i=0;i<m;i++) {\n",
      "            cin >> h;\n",
      "            string left = str.substr(0,h);\n",
      "            str.erase(0,h);\n",
      "            str+=left;\n",
      "        }\n",
      "        cout << str << endl;\n",
      "        cin >> str;\n",
      "    }\n",
      "}\n",
      "\n"
     ]
    }
   ],
   "source": [
    "print(val[\"code2\"][1])"
   ]
  },
  {
   "cell_type": "markdown",
   "id": "4fe794cc-f12f-49c8-bace-396f35c11c0c",
   "metadata": {},
   "source": [
    "모든 코드의 길이 정보를 요약해보자."
   ]
  },
  {
   "cell_type": "code",
   "execution_count": 8,
   "id": "456fab90-6b71-447c-90df-59d2ca6abf6d",
   "metadata": {},
   "outputs": [
    {
     "name": "stdout",
     "output_type": "stream",
     "text": [
      "20775\n",
      "21243\n",
      "54\n",
      "71\n",
      "875.9134\n",
      "871.21725\n"
     ]
    }
   ],
   "source": [
    "code1_len = []\n",
    "code2_len = []\n",
    "\n",
    "for i in range(len(val)):\n",
    "    code1_len.append(len(val[\"code1\"][i]))\n",
    "    code2_len.append(len(val[\"code2\"][i]))\n",
    "print(max(code1_len))\n",
    "print(max(code2_len))\n",
    "print(min(code1_len))\n",
    "print(min(code2_len))\n",
    "print(sum(code1_len) / len(code1_len))\n",
    "print(sum(code2_len) / len(code2_len))"
   ]
  },
  {
   "cell_type": "markdown",
   "id": "4f9eab7e-c669-45b4-a628-666b2760c7db",
   "metadata": {},
   "source": [
    "일반적인 자연어 유사도 계산 알고리즘은 54~71 byte짜리 글에서 잘 작동할 것이다. 하지만 20000 byte를 넘어가는 코드에서는 과연...  \n",
    "길이가 긴 코드는 그 안을 블럭화하여 데이터를 압축해야겠다.\n",
    "\n",
    "code1_len list를 sort하고 코드 길이의 분포를 보자."
   ]
  },
  {
   "cell_type": "code",
   "execution_count": 9,
   "id": "996e59a5-ee60-4fc6-9b63-cca9738d4561",
   "metadata": {},
   "outputs": [],
   "source": [
    "code1_len_sort = sorted(code1_len)"
   ]
  },
  {
   "cell_type": "code",
   "execution_count": 10,
   "id": "690a6ca1-d4b7-4ffd-a24d-ed236ce7d1e1",
   "metadata": {},
   "outputs": [
    {
     "data": {
      "text/plain": [
       "[<matplotlib.lines.Line2D at 0x1f7ae1a55a0>]"
      ]
     },
     "execution_count": 10,
     "metadata": {},
     "output_type": "execute_result"
    },
    {
     "data": {
      "image/png": "[encoded data removed]",
      "text/plain": [
       "<Figure size 640x480 with 1 Axes>"
      ]
     },
     "metadata": {},
     "output_type": "display_data"
    }
   ],
   "source": [
    "import matplotlib.pyplot as plt\n",
    "plt.plot(code1_len_sort)"
   ]
  },
  {
   "cell_type": "code",
   "execution_count": 11,
   "id": "66de8631-c511-4ed0-9b69-e1ce15b7e517",
   "metadata": {},
   "outputs": [
    {
     "data": {
      "text/plain": [
       "20000"
      ]
     },
     "execution_count": 11,
     "metadata": {},
     "output_type": "execute_result"
    }
   ],
   "source": [
    "len(code1_len_sort)"
   ]
  },
  {
   "cell_type": "code",
   "execution_count": 13,
   "id": "ddad906c-7dd1-49db-8fa2-4d44b68bf236",
   "metadata": {},
   "outputs": [
    {
     "name": "stdout",
     "output_type": "stream",
     "text": [
      "2000자 이상: 1389\n",
      "3000자 이상: 440\n",
      "5000자 이상: 85\n",
      "10000자 이상: 5\n",
      "15000자 이상: 4\n",
      "20000자 이상: 4\n"
     ]
    }
   ],
   "source": [
    "def how_much_code_len(n):\n",
    "    print(\"{0}자 이상: \".format(n), end=\"\")\n",
    "    for i in range(len(code1_len_sort)):\n",
    "        if code1_len_sort[i] > n:\n",
    "            print(len(code1_len_sort) - i)\n",
    "            break\n",
    "how_much_code_len(2000)\n",
    "how_much_code_len(3000)\n",
    "how_much_code_len(5000)\n",
    "how_much_code_len(10000)\n",
    "how_much_code_len(15000)\n",
    "how_much_code_len(20000)"
   ]
  },
  {
   "cell_type": "markdown",
   "id": "0fc29a71-7dfd-4dd0-bd6a-814a90527d6e",
   "metadata": {},
   "source": [
    "총 20000개의 code 샘플중 길이가 10000이 넘는 샘플은 단 5개이다. 제외시켜도 될 것 같다.  \n",
    "그래도 5000자는 여전이 일반적인 자연어 처리 알고리즘이 처리하는 문장 길이와는 크게 다르다.  \n",
    "모델 후보를 찾아보면서 긴 코드 길이 문제를 해결할 방법을 생각해보자."
   ]
  },
  {
   "cell_type": "markdown",
   "id": "782f168d-60ee-4cae-a761-6955875e1811",
   "metadata": {},
   "source": [
    "혹시 코드의 목적이 같다면 코드간 길이가 유사하다고 가정할 수 있지 않을까? 확인해보자."
   ]
  },
  {
   "cell_type": "code",
   "execution_count": 14,
   "id": "9b74544e-a095-45ea-b1ce-8e7402ead776",
   "metadata": {},
   "outputs": [
    {
     "name": "stdout",
     "output_type": "stream",
     "text": [
      "같은 코드간 길이차(배수) 평균:  1.8209\n",
      "다른 코드간 길이차(배수) 평균:  2.523\n"
     ]
    }
   ],
   "source": [
    "multiple_0 = []\n",
    "multiple_1 = []\n",
    "\n",
    "for i in range(len(val)):\n",
    "    if code1_len[i] >= code2_len[i]:\n",
    "        multiple = code1_len[i]//code2_len[i]\n",
    "    else:\n",
    "        multiple = code2_len[i]//code1_len[i]\n",
    "    if val[\"similar\"][i]==1:\n",
    "        multiple_1.append(multiple)\n",
    "    else:\n",
    "        multiple_0.append(multiple)\n",
    "print(\"같은 코드간 길이차(배수) 평균: \", sum(multiple_1) / len(multiple_1))\n",
    "print(\"다른 코드간 길이차(배수) 평균: \", sum(multiple_0) / len(multiple_0))"
   ]
  },
  {
   "cell_type": "markdown",
   "id": "e787eff0-52ba-4c62-932d-1eca16cd46ac",
   "metadata": {},
   "source": [
    "확실히 같은 코드간 길이차가 상대적으로 적긴 하다. 하지만 서로 다른 코드가 같은 길이를 가질 수 있다. 따라서 코드 길이차가 큰 코드는 서로 다른 코드다 라고 가정을 축소해야 한다. 이 가설도 확인해보자."
   ]
  },
  {
   "cell_type": "code",
   "execution_count": 15,
   "id": "b88016be-b436-4187-a700-67b6956d8890",
   "metadata": {},
   "outputs": [
    {
     "name": "stdout",
     "output_type": "stream",
     "text": [
      "43\n"
     ]
    }
   ],
   "source": [
    "print(max(multiple_1))"
   ]
  },
  {
   "cell_type": "markdown",
   "id": "d4dd35bd-bfee-4380-ba05-b333e6d52901",
   "metadata": {},
   "source": [
    "아.. 코드 길이가 43배 차이나는데 같은 동작을 수행하는 코드가 있다. 살펴보자."
   ]
  },
  {
   "cell_type": "code",
   "execution_count": 29,
   "id": "7cbee821-7a3b-4071-8661-b10c0bedefc1",
   "metadata": {},
   "outputs": [
    {
     "name": "stdout",
     "output_type": "stream",
     "text": [
      "11542\n"
     ]
    }
   ],
   "source": [
    "for i in range(len(val)):\n",
    "    if code1_len[i] >= code2_len[i]:\n",
    "        multiple = code1_len[i]//code2_len[i]\n",
    "    else:\n",
    "        multiple = code2_len[i]//code1_len[i]\n",
    "    if val[\"similar\"][i]==1:\n",
    "        if multiple == 43:\n",
    "            print(i)"
   ]
  },
  {
   "cell_type": "code",
   "execution_count": 30,
   "id": "19dd3a86-e17b-40e8-9114-c74445173a07",
   "metadata": {},
   "outputs": [
    {
     "name": "stdout",
     "output_type": "stream",
     "text": [
      "// ConsoleApplication1.cpp : このファイルには 'main' 関数が含まれています。プログラム実行の開始と終了がそこで行われます。\n",
      "//\n",
      "\n",
      "//#include \"pch.h\"\n",
      "\n",
      "#include <iostream>\n",
      "#include <cmath>\n",
      "#include <climits>\n",
      "#include <stdio.h>\n",
      "#include <stdlib.h>\n",
      "#include <vector>\n",
      "#include <string>\n",
      "#include <stack>\n",
      "#include <algorithm>\n",
      "#include <map>\n",
      "#include <numeric>\n",
      "#include <set>\n",
      "#include <queue>\n",
      "#include <bitset>\n",
      "using namespace std;\n",
      "\n",
      "#define ll long long\n",
      "#define ld long double\n",
      "#define pi 3.14159265359;\n",
      "// %llu %lf\n",
      "\n",
      "// v:vector  type:型  order:greater(大きい順) or less(小さい順)\n",
      "#define _sort(v,type,order) do { sort(v.begin(),v.end(),order<type>()); } while(0)\n",
      "// vector 要素の総和算出\n",
      "// v:vector  default_value:初期値\n",
      "#define _sum(v,default_value) accumulate(v.begin(),v.end(),default_value )\n",
      "// vector 最大値( return ite )\n",
      "#define _max_element(v) max_element(v.begin(),v.end())\n",
      "// vector 最小値( return ite )\n",
      "#define _min_element(v) min_element(v.begin(),v.end())\n",
      "// vector 最大値が格納されている要素値\n",
      "#define _max_element_number(v) distance(v.begin(),max_element(v.begin(),v.end()))\n",
      "// 特定コンテナの中から特定の値をカウントする\n",
      "#define _count(v,value) count(v.begin(),v.end(),value)\n",
      "\n",
      "//set<uint32_t> member;\t// 重複するデータを保持する事はできない member.insert(2) member.insert(2) ⇒ member.count(2)は1\n",
      "//                                                              member.emplace(2)とかも同じ\n",
      "//multiset<uint32_t> v;\t// 重複するデータも保持する事はできる   member.insert(2) member.insert(2) ⇒ member.count(2)は2\n",
      "\n",
      "// 丸め\n",
      "#define _round(v) round(v)\n",
      "// 2乗 / 3乗\n",
      "#define _square(v) pow(v,2)\n",
      "#define _cube(v)   pow(v,3)\n",
      "// 大小判定\n",
      "#define _max(x,y) max(x,y)\n",
      "#define _min(x,y) min(x,y)\n",
      "// string ⇒ int\n",
      "#define _stringtoi(s) stoi(s)\n",
      "// double 平方根\n",
      "#define _sqrt(x) sqrt(x)\n",
      "// double 引数 x 以上で最小の整数値 ex) 3.30303 ⇒ 4\n",
      "#define _ceil(x) ceil(x)\n",
      "// 指定された要素以上の値が現れる最初の位置のイテレータを取得する\n",
      "#define _lower_bound(v,min) lower_bound(v.begin(), v.end(), min)\n",
      "// 指定された要素より大きい値が現れる最初の位置のイテレータを取得する\n",
      "#define _upper_bound(v,min) upper_bound(v.begin(), v.end(), min)\n",
      "\n",
      "// 順列 n個の数が与えられる\n",
      "// 0,1,2,...,n-1\n",
      "// 全ての並べ方を1行ごとに出力する\n",
      "// ex 0 1 2 / 0 2 1 / 1 0 2 / 1 2 0 / 2 0 1 / 2 1 0\n",
      "#define _next_permutation(v) do {   \\\n",
      "\tfor (auto num : v) {            \\\n",
      "\t\tprintf(\"%d \", num);         \\\n",
      "\t}                               \\\n",
      "\tprintf(\"\\n\");                   \\\n",
      "} while (next_permutation(v.begin(), v.end()))\n",
      "\n",
      "// 絶対値\n",
      "template<typename T>\n",
      "static T _abs(const T x) { return  (x > 0 ? x : -x); }\n",
      "\n",
      "// 最大公約数\n",
      "int64_t gcd(int64_t a, int64_t b) { while (b) { int64_t c = b; b = a % b; a = c; } return a; }\n",
      "// 最小公倍数\n",
      "int64_t lcm(int64_t a, int64_t b) { if (!a || !b) return 0; return a * b / gcd(a, b); }\n",
      "\n",
      "// 多次元 std::vector 生成\n",
      "template<class T>\n",
      "vector<T> make_vec(size_t a) { return vector<T>(a); }\n",
      "template<class T, class... Ts>\n",
      "auto make_vec(size_t a, Ts... ts) { return vector<decltype(make_vec<T>(ts...))>(a, make_vec<T>(ts...)); }\n",
      "// ex) auto dp = make_vec<uint64_t>(SIZE + 1, 2, 2);\n",
      "\n",
      "// ■\n",
      "// UINT32_MAX\n",
      "// 4294967295 ≒ 4 * 1e9\n",
      "\n",
      "// ■\n",
      "// 割り算した結果との比較での丸め対処時 \n",
      "// ABC 161 B\n",
      "// https://atcoder.jp/contests/abc161/tasks/abc161_b\n",
      "// double   border = _sum(v, 0 / (double)(4 * m);\n",
      "//            ↓\n",
      "// uint32_t border = (_sum(v, 0) + (4 * m) - 1) / (4 * m);\n",
      "\n",
      "// ■\n",
      "// N の数が与えられた場合の組合せ N * (N - 1) / 2\n",
      "\n",
      "\n",
      "/*************************************************************/\n",
      "// ARC 151\n",
      "// A - Next Alphabet\n",
      "// https://atcoder.jp/contests/abc151/tasks\n",
      "/*\n",
      "\t■問題文\n",
      "\t'z' でない英小文字 C が与えられます。\n",
      "\tアルファベット順で C の次の文字を出力してください。\n",
      "\n",
      "\t■制約\n",
      "\tC は 'z' でない英小文字\n",
      "*/\n",
      "\n",
      "int main()\n",
      "{\n",
      "\tstring s;\n",
      "\tcin >> s;\n",
      "\n",
      "\ts[0]++;\n",
      "\tprintf(\"%s\\n\", s.c_str());\n",
      "\n",
      "\treturn 0;\n",
      "}\n",
      "\n",
      "// プログラムの実行: Ctrl + F5 または [デバッグ] > [デバッグなしで開始] メニュー\n",
      "// プログラムのデバッグ: F5 または [デバッグ] > [デバッグの開始] メニュー\n",
      "\n",
      "// 作業を開始するためのヒント: \n",
      "//    1. ソリューション エクスプローラー ウィンドウを使用してファイルを追加/管理します \n",
      "//   2. チーム エクスプローラー ウィンドウを使用してソース管理に接続します\n",
      "//   3. 出力ウィンドウを使用して、ビルド出力とその他のメッセージを表示します\n",
      "//   4. エラー一覧ウィンドウを使用してエラーを表示します\n",
      "//   5. [プロジェクト] > [新しい項目の追加] と移動して新しいコード ファイルを作成するか、[プロジェクト] > [既存の項目の追加] と移動して既存のコード ファイルをプロジェクトに追加します\n",
      "//   6. 後ほどこのプロジェクトを再び開く場合、[ファイル] > [開く] > [プロジェクト] と移動して .sln ファイルを選択します\n",
      "\n"
     ]
    }
   ],
   "source": [
    "print(val[\"code1\"][11542])"
   ]
  },
  {
   "cell_type": "code",
   "execution_count": 31,
   "id": "3a70f2e2-03a5-4c67-88fe-d8eef4d14cfc",
   "metadata": {},
   "outputs": [
    {
     "name": "stdout",
     "output_type": "stream",
     "text": [
      "#include <iostream>\n",
      "using namespace std;\n",
      "int main() {\n",
      "\tchar c;\n",
      "\tcin >> c;\n",
      "\tcout << ++c;\n",
      "}\n"
     ]
    }
   ],
   "source": [
    "print(val[\"code2\"][11542])"
   ]
  },
  {
   "cell_type": "markdown",
   "id": "0482fb21-8acb-4dc4-a40f-e59958c4cc80",
   "metadata": {},
   "source": [
    "주석, #include, #define이 겁나들어갔다. 주석은 그냥 쳐내도 되겠지만, #include와 #define은 중요한 정보이다. 어떻게 다뤄야 할까?  \n",
    "나중에 어셈블리어로 바꿨을 땐 #include, #define, class, function을 다 구분해서 각각 유사도를 검사할 것므로 괜찮을 것이다.\n",
    "지금은 데이터 살펴보기 단계이므로 #들을 어떻게 처리해야 할지는 그만 고민하고 넘어가자. 코드 유사도에 따른 길이 차이 분석은 여기서 끝."
   ]
  },
  {
   "cell_type": "markdown",
   "id": "2d4ca378-8ea0-4b05-8bf4-3008944edff7",
   "metadata": {},
   "source": [
    "## 목적 정의"
   ]
  },
  {
   "cell_type": "markdown",
   "id": "a0894e83-369c-42a5-8ecf-6b283063427b",
   "metadata": {},
   "source": [
    "두 코드간 유사성을 판단 -> 서로 동일한 문제를 해결하는지를 판단"
   ]
  },
  {
   "cell_type": "markdown",
   "id": "efd4a478-40da-4d7e-baee-2a4cb426bb03",
   "metadata": {},
   "source": [
    "## 특별한 점"
   ]
  },
  {
   "cell_type": "markdown",
   "id": "c45d89cf-17c5-44a6-89cb-e608ce3f2b3e",
   "metadata": {},
   "source": [
    "1. c++코드임\n",
    "2. "
   ]
  },
  {
   "cell_type": "markdown",
   "id": "7d957407-4508-4d1f-a19d-d8da3f896caa",
   "metadata": {},
   "source": [
    "## 해결해야할 것"
   ]
  },
  {
   "cell_type": "markdown",
   "id": "9f05ba49-738a-4525-98d3-bb26ddc98e3b",
   "metadata": {},
   "source": [
    "1. 변수 또는 함수명만 다른 것을 탐지\n",
    "2. 코드 블럭 위치만 다른 것을 탐지\n",
    "3. "
   ]
  },
  {
   "cell_type": "markdown",
   "id": "474fb6bc-7189-45f6-909f-bbff7d7bd34f",
   "metadata": {},
   "source": [
    "## 아이디어"
   ]
  },
  {
   "cell_type": "markdown",
   "id": "c62aa960-dad3-4230-87b7-80d9a35f9439",
   "metadata": {},
   "source": [
    "* 코드 블럭을 정렬한다. 라이브러리 -> 함수정의 -> 클래스정의 -> 본래 함수 순으로.\n",
    "* 어샘블리어로 변환한다. 여기선 1.이 선행되어야 할 것이다. 그리고 변수명이 PC로 표현될텐데 이 부분에 어떤 규칙성을 적용시켜야 함.  \n",
    "> 원시 코드를 릴리즈 모드가 아닌 디버깅 모드로 컴파일하는 경우 함수의 이름은 주소 번지로 변환이 되지 않고 원시 코드에서의 본래 이름을 유지하는 특성을 이용하여 수행할 수 있다. [유장희(2020), 목적 코드에서 유사도 검출과 그 도구의 설계]\n",
    "\n",
    "    그런데 어셈블리어로 변환하면 코드의 유사도를 측정하기 위한 정보가 너무 줄어들어버리지 않을까?"
   ]
  },
  {
   "cell_type": "markdown",
   "id": "907eaaf5-eecc-46d1-a4f5-036b89c78cd1",
   "metadata": {},
   "source": [
    "# 모델 후보"
   ]
  },
  {
   "cell_type": "markdown",
   "id": "eded435e-237b-4c97-a7b3-37b42620ad25",
   "metadata": {},
   "source": [
    "[SentenceBERT, sentence-transformer](https://velog.io/@jaehyeong/Basic-NLP-sentence-transformers-%EB%9D%BC%EC%9D%B4%EB%B8%8C%EB%9F%AC%EB%A6%AC%EB%A5%BC-%ED%99%9C%EC%9A%A9%ED%95%9C-SBERT-%ED%95%99%EC%8A%B5-%EB%B0%A9%EB%B2%95)  \n"
   ]
  },
  {
   "cell_type": "markdown",
   "id": "cca8bd43-b909-4645-ae70-119be09cf47c",
   "metadata": {},
   "source": [
    "아무래도 어셈블리 형태로 분석하는게 좋겠다.  \n",
    "순서는  \n",
    "1. 코드를 블럭으로 나눔\n",
    "2. 코드 블럭 정렬\n",
    "3. 어셈블리어로 변환\n",
    "4. 다시 블럭을 나눔(여기서 문제 상황: 어셈블리어 상태에서 어떻게 #include, function, class 등을 구분하지?)\n",
    "5. 블럭에서 또다시 블럭으로 나눌 것(function, class)을 블럭으로 나눔\n",
    "6. 5.에서 나눈 블럭들중 비슷한 역할을 하는 블럭끼리 짝지음\n",
    "7. 모든 블럭간 유사도 평가 시행\n",
    "8. 유사도값들에 가중치를(라이브러리/클래스/함수/그외 4개의 가중치 설정) 곱해 최종 유사도 계산\n",
    "9. 계산된 유사도로 코드간 유사성 평가"
   ]
  },
  {
   "cell_type": "code",
   "execution_count": null,
   "id": "45cb59a1-47ad-4899-8cc2-546c1d12b7fd",
   "metadata": {},
   "outputs": [],
   "source": []
  },
  {
   "cell_type": "code",
   "execution_count": null,
   "id": "691591c8-48a9-4a06-8d79-8b0138162603",
   "metadata": {},
   "outputs": [],
   "source": []
  },
  {
   "cell_type": "code",
   "execution_count": null,
   "id": "d156cf1d-d9fc-4a5b-ae37-6fc67e402cc3",
   "metadata": {},
   "outputs": [],
   "source": []
  },
  {
   "cell_type": "code",
   "execution_count": null,
   "id": "9a35f82f-c937-4ba3-a516-9520e57b0e5c",
   "metadata": {},
   "outputs": [],
   "source": []
  },
  {
   "cell_type": "code",
   "execution_count": null,
   "id": "657b95a6-70be-4b2e-ab9c-3a70d9e68e43",
   "metadata": {},
   "outputs": [],
   "source": []
  },
  {
   "cell_type": "code",
   "execution_count": null,
   "id": "5183284a-52ec-4703-9f8d-71e21f839736",
   "metadata": {},
   "outputs": [],
   "source": []
  },
  {
   "cell_type": "code",
   "execution_count": null,
   "id": "7f3cc551-0b1f-4ac1-a187-6c815efe0b1a",
   "metadata": {},
   "outputs": [],
   "source": []
  },
  {
   "cell_type": "code",
   "execution_count": null,
   "id": "69916b9b-53a5-4299-8876-1b910ced1151",
   "metadata": {},
   "outputs": [],
   "source": []
  },
  {
   "cell_type": "code",
   "execution_count": null,
   "id": "c47088de-15d8-43ab-b761-6de45972f7b1",
   "metadata": {},
   "outputs": [],
   "source": []
  },
  {
   "cell_type": "code",
   "execution_count": null,
   "id": "ce059df4-f282-4550-868b-205e8c5fb9e3",
   "metadata": {},
   "outputs": [],
   "source": []
  },
  {
   "cell_type": "code",
   "execution_count": null,
   "id": "484fe64d-4073-4a8d-b41f-b6024b324b10",
   "metadata": {},
   "outputs": [],
   "source": []
  },
  {
   "cell_type": "code",
   "execution_count": null,
   "id": "7a280a46-698a-453b-8aee-777fb30e9f32",
   "metadata": {},
   "outputs": [],
   "source": []
  },
  {
   "cell_type": "code",
   "execution_count": null,
   "id": "2c2d5ffd-d00b-434b-b3ae-5d702cc69ce6",
   "metadata": {},
   "outputs": [],
   "source": []
  },
  {
   "cell_type": "code",
   "execution_count": null,
   "id": "1f4e662f-bc6e-45b5-9b9a-56b9ab494db2",
   "metadata": {},
   "outputs": [],
   "source": []
  },
  {
   "cell_type": "code",
   "execution_count": null,
   "id": "41f79db5-78f1-4a06-b155-6d6b89e203e0",
   "metadata": {},
   "outputs": [],
   "source": []
  },
  {
   "cell_type": "code",
   "execution_count": null,
   "id": "e28221fa-4fdc-4ed1-8b28-c6224b1994d9",
   "metadata": {},
   "outputs": [],
   "source": []
  },
  {
   "cell_type": "code",
   "execution_count": null,
   "id": "4ccad41a-69ad-4eea-b538-7752edf6909d",
   "metadata": {},
   "outputs": [],
   "source": []
  },
  {
   "cell_type": "code",
   "execution_count": null,
   "id": "eb990685-4753-4d57-8c91-957bef91a57f",
   "metadata": {},
   "outputs": [],
   "source": []
  },
  {
   "cell_type": "code",
   "execution_count": null,
   "id": "f9e212e6-5f73-4972-925a-b477a1e90b8b",
   "metadata": {},
   "outputs": [],
   "source": []
  }
 ],
 "metadata": {
  "kernelspec": {
   "display_name": "ML_py3.10.13",
   "language": "python",
   "name": "mlpy310"
  },
  "language_info": {
   "codemirror_mode": {
    "name": "ipython",
    "version": 3
   },
   "file_extension": ".py",
   "mimetype": "text/x-python",
   "name": "python",
   "nbconvert_exporter": "python",
   "pygments_lexer": "ipython3",
   "version": "3.10.13"
  }
 },
 "nbformat": 4,
 "nbformat_minor": 5
}
