{
 "cells": [
  {
   "cell_type": "markdown",
   "id": "50529fca-f808-4c95-8276-e0c466167c4c",
   "metadata": {},
   "source": [
    "# 데이터 살펴보기"
   ]
  },
  {
   "cell_type": "code",
   "execution_count": 1,
   "id": "eb9ba262-1dc2-416e-bd27-73a6c71b7c67",
   "metadata": {},
   "outputs": [],
   "source": [
    "import pandas as pd\n",
    "import numpy as np\n",
    "import glob\n",
    "from tqdm import tqdm"
   ]
  },
  {
   "cell_type": "code",
   "execution_count": 2,
   "id": "3f7c535b-a8fd-4aef-b119-eb3c7f9e3b1f",
   "metadata": {},
   "outputs": [
    {
     "data": {
      "text/html": [
       "<div>\n",
       "<style scoped>\n",
       "    .dataframe tbody tr th:only-of-type {\n",
       "        vertical-align: middle;\n",
       "    }\n",
       "\n",
       "    .dataframe tbody tr th {\n",
       "        vertical-align: top;\n",
       "    }\n",
       "\n",
       "    .dataframe thead th {\n",
       "        text-align: right;\n",
       "    }\n",
       "</style>\n",
       "<table border=\"1\" class=\"dataframe\">\n",
       "  <thead>\n",
       "    <tr style=\"text-align: right;\">\n",
       "      <th></th>\n",
       "      <th>code1_path</th>\n",
       "      <th>code2_path</th>\n",
       "      <th>code1</th>\n",
       "      <th>code2</th>\n",
       "      <th>similar</th>\n",
       "    </tr>\n",
       "  </thead>\n",
       "  <tbody>\n",
       "    <tr>\n",
       "      <th>0</th>\n",
       "      <td>./train_code/problem393/problem393_19.cpp</td>\n",
       "      <td>./train_code/problem033/problem033_439.cpp</td>\n",
       "      <td>#include &lt;bits/stdc++.h&gt;\\n\\nusing namespace st...</td>\n",
       "      <td>#include &lt;algorithm&gt;\\n#include &lt;bitset&gt;\\n#incl...</td>\n",
       "      <td>0</td>\n",
       "    </tr>\n",
       "    <tr>\n",
       "      <th>1</th>\n",
       "      <td>./train_code/problem019/problem019_210.cpp</td>\n",
       "      <td>./train_code/problem019/problem019_63.cpp</td>\n",
       "      <td>#include &lt;iostream&gt;\\n\\nusing namespace std;\\n\\...</td>\n",
       "      <td>#include &lt;iostream&gt;\\n#include &lt;string&gt;\\nusing ...</td>\n",
       "      <td>1</td>\n",
       "    </tr>\n",
       "    <tr>\n",
       "      <th>2</th>\n",
       "      <td>./train_code/problem107/problem107_486.cpp</td>\n",
       "      <td>./train_code/problem107/problem107_340.cpp</td>\n",
       "      <td>#include &lt;iostream&gt;\\n#include &lt;vector&gt;\\nusing ...</td>\n",
       "      <td>#include &lt;cstdio&gt;\\n#include &lt;cstdlib&gt;\\n#includ...</td>\n",
       "      <td>1</td>\n",
       "    </tr>\n",
       "    <tr>\n",
       "      <th>3</th>\n",
       "      <td>./train_code/problem187/problem187_257.cpp</td>\n",
       "      <td>./train_code/problem403/problem403_135.cpp</td>\n",
       "      <td>#include &lt;bits/stdc++.h&gt;\\n#include &lt;unordered_...</td>\n",
       "      <td>#include &lt;bits/stdc++.h&gt;\\nusing namespace std;...</td>\n",
       "      <td>0</td>\n",
       "    </tr>\n",
       "    <tr>\n",
       "      <th>4</th>\n",
       "      <td>./train_code/problem173/problem173_490.cpp</td>\n",
       "      <td>./train_code/problem173/problem173_345.cpp</td>\n",
       "      <td>#include &lt;bits/stdc++.h&gt;\\ntypedef long long ll...</td>\n",
       "      <td>#include \"bits/stdc++.h\"\\n#define rep(i,n) for...</td>\n",
       "      <td>1</td>\n",
       "    </tr>\n",
       "  </tbody>\n",
       "</table>\n",
       "</div>"
      ],
      "text/plain": [
       "                                   code1_path  \\\n",
       "0   ./train_code/problem393/problem393_19.cpp   \n",
       "1  ./train_code/problem019/problem019_210.cpp   \n",
       "2  ./train_code/problem107/problem107_486.cpp   \n",
       "3  ./train_code/problem187/problem187_257.cpp   \n",
       "4  ./train_code/problem173/problem173_490.cpp   \n",
       "\n",
       "                                   code2_path  \\\n",
       "0  ./train_code/problem033/problem033_439.cpp   \n",
       "1   ./train_code/problem019/problem019_63.cpp   \n",
       "2  ./train_code/problem107/problem107_340.cpp   \n",
       "3  ./train_code/problem403/problem403_135.cpp   \n",
       "4  ./train_code/problem173/problem173_345.cpp   \n",
       "\n",
       "                                               code1  \\\n",
       "0  #include <bits/stdc++.h>\\n\\nusing namespace st...   \n",
       "1  #include <iostream>\\n\\nusing namespace std;\\n\\...   \n",
       "2  #include <iostream>\\n#include <vector>\\nusing ...   \n",
       "3  #include <bits/stdc++.h>\\n#include <unordered_...   \n",
       "4  #include <bits/stdc++.h>\\ntypedef long long ll...   \n",
       "\n",
       "                                               code2  similar  \n",
       "0  #include <algorithm>\\n#include <bitset>\\n#incl...        0  \n",
       "1  #include <iostream>\\n#include <string>\\nusing ...        1  \n",
       "2  #include <cstdio>\\n#include <cstdlib>\\n#includ...        1  \n",
       "3  #include <bits/stdc++.h>\\nusing namespace std;...        0  \n",
       "4  #include \"bits/stdc++.h\"\\n#define rep(i,n) for...        1  "
      ]
     },
     "execution_count": 2,
     "metadata": {},
     "output_type": "execute_result"
    }
   ],
   "source": [
    "val = pd.read_csv(\"C:\\\\Users\\\\82102\\\\Desktop\\\\Machine_Learning\\\\DACON_materials\\\\Code_Similarity\\\\sample_train.csv\")\n",
    "val.head()"
   ]
  },
  {
   "cell_type": "code",
   "execution_count": 3,
   "id": "be760d0b-2bc7-40a8-b37c-3986931f5824",
   "metadata": {},
   "outputs": [
    {
     "data": {
      "text/html": [
       "<div>\n",
       "<style scoped>\n",
       "    .dataframe tbody tr th:only-of-type {\n",
       "        vertical-align: middle;\n",
       "    }\n",
       "\n",
       "    .dataframe tbody tr th {\n",
       "        vertical-align: top;\n",
       "    }\n",
       "\n",
       "    .dataframe thead th {\n",
       "        text-align: right;\n",
       "    }\n",
       "</style>\n",
       "<table border=\"1\" class=\"dataframe\">\n",
       "  <thead>\n",
       "    <tr style=\"text-align: right;\">\n",
       "      <th></th>\n",
       "      <th>pair_id</th>\n",
       "      <th>code1</th>\n",
       "      <th>code2</th>\n",
       "    </tr>\n",
       "  </thead>\n",
       "  <tbody>\n",
       "    <tr>\n",
       "      <th>0</th>\n",
       "      <td>TEST_000000</td>\n",
       "      <td>#include &lt;bits/stdc++.h&gt;\\nusing namespace std;...</td>\n",
       "      <td>#include &lt;bits/stdc++.h&gt;\\n#define rep(i, n) fo...</td>\n",
       "    </tr>\n",
       "    <tr>\n",
       "      <th>1</th>\n",
       "      <td>TEST_000001</td>\n",
       "      <td>#include&lt;bits/stdc++.h&gt;\\n#define rep(i,n)for(i...</td>\n",
       "      <td>// //bitset操作\\n// #include &lt;iostream&gt;\\n// #inc...</td>\n",
       "    </tr>\n",
       "    <tr>\n",
       "      <th>2</th>\n",
       "      <td>TEST_000002</td>\n",
       "      <td>#include &lt;bits/stdc++.h&gt;\\nusing namespace std;...</td>\n",
       "      <td>#include &lt;bits/stdc++.h&gt;\\n#include &lt;ext/pb_ds/...</td>\n",
       "    </tr>\n",
       "    <tr>\n",
       "      <th>3</th>\n",
       "      <td>TEST_000003</td>\n",
       "      <td>#include &lt;bits/stdc++.h&gt;\\nusing namespace std;...</td>\n",
       "      <td>#include &lt;bits/stdc++.h&gt;\\nusing namespace std;...</td>\n",
       "    </tr>\n",
       "    <tr>\n",
       "      <th>4</th>\n",
       "      <td>TEST_000004</td>\n",
       "      <td>#include&lt;bits/stdc++.h&gt;\\nusing namespace std;\\...</td>\n",
       "      <td>#include&lt;iostream&gt;\\n#include&lt;algorithm&gt;\\n#incl...</td>\n",
       "    </tr>\n",
       "  </tbody>\n",
       "</table>\n",
       "</div>"
      ],
      "text/plain": [
       "       pair_id                                              code1  \\\n",
       "0  TEST_000000  #include <bits/stdc++.h>\\nusing namespace std;...   \n",
       "1  TEST_000001  #include<bits/stdc++.h>\\n#define rep(i,n)for(i...   \n",
       "2  TEST_000002  #include <bits/stdc++.h>\\nusing namespace std;...   \n",
       "3  TEST_000003  #include <bits/stdc++.h>\\nusing namespace std;...   \n",
       "4  TEST_000004  #include<bits/stdc++.h>\\nusing namespace std;\\...   \n",
       "\n",
       "                                               code2  \n",
       "0  #include <bits/stdc++.h>\\n#define rep(i, n) fo...  \n",
       "1  // //bitset操作\\n// #include <iostream>\\n// #inc...  \n",
       "2  #include <bits/stdc++.h>\\n#include <ext/pb_ds/...  \n",
       "3  #include <bits/stdc++.h>\\nusing namespace std;...  \n",
       "4  #include<iostream>\\n#include<algorithm>\\n#incl...  "
      ]
     },
     "execution_count": 3,
     "metadata": {},
     "output_type": "execute_result"
    }
   ],
   "source": [
    "test = pd.read_csv(\"C:\\\\Users\\\\82102\\\\Desktop\\\\Machine_Learning\\\\DACON_materials\\\\Code_Similarity\\\\test.csv\")\n",
    "test.head()"
   ]
  },
  {
   "cell_type": "markdown",
   "id": "40c629de-c09d-49c1-b4b3-062d4f146cb9",
   "metadata": {},
   "source": [
    "0번째 샘플의 두 코드를 보자. 이 샘플의 similar label은 0으로, 두 코드는 다르다."
   ]
  },
  {
   "cell_type": "code",
   "execution_count": 4,
   "id": "9045e996-6bf4-4e53-b3a9-ea3a67110527",
   "metadata": {},
   "outputs": [
    {
     "name": "stdout",
     "output_type": "stream",
     "text": [
      "#include <bits/stdc++.h>\n",
      "\n",
      "using namespace std;\n",
      "using ll = long long;\n",
      "using vl = vector<ll>;\n",
      "using pll = pair<ll, ll>;\n",
      "\n",
      "#define rep(i, n) for (ll i = 0, xxx_rep_end = (n); i < xxx_rep_end; ++i)\n",
      "#define all(x) (x).begin(), (x).end()\n",
      "\n",
      "template <class T1, class T2>\n",
      "inline bool chmax(T1 &a, const T2 &b) {\n",
      "    if (a < b) {\n",
      "        a = b;\n",
      "        return true;\n",
      "    }\n",
      "    return false;\n",
      "}\n",
      "template <class T1, class T2>\n",
      "inline bool chmin(T1 &a, const T2 &b) {\n",
      "    if (a > b) {\n",
      "        a = b;\n",
      "        return true;\n",
      "    }\n",
      "    return false;\n",
      "}\n",
      "\n",
      "constexpr ll INF = 0x3f3f3f3f3f3f3f3fLL;\n",
      "constexpr ll mod = 1000000007;\n",
      "\n",
      "int main() {\n",
      "    ll S;\n",
      "    cin >> S;\n",
      "    for (int i = 0; i < 3; ++i) {\n",
      "        if (S % 10 == 7) {\n",
      "            cout << \"Yes\" << endl;\n",
      "            return 0;\n",
      "        }\n",
      "        S /= 10;\n",
      "    }\n",
      "    cout << \"No\" << endl;\n",
      "}\n"
     ]
    }
   ],
   "source": [
    "print(val[\"code1\"][0])"
   ]
  },
  {
   "cell_type": "code",
   "execution_count": 5,
   "id": "b823aea9-e6d6-45f5-9e63-5518b97754fd",
   "metadata": {},
   "outputs": [
    {
     "name": "stdout",
     "output_type": "stream",
     "text": [
      "#include <algorithm>\n",
      "#include <bitset>\n",
      "#include <complex>\n",
      "#include <deque>\n",
      "#include <exception>\n",
      "#include <fstream>\n",
      "#include <functional>\n",
      "#include <iomanip>\n",
      "#include <ios>\n",
      "#include <iosfwd>\n",
      "#include <iostream>\n",
      "#include <istream>\n",
      "#include <iterator>\n",
      "#include <limits>\n",
      "#include <list>\n",
      "#include <locale>\n",
      "#include <map>\n",
      "#include <memory>\n",
      "#include <new>\n",
      "#include <numeric>\n",
      "#include <ostream>\n",
      "#include <queue>\n",
      "#include <set>\n",
      "#include <sstream>\n",
      "#include <stack>\n",
      "#include <stdexcept>\n",
      "#include <streambuf>\n",
      "#include <string>\n",
      "#include <typeinfo>\n",
      "#include <utility>\n",
      "#include <valarray>\n",
      "#include <vector>\n",
      "#include <climits>\n",
      "#include <cstring>\n",
      "\n",
      "#define rep(i, m, n) for(int i=int(m);i<int(n);i++)\n",
      "#define all(c) begin(c),end(c)\n",
      "\n",
      "template<typename T1, typename T2>\n",
      "inline void chmin(T1 &a, T2 b) { if (a > b) a = b; }\n",
      "\n",
      "template<typename T1, typename T2>\n",
      "inline void chmax(T1 &a, T2 b) { if (a < b) a = b; }\n",
      "\n",
      "//改造\n",
      "typedef long long int ll;\n",
      "using namespace std;\n",
      "#define INF (1 << 30) - 1\n",
      "#define INFl (ll)5e15\n",
      "#define DEBUG 0 //デバッグする時1にしてね\n",
      "#define dump(x)  cerr << #x << \" = \" << (x) << endl\n",
      "#define MOD 1000000007\n",
      "\n",
      "\n",
      "//ここから編集する\n",
      "class Solve {\n",
      "public:\n",
      "    void input() {\n",
      "\n",
      "    }\n",
      "\n",
      "    void solve() {\n",
      "        input();\n",
      "        int n;\n",
      "        cin >> n;\n",
      "        if (n == 0) return;\n",
      "\n",
      "        vector<int> v(n);\n",
      "        rep(i, 0, n) cin >> v[i];\n",
      "        sort(all(v));\n",
      "\n",
      "        int ans = v[1] - v[0];\n",
      "        for (int i = 0; i + 1 < n; ++i) {\n",
      "            chmin(ans, v[i + 1] - v[i]);\n",
      "        }\n",
      "        cout << ans << endl;\n",
      "        solve();\n",
      "    }\n",
      "};\n",
      "\n",
      "\n",
      "int main() {\n",
      "    cin.tie(0);\n",
      "    ios::sync_with_stdio(false);\n",
      "    cout << fixed << setprecision(10);\n",
      "\n",
      "    Solve().solve();\n",
      "\n",
      "\n",
      "    return 0;\n",
      "}\n",
      "\n",
      "\n"
     ]
    }
   ],
   "source": [
    "print(val[\"code2\"][0])"
   ]
  },
  {
   "cell_type": "markdown",
   "id": "540b1760-c190-4d74-8868-7600ffa30124",
   "metadata": {},
   "source": [
    "1번째 샘플을 살펴보자. 두 코드는 같다."
   ]
  },
  {
   "cell_type": "code",
   "execution_count": 6,
   "id": "cbdba613-f779-4dd3-b11b-9252d87a68a3",
   "metadata": {},
   "outputs": [
    {
     "name": "stdout",
     "output_type": "stream",
     "text": [
      "#include <iostream>\n",
      "\n",
      "using namespace std;\n",
      "\n",
      "int main(void) {\n",
      "  int times,h;\n",
      "  string card,temp1,temp2;\n",
      "  while(cin >> card && card[0] != '-') {\n",
      "    cin >> times;\n",
      "    for(int i = 0; i < times; i++) {\n",
      "      cin >> h;\n",
      "      temp1 = card.substr(0, h);\n",
      "      temp2 = card.substr(h, card.length());\n",
      "      card = temp2 + temp1;\n",
      "    }\n",
      "    cout << card << endl;\n",
      "  }\n",
      "  return 0;\n",
      "}\n"
     ]
    }
   ],
   "source": [
    "print(val[\"code1\"][1])"
   ]
  },
  {
   "cell_type": "code",
   "execution_count": 7,
   "id": "aa43ed5f-61d3-4e35-ae55-06b3672739e0",
   "metadata": {},
   "outputs": [
    {
     "name": "stdout",
     "output_type": "stream",
     "text": [
      "#include <iostream>\n",
      "#include <string>\n",
      "using namespace std;\n",
      "int main(void)\n",
      "{\n",
      "    int m,h,i;\n",
      "    string str;\n",
      "    cin >> str;\n",
      "    while(str != \"-\") {\n",
      "        cin >> m;\n",
      "        for(i=0;i<m;i++) {\n",
      "            cin >> h;\n",
      "            string left = str.substr(0,h);\n",
      "            str.erase(0,h);\n",
      "            str+=left;\n",
      "        }\n",
      "        cout << str << endl;\n",
      "        cin >> str;\n",
      "    }\n",
      "}\n",
      "\n"
     ]
    }
   ],
   "source": [
    "print(val[\"code2\"][1])"
   ]
  },
  {
   "cell_type": "markdown",
   "id": "4fe794cc-f12f-49c8-bace-396f35c11c0c",
   "metadata": {},
   "source": [
    "모든 코드의 길이 정보를 요약해보자."
   ]
  },
  {
   "cell_type": "code",
   "execution_count": 8,
   "id": "456fab90-6b71-447c-90df-59d2ca6abf6d",
   "metadata": {},
   "outputs": [
    {
     "name": "stdout",
     "output_type": "stream",
     "text": [
      "20775\n",
      "21243\n",
      "54\n",
      "71\n",
      "875.9134\n",
      "871.21725\n"
     ]
    }
   ],
   "source": [
    "code1_len = []\n",
    "code2_len = []\n",
    "\n",
    "for i in range(len(val)):\n",
    "    code1_len.append(len(val[\"code1\"][i]))\n",
    "    code2_len.append(len(val[\"code2\"][i]))\n",
    "print(max(code1_len))\n",
    "print(max(code2_len))\n",
    "print(min(code1_len))\n",
    "print(min(code2_len))\n",
    "print(sum(code1_len) / len(code1_len))\n",
    "print(sum(code2_len) / len(code2_len))"
   ]
  },
  {
   "cell_type": "markdown",
   "id": "4f9eab7e-c669-45b4-a628-666b2760c7db",
   "metadata": {},
   "source": [
    "일반적인 자연어 유사도 계산 알고리즘은 54~71 byte짜리 글에서 잘 작동할 것이다. 하지만 20000 byte를 넘어가는 코드에서는 과연...  \n",
    "길이가 긴 코드는 그 안을 블럭화하여 데이터를 압축해야겠다.\n",
    "\n",
    "code1_len list를 sort하고 코드 길이의 분포를 보자."
   ]
  },
  {
   "cell_type": "code",
   "execution_count": 9,
   "id": "996e59a5-ee60-4fc6-9b63-cca9738d4561",
   "metadata": {},
   "outputs": [],
   "source": [
    "code1_len_sort = sorted(code1_len)"
   ]
  },
  {
   "cell_type": "code",
   "execution_count": 10,
   "id": "690a6ca1-d4b7-4ffd-a24d-ed236ce7d1e1",
   "metadata": {},
   "outputs": [
    {
     "data": {
      "text/plain": [
       "[<matplotlib.lines.Line2D at 0x18c31fdabf0>]"
      ]
     },
     "execution_count": 10,
     "metadata": {},
     "output_type": "execute_result"
    },
    {
     "data": {
      "image/png": "[encoded data removed]",
      "text/plain": [
       "<Figure size 640x480 with 1 Axes>"
      ]
     },
     "metadata": {},
     "output_type": "display_data"
    }
   ],
   "source": [
    "import matplotlib.pyplot as plt\n",
    "plt.plot(code1_len_sort)"
   ]
  },
  {
   "cell_type": "code",
   "execution_count": 11,
   "id": "c82a2e09-7b60-4836-b0c5-089e9cb979ea",
   "metadata": {},
   "outputs": [
    {
     "data": {
      "text/plain": [
       "<matplotlib.collections.PathCollection at 0x18c3209a050>"
      ]
     },
     "execution_count": 11,
     "metadata": {},
     "output_type": "execute_result"
    },
    {
     "data": {
      "image/png": "[encoded data removed]",
      "text/plain": [
       "<Figure size 640x480 with 1 Axes>"
      ]
     },
     "metadata": {},
     "output_type": "display_data"
    }
   ],
   "source": [
    "plt.scatter(range(len(code1_len_sort)), code1_len_sort, s=5)"
   ]
  },
  {
   "cell_type": "code",
   "execution_count": 12,
   "id": "66de8631-c511-4ed0-9b69-e1ce15b7e517",
   "metadata": {},
   "outputs": [
    {
     "data": {
      "text/plain": [
       "20000"
      ]
     },
     "execution_count": 12,
     "metadata": {},
     "output_type": "execute_result"
    }
   ],
   "source": [
    "len(code1_len_sort)"
   ]
  },
  {
   "cell_type": "code",
   "execution_count": 13,
   "id": "ddad906c-7dd1-49db-8fa2-4d44b68bf236",
   "metadata": {},
   "outputs": [
    {
     "name": "stdout",
     "output_type": "stream",
     "text": [
      "2000자 이상: 1389\n",
      "3000자 이상: 440\n",
      "5000자 이상: 85\n",
      "10000자 이상: 5\n",
      "15000자 이상: 4\n",
      "20000자 이상: 4\n"
     ]
    }
   ],
   "source": [
    "def how_much_code_len(n):\n",
    "    print(\"{0}자 이상: \".format(n), end=\"\")\n",
    "    for i in range(len(code1_len_sort)):\n",
    "        if code1_len_sort[i] > n:\n",
    "            print(len(code1_len_sort) - i)\n",
    "            break\n",
    "how_much_code_len(2000)\n",
    "how_much_code_len(3000)\n",
    "how_much_code_len(5000)\n",
    "how_much_code_len(10000)\n",
    "how_much_code_len(15000)\n",
    "how_much_code_len(20000)"
   ]
  },
  {
   "cell_type": "markdown",
   "id": "0fc29a71-7dfd-4dd0-bd6a-814a90527d6e",
   "metadata": {},
   "source": [
    "총 20000개의 code 샘플중 길이가 10000이 넘는 샘플은 단 5개이다. 제외시켜도 될 것 같다.  \n",
    "그래도 5000자는 여전이 일반적인 자연어 처리 알고리즘이 처리하는 문장 길이와는 크게 다르다.  \n",
    "모델 후보를 찾아보면서 긴 코드 길이 문제를 해결할 방법을 생각해보자."
   ]
  },
  {
   "cell_type": "markdown",
   "id": "782f168d-60ee-4cae-a761-6955875e1811",
   "metadata": {},
   "source": [
    "혹시 코드의 목적이 같다면 코드간 길이가 유사하다고 가정할 수 있지 않을까? 확인해보자."
   ]
  },
  {
   "cell_type": "code",
   "execution_count": 14,
   "id": "9b74544e-a095-45ea-b1ce-8e7402ead776",
   "metadata": {},
   "outputs": [
    {
     "name": "stdout",
     "output_type": "stream",
     "text": [
      "같은 코드간 길이차(배수) 평균:  1.8209\n",
      "다른 코드간 길이차(배수) 평균:  2.523\n"
     ]
    }
   ],
   "source": [
    "multiple_0 = []\n",
    "multiple_1 = []\n",
    "\n",
    "for i in range(len(val)):\n",
    "    if code1_len[i] >= code2_len[i]:\n",
    "        multiple = code1_len[i]//code2_len[i]\n",
    "    else:\n",
    "        multiple = code2_len[i]//code1_len[i]\n",
    "    if val[\"similar\"][i]==1:\n",
    "        multiple_1.append(multiple)\n",
    "    else:\n",
    "        multiple_0.append(multiple)\n",
    "print(\"같은 코드간 길이차(배수) 평균: \", sum(multiple_1) / len(multiple_1))\n",
    "print(\"다른 코드간 길이차(배수) 평균: \", sum(multiple_0) / len(multiple_0))"
   ]
  },
  {
   "cell_type": "markdown",
   "id": "e787eff0-52ba-4c62-932d-1eca16cd46ac",
   "metadata": {},
   "source": [
    "확실히 같은 코드간 길이차가 상대적으로 적긴 하다. 하지만 서로 다른 코드가 같은 길이를 가질 수 있다. 따라서 코드 길이차가 큰 코드는 서로 다른 코드다 라고 가정을 축소해야 한다. 이 가설도 확인해보자."
   ]
  },
  {
   "cell_type": "code",
   "execution_count": 15,
   "id": "b88016be-b436-4187-a700-67b6956d8890",
   "metadata": {},
   "outputs": [
    {
     "name": "stdout",
     "output_type": "stream",
     "text": [
      "43\n"
     ]
    }
   ],
   "source": [
    "print(max(multiple_1))"
   ]
  },
  {
   "cell_type": "markdown",
   "id": "d4dd35bd-bfee-4380-ba05-b333e6d52901",
   "metadata": {},
   "source": [
    "아.. 코드 길이가 43배 차이나는데 같은 동작을 수행하는 코드가 있다. 살펴보자."
   ]
  },
  {
   "cell_type": "code",
   "execution_count": 16,
   "id": "7cbee821-7a3b-4071-8661-b10c0bedefc1",
   "metadata": {},
   "outputs": [
    {
     "name": "stdout",
     "output_type": "stream",
     "text": [
      "11542\n"
     ]
    }
   ],
   "source": [
    "for i in range(len(val)):\n",
    "    if code1_len[i] >= code2_len[i]:\n",
    "        multiple = code1_len[i]//code2_len[i]\n",
    "    else:\n",
    "        multiple = code2_len[i]//code1_len[i]\n",
    "    if val[\"similar\"][i]==1:\n",
    "        if multiple == 43:\n",
    "            print(i)"
   ]
  },
  {
   "cell_type": "code",
   "execution_count": 17,
   "id": "19dd3a86-e17b-40e8-9114-c74445173a07",
   "metadata": {},
   "outputs": [
    {
     "name": "stdout",
     "output_type": "stream",
     "text": [
      "// ConsoleApplication1.cpp : このファイルには 'main' 関数が含まれています。プログラム実行の開始と終了がそこで行われます。\n",
      "//\n",
      "\n",
      "//#include \"pch.h\"\n",
      "\n",
      "#include <iostream>\n",
      "#include <cmath>\n",
      "#include <climits>\n",
      "#include <stdio.h>\n",
      "#include <stdlib.h>\n",
      "#include <vector>\n",
      "#include <string>\n",
      "#include <stack>\n",
      "#include <algorithm>\n",
      "#include <map>\n",
      "#include <numeric>\n",
      "#include <set>\n",
      "#include <queue>\n",
      "#include <bitset>\n",
      "using namespace std;\n",
      "\n",
      "#define ll long long\n",
      "#define ld long double\n",
      "#define pi 3.14159265359;\n",
      "// %llu %lf\n",
      "\n",
      "// v:vector  type:型  order:greater(大きい順) or less(小さい順)\n",
      "#define _sort(v,type,order) do { sort(v.begin(),v.end(),order<type>()); } while(0)\n",
      "// vector 要素の総和算出\n",
      "// v:vector  default_value:初期値\n",
      "#define _sum(v,default_value) accumulate(v.begin(),v.end(),default_value )\n",
      "// vector 最大値( return ite )\n",
      "#define _max_element(v) max_element(v.begin(),v.end())\n",
      "// vector 最小値( return ite )\n",
      "#define _min_element(v) min_element(v.begin(),v.end())\n",
      "// vector 最大値が格納されている要素値\n",
      "#define _max_element_number(v) distance(v.begin(),max_element(v.begin(),v.end()))\n",
      "// 特定コンテナの中から特定の値をカウントする\n",
      "#define _count(v,value) count(v.begin(),v.end(),value)\n",
      "\n",
      "//set<uint32_t> member;\t// 重複するデータを保持する事はできない member.insert(2) member.insert(2) ⇒ member.count(2)は1\n",
      "//                                                              member.emplace(2)とかも同じ\n",
      "//multiset<uint32_t> v;\t// 重複するデータも保持する事はできる   member.insert(2) member.insert(2) ⇒ member.count(2)は2\n",
      "\n",
      "// 丸め\n",
      "#define _round(v) round(v)\n",
      "// 2乗 / 3乗\n",
      "#define _square(v) pow(v,2)\n",
      "#define _cube(v)   pow(v,3)\n",
      "// 大小判定\n",
      "#define _max(x,y) max(x,y)\n",
      "#define _min(x,y) min(x,y)\n",
      "// string ⇒ int\n",
      "#define _stringtoi(s) stoi(s)\n",
      "// double 平方根\n",
      "#define _sqrt(x) sqrt(x)\n",
      "// double 引数 x 以上で最小の整数値 ex) 3.30303 ⇒ 4\n",
      "#define _ceil(x) ceil(x)\n",
      "// 指定された要素以上の値が現れる最初の位置のイテレータを取得する\n",
      "#define _lower_bound(v,min) lower_bound(v.begin(), v.end(), min)\n",
      "// 指定された要素より大きい値が現れる最初の位置のイテレータを取得する\n",
      "#define _upper_bound(v,min) upper_bound(v.begin(), v.end(), min)\n",
      "\n",
      "// 順列 n個の数が与えられる\n",
      "// 0,1,2,...,n-1\n",
      "// 全ての並べ方を1行ごとに出力する\n",
      "// ex 0 1 2 / 0 2 1 / 1 0 2 / 1 2 0 / 2 0 1 / 2 1 0\n",
      "#define _next_permutation(v) do {   \\\n",
      "\tfor (auto num : v) {            \\\n",
      "\t\tprintf(\"%d \", num);         \\\n",
      "\t}                               \\\n",
      "\tprintf(\"\\n\");                   \\\n",
      "} while (next_permutation(v.begin(), v.end()))\n",
      "\n",
      "// 絶対値\n",
      "template<typename T>\n",
      "static T _abs(const T x) { return  (x > 0 ? x : -x); }\n",
      "\n",
      "// 最大公約数\n",
      "int64_t gcd(int64_t a, int64_t b) { while (b) { int64_t c = b; b = a % b; a = c; } return a; }\n",
      "// 最小公倍数\n",
      "int64_t lcm(int64_t a, int64_t b) { if (!a || !b) return 0; return a * b / gcd(a, b); }\n",
      "\n",
      "// 多次元 std::vector 生成\n",
      "template<class T>\n",
      "vector<T> make_vec(size_t a) { return vector<T>(a); }\n",
      "template<class T, class... Ts>\n",
      "auto make_vec(size_t a, Ts... ts) { return vector<decltype(make_vec<T>(ts...))>(a, make_vec<T>(ts...)); }\n",
      "// ex) auto dp = make_vec<uint64_t>(SIZE + 1, 2, 2);\n",
      "\n",
      "// ■\n",
      "// UINT32_MAX\n",
      "// 4294967295 ≒ 4 * 1e9\n",
      "\n",
      "// ■\n",
      "// 割り算した結果との比較での丸め対処時 \n",
      "// ABC 161 B\n",
      "// https://atcoder.jp/contests/abc161/tasks/abc161_b\n",
      "// double   border = _sum(v, 0 / (double)(4 * m);\n",
      "//            ↓\n",
      "// uint32_t border = (_sum(v, 0) + (4 * m) - 1) / (4 * m);\n",
      "\n",
      "// ■\n",
      "// N の数が与えられた場合の組合せ N * (N - 1) / 2\n",
      "\n",
      "\n",
      "/*************************************************************/\n",
      "// ARC 151\n",
      "// A - Next Alphabet\n",
      "// https://atcoder.jp/contests/abc151/tasks\n",
      "/*\n",
      "\t■問題文\n",
      "\t'z' でない英小文字 C が与えられます。\n",
      "\tアルファベット順で C の次の文字を出力してください。\n",
      "\n",
      "\t■制約\n",
      "\tC は 'z' でない英小文字\n",
      "*/\n",
      "\n",
      "int main()\n",
      "{\n",
      "\tstring s;\n",
      "\tcin >> s;\n",
      "\n",
      "\ts[0]++;\n",
      "\tprintf(\"%s\\n\", s.c_str());\n",
      "\n",
      "\treturn 0;\n",
      "}\n",
      "\n",
      "// プログラムの実行: Ctrl + F5 または [デバッグ] > [デバッグなしで開始] メニュー\n",
      "// プログラムのデバッグ: F5 または [デバッグ] > [デバッグの開始] メニュー\n",
      "\n",
      "// 作業を開始するためのヒント: \n",
      "//    1. ソリューション エクスプローラー ウィンドウを使用してファイルを追加/管理します \n",
      "//   2. チーム エクスプローラー ウィンドウを使用してソース管理に接続します\n",
      "//   3. 出力ウィンドウを使用して、ビルド出力とその他のメッセージを表示します\n",
      "//   4. エラー一覧ウィンドウを使用してエラーを表示します\n",
      "//   5. [プロジェクト] > [新しい項目の追加] と移動して新しいコード ファイルを作成するか、[プロジェクト] > [既存の項目の追加] と移動して既存のコード ファイルをプロジェクトに追加します\n",
      "//   6. 後ほどこのプロジェクトを再び開く場合、[ファイル] > [開く] > [プロジェクト] と移動して .sln ファイルを選択します\n",
      "\n"
     ]
    }
   ],
   "source": [
    "print(val[\"code1\"][11542])"
   ]
  },
  {
   "cell_type": "code",
   "execution_count": 18,
   "id": "3a70f2e2-03a5-4c67-88fe-d8eef4d14cfc",
   "metadata": {},
   "outputs": [
    {
     "name": "stdout",
     "output_type": "stream",
     "text": [
      "#include <iostream>\n",
      "using namespace std;\n",
      "int main() {\n",
      "\tchar c;\n",
      "\tcin >> c;\n",
      "\tcout << ++c;\n",
      "}\n"
     ]
    }
   ],
   "source": [
    "print(val[\"code2\"][11542])"
   ]
  },
  {
   "cell_type": "markdown",
   "id": "0482fb21-8acb-4dc4-a40f-e59958c4cc80",
   "metadata": {},
   "source": [
    "주석, #include, #define이 많이 들어갔다. 주석은 그냥 쳐내도 되겠지만, #include와 #define은 의미 있는 정보이다. 어떻게 다뤄야 할까?  \n",
    "나중에 어셈블리어로 바꿨을 땐 #include, #define, class, function을 다 구분해서 각각 유사도를 검사할 것므로 괜찮을 것이다.\n",
    "지금은 데이터 살펴보기 단계이므로 #들을 어떻게 처리해야 할지는 그만 고민하고 넘어가자. 코드 유사도에 따른 길이 차이 분석은 여기서 끝."
   ]
  },
  {
   "cell_type": "markdown",
   "id": "2d4ca378-8ea0-4b05-8bf4-3008944edff7",
   "metadata": {},
   "source": [
    "## 목적 정의"
   ]
  },
  {
   "cell_type": "markdown",
   "id": "a0894e83-369c-42a5-8ecf-6b283063427b",
   "metadata": {},
   "source": [
    "두 코드간 유사성을 판단 -> 서로 동일한 문제를 해결하는지를 판단"
   ]
  },
  {
   "cell_type": "markdown",
   "id": "efd4a478-40da-4d7e-baee-2a4cb426bb03",
   "metadata": {},
   "source": [
    "## 특별한 점"
   ]
  },
  {
   "cell_type": "markdown",
   "id": "c45d89cf-17c5-44a6-89cb-e608ce3f2b3e",
   "metadata": {},
   "source": [
    "1. c++코드임\n",
    "2. "
   ]
  },
  {
   "cell_type": "markdown",
   "id": "474fb6bc-7189-45f6-909f-bbff7d7bd34f",
   "metadata": {},
   "source": [
    "## 아이디어"
   ]
  },
  {
   "cell_type": "markdown",
   "id": "f7e7a9e7-93ea-4e29-abb2-d3d977eac03e",
   "metadata": {},
   "source": [
    "1. 전처리: 주석을 모두 제거, 헤더를 모두 제거, class - function - 기타 순서대로 정렬\n",
    "2. "
   ]
  },
  {
   "cell_type": "markdown",
   "id": "7d957407-4508-4d1f-a19d-d8da3f896caa",
   "metadata": {},
   "source": [
    "## 해결해야할 것"
   ]
  },
  {
   "cell_type": "markdown",
   "id": "2ded1bef-98d0-40c7-806b-60e9c6f0750f",
   "metadata": {},
   "source": [
    "1. 어떻게 주석을 판단할 것인지, 그리고 판단된 주석을 어떻게 제거할 것인지."
   ]
  },
  {
   "cell_type": "markdown",
   "id": "907eaaf5-eecc-46d1-a4f5-036b89c78cd1",
   "metadata": {},
   "source": [
    "# 모델 후보"
   ]
  },
  {
   "cell_type": "markdown",
   "id": "eded435e-237b-4c97-a7b3-37b42620ad25",
   "metadata": {},
   "source": [
    "1. [SentenceBERT, sentence-transformer](https://velog.io/@jaehyeong/Basic-NLP-sentence-transformers-%EB%9D%BC%EC%9D%B4%EB%B8%8C%EB%9F%AC%EB%A6%AC%EB%A5%BC-%ED%99%9C%EC%9A%A9%ED%95%9C-SBERT-%ED%95%99%EC%8A%B5-%EB%B0%A9%EB%B2%95)  \n"
   ]
  },
  {
   "cell_type": "markdown",
   "id": "0d5f3ae6-de80-4c3f-9272-cfec70606788",
   "metadata": {},
   "source": [
    "# 데이터 전처리"
   ]
  },
  {
   "cell_type": "markdown",
   "id": "5dc49d6c-b589-4f2e-951c-08d23bf68535",
   "metadata": {},
   "source": [
    "### 주석 제거"
   ]
  },
  {
   "cell_type": "code",
   "execution_count": 90,
   "id": "ff013583-c711-4bfc-a40a-89c66129e720",
   "metadata": {},
   "outputs": [],
   "source": [
    "val_copy = val[['code1', 'code2', 'similar']]"
   ]
  },
  {
   "cell_type": "code",
   "execution_count": 20,
   "id": "405b725b-223c-4843-9da7-3622d3552352",
   "metadata": {},
   "outputs": [
    {
     "data": {
      "text/html": [
       "<div>\n",
       "<style scoped>\n",
       "    .dataframe tbody tr th:only-of-type {\n",
       "        vertical-align: middle;\n",
       "    }\n",
       "\n",
       "    .dataframe tbody tr th {\n",
       "        vertical-align: top;\n",
       "    }\n",
       "\n",
       "    .dataframe thead th {\n",
       "        text-align: right;\n",
       "    }\n",
       "</style>\n",
       "<table border=\"1\" class=\"dataframe\">\n",
       "  <thead>\n",
       "    <tr style=\"text-align: right;\">\n",
       "      <th></th>\n",
       "      <th>code1</th>\n",
       "      <th>code2</th>\n",
       "      <th>similar</th>\n",
       "    </tr>\n",
       "  </thead>\n",
       "  <tbody>\n",
       "    <tr>\n",
       "      <th>0</th>\n",
       "      <td>#include &lt;bits/stdc++.h&gt;\\n\\nusing namespace st...</td>\n",
       "      <td>#include &lt;algorithm&gt;\\n#include &lt;bitset&gt;\\n#incl...</td>\n",
       "      <td>0</td>\n",
       "    </tr>\n",
       "    <tr>\n",
       "      <th>1</th>\n",
       "      <td>#include &lt;iostream&gt;\\n\\nusing namespace std;\\n\\...</td>\n",
       "      <td>#include &lt;iostream&gt;\\n#include &lt;string&gt;\\nusing ...</td>\n",
       "      <td>1</td>\n",
       "    </tr>\n",
       "    <tr>\n",
       "      <th>2</th>\n",
       "      <td>#include &lt;iostream&gt;\\n#include &lt;vector&gt;\\nusing ...</td>\n",
       "      <td>#include &lt;cstdio&gt;\\n#include &lt;cstdlib&gt;\\n#includ...</td>\n",
       "      <td>1</td>\n",
       "    </tr>\n",
       "    <tr>\n",
       "      <th>3</th>\n",
       "      <td>#include &lt;bits/stdc++.h&gt;\\n#include &lt;unordered_...</td>\n",
       "      <td>#include &lt;bits/stdc++.h&gt;\\nusing namespace std;...</td>\n",
       "      <td>0</td>\n",
       "    </tr>\n",
       "    <tr>\n",
       "      <th>4</th>\n",
       "      <td>#include &lt;bits/stdc++.h&gt;\\ntypedef long long ll...</td>\n",
       "      <td>#include \"bits/stdc++.h\"\\n#define rep(i,n) for...</td>\n",
       "      <td>1</td>\n",
       "    </tr>\n",
       "    <tr>\n",
       "      <th>...</th>\n",
       "      <td>...</td>\n",
       "      <td>...</td>\n",
       "      <td>...</td>\n",
       "    </tr>\n",
       "    <tr>\n",
       "      <th>19995</th>\n",
       "      <td>#include &lt;bits/stdc++.h&gt;\\nusing namespace std;...</td>\n",
       "      <td>#include&lt;iostream&gt;\\nusing namespace std;\\n\\nin...</td>\n",
       "      <td>0</td>\n",
       "    </tr>\n",
       "    <tr>\n",
       "      <th>19996</th>\n",
       "      <td>#include &lt;bits/stdc++.h&gt;\\n\\n#define For(i, j, ...</td>\n",
       "      <td>#include&lt;bits/stdc++.h&gt;\\n#include &lt;ext/pb_ds/a...</td>\n",
       "      <td>0</td>\n",
       "    </tr>\n",
       "    <tr>\n",
       "      <th>19997</th>\n",
       "      <td>#include &lt;bits/stdc++.h&gt;\\n#define rep(i, a, n)...</td>\n",
       "      <td>#include&lt;iostream&gt;\\nusing namespace  std;\\nint...</td>\n",
       "      <td>1</td>\n",
       "    </tr>\n",
       "    <tr>\n",
       "      <th>19998</th>\n",
       "      <td>#include &lt;bits/stdc++.h&gt;\\n#define MOD 10000000...</td>\n",
       "      <td>#include &lt;bits/stdc++.h&gt;\\n\\nusing namespace st...</td>\n",
       "      <td>1</td>\n",
       "    </tr>\n",
       "    <tr>\n",
       "      <th>19999</th>\n",
       "      <td>#include &lt;vector&gt;\\n#include &lt;algorithm&gt;\\n#incl...</td>\n",
       "      <td>#include&lt;cstdio&gt;\\n#include&lt;cstring&gt;\\n\\nint mai...</td>\n",
       "      <td>0</td>\n",
       "    </tr>\n",
       "  </tbody>\n",
       "</table>\n",
       "<p>20000 rows × 3 columns</p>\n",
       "</div>"
      ],
      "text/plain": [
       "                                                   code1  \\\n",
       "0      #include <bits/stdc++.h>\\n\\nusing namespace st...   \n",
       "1      #include <iostream>\\n\\nusing namespace std;\\n\\...   \n",
       "2      #include <iostream>\\n#include <vector>\\nusing ...   \n",
       "3      #include <bits/stdc++.h>\\n#include <unordered_...   \n",
       "4      #include <bits/stdc++.h>\\ntypedef long long ll...   \n",
       "...                                                  ...   \n",
       "19995  #include <bits/stdc++.h>\\nusing namespace std;...   \n",
       "19996  #include <bits/stdc++.h>\\n\\n#define For(i, j, ...   \n",
       "19997  #include <bits/stdc++.h>\\n#define rep(i, a, n)...   \n",
       "19998  #include <bits/stdc++.h>\\n#define MOD 10000000...   \n",
       "19999  #include <vector>\\n#include <algorithm>\\n#incl...   \n",
       "\n",
       "                                                   code2  similar  \n",
       "0      #include <algorithm>\\n#include <bitset>\\n#incl...        0  \n",
       "1      #include <iostream>\\n#include <string>\\nusing ...        1  \n",
       "2      #include <cstdio>\\n#include <cstdlib>\\n#includ...        1  \n",
       "3      #include <bits/stdc++.h>\\nusing namespace std;...        0  \n",
       "4      #include \"bits/stdc++.h\"\\n#define rep(i,n) for...        1  \n",
       "...                                                  ...      ...  \n",
       "19995  #include<iostream>\\nusing namespace std;\\n\\nin...        0  \n",
       "19996  #include<bits/stdc++.h>\\n#include <ext/pb_ds/a...        0  \n",
       "19997  #include<iostream>\\nusing namespace  std;\\nint...        1  \n",
       "19998  #include <bits/stdc++.h>\\n\\nusing namespace st...        1  \n",
       "19999  #include<cstdio>\\n#include<cstring>\\n\\nint mai...        0  \n",
       "\n",
       "[20000 rows x 3 columns]"
      ]
     },
     "execution_count": 20,
     "metadata": {},
     "output_type": "execute_result"
    }
   ],
   "source": [
    "val_copy"
   ]
  },
  {
   "cell_type": "markdown",
   "id": "7d607991-5572-4c76-a7fe-9f144438110a",
   "metadata": {},
   "source": [
    "코드를 원본으로 보자"
   ]
  },
  {
   "cell_type": "code",
   "execution_count": 21,
   "id": "0cde9929-2050-4c32-a5fa-3cc50bce772e",
   "metadata": {},
   "outputs": [
    {
     "data": {
      "text/plain": [
       "'#include <algorithm>\\n#include <bitset>\\n#include <complex>\\n#include <deque>\\n#include <exception>\\n#include <fstream>\\n#include <functional>\\n#include <iomanip>\\n#include <ios>\\n#include <iosfwd>\\n#include <iostream>\\n#include <istream>\\n#include <iterator>\\n#include <limits>\\n#include <list>\\n#include <locale>\\n#include <map>\\n#include <memory>\\n#include <new>\\n#include <numeric>\\n#include <ostream>\\n#include <queue>\\n#include <set>\\n#include <sstream>\\n#include <stack>\\n#include <stdexcept>\\n#include <streambuf>\\n#include <string>\\n#include <typeinfo>\\n#include <utility>\\n#include <valarray>\\n#include <vector>\\n#include <climits>\\n#include <cstring>\\n\\n#define rep(i, m, n) for(int i=int(m);i<int(n);i++)\\n#define all(c) begin(c),end(c)\\n\\ntemplate<typename T1, typename T2>\\ninline void chmin(T1 &a, T2 b) { if (a > b) a = b; }\\n\\ntemplate<typename T1, typename T2>\\ninline void chmax(T1 &a, T2 b) { if (a < b) a = b; }\\n\\n//改造\\ntypedef long long int ll;\\nusing namespace std;\\n#define INF (1 << 30) - 1\\n#define INFl (ll)5e15\\n#define DEBUG 0 //デバッグする時1にしてね\\n#define dump(x)  cerr << #x << \" = \" << (x) << endl\\n#define MOD 1000000007\\n\\n\\n//ここから編集する\\nclass Solve {\\npublic:\\n    void input() {\\n\\n    }\\n\\n    void solve() {\\n        input();\\n        int n;\\n        cin >> n;\\n        if (n == 0) return;\\n\\n        vector<int> v(n);\\n        rep(i, 0, n) cin >> v[i];\\n        sort(all(v));\\n\\n        int ans = v[1] - v[0];\\n        for (int i = 0; i + 1 < n; ++i) {\\n            chmin(ans, v[i + 1] - v[i]);\\n        }\\n        cout << ans << endl;\\n        solve();\\n    }\\n};\\n\\n\\nint main() {\\n    cin.tie(0);\\n    ios::sync_with_stdio(false);\\n    cout << fixed << setprecision(10);\\n\\n    Solve().solve();\\n\\n\\n    return 0;\\n}\\n\\n'"
      ]
     },
     "execution_count": 21,
     "metadata": {},
     "output_type": "execute_result"
    }
   ],
   "source": [
    "val_copy['code2'][0]"
   ]
  },
  {
   "cell_type": "code",
   "execution_count": 22,
   "id": "76ffc670-e26a-4426-9545-204cea0661c1",
   "metadata": {},
   "outputs": [
    {
     "data": {
      "text/plain": [
       "'#'"
      ]
     },
     "execution_count": 22,
     "metadata": {},
     "output_type": "execute_result"
    }
   ],
   "source": [
    "val_copy['code2'][0][0]"
   ]
  },
  {
   "cell_type": "markdown",
   "id": "aef2a979-a7ff-4d6f-b4d6-0a023339f28b",
   "metadata": {},
   "source": [
    "주석은 //뒤에 오며 \\n 전까지 이어진다. 이를 제거해주자."
   ]
  },
  {
   "cell_type": "code",
   "execution_count": 73,
   "id": "7a9833f0-3d5b-4177-b34e-c3e95052cd79",
   "metadata": {},
   "outputs": [],
   "source": [
    "txt = val_copy['code2'][0]\n",
    "two_geul = [0, 0]\n",
    "juseok_ind = [len(txt)]\n",
    "julbakkum_ind = [0]\n",
    "juseok_flag = False\n",
    "for i in range(len(txt)):\n",
    "    two_geul[0] = two_geul[1]\n",
    "    two_geul[1] = txt[i]\n",
    "    if two_geul == ['/', '/']:\n",
    "        juseok_ind.insert(juseok_ind.index(len(txt)), i-1)\n",
    "        juseok_flag = True\n",
    "    if juseok_flag:\n",
    "        if two_geul[1] == '\\n':\n",
    "            julbakkum_ind.append(i)\n",
    "            juseok_flag = False"
   ]
  },
  {
   "cell_type": "code",
   "execution_count": 74,
   "id": "2efcf3ce-eb5b-4bc7-a14e-f52eb1c4ce1d",
   "metadata": {},
   "outputs": [
    {
     "data": {
      "text/plain": [
       "[892, 1008, 1100, 1664]"
      ]
     },
     "execution_count": 74,
     "metadata": {},
     "output_type": "execute_result"
    }
   ],
   "source": [
    "juseok_ind"
   ]
  },
  {
   "cell_type": "code",
   "execution_count": 75,
   "id": "88a41dc8-5f93-42de-af90-94ae8e0dfae9",
   "metadata": {},
   "outputs": [
    {
     "data": {
      "text/plain": [
       "[0, 896, 1022, 1110]"
      ]
     },
     "execution_count": 75,
     "metadata": {},
     "output_type": "execute_result"
    }
   ],
   "source": [
    "julbakkum_ind"
   ]
  },
  {
   "cell_type": "code",
   "execution_count": 76,
   "id": "d72604e0-8eef-4add-b9cd-1fd7d5e13394",
   "metadata": {},
   "outputs": [
    {
     "data": {
      "text/plain": [
       "'\\n'"
      ]
     },
     "execution_count": 76,
     "metadata": {},
     "output_type": "execute_result"
    }
   ],
   "source": [
    "val_copy['code2'][0][896]"
   ]
  },
  {
   "cell_type": "code",
   "execution_count": 77,
   "id": "a9aa91eb-e6af-43b3-a70b-df3249aeaaf0",
   "metadata": {},
   "outputs": [
    {
     "name": "stdout",
     "output_type": "stream",
     "text": [
      "#include <algorithm>\n",
      "#include <bitset>\n",
      "#include <complex>\n",
      "#include <deque>\n",
      "#include <exception>\n",
      "#include <fstream>\n",
      "#include <functional>\n",
      "#include <iomanip>\n",
      "#include <ios>\n",
      "#include <iosfwd>\n",
      "#include <iostream>\n",
      "#include <istream>\n",
      "#include <iterator>\n",
      "#include <limits>\n",
      "#include <list>\n",
      "#include <locale>\n",
      "#include <map>\n",
      "#include <memory>\n",
      "#include <new>\n",
      "#include <numeric>\n",
      "#include <ostream>\n",
      "#include <queue>\n",
      "#include <set>\n",
      "#include <sstream>\n",
      "#include <stack>\n",
      "#include <stdexcept>\n",
      "#include <streambuf>\n",
      "#include <string>\n",
      "#include <typeinfo>\n",
      "#include <utility>\n",
      "#include <valarray>\n",
      "#include <vector>\n",
      "#include <climits>\n",
      "#include <cstring>\n",
      "\n",
      "#define rep(i, m, n) for(int i=int(m);i<int(n);i++)\n",
      "#define all(c) begin(c),end(c)\n",
      "\n",
      "template<typename T1, typename T2>\n",
      "inline void chmin(T1 &a, T2 b) { if (a > b) a = b; }\n",
      "\n",
      "template<typename T1, typename T2>\n",
      "inline void chmax(T1 &a, T2 b) { if (a < b) a = b; }\n",
      "\n",
      "\n",
      "typedef long long int ll;\n",
      "using namespace std;\n",
      "#define INF (1 << 30) - 1\n",
      "#define INFl (ll)5e15\n",
      "#define DEBUG 0 \n",
      "#define dump(x)  cerr << #x << \" = \" << (x) << endl\n",
      "#define MOD 1000000007\n",
      "\n",
      "\n",
      "\n",
      "class Solve {\n",
      "public:\n",
      "    void input() {\n",
      "\n",
      "    }\n",
      "\n",
      "    void solve() {\n",
      "        input();\n",
      "        int n;\n",
      "        cin >> n;\n",
      "        if (n == 0) return;\n",
      "\n",
      "        vector<int> v(n);\n",
      "        rep(i, 0, n) cin >> v[i];\n",
      "        sort(all(v));\n",
      "\n",
      "        int ans = v[1] - v[0];\n",
      "        for (int i = 0; i + 1 < n; ++i) {\n",
      "            chmin(ans, v[i + 1] - v[i]);\n",
      "        }\n",
      "        cout << ans << endl;\n",
      "        solve();\n",
      "    }\n",
      "};\n",
      "\n",
      "\n",
      "int main() {\n",
      "    cin.tie(0);\n",
      "    ios::sync_with_stdio(false);\n",
      "    cout << fixed << setprecision(10);\n",
      "\n",
      "    Solve().solve();\n",
      "\n",
      "\n",
      "    return 0;\n",
      "}\n",
      "\n",
      "\n"
     ]
    }
   ],
   "source": [
    "new_txt = \"\"\n",
    "for i in range(len(juseok_ind)):\n",
    "    new_txt += (txt[julbakkum_ind[i]:juseok_ind[i]])\n",
    "print(new_txt)"
   ]
  },
  {
   "cell_type": "code",
   "execution_count": 78,
   "id": "f7a07330-ed31-4b30-993b-bea2b5df4247",
   "metadata": {},
   "outputs": [
    {
     "name": "stdout",
     "output_type": "stream",
     "text": [
      "#include <algorithm>\n",
      "#include <bitset>\n",
      "#include <complex>\n",
      "#include <deque>\n",
      "#include <exception>\n",
      "#include <fstream>\n",
      "#include <functional>\n",
      "#include <iomanip>\n",
      "#include <ios>\n",
      "#include <iosfwd>\n",
      "#include <iostream>\n",
      "#include <istream>\n",
      "#include <iterator>\n",
      "#include <limits>\n",
      "#include <list>\n",
      "#include <locale>\n",
      "#include <map>\n",
      "#include <memory>\n",
      "#include <new>\n",
      "#include <numeric>\n",
      "#include <ostream>\n",
      "#include <queue>\n",
      "#include <set>\n",
      "#include <sstream>\n",
      "#include <stack>\n",
      "#include <stdexcept>\n",
      "#include <streambuf>\n",
      "#include <string>\n",
      "#include <typeinfo>\n",
      "#include <utility>\n",
      "#include <valarray>\n",
      "#include <vector>\n",
      "#include <climits>\n",
      "#include <cstring>\n",
      "\n",
      "#define rep(i, m, n) for(int i=int(m);i<int(n);i++)\n",
      "#define all(c) begin(c),end(c)\n",
      "\n",
      "template<typename T1, typename T2>\n",
      "inline void chmin(T1 &a, T2 b) { if (a > b) a = b; }\n",
      "\n",
      "template<typename T1, typename T2>\n",
      "inline void chmax(T1 &a, T2 b) { if (a < b) a = b; }\n",
      "\n",
      "//改造\n",
      "typedef long long int ll;\n",
      "using namespace std;\n",
      "#define INF (1 << 30) - 1\n",
      "#define INFl (ll)5e15\n",
      "#define DEBUG 0 //デバッグする時1にしてね\n",
      "#define dump(x)  cerr << #x << \" = \" << (x) << endl\n",
      "#define MOD 1000000007\n",
      "\n",
      "\n",
      "//ここから編集する\n",
      "class Solve {\n",
      "public:\n",
      "    void input() {\n",
      "\n",
      "    }\n",
      "\n",
      "    void solve() {\n",
      "        input();\n",
      "        int n;\n",
      "        cin >> n;\n",
      "        if (n == 0) return;\n",
      "\n",
      "        vector<int> v(n);\n",
      "        rep(i, 0, n) cin >> v[i];\n",
      "        sort(all(v));\n",
      "\n",
      "        int ans = v[1] - v[0];\n",
      "        for (int i = 0; i + 1 < n; ++i) {\n",
      "            chmin(ans, v[i + 1] - v[i]);\n",
      "        }\n",
      "        cout << ans << endl;\n",
      "        solve();\n",
      "    }\n",
      "};\n",
      "\n",
      "\n",
      "int main() {\n",
      "    cin.tie(0);\n",
      "    ios::sync_with_stdio(false);\n",
      "    cout << fixed << setprecision(10);\n",
      "\n",
      "    Solve().solve();\n",
      "\n",
      "\n",
      "    return 0;\n",
      "}\n",
      "\n",
      "\n"
     ]
    }
   ],
   "source": [
    "print(val_copy['code2'][0])"
   ]
  },
  {
   "cell_type": "markdown",
   "id": "e6ab935f-7572-4494-8913-915d4a926338",
   "metadata": {},
   "source": [
    "주석이 잘 정리되었다. val_copy의 모든 코드에 대해 같은 작업을 수행하고 저장해주자.\n",
    "\n",
    "주석으로 끝나는 코드(// 뒤에 \\n이 없음)도 고려해야 한다. 수정하겠다."
   ]
  },
  {
   "cell_type": "code",
   "execution_count": 80,
   "id": "e21f02be-3903-42a7-babd-2a1e44a87ff2",
   "metadata": {},
   "outputs": [],
   "source": [
    "import warnings\n",
    "warnings.filterwarnings('ignore')"
   ]
  },
  {
   "cell_type": "code",
   "execution_count": 85,
   "id": "fa56394c-5e44-4c77-b8b5-7ccb7c8b723c",
   "metadata": {},
   "outputs": [
    {
     "ename": "IndexError",
     "evalue": "list index out of range",
     "output_type": "error",
     "traceback": [
      "\u001b[1;31m---------------------------------------------------------------------------\u001b[0m",
      "\u001b[1;31mIndexError\u001b[0m                                Traceback (most recent call last)",
      "Cell \u001b[1;32mIn[85], line 46\u001b[0m\n\u001b[0;32m     44\u001b[0m \u001b[38;5;28;01mif\u001b[39;00m \u001b[38;5;28mlen\u001b[39m(juseok_ind) \u001b[38;5;241m>\u001b[39m\u001b[38;5;241m=\u001b[39m \u001b[38;5;241m2\u001b[39m:\n\u001b[0;32m     45\u001b[0m     \u001b[38;5;28;01mfor\u001b[39;00m k \u001b[38;5;129;01min\u001b[39;00m \u001b[38;5;28mrange\u001b[39m(\u001b[38;5;28mlen\u001b[39m(juseok_ind)):\n\u001b[1;32m---> 46\u001b[0m         new_txt \u001b[38;5;241m+\u001b[39m\u001b[38;5;241m=\u001b[39m (txt[\u001b[43mjulbakkum_ind\u001b[49m\u001b[43m[\u001b[49m\u001b[43mk\u001b[49m\u001b[43m]\u001b[49m:juseok_ind[k]])\n\u001b[0;32m     47\u001b[0m val_copy[\u001b[38;5;124m'\u001b[39m\u001b[38;5;124mcode2\u001b[39m\u001b[38;5;124m'\u001b[39m][i] \u001b[38;5;241m=\u001b[39m new_txt\n",
      "\u001b[1;31mIndexError\u001b[0m: list index out of range"
     ]
    }
   ],
   "source": [
    "for i in range(len(val_copy)):\n",
    "    txt = val_copy['code1'][i]\n",
    "    two_geul = [0, 0]\n",
    "    juseok_ind = [len(txt)]\n",
    "    julbakkum_ind = [0]\n",
    "    juseok_flag = False\n",
    "    for j in range(len(txt)):\n",
    "        two_geul[0] = two_geul[1]\n",
    "        two_geul[1] = txt[j]\n",
    "        if two_geul == ['/', '/']:\n",
    "            juseok_ind.insert(juseok_ind.index(len(txt)), j-1)\n",
    "            juseok_flag = True\n",
    "        if juseok_flag:\n",
    "            if i == len(txt):\n",
    "                julbakkum_ind.append(0)\n",
    "            elif two_geul[1] == '\\n':\n",
    "                julbakkum_ind.append(j)\n",
    "                juseok_flag = False\n",
    "    new_txt = \"\"\n",
    "    if len(juseok_ind) >= 2:\n",
    "        for k in range(len(juseok_ind)):\n",
    "            new_txt += (txt[julbakkum_ind[k]:juseok_ind[k]])\n",
    "    val_copy['code1'][i] = new_txt\n",
    "\n",
    "    \n",
    "    txt = val_copy['code2'][i]\n",
    "    two_geul = [0, 0]\n",
    "    juseok_ind = [len(txt)]\n",
    "    julbakkum_ind = [0]\n",
    "    juseok_flag = False\n",
    "    for j in range(len(txt)):\n",
    "        two_geul[0] = two_geul[1]\n",
    "        two_geul[1] = txt[j]\n",
    "        if two_geul == ['/', '/']:\n",
    "            juseok_ind.insert(juseok_ind.index(len(txt)), j-1)\n",
    "            juseok_flag = True\n",
    "        if juseok_flag:\n",
    "            if i == len(txt):\n",
    "                julbakkum_ind.append(0)\n",
    "            elif two_geul[1] == '\\n':\n",
    "                julbakkum_ind.append(j)\n",
    "                juseok_flag = False\n",
    "    new_txt = \"\"\n",
    "    if len(juseok_ind) >= 2:\n",
    "        for k in range(len(juseok_ind)):\n",
    "            new_txt += (txt[julbakkum_ind[k]:juseok_ind[k]])\n",
    "    val_copy['code2'][i] = new_txt"
   ]
  },
  {
   "cell_type": "code",
   "execution_count": 91,
   "id": "5ddcddcb-9a33-48b7-b6a7-352c32e58f1c",
   "metadata": {},
   "outputs": [],
   "source": [
    "for i in range(len(val_copy)):\n",
    "    txt = val_copy['code1'][i]\n",
    "    two_geul = [0, 0]\n",
    "    juseok_flag = False\n",
    "    new_txt = \"\"\n",
    "    for j in range(len(txt)):\n",
    "        two_geul[0] = two_geul[1]\n",
    "        two_geul[1] = txt[j]\n",
    "        if two_geul == ['/', '/']:\n",
    "            new_txt = new_txt[:-1]\n",
    "            juseok_flag = True\n",
    "        if juseok_flag:\n",
    "            if two_geul[1] == '\\n':\n",
    "                new_txt += txt[j]\n",
    "                juseok_flag = False\n",
    "        else:\n",
    "            new_txt += txt[j]\n",
    "    val_copy['code1'][i] = new_txt"
   ]
  },
  {
   "cell_type": "code",
   "execution_count": 92,
   "id": "2f2b0d8c-57ab-4a81-aebe-1ec34365ab94",
   "metadata": {},
   "outputs": [
    {
     "name": "stdout",
     "output_type": "stream",
     "text": [
      "\n",
      "\n",
      "\n",
      "\n",
      "\n",
      "#include <iostream>\n",
      "#include <cmath>\n",
      "#include <climits>\n",
      "#include <stdio.h>\n",
      "#include <stdlib.h>\n",
      "#include <vector>\n",
      "#include <string>\n",
      "#include <stack>\n",
      "#include <algorithm>\n",
      "#include <map>\n",
      "#include <numeric>\n",
      "#include <set>\n",
      "#include <queue>\n",
      "#include <bitset>\n",
      "using namespace std;\n",
      "\n",
      "#define ll long long\n",
      "#define ld long double\n",
      "#define pi 3.14159265359;\n",
      "\n",
      "\n",
      "\n",
      "#define _sort(v,type,order) do { sort(v.begin(),v.end(),order<type>()); } while(0)\n",
      "\n",
      "\n",
      "#define _sum(v,default_value) accumulate(v.begin(),v.end(),default_value )\n",
      "\n",
      "#define _max_element(v) max_element(v.begin(),v.end())\n",
      "\n",
      "#define _min_element(v) min_element(v.begin(),v.end())\n",
      "\n",
      "#define _max_element_number(v) distance(v.begin(),max_element(v.begin(),v.end()))\n",
      "\n",
      "#define _count(v,value) count(v.begin(),v.end(),value)\n",
      "\n",
      "\n",
      "\n",
      "\n",
      "#define _round(v) round(v)\n",
      "\n",
      "#define _square(v) pow(v,2)\n",
      "#define _cube(v)   pow(v,3)\n",
      "\n",
      "#define _max(x,y) max(x,y)\n",
      "#define _min(x,y) min(x,y)\n",
      "\n",
      "#define _stringtoi(s) stoi(s)\n",
      "\n",
      "#define _sqrt(x) sqrt(x)\n",
      "\n",
      "#define _ceil(x) ceil(x)\n",
      "\n",
      "#define _lower_bound(v,min) lower_bound(v.begin(), v.end(), min)\n",
      "\n",
      "#define _upper_bound(v,min) upper_bound(v.begin(), v.end(), min)\n",
      "\n",
      "\n",
      "\n",
      "\n",
      "\n",
      "#define _next_permutation(v) do {   \\\n",
      "\tfor (auto num : v) {            \\\n",
      "\t\tprintf(\"%d \", num);         \\\n",
      "\t}                               \\\n",
      "\tprintf(\"\\n\");                   \\\n",
      "} while (next_permutation(v.begin(), v.end()))\n",
      "\n",
      "\n",
      "template<typename T>\n",
      "static T _abs(const T x) { return  (x > 0 ? x : -x); }\n",
      "\n",
      "\n",
      "int64_t gcd(int64_t a, int64_t b) { while (b) { int64_t c = b; b = a % b; a = c; } return a; }\n",
      "\n",
      "int64_t lcm(int64_t a, int64_t b) { if (!a || !b) return 0; return a * b / gcd(a, b); }\n",
      "\n",
      "\n",
      "template<class T>\n",
      "vector<T> make_vec(size_t a) { return vector<T>(a); }\n",
      "template<class T, class... Ts>\n",
      "auto make_vec(size_t a, Ts... ts) { return vector<decltype(make_vec<T>(ts...))>(a, make_vec<T>(ts...)); }\n",
      "\n",
      "\n",
      "\n",
      "\n",
      "\n",
      "\n",
      "\n",
      "\n",
      "\n",
      "\n",
      "\n",
      "\n",
      "\n",
      "\n",
      "\n",
      "\n",
      "\n",
      "/*************************************************************/\n",
      "\n",
      "\n",
      "/*\n",
      "\t■問題文\n",
      "\t'z' でない英小文字 C が与えられます。\n",
      "\tアルファベット順で C の次の文字を出力してください。\n",
      "\n",
      "\t■制約\n",
      "\tC は 'z' でない英小文字\n",
      "*/\n",
      "\n",
      "int main()\n",
      "{\n",
      "\tstring s;\n",
      "\tcin >> s;\n",
      "\n",
      "\ts[0]++;\n",
      "\tprintf(\"%s\\n\", s.c_str());\n",
      "\n",
      "\treturn 0;\n",
      "}\n",
      "\n",
      "\n",
      "\n",
      "\n",
      "\n",
      "\n",
      "\n",
      "\n",
      "\n",
      "\n",
      "\n",
      "\n"
     ]
    }
   ],
   "source": [
    "print(val_copy[\"code1\"][11542])"
   ]
  },
  {
   "cell_type": "code",
   "execution_count": 96,
   "id": "c70d8826-9675-4ec1-b5e3-e8716fdd3810",
   "metadata": {},
   "outputs": [],
   "source": [
    "for i in range(len(val_copy)):\n",
    "    txt = val_copy['code2'][i]\n",
    "    two_geul = [0, 0]\n",
    "    juseok_flag = False\n",
    "    new_txt = \"\"\n",
    "    for j in range(len(txt)):\n",
    "        two_geul[0] = two_geul[1]\n",
    "        two_geul[1] = txt[j]\n",
    "        if two_geul == ['/', '/']:\n",
    "            new_txt = new_txt[:-1]\n",
    "            juseok_flag = True\n",
    "        if juseok_flag:\n",
    "            if two_geul[1] == '\\n':\n",
    "                new_txt += txt[j]\n",
    "                juseok_flag = False\n",
    "        else:\n",
    "            new_txt += txt[j]\n",
    "    val_copy['code2'][i] = new_txt"
   ]
  },
  {
   "cell_type": "markdown",
   "id": "bc0767af-b4f5-403c-b1fe-1ed8af65a019",
   "metadata": {},
   "source": [
    "/**/ 주석문 제거하자"
   ]
  },
  {
   "cell_type": "code",
   "execution_count": 94,
   "id": "8ecb14b9-febc-44d9-94f3-a7c8b248eb7b",
   "metadata": {},
   "outputs": [],
   "source": [
    "for i in range(len(val_copy)):\n",
    "    txt = val_copy['code1'][i]\n",
    "    two_geul = [0, 0]\n",
    "    juseok_flag = False\n",
    "    new_txt = \"\"\n",
    "    for j in range(len(txt)):\n",
    "        two_geul[0] = two_geul[1]\n",
    "        two_geul[1] = txt[j]\n",
    "        if two_geul == ['/', '*']:\n",
    "            new_txt = new_txt[:-1]\n",
    "            juseok_flag = True\n",
    "        if juseok_flag:\n",
    "            if two_geul == ['*', '/']:\n",
    "                juseok_flag = False\n",
    "        else:\n",
    "            new_txt += txt[j]\n",
    "    val_copy['code1'][i] = new_txt"
   ]
  },
  {
   "cell_type": "code",
   "execution_count": 95,
   "id": "4788e6f4-dec1-4faf-80bb-bd1933c0d5a8",
   "metadata": {},
   "outputs": [
    {
     "name": "stdout",
     "output_type": "stream",
     "text": [
      "\n",
      "\n",
      "\n",
      "\n",
      "\n",
      "#include <iostream>\n",
      "#include <cmath>\n",
      "#include <climits>\n",
      "#include <stdio.h>\n",
      "#include <stdlib.h>\n",
      "#include <vector>\n",
      "#include <string>\n",
      "#include <stack>\n",
      "#include <algorithm>\n",
      "#include <map>\n",
      "#include <numeric>\n",
      "#include <set>\n",
      "#include <queue>\n",
      "#include <bitset>\n",
      "using namespace std;\n",
      "\n",
      "#define ll long long\n",
      "#define ld long double\n",
      "#define pi 3.14159265359;\n",
      "\n",
      "\n",
      "\n",
      "#define _sort(v,type,order) do { sort(v.begin(),v.end(),order<type>()); } while(0)\n",
      "\n",
      "\n",
      "#define _sum(v,default_value) accumulate(v.begin(),v.end(),default_value )\n",
      "\n",
      "#define _max_element(v) max_element(v.begin(),v.end())\n",
      "\n",
      "#define _min_element(v) min_element(v.begin(),v.end())\n",
      "\n",
      "#define _max_element_number(v) distance(v.begin(),max_element(v.begin(),v.end()))\n",
      "\n",
      "#define _count(v,value) count(v.begin(),v.end(),value)\n",
      "\n",
      "\n",
      "\n",
      "\n",
      "#define _round(v) round(v)\n",
      "\n",
      "#define _square(v) pow(v,2)\n",
      "#define _cube(v)   pow(v,3)\n",
      "\n",
      "#define _max(x,y) max(x,y)\n",
      "#define _min(x,y) min(x,y)\n",
      "\n",
      "#define _stringtoi(s) stoi(s)\n",
      "\n",
      "#define _sqrt(x) sqrt(x)\n",
      "\n",
      "#define _ceil(x) ceil(x)\n",
      "\n",
      "#define _lower_bound(v,min) lower_bound(v.begin(), v.end(), min)\n",
      "\n",
      "#define _upper_bound(v,min) upper_bound(v.begin(), v.end(), min)\n",
      "\n",
      "\n",
      "\n",
      "\n",
      "\n",
      "#define _next_permutation(v) do {   \\\n",
      "\tfor (auto num : v) {            \\\n",
      "\t\tprintf(\"%d \", num);         \\\n",
      "\t}                               \\\n",
      "\tprintf(\"\\n\");                   \\\n",
      "} while (next_permutation(v.begin(), v.end()))\n",
      "\n",
      "\n",
      "template<typename T>\n",
      "static T _abs(const T x) { return  (x > 0 ? x : -x); }\n",
      "\n",
      "\n",
      "int64_t gcd(int64_t a, int64_t b) { while (b) { int64_t c = b; b = a % b; a = c; } return a; }\n",
      "\n",
      "int64_t lcm(int64_t a, int64_t b) { if (!a || !b) return 0; return a * b / gcd(a, b); }\n",
      "\n",
      "\n",
      "template<class T>\n",
      "vector<T> make_vec(size_t a) { return vector<T>(a); }\n",
      "template<class T, class... Ts>\n",
      "auto make_vec(size_t a, Ts... ts) { return vector<decltype(make_vec<T>(ts...))>(a, make_vec<T>(ts...)); }\n",
      "\n",
      "\n",
      "\n",
      "\n",
      "\n",
      "\n",
      "\n",
      "\n",
      "\n",
      "\n",
      "\n",
      "\n",
      "\n",
      "\n",
      "\n",
      "\n",
      "\n",
      "\n",
      "\n",
      "\n",
      "\n",
      "\n",
      "int main()\n",
      "{\n",
      "\tstring s;\n",
      "\tcin >> s;\n",
      "\n",
      "\ts[0]++;\n",
      "\tprintf(\"%s\\n\", s.c_str());\n",
      "\n",
      "\treturn 0;\n",
      "}\n",
      "\n",
      "\n",
      "\n",
      "\n",
      "\n",
      "\n",
      "\n",
      "\n",
      "\n",
      "\n",
      "\n",
      "\n"
     ]
    }
   ],
   "source": [
    "print(val_copy[\"code1\"][11542])"
   ]
  },
  {
   "cell_type": "code",
   "execution_count": 97,
   "id": "299cedc3-e704-4535-b619-8299677ab5ce",
   "metadata": {},
   "outputs": [],
   "source": [
    "for i in range(len(val_copy)):\n",
    "    txt = val_copy['code2'][i]\n",
    "    two_geul = [0, 0]\n",
    "    juseok_flag = False\n",
    "    new_txt = \"\"\n",
    "    for j in range(len(txt)):\n",
    "        two_geul[0] = two_geul[1]\n",
    "        two_geul[1] = txt[j]\n",
    "        if two_geul == ['/', '*']:\n",
    "            new_txt = new_txt[:-1]\n",
    "            juseok_flag = True\n",
    "        if juseok_flag:\n",
    "            if two_geul == ['*', '/']:\n",
    "                juseok_flag = False\n",
    "        else:\n",
    "            new_txt += txt[j]\n",
    "    val_copy['code2'][i] = new_txt"
   ]
  },
  {
   "cell_type": "markdown",
   "id": "ff7164f0-33af-4bd2-85aa-60431f99dd8c",
   "metadata": {},
   "source": [
    "#으로 시작하는거 #define 남기고 다 지우고, template, using namespace std;, vector, auto 다 위로 모으고 한꺼번에 다뤄주자."
   ]
  },
  {
   "cell_type": "code",
   "execution_count": 98,
   "id": "53c03af2-ee91-4be5-abaf-6513a7fc0e5b",
   "metadata": {},
   "outputs": [],
   "source": [
    "for i in range(len(val_copy)):\n",
    "    txt = val_copy['code1'][i]\n",
    "    two_geul = [0, 0]\n",
    "    shap_flag = False\n",
    "    new_txt = \"\"\n",
    "    for j in range(len(txt)):\n",
    "        two_geul[0] = two_geul[1]\n",
    "        two_geul[1] = txt[j]\n",
    "        if two_geul[0] == '#':\n",
    "            if two_geul[1] != 'd':\n",
    "                new_txt = new_txt[:-1]\n",
    "                shap_flag = True\n",
    "        if shap_flag:\n",
    "            if two_geul[1] == '\\n':\n",
    "                new_txt += txt[j]\n",
    "                shap_flag = False\n",
    "        else:\n",
    "            new_txt += txt[j]\n",
    "    val_copy['code1'][i] = new_txt"
   ]
  },
  {
   "cell_type": "code",
   "execution_count": 99,
   "id": "9ae79697-5504-46de-b100-be4b5a3605ee",
   "metadata": {},
   "outputs": [
    {
     "name": "stdout",
     "output_type": "stream",
     "text": [
      "\n",
      "\n",
      "\n",
      "\n",
      "\n",
      "\n",
      "\n",
      "\n",
      "\n",
      "\n",
      "\n",
      "\n",
      "\n",
      "\n",
      "\n",
      "\n",
      "\n",
      "\n",
      "\n",
      "using namespace std;\n",
      "\n",
      "#define ll long long\n",
      "#define ld long double\n",
      "#define pi 3.14159265359;\n",
      "\n",
      "\n",
      "\n",
      "#define _sort(v,type,order) do { sort(v.begin(),v.end(),order<type>()); } while(0)\n",
      "\n",
      "\n",
      "#define _sum(v,default_value) accumulate(v.begin(),v.end(),default_value )\n",
      "\n",
      "#define _max_element(v) max_element(v.begin(),v.end())\n",
      "\n",
      "#define _min_element(v) min_element(v.begin(),v.end())\n",
      "\n",
      "#define _max_element_number(v) distance(v.begin(),max_element(v.begin(),v.end()))\n",
      "\n",
      "#define _count(v,value) count(v.begin(),v.end(),value)\n",
      "\n",
      "\n",
      "\n",
      "\n",
      "#define _round(v) round(v)\n",
      "\n",
      "#define _square(v) pow(v,2)\n",
      "#define _cube(v)   pow(v,3)\n",
      "\n",
      "#define _max(x,y) max(x,y)\n",
      "#define _min(x,y) min(x,y)\n",
      "\n",
      "#define _stringtoi(s) stoi(s)\n",
      "\n",
      "#define _sqrt(x) sqrt(x)\n",
      "\n",
      "#define _ceil(x) ceil(x)\n",
      "\n",
      "#define _lower_bound(v,min) lower_bound(v.begin(), v.end(), min)\n",
      "\n",
      "#define _upper_bound(v,min) upper_bound(v.begin(), v.end(), min)\n",
      "\n",
      "\n",
      "\n",
      "\n",
      "\n",
      "#define _next_permutation(v) do {   \\\n",
      "\tfor (auto num : v) {            \\\n",
      "\t\tprintf(\"%d \", num);         \\\n",
      "\t}                               \\\n",
      "\tprintf(\"\\n\");                   \\\n",
      "} while (next_permutation(v.begin(), v.end()))\n",
      "\n",
      "\n",
      "template<typename T>\n",
      "static T _abs(const T x) { return  (x > 0 ? x : -x); }\n",
      "\n",
      "\n",
      "int64_t gcd(int64_t a, int64_t b) { while (b) { int64_t c = b; b = a % b; a = c; } return a; }\n",
      "\n",
      "int64_t lcm(int64_t a, int64_t b) { if (!a || !b) return 0; return a * b / gcd(a, b); }\n",
      "\n",
      "\n",
      "template<class T>\n",
      "vector<T> make_vec(size_t a) { return vector<T>(a); }\n",
      "template<class T, class... Ts>\n",
      "auto make_vec(size_t a, Ts... ts) { return vector<decltype(make_vec<T>(ts...))>(a, make_vec<T>(ts...)); }\n",
      "\n",
      "\n",
      "\n",
      "\n",
      "\n",
      "\n",
      "\n",
      "\n",
      "\n",
      "\n",
      "\n",
      "\n",
      "\n",
      "\n",
      "\n",
      "\n",
      "\n",
      "\n",
      "\n",
      "\n",
      "\n",
      "\n",
      "int main()\n",
      "{\n",
      "\tstring s;\n",
      "\tcin >> s;\n",
      "\n",
      "\ts[0]++;\n",
      "\tprintf(\"%s\\n\", s.c_str());\n",
      "\n",
      "\treturn 0;\n",
      "}\n",
      "\n",
      "\n",
      "\n",
      "\n",
      "\n",
      "\n",
      "\n",
      "\n",
      "\n",
      "\n",
      "\n",
      "\n"
     ]
    }
   ],
   "source": [
    "print(val_copy[\"code1\"][11542])"
   ]
  },
  {
   "cell_type": "code",
   "execution_count": 100,
   "id": "a68abc33-ee4f-473e-bab4-055128795649",
   "metadata": {},
   "outputs": [],
   "source": [
    "for i in range(len(val_copy)):\n",
    "    txt = val_copy['code2'][i]\n",
    "    two_geul = [0, 0]\n",
    "    shap_flag = False\n",
    "    new_txt = \"\"\n",
    "    for j in range(len(txt)):\n",
    "        two_geul[0] = two_geul[1]\n",
    "        two_geul[1] = txt[j]\n",
    "        if two_geul[0] == '#':\n",
    "            if two_geul[1] != 'd':\n",
    "                new_txt = new_txt[:-1]\n",
    "                shap_flag = True\n",
    "        if shap_flag:\n",
    "            if two_geul[1] == '\\n':\n",
    "                new_txt += txt[j]\n",
    "                shap_flag = False\n",
    "        else:\n",
    "            new_txt += txt[j]\n",
    "    val_copy['code2'][i] = new_txt"
   ]
  },
  {
   "cell_type": "markdown",
   "id": "74c702f2-d384-4c35-a68d-881d4cded956",
   "metadata": {},
   "source": [
    "일단 \\n이 연속으로 있는것들을 하나씩으로만 줄여주고"
   ]
  },
  {
   "cell_type": "code",
   "execution_count": 101,
   "id": "a1b90fa2-b8eb-4280-9b0b-f48eab66d29a",
   "metadata": {},
   "outputs": [],
   "source": [
    "for i in range(len(val_copy)):\n",
    "    txt = val_copy['code1'][i]\n",
    "    two_geul = [0, 0]\n",
    "    new_txt = \"\"\n",
    "    for j in range(len(txt)):\n",
    "        two_geul[0] = two_geul[1]\n",
    "        two_geul[1] = txt[j]\n",
    "        if two_geul == ['\\n', '\\n']:\n",
    "            pass\n",
    "        else:\n",
    "            new_txt += txt[j]\n",
    "    val_copy['code1'][i] = new_txt"
   ]
  },
  {
   "cell_type": "code",
   "execution_count": 102,
   "id": "6e25776d-8481-4a78-9063-093454780d72",
   "metadata": {},
   "outputs": [
    {
     "name": "stdout",
     "output_type": "stream",
     "text": [
      "\n",
      "using namespace std;\n",
      "#define ll long long\n",
      "#define ld long double\n",
      "#define pi 3.14159265359;\n",
      "#define _sort(v,type,order) do { sort(v.begin(),v.end(),order<type>()); } while(0)\n",
      "#define _sum(v,default_value) accumulate(v.begin(),v.end(),default_value )\n",
      "#define _max_element(v) max_element(v.begin(),v.end())\n",
      "#define _min_element(v) min_element(v.begin(),v.end())\n",
      "#define _max_element_number(v) distance(v.begin(),max_element(v.begin(),v.end()))\n",
      "#define _count(v,value) count(v.begin(),v.end(),value)\n",
      "#define _round(v) round(v)\n",
      "#define _square(v) pow(v,2)\n",
      "#define _cube(v)   pow(v,3)\n",
      "#define _max(x,y) max(x,y)\n",
      "#define _min(x,y) min(x,y)\n",
      "#define _stringtoi(s) stoi(s)\n",
      "#define _sqrt(x) sqrt(x)\n",
      "#define _ceil(x) ceil(x)\n",
      "#define _lower_bound(v,min) lower_bound(v.begin(), v.end(), min)\n",
      "#define _upper_bound(v,min) upper_bound(v.begin(), v.end(), min)\n",
      "#define _next_permutation(v) do {   \\\n",
      "\tfor (auto num : v) {            \\\n",
      "\t\tprintf(\"%d \", num);         \\\n",
      "\t}                               \\\n",
      "\tprintf(\"\\n\");                   \\\n",
      "} while (next_permutation(v.begin(), v.end()))\n",
      "template<typename T>\n",
      "static T _abs(const T x) { return  (x > 0 ? x : -x); }\n",
      "int64_t gcd(int64_t a, int64_t b) { while (b) { int64_t c = b; b = a % b; a = c; } return a; }\n",
      "int64_t lcm(int64_t a, int64_t b) { if (!a || !b) return 0; return a * b / gcd(a, b); }\n",
      "template<class T>\n",
      "vector<T> make_vec(size_t a) { return vector<T>(a); }\n",
      "template<class T, class... Ts>\n",
      "auto make_vec(size_t a, Ts... ts) { return vector<decltype(make_vec<T>(ts...))>(a, make_vec<T>(ts...)); }\n",
      "int main()\n",
      "{\n",
      "\tstring s;\n",
      "\tcin >> s;\n",
      "\ts[0]++;\n",
      "\tprintf(\"%s\\n\", s.c_str());\n",
      "\treturn 0;\n",
      "}\n",
      "\n"
     ]
    }
   ],
   "source": [
    "print(val_copy[\"code1\"][11542])"
   ]
  },
  {
   "cell_type": "code",
   "execution_count": 103,
   "id": "29c65423-47e0-4ad2-a204-a274d7fc2d8b",
   "metadata": {},
   "outputs": [],
   "source": [
    "for i in range(len(val_copy)):\n",
    "    txt = val_copy['code2'][i]\n",
    "    two_geul = [0, 0]\n",
    "    new_txt = \"\"\n",
    "    for j in range(len(txt)):\n",
    "        two_geul[0] = two_geul[1]\n",
    "        two_geul[1] = txt[j]\n",
    "        if two_geul == ['\\n', '\\n']:\n",
    "            pass\n",
    "        else:\n",
    "            new_txt += txt[j]\n",
    "    val_copy['code2'][i] = new_txt"
   ]
  },
  {
   "cell_type": "markdown",
   "id": "abcfde7c-eef0-4edf-88ea-b9472f393a51",
   "metadata": {},
   "source": [
    "# 전처리.ipynb에 전처리용 코드 옮김"
   ]
  }
 ],
 "metadata": {
  "kernelspec": {
   "display_name": "ML_py3.10.13",
   "language": "python",
   "name": "mlpy310"
  },
  "language_info": {
   "codemirror_mode": {
    "name": "ipython",
    "version": 3
   },
   "file_extension": ".py",
   "mimetype": "text/x-python",
   "name": "python",
   "nbconvert_exporter": "python",
   "pygments_lexer": "ipython3",
   "version": "3.10.13"
  }
 },
 "nbformat": 4,
 "nbformat_minor": 5
}
