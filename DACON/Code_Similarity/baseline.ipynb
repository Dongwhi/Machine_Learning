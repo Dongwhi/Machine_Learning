{
 "cells": [
  {
   "cell_type": "markdown",
   "id": "97c919fb-bdb2-4294-83aa-4959fe5dd665",
   "metadata": {},
   "source": [
    "# Import"
   ]
  },
  {
   "cell_type": "code",
   "execution_count": 1,
   "id": "3d00d7c8-5f72-493a-82d8-f763f00db57e",
   "metadata": {},
   "outputs": [],
   "source": [
    "import pandas as pd\n",
    "import numpy as np\n",
    "import glob\n",
    "from sklearn.feature_extraction.text import CountVectorizer\n",
    "from sklearn.metrics.pairwise import cosine_similarity\n",
    "from tqdm import tqdm"
   ]
  },
  {
   "cell_type": "markdown",
   "id": "1f324da5-414c-4bf4-8714-31b9f7eb0afa",
   "metadata": {},
   "source": [
    "# Load Validation / Test dataset"
   ]
  },
  {
   "cell_type": "code",
   "execution_count": 3,
   "id": "ce12ea48-bb26-48eb-8e71-ccd475fb9ab6",
   "metadata": {},
   "outputs": [
    {
     "data": {
      "text/html": [
       "<div>\n",
       "<style scoped>\n",
       "    .dataframe tbody tr th:only-of-type {\n",
       "        vertical-align: middle;\n",
       "    }\n",
       "\n",
       "    .dataframe tbody tr th {\n",
       "        vertical-align: top;\n",
       "    }\n",
       "\n",
       "    .dataframe thead th {\n",
       "        text-align: right;\n",
       "    }\n",
       "</style>\n",
       "<table border=\"1\" class=\"dataframe\">\n",
       "  <thead>\n",
       "    <tr style=\"text-align: right;\">\n",
       "      <th></th>\n",
       "      <th>code1_path</th>\n",
       "      <th>code2_path</th>\n",
       "      <th>code1</th>\n",
       "      <th>code2</th>\n",
       "      <th>similar</th>\n",
       "    </tr>\n",
       "  </thead>\n",
       "  <tbody>\n",
       "    <tr>\n",
       "      <th>0</th>\n",
       "      <td>./train_code/problem393/problem393_19.cpp</td>\n",
       "      <td>./train_code/problem033/problem033_439.cpp</td>\n",
       "      <td>#include &lt;bits/stdc++.h&gt;\\n\\nusing namespace st...</td>\n",
       "      <td>#include &lt;algorithm&gt;\\n#include &lt;bitset&gt;\\n#incl...</td>\n",
       "      <td>0</td>\n",
       "    </tr>\n",
       "    <tr>\n",
       "      <th>1</th>\n",
       "      <td>./train_code/problem019/problem019_210.cpp</td>\n",
       "      <td>./train_code/problem019/problem019_63.cpp</td>\n",
       "      <td>#include &lt;iostream&gt;\\n\\nusing namespace std;\\n\\...</td>\n",
       "      <td>#include &lt;iostream&gt;\\n#include &lt;string&gt;\\nusing ...</td>\n",
       "      <td>1</td>\n",
       "    </tr>\n",
       "    <tr>\n",
       "      <th>2</th>\n",
       "      <td>./train_code/problem107/problem107_486.cpp</td>\n",
       "      <td>./train_code/problem107/problem107_340.cpp</td>\n",
       "      <td>#include &lt;iostream&gt;\\n#include &lt;vector&gt;\\nusing ...</td>\n",
       "      <td>#include &lt;cstdio&gt;\\n#include &lt;cstdlib&gt;\\n#includ...</td>\n",
       "      <td>1</td>\n",
       "    </tr>\n",
       "    <tr>\n",
       "      <th>3</th>\n",
       "      <td>./train_code/problem187/problem187_257.cpp</td>\n",
       "      <td>./train_code/problem403/problem403_135.cpp</td>\n",
       "      <td>#include &lt;bits/stdc++.h&gt;\\n#include &lt;unordered_...</td>\n",
       "      <td>#include &lt;bits/stdc++.h&gt;\\nusing namespace std;...</td>\n",
       "      <td>0</td>\n",
       "    </tr>\n",
       "    <tr>\n",
       "      <th>4</th>\n",
       "      <td>./train_code/problem173/problem173_490.cpp</td>\n",
       "      <td>./train_code/problem173/problem173_345.cpp</td>\n",
       "      <td>#include &lt;bits/stdc++.h&gt;\\ntypedef long long ll...</td>\n",
       "      <td>#include \"bits/stdc++.h\"\\n#define rep(i,n) for...</td>\n",
       "      <td>1</td>\n",
       "    </tr>\n",
       "  </tbody>\n",
       "</table>\n",
       "</div>"
      ],
      "text/plain": [
       "                                   code1_path  \\\n",
       "0   ./train_code/problem393/problem393_19.cpp   \n",
       "1  ./train_code/problem019/problem019_210.cpp   \n",
       "2  ./train_code/problem107/problem107_486.cpp   \n",
       "3  ./train_code/problem187/problem187_257.cpp   \n",
       "4  ./train_code/problem173/problem173_490.cpp   \n",
       "\n",
       "                                   code2_path  \\\n",
       "0  ./train_code/problem033/problem033_439.cpp   \n",
       "1   ./train_code/problem019/problem019_63.cpp   \n",
       "2  ./train_code/problem107/problem107_340.cpp   \n",
       "3  ./train_code/problem403/problem403_135.cpp   \n",
       "4  ./train_code/problem173/problem173_345.cpp   \n",
       "\n",
       "                                               code1  \\\n",
       "0  #include <bits/stdc++.h>\\n\\nusing namespace st...   \n",
       "1  #include <iostream>\\n\\nusing namespace std;\\n\\...   \n",
       "2  #include <iostream>\\n#include <vector>\\nusing ...   \n",
       "3  #include <bits/stdc++.h>\\n#include <unordered_...   \n",
       "4  #include <bits/stdc++.h>\\ntypedef long long ll...   \n",
       "\n",
       "                                               code2  similar  \n",
       "0  #include <algorithm>\\n#include <bitset>\\n#incl...        0  \n",
       "1  #include <iostream>\\n#include <string>\\nusing ...        1  \n",
       "2  #include <cstdio>\\n#include <cstdlib>\\n#includ...        1  \n",
       "3  #include <bits/stdc++.h>\\nusing namespace std;...        0  \n",
       "4  #include \"bits/stdc++.h\"\\n#define rep(i,n) for...        1  "
      ]
     },
     "execution_count": 3,
     "metadata": {},
     "output_type": "execute_result"
    }
   ],
   "source": [
    "# val = pd.read_csv(\"./sample_train.csv\") # 경로로부터 sample_train.csv파일을 읽어옵니다.\n",
    "# val.head()\n",
    "val = pd.read_csv(\"C:\\\\Users\\\\82102\\\\Desktop\\\\Machine_Learning\\\\DACON_materials\\\\Code_Similarity\\\\sample_train.csv\")\n",
    "val.head()"
   ]
  },
  {
   "cell_type": "code",
   "execution_count": 4,
   "id": "569b8499-c224-453d-ad61-62e3fefccfe0",
   "metadata": {},
   "outputs": [
    {
     "data": {
      "text/html": [
       "<div>\n",
       "<style scoped>\n",
       "    .dataframe tbody tr th:only-of-type {\n",
       "        vertical-align: middle;\n",
       "    }\n",
       "\n",
       "    .dataframe tbody tr th {\n",
       "        vertical-align: top;\n",
       "    }\n",
       "\n",
       "    .dataframe thead th {\n",
       "        text-align: right;\n",
       "    }\n",
       "</style>\n",
       "<table border=\"1\" class=\"dataframe\">\n",
       "  <thead>\n",
       "    <tr style=\"text-align: right;\">\n",
       "      <th></th>\n",
       "      <th>pair_id</th>\n",
       "      <th>code1</th>\n",
       "      <th>code2</th>\n",
       "    </tr>\n",
       "  </thead>\n",
       "  <tbody>\n",
       "    <tr>\n",
       "      <th>0</th>\n",
       "      <td>TEST_000000</td>\n",
       "      <td>#include &lt;bits/stdc++.h&gt;\\nusing namespace std;...</td>\n",
       "      <td>#include &lt;bits/stdc++.h&gt;\\n#define rep(i, n) fo...</td>\n",
       "    </tr>\n",
       "    <tr>\n",
       "      <th>1</th>\n",
       "      <td>TEST_000001</td>\n",
       "      <td>#include&lt;bits/stdc++.h&gt;\\n#define rep(i,n)for(i...</td>\n",
       "      <td>// //bitset操作\\n// #include &lt;iostream&gt;\\n// #inc...</td>\n",
       "    </tr>\n",
       "    <tr>\n",
       "      <th>2</th>\n",
       "      <td>TEST_000002</td>\n",
       "      <td>#include &lt;bits/stdc++.h&gt;\\nusing namespace std;...</td>\n",
       "      <td>#include &lt;bits/stdc++.h&gt;\\n#include &lt;ext/pb_ds/...</td>\n",
       "    </tr>\n",
       "    <tr>\n",
       "      <th>3</th>\n",
       "      <td>TEST_000003</td>\n",
       "      <td>#include &lt;bits/stdc++.h&gt;\\nusing namespace std;...</td>\n",
       "      <td>#include &lt;bits/stdc++.h&gt;\\nusing namespace std;...</td>\n",
       "    </tr>\n",
       "    <tr>\n",
       "      <th>4</th>\n",
       "      <td>TEST_000004</td>\n",
       "      <td>#include&lt;bits/stdc++.h&gt;\\nusing namespace std;\\...</td>\n",
       "      <td>#include&lt;iostream&gt;\\n#include&lt;algorithm&gt;\\n#incl...</td>\n",
       "    </tr>\n",
       "  </tbody>\n",
       "</table>\n",
       "</div>"
      ],
      "text/plain": [
       "       pair_id                                              code1  \\\n",
       "0  TEST_000000  #include <bits/stdc++.h>\\nusing namespace std;...   \n",
       "1  TEST_000001  #include<bits/stdc++.h>\\n#define rep(i,n)for(i...   \n",
       "2  TEST_000002  #include <bits/stdc++.h>\\nusing namespace std;...   \n",
       "3  TEST_000003  #include <bits/stdc++.h>\\nusing namespace std;...   \n",
       "4  TEST_000004  #include<bits/stdc++.h>\\nusing namespace std;\\...   \n",
       "\n",
       "                                               code2  \n",
       "0  #include <bits/stdc++.h>\\n#define rep(i, n) fo...  \n",
       "1  // //bitset操作\\n// #include <iostream>\\n// #inc...  \n",
       "2  #include <bits/stdc++.h>\\n#include <ext/pb_ds/...  \n",
       "3  #include <bits/stdc++.h>\\nusing namespace std;...  \n",
       "4  #include<iostream>\\n#include<algorithm>\\n#incl...  "
      ]
     },
     "execution_count": 4,
     "metadata": {},
     "output_type": "execute_result"
    }
   ],
   "source": [
    "# test = pd.read_csv(\"./test.csv\") # 경로로부터 test.csv파일을 읽어옵니다.\n",
    "# test.head()\n",
    "test = pd.read_csv(\"C:\\\\Users\\\\82102\\\\Desktop\\\\Machine_Learning\\\\DACON_materials\\\\Code_Similarity\\\\test.csv\")\n",
    "test.head()"
   ]
  },
  {
   "cell_type": "markdown",
   "id": "49c1134a-50de-4066-a885-00f36d12798c",
   "metadata": {},
   "source": [
    "# Define Model (CountVectorizer+CosineSimilarity)\n",
    "\n",
    "1. CountVectorizer: 코드 데이터를 활용하기 위해 코드(Text)를 벡터화하여 사용합니다. 이를 위해 베이스라인에서는 sklearn 라이브러리의 CountVectorizer를 사용합니다.\n",
    "2. fit함수: 입력받은 학습 코드로 부터 vectorizer를 모델에 fit시킵니다. 본 베이스라인에서는 fit 호출마다 vectorizer에 활용할 vocabulary를 업데이트합니다.\n",
    "3. predict_proba 함수: 입력받은 코드 쌍으로부터 vectorizer를 통해 vector화를 수행하고, 코사인 유사도를 구합니다.\n",
    "4. predict 함수: 유사도를 계산하고, threshold를 기준으로 판별하여 예측을 수행합니다.을 수행합니다."
   ]
  },
  {
   "cell_type": "code",
   "execution_count": 5,
   "id": "cd5049d9-603b-4b2e-8fa5-d5cb68d0a1d6",
   "metadata": {},
   "outputs": [],
   "source": [
    "class BaselineModel():\n",
    "    def __init__(self, threshold=0.5):\n",
    "        super(BaselineModel, self).__init__()\n",
    "        self.threshold = threshold # 유사도 임계값 설정\n",
    "        self.vocabulary = set() # 사용할 어휘를 저장할 집합 초기화\n",
    "\n",
    "    def get_vectorizer(self):\n",
    "        return CountVectorizer(vocabulary=list(self.vocabulary)) # 현재 저장된 단어 목록을 기반으로 vectorizer 생성합니다.\n",
    "        \n",
    "    def fit(self, code):\n",
    "        # 입력받은 학습 코드로부터 vectorizer를 fit 시킵니다.\n",
    "        temp_vectorizer = CountVectorizer() # 임시 vectorizer 생성합니다.\n",
    "        temp_vectorizer.fit(code) # code 데이터로 vectorizer 학습합니다.\n",
    "        # fit 호출 마다 vectorizer에 활용할 vocabulary 업데이트합니다.\n",
    "        self.vocabulary.update(temp_vectorizer.get_feature_names_out()) # 학습된 어휘를 기존 어휘에 추가합니다.\n",
    "        # fit 호출 마다 vectorizer 업데이트합니다.\n",
    "        self.vectorizer = self.get_vectorizer()\n",
    "    \n",
    "    def predict_proba(self, code1, code2):\n",
    "        # 입력받은 코드 쌍으로부터 vectorizer를 통해 vector화 합니다.\n",
    "        code1_vecs = self.vectorizer.transform(code1) # 첫 번째 코드를 벡터로 변환합니다.\n",
    "        code2_vecs = self.vectorizer.transform(code2) # 두 번째 코드를 벡터로 변환합니다.\n",
    "        \n",
    "        preds = []\n",
    "        # 각각의 코드 쌍(=벡터 쌍)으로부터 cosine-similarity를 구합니다.\n",
    "        for code1_vec, code2_vec in tqdm(zip(code1_vecs, code2_vecs)):\n",
    "            preds.append(cosine_similarity(code1_vec, code2_vec)) # 각 코드 쌍에 대해 코사인 유사도 계산 후 추가합니다.\n",
    "        preds = np.reshape(preds, len(preds))\n",
    "        print('Done.')\n",
    "        return preds\n",
    "    \n",
    "    def predict(self, code1, code2):\n",
    "        preds = self.predict_proba(code1, code2) # 유사도 계산합니다.\n",
    "        preds = np.where(preds>self.threshold, 1, 0) # threshold를 기준으로 판별합니다.\n",
    "        return preds"
   ]
  },
  {
   "cell_type": "markdown",
   "id": "eb1630c7-062b-47f3-ac96-f8241ed13ee3",
   "metadata": {},
   "source": [
    "# Model(Vectorizer) Fit"
   ]
  },
  {
   "cell_type": "code",
   "execution_count": 6,
   "id": "3839d901-7c54-4ab0-8eea-cc4595723ab2",
   "metadata": {},
   "outputs": [],
   "source": [
    "train_code_paths = glob.glob('C:/Users/82102/Desktop/Machine_Learning/DACON_materials/Code_Similarity/train_code/*/*.cpp') # train code의 모든 .cpp 파일의 경로를 가져옵니다."
   ]
  },
  {
   "cell_type": "code",
   "execution_count": 7,
   "id": "b8ffcb68-20fc-4893-9eae-4468ebd6c9bd",
   "metadata": {},
   "outputs": [],
   "source": [
    "def read_cpp_code(file_path): \n",
    "    with open(file_path, 'r', encoding='utf-8') as file:\n",
    "        return file.read() # 주어진 경로 내 파일을 열고 파일의 전체 내용을 반환합니다."
   ]
  },
  {
   "cell_type": "code",
   "execution_count": 8,
   "id": "0b81dd64-5344-428a-89eb-f3bf0be40cd2",
   "metadata": {},
   "outputs": [],
   "source": [
    "# threshold(임계값)을 설정하고, 모델을 선언합니다.\n",
    "model = BaselineModel(threshold=0.5)"
   ]
  },
  {
   "cell_type": "code",
   "execution_count": 9,
   "id": "1c34e656-4bf6-4fe6-b441-c8ca29a4cbd4",
   "metadata": {},
   "outputs": [
    {
     "name": "stderr",
     "output_type": "stream",
     "text": [
      "100%|█████████████████████████████████████████████████████████████████████████| 250000/250000 [33:51<00:00, 123.05it/s]\n"
     ]
    }
   ],
   "source": [
    "# 진행 상황을 표시하는 바와 함께 모든 파일 경로에 대해 반복 학습합니다.\n",
    "for path in tqdm(train_code_paths):\n",
    "    code = read_cpp_code(path)\n",
    "    model.fit([code]) # 읽어온 코드를 리스트로 묶어 모델에 학습시킵니다."
   ]
  },
  {
   "cell_type": "code",
   "execution_count": 10,
   "id": "85f0b4ad-ec31-4c44-8ba6-1d76725cd5b1",
   "metadata": {},
   "outputs": [
    {
     "data": {
      "text/plain": [
       "113727"
      ]
     },
     "execution_count": 10,
     "metadata": {},
     "output_type": "execute_result"
    }
   ],
   "source": [
    "len(model.vocabulary) # 모델에 구축된 vocabulary 크기를 출력합니다."
   ]
  },
  {
   "cell_type": "markdown",
   "id": "14bf9309-9a79-41fe-86fb-d0227ee7cdbf",
   "metadata": {},
   "source": [
    "# Validation"
   ]
  },
  {
   "cell_type": "code",
   "execution_count": 11,
   "id": "8d06dc8e-a02e-4aaf-b7e2-46f3423e458f",
   "metadata": {},
   "outputs": [],
   "source": [
    "def get_accuracy(gt, preds): # 모델의 정확도 측정을 위한 함수입니다.\n",
    "    return (gt == preds).mean()"
   ]
  },
  {
   "cell_type": "code",
   "execution_count": 12,
   "id": "44e103d2-736b-4314-a40d-b1564ca6c3fa",
   "metadata": {},
   "outputs": [
    {
     "name": "stderr",
     "output_type": "stream",
     "text": [
      "20000it [00:18, 1060.05it/s]"
     ]
    },
    {
     "name": "stdout",
     "output_type": "stream",
     "text": [
      "Done.\n"
     ]
    },
    {
     "name": "stderr",
     "output_type": "stream",
     "text": [
      "\n"
     ]
    }
   ],
   "source": [
    "val_preds = model.predict(val['code1'], val['code2']) # 검증 데이터셋을 활요한 예측 수행합니다."
   ]
  },
  {
   "cell_type": "code",
   "execution_count": 13,
   "id": "4f4b9547-ad7b-4351-97c9-b624615def27",
   "metadata": {},
   "outputs": [
    {
     "name": "stdout",
     "output_type": "stream",
     "text": [
      "0.60125\n"
     ]
    }
   ],
   "source": [
    "print(get_accuracy(val['similar'].values, val_preds)) # 정확도를 출력합니다."
   ]
  },
  {
   "cell_type": "markdown",
   "id": "9ecde0b0-b9e1-43bb-a326-984194a84568",
   "metadata": {},
   "source": [
    "# Inference"
   ]
  },
  {
   "cell_type": "code",
   "execution_count": 14,
   "id": "652ec5a3-98e7-426d-8d51-a86ad0eb4a5a",
   "metadata": {},
   "outputs": [
    {
     "name": "stderr",
     "output_type": "stream",
     "text": [
      "595000it [09:13, 1074.74it/s]\n"
     ]
    },
    {
     "name": "stdout",
     "output_type": "stream",
     "text": [
      "Done.\n"
     ]
    }
   ],
   "source": [
    "# 모델 추론\n",
    "preds = model.predict(test['code1'], test['code2'])"
   ]
  },
  {
   "cell_type": "markdown",
   "id": "6c5df674-ca38-4013-9248-68f7c86b8fe0",
   "metadata": {},
   "source": [
    "# Submissionn"
   ]
  },
  {
   "cell_type": "code",
   "execution_count": 16,
   "id": "8560555e-7cac-46d8-a824-ab234e6c247f",
   "metadata": {},
   "outputs": [],
   "source": [
    "# 제출\n",
    "\n",
    "submission = pd.read_csv(\"C:/Users/82102/Desktop/Machine_Learning/DACON_materials/Code_Similarity/sample_submission.csv\")\n",
    "submission['similar'] = preds\n",
    "submission.to_csv('C:/Users/82102/Desktop/Machine_Learning/DACON_materials/Code_Similarity/base_submit.csv', index=False)"
   ]
  },
  {
   "cell_type": "markdown",
   "id": "da337583-56f9-4a47-bd0a-e96275cc8a83",
   "metadata": {},
   "source": [
    "### **점수: 0.60772**"
   ]
  }
 ],
 "metadata": {
  "kernelspec": {
   "display_name": "ML_py3.10.13",
   "language": "python",
   "name": "mlpy310"
  },
  "language_info": {
   "codemirror_mode": {
    "name": "ipython",
    "version": 3
   },
   "file_extension": ".py",
   "mimetype": "text/x-python",
   "name": "python",
   "nbconvert_exporter": "python",
   "pygments_lexer": "ipython3",
   "version": "3.10.13"
  }
 },
 "nbformat": 4,
 "nbformat_minor": 5
}
